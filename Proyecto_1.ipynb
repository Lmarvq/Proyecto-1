{
 "cells": [
  {
   "cell_type": "code",
   "execution_count": 3,
   "id": "bc098cc3",
   "metadata": {},
   "outputs": [],
   "source": [
    "import numpy as np\n",
    "import pandas as pd\n",
    "import plotly.graph_objects as go\n",
    "import matplotlib.pyplot as plt\n",
    "from scipy import stats\n",
    "from statsmodels.formula.api import ols\n",
    "import seaborn as sns\n",
    "from scipy.stats import skew, kurtosis\n",
    "import statistics"
   ]
  },
  {
   "cell_type": "code",
   "execution_count": 2,
   "id": "80f235fd",
   "metadata": {},
   "outputs": [
    {
     "data": {
      "text/html": [
       "<div>\n",
       "<style scoped>\n",
       "    .dataframe tbody tr th:only-of-type {\n",
       "        vertical-align: middle;\n",
       "    }\n",
       "\n",
       "    .dataframe tbody tr th {\n",
       "        vertical-align: top;\n",
       "    }\n",
       "\n",
       "    .dataframe thead th {\n",
       "        text-align: right;\n",
       "    }\n",
       "</style>\n",
       "<table border=\"1\" class=\"dataframe\">\n",
       "  <thead>\n",
       "    <tr style=\"text-align: right;\">\n",
       "      <th></th>\n",
       "      <th>PatientID</th>\n",
       "      <th>Age</th>\n",
       "      <th>Gender</th>\n",
       "      <th>Ethnicity</th>\n",
       "      <th>EducationLevel</th>\n",
       "      <th>BMI</th>\n",
       "      <th>Smoking</th>\n",
       "      <th>AlcoholConsumption</th>\n",
       "      <th>PhysicalActivity</th>\n",
       "      <th>DietQuality</th>\n",
       "      <th>...</th>\n",
       "      <th>FunctionalAssessment</th>\n",
       "      <th>Tremor</th>\n",
       "      <th>Rigidity</th>\n",
       "      <th>Bradykinesia</th>\n",
       "      <th>PosturalInstability</th>\n",
       "      <th>SpeechProblems</th>\n",
       "      <th>SleepDisorders</th>\n",
       "      <th>Constipation</th>\n",
       "      <th>Diagnosis</th>\n",
       "      <th>DoctorInCharge</th>\n",
       "    </tr>\n",
       "  </thead>\n",
       "  <tbody>\n",
       "    <tr>\n",
       "      <th>0</th>\n",
       "      <td>3058</td>\n",
       "      <td>85</td>\n",
       "      <td>0</td>\n",
       "      <td>3</td>\n",
       "      <td>1</td>\n",
       "      <td>19.619878</td>\n",
       "      <td>0</td>\n",
       "      <td>5.108241</td>\n",
       "      <td>1.380660</td>\n",
       "      <td>3.893969</td>\n",
       "      <td>...</td>\n",
       "      <td>1.572427</td>\n",
       "      <td>1</td>\n",
       "      <td>0</td>\n",
       "      <td>0</td>\n",
       "      <td>0</td>\n",
       "      <td>0</td>\n",
       "      <td>0</td>\n",
       "      <td>0</td>\n",
       "      <td>0</td>\n",
       "      <td>DrXXXConfid</td>\n",
       "    </tr>\n",
       "    <tr>\n",
       "      <th>1</th>\n",
       "      <td>3059</td>\n",
       "      <td>75</td>\n",
       "      <td>0</td>\n",
       "      <td>0</td>\n",
       "      <td>2</td>\n",
       "      <td>16.247339</td>\n",
       "      <td>1</td>\n",
       "      <td>6.027648</td>\n",
       "      <td>8.409804</td>\n",
       "      <td>8.513428</td>\n",
       "      <td>...</td>\n",
       "      <td>4.787551</td>\n",
       "      <td>0</td>\n",
       "      <td>1</td>\n",
       "      <td>0</td>\n",
       "      <td>1</td>\n",
       "      <td>0</td>\n",
       "      <td>1</td>\n",
       "      <td>0</td>\n",
       "      <td>1</td>\n",
       "      <td>DrXXXConfid</td>\n",
       "    </tr>\n",
       "    <tr>\n",
       "      <th>2</th>\n",
       "      <td>3060</td>\n",
       "      <td>70</td>\n",
       "      <td>1</td>\n",
       "      <td>0</td>\n",
       "      <td>0</td>\n",
       "      <td>15.368239</td>\n",
       "      <td>0</td>\n",
       "      <td>2.242135</td>\n",
       "      <td>0.213275</td>\n",
       "      <td>6.498805</td>\n",
       "      <td>...</td>\n",
       "      <td>2.130686</td>\n",
       "      <td>1</td>\n",
       "      <td>0</td>\n",
       "      <td>0</td>\n",
       "      <td>0</td>\n",
       "      <td>1</td>\n",
       "      <td>0</td>\n",
       "      <td>1</td>\n",
       "      <td>1</td>\n",
       "      <td>DrXXXConfid</td>\n",
       "    </tr>\n",
       "    <tr>\n",
       "      <th>3</th>\n",
       "      <td>3061</td>\n",
       "      <td>52</td>\n",
       "      <td>0</td>\n",
       "      <td>0</td>\n",
       "      <td>0</td>\n",
       "      <td>15.454557</td>\n",
       "      <td>0</td>\n",
       "      <td>5.997788</td>\n",
       "      <td>1.375045</td>\n",
       "      <td>6.715033</td>\n",
       "      <td>...</td>\n",
       "      <td>3.391288</td>\n",
       "      <td>1</td>\n",
       "      <td>1</td>\n",
       "      <td>1</td>\n",
       "      <td>0</td>\n",
       "      <td>0</td>\n",
       "      <td>0</td>\n",
       "      <td>1</td>\n",
       "      <td>1</td>\n",
       "      <td>DrXXXConfid</td>\n",
       "    </tr>\n",
       "    <tr>\n",
       "      <th>4</th>\n",
       "      <td>3062</td>\n",
       "      <td>87</td>\n",
       "      <td>0</td>\n",
       "      <td>0</td>\n",
       "      <td>1</td>\n",
       "      <td>18.616042</td>\n",
       "      <td>0</td>\n",
       "      <td>9.775243</td>\n",
       "      <td>1.188607</td>\n",
       "      <td>4.657572</td>\n",
       "      <td>...</td>\n",
       "      <td>3.200969</td>\n",
       "      <td>0</td>\n",
       "      <td>0</td>\n",
       "      <td>0</td>\n",
       "      <td>1</td>\n",
       "      <td>0</td>\n",
       "      <td>1</td>\n",
       "      <td>0</td>\n",
       "      <td>0</td>\n",
       "      <td>DrXXXConfid</td>\n",
       "    </tr>\n",
       "    <tr>\n",
       "      <th>...</th>\n",
       "      <td>...</td>\n",
       "      <td>...</td>\n",
       "      <td>...</td>\n",
       "      <td>...</td>\n",
       "      <td>...</td>\n",
       "      <td>...</td>\n",
       "      <td>...</td>\n",
       "      <td>...</td>\n",
       "      <td>...</td>\n",
       "      <td>...</td>\n",
       "      <td>...</td>\n",
       "      <td>...</td>\n",
       "      <td>...</td>\n",
       "      <td>...</td>\n",
       "      <td>...</td>\n",
       "      <td>...</td>\n",
       "      <td>...</td>\n",
       "      <td>...</td>\n",
       "      <td>...</td>\n",
       "      <td>...</td>\n",
       "      <td>...</td>\n",
       "    </tr>\n",
       "    <tr>\n",
       "      <th>2100</th>\n",
       "      <td>5158</td>\n",
       "      <td>87</td>\n",
       "      <td>1</td>\n",
       "      <td>0</td>\n",
       "      <td>2</td>\n",
       "      <td>38.483841</td>\n",
       "      <td>0</td>\n",
       "      <td>12.674393</td>\n",
       "      <td>5.325900</td>\n",
       "      <td>5.947278</td>\n",
       "      <td>...</td>\n",
       "      <td>8.076254</td>\n",
       "      <td>1</td>\n",
       "      <td>0</td>\n",
       "      <td>0</td>\n",
       "      <td>0</td>\n",
       "      <td>1</td>\n",
       "      <td>1</td>\n",
       "      <td>0</td>\n",
       "      <td>0</td>\n",
       "      <td>DrXXXConfid</td>\n",
       "    </tr>\n",
       "    <tr>\n",
       "      <th>2101</th>\n",
       "      <td>5159</td>\n",
       "      <td>67</td>\n",
       "      <td>0</td>\n",
       "      <td>0</td>\n",
       "      <td>1</td>\n",
       "      <td>33.694396</td>\n",
       "      <td>1</td>\n",
       "      <td>0.977018</td>\n",
       "      <td>0.108599</td>\n",
       "      <td>4.825187</td>\n",
       "      <td>...</td>\n",
       "      <td>1.665751</td>\n",
       "      <td>0</td>\n",
       "      <td>0</td>\n",
       "      <td>0</td>\n",
       "      <td>1</td>\n",
       "      <td>0</td>\n",
       "      <td>1</td>\n",
       "      <td>1</td>\n",
       "      <td>1</td>\n",
       "      <td>DrXXXConfid</td>\n",
       "    </tr>\n",
       "    <tr>\n",
       "      <th>2102</th>\n",
       "      <td>5160</td>\n",
       "      <td>65</td>\n",
       "      <td>0</td>\n",
       "      <td>0</td>\n",
       "      <td>2</td>\n",
       "      <td>22.829631</td>\n",
       "      <td>0</td>\n",
       "      <td>6.152286</td>\n",
       "      <td>5.775103</td>\n",
       "      <td>0.334244</td>\n",
       "      <td>...</td>\n",
       "      <td>4.785614</td>\n",
       "      <td>0</td>\n",
       "      <td>0</td>\n",
       "      <td>0</td>\n",
       "      <td>0</td>\n",
       "      <td>1</td>\n",
       "      <td>1</td>\n",
       "      <td>0</td>\n",
       "      <td>1</td>\n",
       "      <td>DrXXXConfid</td>\n",
       "    </tr>\n",
       "    <tr>\n",
       "      <th>2103</th>\n",
       "      <td>5161</td>\n",
       "      <td>61</td>\n",
       "      <td>1</td>\n",
       "      <td>0</td>\n",
       "      <td>0</td>\n",
       "      <td>16.871030</td>\n",
       "      <td>1</td>\n",
       "      <td>0.292094</td>\n",
       "      <td>2.280475</td>\n",
       "      <td>9.598513</td>\n",
       "      <td>...</td>\n",
       "      <td>8.378979</td>\n",
       "      <td>1</td>\n",
       "      <td>0</td>\n",
       "      <td>1</td>\n",
       "      <td>0</td>\n",
       "      <td>0</td>\n",
       "      <td>1</td>\n",
       "      <td>1</td>\n",
       "      <td>1</td>\n",
       "      <td>DrXXXConfid</td>\n",
       "    </tr>\n",
       "    <tr>\n",
       "      <th>2104</th>\n",
       "      <td>5162</td>\n",
       "      <td>56</td>\n",
       "      <td>0</td>\n",
       "      <td>0</td>\n",
       "      <td>2</td>\n",
       "      <td>16.569934</td>\n",
       "      <td>0</td>\n",
       "      <td>1.985084</td>\n",
       "      <td>1.400441</td>\n",
       "      <td>9.883835</td>\n",
       "      <td>...</td>\n",
       "      <td>5.015131</td>\n",
       "      <td>0</td>\n",
       "      <td>0</td>\n",
       "      <td>0</td>\n",
       "      <td>0</td>\n",
       "      <td>1</td>\n",
       "      <td>0</td>\n",
       "      <td>1</td>\n",
       "      <td>0</td>\n",
       "      <td>DrXXXConfid</td>\n",
       "    </tr>\n",
       "  </tbody>\n",
       "</table>\n",
       "<p>2105 rows × 35 columns</p>\n",
       "</div>"
      ],
      "text/plain": [
       "      PatientID  Age  Gender  Ethnicity  EducationLevel        BMI  Smoking  \\\n",
       "0          3058   85       0          3               1  19.619878        0   \n",
       "1          3059   75       0          0               2  16.247339        1   \n",
       "2          3060   70       1          0               0  15.368239        0   \n",
       "3          3061   52       0          0               0  15.454557        0   \n",
       "4          3062   87       0          0               1  18.616042        0   \n",
       "...         ...  ...     ...        ...             ...        ...      ...   \n",
       "2100       5158   87       1          0               2  38.483841        0   \n",
       "2101       5159   67       0          0               1  33.694396        1   \n",
       "2102       5160   65       0          0               2  22.829631        0   \n",
       "2103       5161   61       1          0               0  16.871030        1   \n",
       "2104       5162   56       0          0               2  16.569934        0   \n",
       "\n",
       "      AlcoholConsumption  PhysicalActivity  DietQuality  ...  \\\n",
       "0               5.108241          1.380660     3.893969  ...   \n",
       "1               6.027648          8.409804     8.513428  ...   \n",
       "2               2.242135          0.213275     6.498805  ...   \n",
       "3               5.997788          1.375045     6.715033  ...   \n",
       "4               9.775243          1.188607     4.657572  ...   \n",
       "...                  ...               ...          ...  ...   \n",
       "2100           12.674393          5.325900     5.947278  ...   \n",
       "2101            0.977018          0.108599     4.825187  ...   \n",
       "2102            6.152286          5.775103     0.334244  ...   \n",
       "2103            0.292094          2.280475     9.598513  ...   \n",
       "2104            1.985084          1.400441     9.883835  ...   \n",
       "\n",
       "      FunctionalAssessment  Tremor  Rigidity  Bradykinesia  \\\n",
       "0                 1.572427       1         0             0   \n",
       "1                 4.787551       0         1             0   \n",
       "2                 2.130686       1         0             0   \n",
       "3                 3.391288       1         1             1   \n",
       "4                 3.200969       0         0             0   \n",
       "...                    ...     ...       ...           ...   \n",
       "2100              8.076254       1         0             0   \n",
       "2101              1.665751       0         0             0   \n",
       "2102              4.785614       0         0             0   \n",
       "2103              8.378979       1         0             1   \n",
       "2104              5.015131       0         0             0   \n",
       "\n",
       "      PosturalInstability  SpeechProblems  SleepDisorders  Constipation  \\\n",
       "0                       0               0               0             0   \n",
       "1                       1               0               1             0   \n",
       "2                       0               1               0             1   \n",
       "3                       0               0               0             1   \n",
       "4                       1               0               1             0   \n",
       "...                   ...             ...             ...           ...   \n",
       "2100                    0               1               1             0   \n",
       "2101                    1               0               1             1   \n",
       "2102                    0               1               1             0   \n",
       "2103                    0               0               1             1   \n",
       "2104                    0               1               0             1   \n",
       "\n",
       "      Diagnosis  DoctorInCharge  \n",
       "0             0     DrXXXConfid  \n",
       "1             1     DrXXXConfid  \n",
       "2             1     DrXXXConfid  \n",
       "3             1     DrXXXConfid  \n",
       "4             0     DrXXXConfid  \n",
       "...         ...             ...  \n",
       "2100          0     DrXXXConfid  \n",
       "2101          1     DrXXXConfid  \n",
       "2102          1     DrXXXConfid  \n",
       "2103          1     DrXXXConfid  \n",
       "2104          0     DrXXXConfid  \n",
       "\n",
       "[2105 rows x 35 columns]"
      ]
     },
     "execution_count": 2,
     "metadata": {},
     "output_type": "execute_result"
    }
   ],
   "source": [
    "# Leer archivo CSV\n",
    "df_csv = pd.read_csv('parkinsons_disease_data.csv', sep=',')\n",
    "df_csv"
   ]
  },
  {
   "cell_type": "markdown",
   "id": "532a5bc8",
   "metadata": {},
   "source": [
    "### **<span>Punto 1</span>**"
   ]
  },
  {
   "cell_type": "code",
   "execution_count": null,
   "id": "4eb66221",
   "metadata": {},
   "outputs": [],
   "source": [
    "def medidas_tendencia_central(datos):    \n",
    "    # Medidas de tendencia central\n",
    "\n",
    "    print(\"📊 Medidas de tendencia central:\")\n",
    "    # Media\n",
    "    media = np.mean(datos)\n",
    "    print(\"-Media:\", media)\n",
    "\n",
    "    # Mediana\n",
    "    mediana = np.median(datos)\n",
    "    print(\"-Mediana:\", mediana)\n",
    "\n",
    "    # Moda\n",
    "    modas = statistics.multimode(datos)\n",
    "    print(f\"-Las modas son: {modas}\")\n",
    "\n",
    "def medidas_posicion(datos):\n",
    "    # Cálculo de cuartiles\n",
    "    Q1 = np.percentile(datos, 25)  # Primer cuartil (P25)\n",
    "    Q2 = np.percentile(datos, 50)  # Mediana (P50)\n",
    "    Q3 = np.percentile(datos, 75)  # Tercer cuartil (P75)\n",
    "\n",
    "    # Mostrar resultados\n",
    "    print(\"📊 Medidas de Posición:\")\n",
    "    print(\"Cuartiles:\")\n",
    "    print(f\"Q1 (P25): {Q1}\")\n",
    "    print(\"Interpretación: El 25% de los valores son menores o iguales a\", Q1)\n",
    "    print(f\"\\nMediana (Q2/P50): {Q2}\")\n",
    "    print(\"Interpretación: El 50% de los valores son menores o iguales a\", Q2)\n",
    "    print(f\"\\nQ3 (P75): {Q3}\")\n",
    "    print(\"Interpretación: El 75% de los valores son menores o iguales a\", Q3)\n",
    "\n",
    "def calcular_medidas_variabilidad(datos):\n",
    "   \n",
    "    # Convertimos los datos a una Serie de Pandas para poder usar métodos como .quantile()\n",
    "    # Una Serie es como una columna de Excel: una estructura que contiene datos y nos permite aplicar operaciones estadísticas fácilmente.\n",
    "    datos = pd.Series(datos)\n",
    "\n",
    "    # Rango: diferencia entre el valor máximo y mínimo\n",
    "    rango = datos.max() - datos.min()\n",
    "\n",
    "    # Varianza: mide cuánto se dispersan los datos respecto a la media\n",
    "    varianza = datos.var()\n",
    "\n",
    "    # Desviación estándar: raíz cuadrada de la varianza (también mide dispersión, pero en las mismas unidades que los datos)\n",
    "    desviacion_std = datos.std()\n",
    "\n",
    "    # Rango intercuartílico (IQR): mide la dispersión del 50% central de los datos (entre Q3 y Q1)\n",
    "    rango_intercuartilico = datos.quantile(0.75) - datos.quantile(0.25)\n",
    "\n",
    "    # Coeficiente de variación (CV): relación entre la desviación estándar y la media (expresado como %)\n",
    "    coef_var = (desviacion_std / datos.mean()) * 100\n",
    "\n",
    "    # Imprimimos los resultados\n",
    "    print(\"📊 Medidas de Variabilidad:\")\n",
    "    print(f\"- Rango (máx - mín): {rango:.2f}\")\n",
    "    print(f\"- Varianza: {varianza:.2f}\")\n",
    "    print(f\"- Desviación estándar: {desviacion_std:.2f}\")\n",
    "    print(f\"- Rango intercuartílico (IQR): {rango_intercuartilico:.2f}\")\n",
    "    print(f\"- Coeficiente de variación (CV): {coef_var:.2f}%\")\n",
    "\n",
    "def medidas_simetria_curtosis(datos):\n",
    "    \"\"\"\n",
    "    Calcula e imprime las medidas de simetría (asimetría) y curtosis de un conjunto de datos.\n",
    "    \n",
    "    Parámetros:\n",
    "    - datos: array o lista de valores numéricos.\n",
    "    \n",
    "    Explicación:\n",
    "    - Asimetría (skewness): mide qué tan simétrica es la distribución respecto a la media.\n",
    "        * Valor ≈ 0: simétrica.\n",
    "        * Valor > 0: asimetría positiva (cola hacia la derecha).\n",
    "        * Valor < 0: asimetría negativa (cola hacia la izquierda).\n",
    "        \n",
    "    - Curtosis: mide la \"altura\" de la distribución en comparación con una distribución normal.\n",
    "        * Valor ≈ 3: distribución normal (mesocúrtica).\n",
    "        * Valor > 3: más concentrada (leptocúrtica).\n",
    "        * Valor < 3: más plana (platicúrtica).\n",
    "    \"\"\"\n",
    "    # Asegurar que los datos estén en formato de Serie de pandas\n",
    "    datos = pd.Series(datos)\n",
    "    \n",
    "    # Calcular medidas\n",
    "    asimetria = skew(datos)\n",
    "    curt = kurtosis(datos, fisher=False)  # Fisher=False para comparar con valor 3 de la normal\n",
    "\n",
    "    # Mostrar resultados con interpretación\n",
    "    print(\"📊 Medidas de Simetría y Curtosis:\")\n",
    "    print(f\"- Asimetría (skewness): {asimetria:.2f}\")\n",
    "    if asimetria > 0:\n",
    "        print(\"  → Distribución asimétrica positiva (cola hacia la derecha)\")\n",
    "    elif asimetria < 0:\n",
    "        print(\"  → Distribución asimétrica negativa (cola hacia la izquierda)\")\n",
    "    else:\n",
    "        print(\"  → Distribución simétrica\")\n",
    "\n",
    "    print(f\"- Curtosis: {curt:.2f}\")\n",
    "    if curt > 3:\n",
    "        print(\"  → Distribución leptocúrtica (más aguda o con colas más pesadas)\")\n",
    "    elif curt < 3:\n",
    "        print(\"  → Distribución platicúrtica (más plana o con colas más ligeras)\")\n",
    "    else:\n",
    "        print(\"  → Distribución mesocúrtica (similar a una distribución normal)\")\n",
    "\n",
    "def frecuencias_cuantitativas(data, variable):\n",
    "    \"\"\"\n",
    "    Calcula la tabla de distribución de frecuencias para una variable cuantitativa.\n",
    "\n",
    "    Parámetros:\n",
    "    - data: DataFrame de pandas que contiene los datos.\n",
    "    - variable: Nombre de la columna (str) que representa la variable cuantitativa.\n",
    "\n",
    "    Retorna:\n",
    "    - DataFrame con las columnas 'Clase', 'Marca de clase', 'Frecuencia Absoluta', \n",
    "    'Frecuencia absoluta Acumulada', 'Frecuencia relativa', 'Frecuencia relativa Acumulada', \n",
    "    'Frecuencia Porcentual'.\n",
    "    \"\"\"\n",
    "\n",
    "    # Determinar el rango o recorrido (R)\n",
    "    rango = data[variable].max() - data[variable].min()\n",
    "    print(f\"Rango o recorrido (R): {rango}\")\n",
    "\n",
    "    # Número de clases (k)\n",
    "    # Número de clases (k) usando la regla de Sturges\n",
    "    n = len(data[variable])\n",
    "    k = np.ceil(1 + 3.32 * np.log10(n))\n",
    "    print(f\"Número de clases (k): {k}\")\n",
    "\n",
    "    # Amplitud del intervalo (A)\n",
    "    A = np.ceil(rango / k)\n",
    "    print(f\"Amplitud del intervalo (A): {A}\")\n",
    "\n",
    "    # Construcción de los intervalos de clase\n",
    "    # Usa la función np.arange para generar valores desde el mínimo de los datos hasta el máximo, \n",
    "    # con un paso igual a la amplitud del intervalo (A).\n",
    "    intervalos = np.arange(data[variable].min(), data[variable].max() + A, A)\n",
    "    print(f\"Intervalos: {intervalos}\")\n",
    "    intervalos_cerrados = [(intervalos[i], intervalos[i+1] - 1) for i in range(len(intervalos) - 1)]\n",
    "    print(f\"Intervalos Cerrados: {intervalos_cerrados}\")\n",
    "\n",
    "    # Calcular la frecuencia absoluta\n",
    "    frecuencias, bins = np.histogram(data[variable], bins=intervalos)\n",
    "\n",
    "    # Calcular la marca de clase (punto medio de cada intervalo)\n",
    "    marcas_clase = [(intervalo[0] + intervalo[1]) / 2 for intervalo in intervalos_cerrados]\n",
    "\n",
    "    # Frecuencia absoluta acumulada\n",
    "    fa_acumulada = np.cumsum(frecuencias)\n",
    "\n",
    "    # Frecuencia relativa\n",
    "    fr = frecuencias / n\n",
    "\n",
    "    # Frecuencia relativa acumulada\n",
    "    fr_acumulada = np.cumsum(fr)\n",
    "\n",
    "    # Frecuencia porcentual\n",
    "    fp = fr * 100\n",
    "\n",
    "    # Crear DataFrame con la tabla de frecuencias\n",
    "    tabla_frecuencias = pd.DataFrame({\n",
    "        'Clase': [f\"[{int(intervalo[0])}, {int(intervalo[1])}]\" for intervalo in intervalos_cerrados],\n",
    "        'Marca de clase': marcas_clase,\n",
    "        'Frecuencia Absoluta': frecuencias,\n",
    "        'Frecuencia absoluta Acumulada': fa_acumulada,\n",
    "        'Frecuencia relativa': fr,\n",
    "        'Frecuencia relativa Acumulada': fr_acumulada,\n",
    "        'Frecuencia Porcentual': fp\n",
    "    })\n",
    "\n",
    "    return tabla_frecuencias\n",
    "\n",
    "def graficar_boxplot_e_histograma(df, columna, color=\"#A7C7E7\"):\n",
    "    \"\"\"\n",
    "    Grafica un boxplot y un histograma para una variable numérica.\n",
    "    También muestra la frecuencia de cada intervalo del histograma.\n",
    "\n",
    "    Parámetros:\n",
    "    - df: DataFrame con los datos\n",
    "    - columna: Nombre de la columna numérica a graficar\n",
    "    - color: Color de los gráficos\n",
    "    \"\"\"\n",
    "\n",
    "    print(f\"\\n📊 Análisis de la variable: {columna}\")\n",
    "\n",
    "    # Calcular número de bins usando la regla de Freedman-Diaconis\n",
    "    datos = df[columna].dropna()\n",
    "    q1 = np.percentile(datos, 25)\n",
    "    q3 = np.percentile(datos, 75)\n",
    "    iqr = q3 - q1\n",
    "    bin_width = 2 * iqr / (len(datos) ** (1/3))\n",
    "    num_bins = int(np.ceil((datos.max() - datos.min()) / bin_width)) if bin_width > 0 else 10\n",
    "\n",
    "    print(f\"👉 Número de intervalos (bins): {num_bins}\")\n",
    "\n",
    "    # Calcular frecuencias e intervalos\n",
    "    frecuencias, bordes = np.histogram(datos, bins=num_bins)\n",
    "\n",
    "    print(\"\\n📌 Frecuencia en cada intervalo:\")\n",
    "    for i in range(len(frecuencias)):\n",
    "        izquierda = round(bordes[i], 2)\n",
    "        derecha = round(bordes[i+1], 2)\n",
    "        print(f\"Intervalo {i+1}: [{izquierda}, {derecha}) → {frecuencias[i]} datos\")\n",
    "\n",
    "    # Crear los gráficos\n",
    "    fig, ejes = plt.subplots(nrows=2, sharex=True, figsize=(12, 6),\n",
    "                             gridspec_kw={\"height_ratios\": [0.3, 1]})\n",
    "\n",
    "    # Boxplot\n",
    "    sns.boxplot(x=datos, ax=ejes[0], color=color, width=0.5,\n",
    "                flierprops={'marker': 'o', 'color': 'black'})\n",
    "    ejes[0].set_title(\"Boxplot (diagrama de caja)\")\n",
    "    ejes[0].set(yticks=[])\n",
    "\n",
    "    # Histograma\n",
    "    sns.histplot(datos, bins=num_bins, color=color, alpha=0.7, ax=ejes[1], kde=False)\n",
    "    ejes[1].set_title(\"Histograma (frecuencia de los valores)\")\n",
    "    ejes[1].set_xlabel(columna)\n",
    "    ejes[1].set_ylabel(\"Frecuencia\")\n",
    "\n",
    "    sns.despine(left=True)\n",
    "    plt.tight_layout()\n",
    "    plt.show()\n",
    "\n",
    "def graficar_densidad(df, columna, color=\"#A7C7E7\"):\n",
    "    \"\"\"\n",
    "    Grafica la distribución de densidad (KDE) para una variable numérica.\n",
    "\n",
    "    Parámetros:\n",
    "    - df: DataFrame con los datos.\n",
    "    - columna: Nombre de la columna numérica a graficar.\n",
    "    - color: Color de la curva de densidad.\n",
    "    \"\"\"\n",
    "    datos = df[columna].dropna()\n",
    "\n",
    "    print(f\"\\n📈 Curva de densidad para: {columna}\")\n",
    "    print(\"Esta gráfica muestra cómo se distribuyen los valores de la variable.\")\n",
    "\n",
    "    # Graficar KDE\n",
    "    plt.figure(figsize=(10, 5))\n",
    "    sns.kdeplot(datos, color=color, fill=True, linewidth=2, alpha=0.5)\n",
    "\n",
    "    # Etiquetas\n",
    "    plt.title(f\"Densidad de {columna}\")\n",
    "    plt.xlabel(columna)\n",
    "    plt.ylabel(\"Densidad estimada\")\n",
    "    plt.grid(True)\n",
    "    plt.tight_layout()\n",
    "    plt.show()\n",
    "\n"
   ]
  },
  {
   "cell_type": "markdown",
   "id": "e9364ee5",
   "metadata": {},
   "source": [
    "### **<span>Variable: Edad</span>**"
   ]
  },
  {
   "cell_type": "code",
   "execution_count": 15,
   "id": "33f917ec",
   "metadata": {},
   "outputs": [
    {
     "name": "stdout",
     "output_type": "stream",
     "text": [
      "📊 Maximo: 89\n",
      "📊 Minimo: 50\n",
      "\n",
      "\n",
      "📊 Medidas de tendencia central:\n",
      "-Media: 69.60190023752969\n",
      "-Mediana: 70.0\n",
      "-Las modas son: [84]\n",
      "\n",
      "\n",
      "📊 Medidas de Posición:\n",
      "Cuartiles:\n",
      "Q1 (P25): 60.0\n",
      "Interpretación: El 25% de los valores son menores o iguales a 60.0\n",
      "\n",
      "Mediana (Q2/P50): 70.0\n",
      "Interpretación: El 50% de los valores son menores o iguales a 70.0\n",
      "\n",
      "Q3 (P75): 80.0\n",
      "Interpretación: El 75% de los valores son menores o iguales a 80.0\n",
      "\n",
      "\n",
      "📊 Medidas de Variabilidad:\n",
      "- Rango (máx - mín): 39.00\n",
      "- Varianza: 134.43\n",
      "- Desviación estándar: 11.59\n",
      "- Rango intercuartílico (IQR): 20.00\n",
      "- Coeficiente de variación (CV): 16.66%\n",
      "\n",
      "\n",
      "📊 Medidas de Simetría y Curtosis:\n",
      "- Asimetría (skewness): -0.03\n",
      "  → Distribución asimétrica negativa (cola hacia la izquierda)\n",
      "- Curtosis: 1.82\n",
      "  → Distribución platicúrtica (Menos concentración en el centro y colas más ligeras)\n"
     ]
    }
   ],
   "source": [
    "age = df_csv['Age']\n",
    "print(f\"📊 Maximo: {age.max()}\")\n",
    "print(f\"📊 Minimo: {age.min()}\")\n",
    "print('\\n')\n",
    "medidas_tendencia_central(age)\n",
    "print('\\n')\n",
    "medidas_posicion(age)\n",
    "print('\\n')\n",
    "calcular_medidas_variabilidad(age)\n",
    "print('\\n')\n",
    "medidas_simetria_curtosis(age)\n"
   ]
  },
  {
   "cell_type": "code",
   "execution_count": 16,
   "id": "552eee4c",
   "metadata": {},
   "outputs": [
    {
     "name": "stdout",
     "output_type": "stream",
     "text": [
      "Rango o recorrido (R): 39\n",
      "Número de clases (k): 13.0\n",
      "Amplitud del intervalo (A): 3.0\n",
      "Intervalos: [50. 53. 56. 59. 62. 65. 68. 71. 74. 77. 80. 83. 86. 89.]\n",
      "Intervalos Cerrados: [(50.0, 52.0), (53.0, 55.0), (56.0, 58.0), (59.0, 61.0), (62.0, 64.0), (65.0, 67.0), (68.0, 70.0), (71.0, 73.0), (74.0, 76.0), (77.0, 79.0), (80.0, 82.0), (83.0, 85.0), (86.0, 88.0)]\n"
     ]
    },
    {
     "data": {
      "text/html": [
       "<div>\n",
       "<style scoped>\n",
       "    .dataframe tbody tr th:only-of-type {\n",
       "        vertical-align: middle;\n",
       "    }\n",
       "\n",
       "    .dataframe tbody tr th {\n",
       "        vertical-align: top;\n",
       "    }\n",
       "\n",
       "    .dataframe thead th {\n",
       "        text-align: right;\n",
       "    }\n",
       "</style>\n",
       "<table border=\"1\" class=\"dataframe\">\n",
       "  <thead>\n",
       "    <tr style=\"text-align: right;\">\n",
       "      <th></th>\n",
       "      <th>Clase</th>\n",
       "      <th>Marca de clase</th>\n",
       "      <th>Frecuencia Absoluta</th>\n",
       "      <th>Frecuencia absoluta Acumulada</th>\n",
       "      <th>Frecuencia relativa</th>\n",
       "      <th>Frecuencia relativa Acumulada</th>\n",
       "      <th>Frecuencia Porcentual</th>\n",
       "    </tr>\n",
       "  </thead>\n",
       "  <tbody>\n",
       "    <tr>\n",
       "      <th>0</th>\n",
       "      <td>[50, 52]</td>\n",
       "      <td>51.0</td>\n",
       "      <td>168</td>\n",
       "      <td>168</td>\n",
       "      <td>0.079810</td>\n",
       "      <td>0.079810</td>\n",
       "      <td>7.980998</td>\n",
       "    </tr>\n",
       "    <tr>\n",
       "      <th>1</th>\n",
       "      <td>[53, 55]</td>\n",
       "      <td>54.0</td>\n",
       "      <td>159</td>\n",
       "      <td>327</td>\n",
       "      <td>0.075534</td>\n",
       "      <td>0.155344</td>\n",
       "      <td>7.553444</td>\n",
       "    </tr>\n",
       "    <tr>\n",
       "      <th>2</th>\n",
       "      <td>[56, 58]</td>\n",
       "      <td>57.0</td>\n",
       "      <td>152</td>\n",
       "      <td>479</td>\n",
       "      <td>0.072209</td>\n",
       "      <td>0.227553</td>\n",
       "      <td>7.220903</td>\n",
       "    </tr>\n",
       "    <tr>\n",
       "      <th>3</th>\n",
       "      <td>[59, 61]</td>\n",
       "      <td>60.0</td>\n",
       "      <td>133</td>\n",
       "      <td>612</td>\n",
       "      <td>0.063183</td>\n",
       "      <td>0.290736</td>\n",
       "      <td>6.318290</td>\n",
       "    </tr>\n",
       "    <tr>\n",
       "      <th>4</th>\n",
       "      <td>[62, 64]</td>\n",
       "      <td>63.0</td>\n",
       "      <td>148</td>\n",
       "      <td>760</td>\n",
       "      <td>0.070309</td>\n",
       "      <td>0.361045</td>\n",
       "      <td>7.030879</td>\n",
       "    </tr>\n",
       "    <tr>\n",
       "      <th>5</th>\n",
       "      <td>[65, 67]</td>\n",
       "      <td>66.0</td>\n",
       "      <td>169</td>\n",
       "      <td>929</td>\n",
       "      <td>0.080285</td>\n",
       "      <td>0.441330</td>\n",
       "      <td>8.028504</td>\n",
       "    </tr>\n",
       "    <tr>\n",
       "      <th>6</th>\n",
       "      <td>[68, 70]</td>\n",
       "      <td>69.0</td>\n",
       "      <td>154</td>\n",
       "      <td>1083</td>\n",
       "      <td>0.073159</td>\n",
       "      <td>0.514489</td>\n",
       "      <td>7.315914</td>\n",
       "    </tr>\n",
       "    <tr>\n",
       "      <th>7</th>\n",
       "      <td>[71, 73]</td>\n",
       "      <td>72.0</td>\n",
       "      <td>177</td>\n",
       "      <td>1260</td>\n",
       "      <td>0.084086</td>\n",
       "      <td>0.598575</td>\n",
       "      <td>8.408551</td>\n",
       "    </tr>\n",
       "    <tr>\n",
       "      <th>8</th>\n",
       "      <td>[74, 76]</td>\n",
       "      <td>75.0</td>\n",
       "      <td>168</td>\n",
       "      <td>1428</td>\n",
       "      <td>0.079810</td>\n",
       "      <td>0.678385</td>\n",
       "      <td>7.980998</td>\n",
       "    </tr>\n",
       "    <tr>\n",
       "      <th>9</th>\n",
       "      <td>[77, 79]</td>\n",
       "      <td>78.0</td>\n",
       "      <td>149</td>\n",
       "      <td>1577</td>\n",
       "      <td>0.070784</td>\n",
       "      <td>0.749169</td>\n",
       "      <td>7.078385</td>\n",
       "    </tr>\n",
       "    <tr>\n",
       "      <th>10</th>\n",
       "      <td>[80, 82]</td>\n",
       "      <td>81.0</td>\n",
       "      <td>148</td>\n",
       "      <td>1725</td>\n",
       "      <td>0.070309</td>\n",
       "      <td>0.819477</td>\n",
       "      <td>7.030879</td>\n",
       "    </tr>\n",
       "    <tr>\n",
       "      <th>11</th>\n",
       "      <td>[83, 85]</td>\n",
       "      <td>84.0</td>\n",
       "      <td>164</td>\n",
       "      <td>1889</td>\n",
       "      <td>0.077910</td>\n",
       "      <td>0.897387</td>\n",
       "      <td>7.790974</td>\n",
       "    </tr>\n",
       "    <tr>\n",
       "      <th>12</th>\n",
       "      <td>[86, 88]</td>\n",
       "      <td>87.0</td>\n",
       "      <td>216</td>\n",
       "      <td>2105</td>\n",
       "      <td>0.102613</td>\n",
       "      <td>1.000000</td>\n",
       "      <td>10.261283</td>\n",
       "    </tr>\n",
       "  </tbody>\n",
       "</table>\n",
       "</div>"
      ],
      "text/plain": [
       "       Clase  Marca de clase  Frecuencia Absoluta  \\\n",
       "0   [50, 52]            51.0                  168   \n",
       "1   [53, 55]            54.0                  159   \n",
       "2   [56, 58]            57.0                  152   \n",
       "3   [59, 61]            60.0                  133   \n",
       "4   [62, 64]            63.0                  148   \n",
       "5   [65, 67]            66.0                  169   \n",
       "6   [68, 70]            69.0                  154   \n",
       "7   [71, 73]            72.0                  177   \n",
       "8   [74, 76]            75.0                  168   \n",
       "9   [77, 79]            78.0                  149   \n",
       "10  [80, 82]            81.0                  148   \n",
       "11  [83, 85]            84.0                  164   \n",
       "12  [86, 88]            87.0                  216   \n",
       "\n",
       "    Frecuencia absoluta Acumulada  Frecuencia relativa  \\\n",
       "0                             168             0.079810   \n",
       "1                             327             0.075534   \n",
       "2                             479             0.072209   \n",
       "3                             612             0.063183   \n",
       "4                             760             0.070309   \n",
       "5                             929             0.080285   \n",
       "6                            1083             0.073159   \n",
       "7                            1260             0.084086   \n",
       "8                            1428             0.079810   \n",
       "9                            1577             0.070784   \n",
       "10                           1725             0.070309   \n",
       "11                           1889             0.077910   \n",
       "12                           2105             0.102613   \n",
       "\n",
       "    Frecuencia relativa Acumulada  Frecuencia Porcentual  \n",
       "0                        0.079810               7.980998  \n",
       "1                        0.155344               7.553444  \n",
       "2                        0.227553               7.220903  \n",
       "3                        0.290736               6.318290  \n",
       "4                        0.361045               7.030879  \n",
       "5                        0.441330               8.028504  \n",
       "6                        0.514489               7.315914  \n",
       "7                        0.598575               8.408551  \n",
       "8                        0.678385               7.980998  \n",
       "9                        0.749169               7.078385  \n",
       "10                       0.819477               7.030879  \n",
       "11                       0.897387               7.790974  \n",
       "12                       1.000000              10.261283  "
      ]
     },
     "execution_count": 16,
     "metadata": {},
     "output_type": "execute_result"
    }
   ],
   "source": [
    "frecuencias_cuantitativas(df_csv, 'Age')"
   ]
  },
  {
   "cell_type": "code",
   "execution_count": null,
   "id": "8d14899f",
   "metadata": {},
   "outputs": [
    {
     "name": "stdout",
     "output_type": "stream",
     "text": [
      "\n",
      "📊 Análisis de la variable: Age\n",
      "👉 Número de intervalos (bins): 13\n",
      "\n",
      "📌 Frecuencia en cada intervalo:\n",
      "Intervalo 1: [50.0, 53.0) → 168 datos\n",
      "Intervalo 2: [53.0, 56.0) → 159 datos\n",
      "Intervalo 3: [56.0, 59.0) → 152 datos\n",
      "Intervalo 4: [59.0, 62.0) → 133 datos\n",
      "Intervalo 5: [62.0, 65.0) → 148 datos\n",
      "Intervalo 6: [65.0, 68.0) → 169 datos\n",
      "Intervalo 7: [68.0, 71.0) → 154 datos\n",
      "Intervalo 8: [71.0, 74.0) → 177 datos\n",
      "Intervalo 9: [74.0, 77.0) → 168 datos\n",
      "Intervalo 10: [77.0, 80.0) → 149 datos\n",
      "Intervalo 11: [80.0, 83.0) → 148 datos\n",
      "Intervalo 12: [83.0, 86.0) → 164 datos\n",
      "Intervalo 13: [86.0, 89.0) → 216 datos\n"
     ]
    },
    {
     "data": {
      "image/png": "[encoded data removed]",
      "text/plain": [
       "<Figure size 1200x600 with 2 Axes>"
      ]
     },
     "metadata": {},
     "output_type": "display_data"
    },
    {
     "name": "stdout",
     "output_type": "stream",
     "text": [
      "\n",
      "📈 Curva de densidad para: Age\n",
      "Esta gráfica muestra cómo se distribuyen los valores de la variable.\n"
     ]
    },
    {
     "data": {
      "image/png": "[encoded data removed]",
      "text/plain": [
       "<Figure size 1000x500 with 1 Axes>"
      ]
     },
     "metadata": {},
     "output_type": "display_data"
    }
   ],
   "source": [
    "graficar_boxplot_e_histograma(df_csv, 'Age')\n",
    "graficar_densidad(df_csv, 'Age')"
   ]
  },
  {
   "cell_type": "markdown",
   "id": "fb8413ff",
   "metadata": {},
   "source": [
    "Identificar si existen valores atípicos en las variable Edad, ¿estos valores podrían generar un falso análisis?"
   ]
  },
  {
   "cell_type": "markdown",
   "id": "e9b25011",
   "metadata": {},
   "source": [
    "### **<span>Variable: BMI (Índice de masa corporal)</span>**"
   ]
  },
  {
   "cell_type": "code",
   "execution_count": 18,
   "id": "4af43299",
   "metadata": {},
   "outputs": [
    {
     "name": "stdout",
     "output_type": "stream",
     "text": [
      "📊 Maximo: 39.99988683753807\n",
      "📊 Minimo: 15.008333144286365\n",
      "\n",
      "\n",
      "📊 Medidas de tendencia central:\n",
      "-Media: 27.209492765200114\n",
      "-Mediana: 27.18457079160664\n",
      "-Las modas son: [19.619877964608285, 16.24733915647557, 15.368238711416376, 15.45455732879956, 18.61604176916242, 39.423311410061466, 30.54200328786717, 36.758281614016326, 22.38058650336209, 23.72708627731125, 38.482544735296, 35.8967386979048, 30.22551207817625, 38.29830655044067, 34.96532287396592, 18.958781252278897, 28.049580065989524, 21.856123048651224, 19.00200404613128, 22.548338606571637, 29.72724175750939, 33.24761782912628, 20.617201897192928, 38.13363959106394, 32.53263836382909, 15.863602948273025, 36.90543424388144, 23.689973180071345, 25.89636741551464, 36.76372472288237, 16.11707674031355, 34.34650293436586, 17.50800314865742, 21.516109097943023, 26.91652697310508, 23.609739445432457, 22.46580131902098, 16.822486777200304, 38.97616761347774, 18.723087295427625, 29.853708036332225, 29.64345724771096, 31.9360490141421, 19.89364400150012, 26.792681745281712, 30.709514645464804, 39.64198379041021, 36.99983762101101, 18.806416983484663, 17.522179442787216, 17.612436349064705, 29.99297627877226, 19.10913810353231, 23.965516670962906, 30.004379642136517, 25.69142017527591, 36.97320926248379, 36.70926169010672, 31.50375373246005, 15.941573726723549, 22.13082985905856, 30.439947478381548, 20.37739694003149, 16.022398955445645, 25.016558492669866, 32.01090917222189, 17.497276230310245, 15.624511315929066, 15.756705700947368, 34.316554469159435, 15.161622656958006, 19.075276045868566, 18.048838543999015, 18.936413208597244, 26.204235487006507, 18.868793058037912, 34.34558162427738, 33.52299022191886, 25.70305585618164, 22.564587867465395, 36.10233375010184, 35.626188708499384, 38.62019721707213, 37.582167895686354, 21.376499795697995, 34.08468122767822, 28.682718640316743, 31.41014326866976, 35.91724591400447, 33.48984284586248, 34.92705044132123, 28.35087083013473, 35.749215334188534, 36.33054295470796, 23.15886970771991, 37.07108381863925, 35.80364110408457, 32.423318682955184, 33.01568077563692, 25.60152532987525, 35.79514673562973, 33.77024845795252, 31.714543361490666, 15.82215582620605, 39.96833886486503, 39.06839396556298, 16.472097344722844, 22.03988416146732, 18.67873267453895, 19.456559301128863, 26.050980060559, 17.991247224838876, 26.93810967738064, 33.614028884538804, 31.22753444800371, 16.171783597118544, 23.206523838996, 33.76974026696827, 25.642120096800824, 32.57522897105984, 17.478904530716033, 30.055413734251847, 32.81081792529821, 33.715476405240985, 23.656275108205516, 30.65924758743728, 35.32276476017317, 15.862185361833264, 15.03806924282026, 19.637550524572177, 28.097873365096504, 32.690137791955294, 15.67414048848638, 25.58803659131658, 33.6585711834269, 15.435901405848934, 24.425793609952805, 34.860669901143, 21.50561347024281, 19.872299056662342, 29.72765068595395, 37.74583067716093, 23.42310788139948, 23.56471008964581, 31.568612347119053, 31.50002068923017, 23.90207630867993, 23.209725894212085, 15.474177781216042, 34.88706983955964, 32.59049006040436, 32.2851545746413, 36.48898396750657, 30.13282440497793, 24.932025020783108, 22.41785298227416, 39.34718194735758, 35.654022348046254, 31.962495120019888, 15.488475150122747, 15.72359127364602, 38.58268838049593, 35.62555707351037, 37.51744114948586, 18.813495609571028, 30.21513102086502, 31.66649502291092, 26.67135086747487, 18.43437556622998, 32.3411895773688, 35.5928767248149, 26.927616051984167, 28.454534102165425, 38.24430674408995, 33.372640842290856, 16.695247806994786, 34.850176292704845, 16.615894869117653, 19.31789748200421, 31.62182948771689, 33.89758543975198, 27.751948786285645, 38.13261887744051, 30.951666174868787, 32.204959434839424, 33.59015260637955, 30.277915290674176, 39.66251834193279, 33.93510777411548, 18.591671922784965, 26.354590515392783, 39.12717698103394, 24.85337927896776, 29.222274937726095, 15.520582035737576, 35.088643316158674, 15.7417052137163, 21.36515081030602, 18.773024683070723, 23.073561173829127, 29.35933721716289, 37.266169507353744, 26.591072300970403, 35.510524912798104, 20.498193409472076, 38.54000174227126, 26.17296929719492, 37.49808423446857, 37.74358105288773, 17.98450417418229, 19.470978407358366, 27.302137060643304, 33.10293772652048, 19.53554745581244, 39.90208425810458, 29.81212258060249, 15.31653269686403, 33.714971953510684, 25.55985963588713, 25.747684134254307, 38.61124105611811, 19.35867532075976, 22.54219185750839, 39.298202300511285, 29.34834071111496, 17.325719630105475, 38.178718183005856, 32.603647147321176, 21.576939975381023, 28.116115494346456, 31.56235398745491, 30.35252106083689, 28.60369244665008, 35.11744577769919, 27.757648122884703, 15.302259401309229, 25.88974556575136, 39.061122184119526, 30.321688704702417, 15.263119717546378, 24.92211611632978, 21.205177921894894, 25.164724293996905, 15.608100782791118, 35.48994135121109, 36.89061027657872, 16.10962240081002, 30.309287896436004, 25.265237898511916, 23.639314354739238, 18.04029380472881, 39.48675709568682, 36.39742471556922, 26.184022384039945, 25.91203863698792, 26.74206341508986, 18.725458618713297, 16.3357896028799, 24.60584934039925, 33.315403901862126, 36.90618575909461, 36.28396876510927, 30.67420998805102, 17.050408410171357, 23.19419559146532, 33.41759460015177, 29.131807623767813, 36.38667727213013, 15.402534433667862, 31.30490395387105, 28.923966695577786, 35.48355963876767, 27.24687509664962, 21.360263196526414, 23.760479208323986, 32.711812031325465, 27.34482506847408, 22.04736552539944, 22.717281161021585, 19.19204379761959, 22.17534121617913, 31.20876708658643, 24.532749367426764, 33.12457209683686, 23.241304479016925, 31.197725115618983, 15.335106763298858, 18.43842002301848, 36.66492030103687, 19.3260029400162, 31.58874222526428, 37.74872817769663, 25.2695457795301, 39.90224061908786, 24.874751990196906, 21.563965125245385, 35.065329915531734, 29.477027620016045, 37.39527728181129, 23.85796252766717, 33.16186036430843, 33.22937472973893, 38.96508968417496, 16.35792191183895, 20.79088126722979, 22.583226847013027, 21.377033740782977, 22.82892593820536, 15.40711765916026, 24.980514736994643, 29.84090332673329, 35.213742248015635, 38.35177234790669, 28.813649414560256, 21.95598131109411, 25.19229406052381, 27.012317422004934, 29.72517826668959, 38.15466716023468, 22.90806577632352, 19.97989694587031, 17.410959190144446, 29.95184423780452, 26.526357045071187, 31.141262524614024, 33.7398275669744, 15.724446247320648, 37.03741948026641, 28.635073866680138, 22.5972096216241, 17.60252154763705, 34.64334666043107, 26.138974058757384, 31.666277618995025, 35.47441626701254, 36.35909369933375, 31.582277037623975, 15.941644952130812, 27.21822683157665, 39.338385675034, 31.24844948042777, 32.56086729636331, 20.90781265002664, 22.84197167841281, 17.491638585739615, 30.421709796490735, 26.07617478045742, 38.64987923506228, 22.226969467278188, 28.35473675131064, 34.1681703907877, 29.867603585017925, 39.51961517802874, 33.11295829873498, 33.98974877826623, 20.309923047169946, 32.814401242887634, 22.572107178919765, 29.007482294493983, 18.41383315701252, 33.612469361997825, 22.453456377912676, 34.37775721052548, 19.453860543325767, 27.23879788853136, 20.93630075577403, 15.38454121964582, 38.86844002190467, 35.238650333992155, 31.284127648252465, 35.933682751561385, 37.60132305031969, 31.465241512099738, 33.2642112954691, 34.99448601084874, 23.18711568278347, 34.75380740641246, 19.74636103341245, 33.75055663478956, 18.66717329584401, 20.60316586980862, 15.928562342586511, 21.88268893186895, 17.214145623851362, 21.373866309624965, 39.15709821039128, 32.562776459240915, 17.79909198585821, 18.786419311813127, 19.3358366241317, 32.9183024508868, 31.94367036629642, 37.2518615675028, 17.024547481949433, 24.89698958015265, 34.50051137973325, 15.35790513900836, 36.4341552480056, 24.761580197762445, 15.334687301121392, 17.554487641175655, 28.353493752753025, 32.4678891752522, 20.243158385514928, 34.68141680175516, 21.88329191766356, 22.725070482155488, 15.753950017731656, 17.858427166720794, 32.35348731830433, 19.90561266251205, 32.318911135240185, 19.185937603708147, 32.621631139470495, 34.54080144831518, 30.900157704106668, 39.2640614149386, 25.319143763825736, 23.46021521557376, 21.76568761647008, 35.05717892122627, 25.13275174709935, 22.622630711102, 30.316517510397983, 19.68700989603355, 26.999862265741967, 15.26875138656042, 34.111822691185594, 16.473679834814572, 38.93324273826143, 35.88097431168005, 32.065165616496245, 17.698323634401376, 22.25331090917323, 16.259135661892987, 18.95172100149906, 16.90672887537132, 19.08869675413289, 38.057971938148086, 28.74627980369652, 33.16189758696497, 33.97468583028029, 24.057777268782623, 24.364221652843742, 35.07567189604292, 34.89815103441693, 15.65119501463055, 16.453732753534016, 28.845660170040308, 39.64779257764109, 17.767051573338577, 22.61883632378715, 37.060672114329805, 34.43664278388862, 30.189932846920527, 36.53127614703391, 17.640853263274202, 22.76371127858605, 21.263759407938448, 16.07025081529386, 15.917416067781373, 19.40597695217459, 30.92517825172459, 25.452042407493565, 26.291636509112625, 31.12674928497707, 19.04268569748353, 23.868109207572555, 20.359618236180346, 28.70291024673604, 39.19407887020078, 36.43739127705405, 31.243091873163664, 16.264541701396354, 18.284310806220844, 28.317898065619307, 18.33916892749884, 38.495228511262695, 25.0732809983353, 34.90946256491206, 39.076782325581306, 22.18856626458096, 18.60936755738101, 15.24497186937138, 30.02037441147577, 29.42877959347221, 39.31895109436984, 29.64576207549967, 16.47719796359308, 28.39386319247681, 35.17511388883911, 28.69797617904004, 19.35180633274726, 19.13100702137164, 35.896846575270715, 18.23642876040671, 24.755714378849145, 27.825636395352834, 19.519290813683355, 19.93546668552028, 33.429099268205256, 38.39824607648444, 35.44733521390849, 31.780830485873096, 16.66130272548867, 30.206053343319468, 15.245790288499764, 15.749766260939062, 30.111818387309757, 35.65213849906464, 37.302516145464665, 17.326750578557206, 27.084049483524243, 15.36403627867216, 35.868127195564426, 31.131833351158424, 19.861306488003216, 16.928718806184225, 32.97042426230767, 25.456562483839747, 18.70228531398834, 21.084502572646024, 15.449943902165254, 15.279698630070492, 18.8563234298572, 23.253766719242076, 24.290614940620824, 20.1250787303493, 29.216496864996767, 23.56678133245592, 24.25060568387892, 24.1300362379034, 29.206743397883216, 28.435013506881205, 21.92343700472996, 22.51654325366873, 36.60303835479313, 32.73211613319977, 36.44498127568472, 28.603174333099773, 18.99437316898663, 21.087662256782924, 16.866228343302534, 28.955531886944616, 22.794667206439428, 35.07055237062295, 17.631727538581714, 17.326333248318292, 36.5558890856624, 19.813013665151423, 15.804481098365825, 20.576913276760145, 27.110005104022463, 28.14595390478486, 16.596630455793353, 39.57061625143243, 16.686743270080132, 19.59861285799903, 34.39699253590602, 34.68503903825969, 28.23468203332822, 15.500256697998893, 23.806470745744164, 35.48061118428377, 36.94666590288344, 16.745775927397755, 19.868574455804552, 21.585940416161996, 19.617707316583328, 16.058788630557114, 21.629603844902007, 30.200525888542032, 16.429902073589595, 19.1625444029318, 24.38584299935186, 21.902667094303723, 35.22404441634278, 25.03024707763169, 34.16810858371525, 22.464040669912308, 20.738307013714877, 23.852468876885982, 16.959155021820514, 17.137278120786764, 32.95644745889805, 37.95230320217986, 25.49352874715957, 20.193353572661323, 32.72290379361176, 30.870809804728022, 30.193884763649518, 21.10373568401917, 19.998047263633783, 23.106028604431664, 16.603866745441987, 27.52144896643466, 32.81064814780183, 36.36410987283484, 18.418122874942423, 15.44352836982032, 21.91886291759013, 18.244860403045227, 17.646826462180513, 33.70978942179076, 29.45081798193514, 20.79295247862017, 17.44084752749366, 31.21085002347407, 34.69699974738392, 30.92129994801505, 19.530658710668696, 30.05407484811209, 33.77538746933996, 31.163537815804084, 20.15420569007905, 38.29078880910761, 35.5396656721245, 27.119730645365856, 24.781487686771264, 36.91227565928003, 32.629608245703054, 16.161823378165888, 38.17560128872083, 26.435628322434063, 20.200693628178534, 30.173649150845343, 25.263619412027293, 31.718886240605293, 28.917894622764035, 29.57186851001585, 27.53274249652329, 37.78356927851381, 20.19965854082272, 19.940445275895144, 16.985307020413593, 18.173186313776483, 29.762091446457564, 37.33287459171642, 23.252007642717565, 34.94122906246142, 25.92533729597616, 15.806668919039094, 21.893070921900783, 17.5629108047185, 36.76302570432184, 31.957865724173818, 18.207921443577188, 35.03958754739209, 22.257209479912703, 32.583387899243945, 38.249838978072816, 24.564587509332107, 22.633392247468983, 31.057561686896907, 20.54493928153175, 29.2847621223185, 18.43733364609975, 24.27391591615113, 23.440118060089684, 19.408517143081752, 36.2575291339991, 38.18919484680667, 35.04467701598035, 26.959337500356884, 38.48653540964676, 26.383153426427008, 34.38734891280779, 31.307119753811214, 28.738206405399865, 18.91263619837351, 21.314636842004607, 34.656928374908155, 27.63198837941793, 38.39922639679792, 24.00061081514565, 18.689023859144708, 25.451011321958877, 24.01513121928674, 36.05857361621656, 19.931085036434684, 27.805577903195463, 36.53132741650981, 18.125502311568496, 37.39645561599347, 38.79813077424144, 39.51725898350762, 29.577668630655992, 37.636032077123005, 21.650563624930125, 38.60673364141296, 36.81581100139327, 30.48590147237924, 24.657936076362414, 25.151142819604097, 22.51347824272543, 36.55572342695447, 19.156083037528983, 30.677661448017663, 30.28078984925001, 39.06637455950296, 32.804023894304564, 18.91096030861788, 32.537609316819015, 20.523600989230964, 21.63890238002496, 26.4475870499542, 28.21947277801326, 22.200928865875465, 16.38939702991055, 27.982851474426685, 17.956473988467863, 38.17079192257833, 23.197329624393724, 20.82606939748743, 32.87970124451003, 33.46245176799669, 30.70941742234494, 27.895544433162264, 15.44387685187202, 34.43102141187882, 32.81007213574084, 18.45513742304702, 38.63021343737039, 19.81112219020763, 27.223846363161872, 37.77227373396767, 31.964515864339887, 30.40645030536819, 17.232007368178145, 23.28155131900448, 26.34487063411482, 28.87036486740744, 30.77097223131134, 35.84729921434049, 20.375558503255647, 19.917644750401006, 29.37289194048829, 34.19605158268821, 33.81017283036317, 36.19879254082407, 16.490164940567183, 16.337651525708793, 25.175250342019865, 36.08618807624682, 15.281871457757976, 38.14176634066941, 37.9549929711759, 22.26183240904489, 33.06580163531902, 28.89430261803416, 20.049876616696658, 27.865263565176424, 24.69223010264455, 27.677855414486004, 38.62166272439831, 23.300136800799837, 31.795352465135025, 28.009199387875505, 34.61643079514618, 23.03634151710241, 23.252929745691297, 30.24083668299728, 28.94579561645474, 29.92423071637877, 37.94626814798031, 32.10874166238261, 17.785755052963207, 27.02029116698509, 21.06721592573093, 29.276622888289992, 22.83211839992222, 16.48787431380492, 21.342875531270643, 21.57641416792641, 37.550798438687366, 22.41608894332477, 25.14476705167253, 18.344148950459537, 19.67310468230442, 34.624683399065205, 39.19332636458929, 30.620539569216483, 27.471352050237048, 34.930914717684786, 26.642382960880926, 18.800056487331457, 20.051057915964925, 34.15087163345328, 28.06987393136884, 34.375549798169, 17.877309378393527, 39.824843901941705, 35.89744334127991, 24.410139147811694, 37.07523197880238, 17.398403703276784, 30.89031943300104, 30.60611864549472, 27.889349701372367, 33.353191936157216, 21.631617102809155, 37.43988685786394, 26.339651249374903, 32.567141037574416, 24.29345669986142, 30.051892334816216, 17.683294765877267, 29.5682904239372, 26.320805839503, 34.12181261955432, 26.27690321579485, 20.913951081881944, 38.48815722968985, 27.849367063709696, 36.70785255062974, 17.189062649688488, 37.66439651131015, 17.8289108353649, 38.48382582074558, 27.940568257342797, 28.81679676087709, 39.51484866024495, 15.6079154047274, 18.01340859410283, 39.26498167923208, 24.63008227087247, 33.09694808529356, 22.746122819605606, 19.209235093603805, 22.88113701016715, 18.093987181200266, 29.71196446655116, 38.69877680123993, 23.542729368314337, 29.627874824767947, 17.968348857654767, 29.19287942533608, 16.130704068413245, 18.36817968127464, 34.83527795123355, 34.99946959973167, 37.56794215536691, 30.744757814322167, 22.73542944975784, 20.950594381593497, 19.27049268645075, 20.948494640246103, 18.03471727124852, 24.136878643842984, 21.468102185489137, 19.00139906459413, 15.395134376882504, 22.26850855111821, 20.466443115987545, 35.803348631113515, 37.553304001204495, 30.47870028915939, 26.35939827783674, 32.15273305258651, 21.248339309859663, 22.43317675576185, 18.539072885612967, 26.8692289100514, 24.737618221994893, 23.181042294581733, 25.089560651905582, 19.257050556198752, 19.91914895226232, 18.86260151754343, 30.165620922093453, 24.223764216575823, 27.951195054290636, 32.56556761152918, 24.13196943027838, 19.15509879298382, 26.932485709010702, 35.89694908911565, 29.15730756646008, 26.296817668671856, 23.54577254463713, 31.33772050917893, 34.445812779369604, 34.185658563275766, 39.88808280364688, 27.95767685982519, 22.41312071115661, 18.06678933212705, 34.728657274654466, 20.91071521001452, 18.9561242295492, 28.571129771680816, 33.13587344685193, 24.987928100455605, 37.18168077593856, 22.89227056912097, 20.488435499086737, 31.003440538776253, 18.09989680447285, 15.77316113187775, 35.97739247413199, 32.04946487677655, 38.25601012150132, 17.205394739819848, 30.807532930709502, 31.67828394085678, 22.22841973632904, 16.69010257567614, 26.195827345226668, 19.130146437564644, 18.058463591600297, 27.96454075353644, 39.14379495637238, 39.79936279160561, 39.41443807060133, 36.0780710306169, 16.361825805757803, 25.43155219919322, 29.7875079632084, 27.646685871278294, 37.56302244398018, 31.57041249329989, 24.194207353869672, 36.71144451629628, 21.148785664821663, 20.281519737981345, 20.073366620217005, 29.508296972748703, 19.13399249370059, 34.200548586451674, 31.012112484507742, 25.05585941924986, 23.030584381401155, 28.447788535753908, 37.81922792292373, 34.8089418084617, 30.57636754483068, 15.328376510223617, 20.7132109663105, 35.806504081430305, 25.30011717155873, 23.647977071346027, 31.6327068119042, 37.84356420207998, 25.85962272621825, 23.906303754147828, 16.811429995355198, 29.93938866396472, 30.732009189883925, 15.20178135431437, 37.08165354274328, 35.31900523850534, 33.692209187698126, 34.63731797951404, 33.17441768558163, 23.104560050239108, 34.7224400136772, 22.91815833872252, 22.68688914913916, 33.96674425855545, 19.689902963948263, 26.20215370338404, 22.92948379334557, 20.781995960305107, 39.20213436899406, 39.80456632319756, 33.38141236793913, 15.52594906456986, 39.07120945752494, 18.36926730678251, 23.69378995384937, 24.034050300237297, 26.23608874960865, 33.101267629398905, 29.450321836598047, 28.273687689042816, 16.224287288032343, 31.37508518822943, 25.196383517337768, 21.48263072626972, 31.142924562851764, 17.23185040309626, 28.813766229976306, 27.710550446999896, 33.48354941924657, 20.70291421980155, 32.08439690236989, 27.581172125721004, 35.49092113572856, 32.26898568188166, 19.97453486080635, 31.112723353456488, 27.722225833869665, 19.469317596097557, 26.584050394616675, 17.678920046000073, 24.473117461740376, 35.103518354996105, 39.54187881503152, 16.277865563413723, 17.13278852084017, 32.59148097899386, 22.74867725766456, 33.10825595207084, 35.93384821547027, 20.415304277787257, 20.93956806661724, 32.99245965859608, 26.03090844794182, 19.530418724938404, 15.821249730098703, 23.415983216179484, 20.99288754273556, 15.33886592089647, 28.69496397456024, 35.901256818577565, 20.980463904958064, 16.836196854241955, 32.04171403527344, 21.161940941515788, 22.46339522379189, 32.69920874444984, 29.558120266732203, 25.92790498696833, 31.71374330093568, 19.32441586295336, 36.812583576814674, 21.373318372203386, 17.72917184435872, 39.02700401493025, 26.82970337595724, 29.434600152958964, 17.467779923440233, 15.159941903892069, 15.060245961416957, 18.686063728339573, 37.03241675022623, 19.707757754620072, 39.98085012352242, 16.219584041172105, 37.75845043288152, 15.815484051236783, 34.59380972932598, 19.51517305520707, 33.872827500468844, 19.484181683086867, 39.03017271256559, 39.95068774025796, 24.45489873356336, 19.658773167675765, 15.597663510712614, 24.22678422405008, 27.13150173237629, 22.58897297540612, 22.76060421961498, 24.03880470088852, 26.41865824039433, 29.47345612022614, 26.75732241554993, 18.343835856875398, 35.23359285341965, 20.767848693473603, 26.61908991136872, 17.024666351290502, 19.85149551380266, 33.86280848785746, 38.13272580049337, 33.23496790318805, 32.393359724471985, 24.77259403457728, 38.38997158259771, 20.77136807152809, 16.359684606380345, 33.30121111102213, 17.77433362383276, 36.20101350976215, 29.44091807706394, 15.424315144499232, 30.99411199837933, 32.071830317874095, 37.46786066141077, 26.193627654950006, 21.4757600248063, 22.181251566802956, 29.933499737961185, 23.67622151056182, 31.288142196032304, 28.033696688948854, 17.592434503197286, 37.21997257267287, 19.775077132922785, 38.444262790606686, 33.99185335845212, 20.171087699551805, 22.18311442009402, 35.445161875137245, 32.97436055915007, 36.32898823224384, 17.035011874773563, 31.700653920706284, 20.25148530758532, 30.097333603363253, 30.812597241305056, 33.877784757038995, 23.897804751821624, 23.8558962479371, 39.25894862081246, 16.84592343834926, 26.00015145659833, 38.06597063497073, 34.63872588325293, 28.46033548366885, 19.304459066525844, 26.721466365106803, 16.531165697966014, 29.62334529346056, 36.74055920462865, 21.207635495706032, 36.32219674008137, 20.593929823398163, 17.972031502624343, 36.64158658296809, 15.244729798880696, 16.3714213591511, 25.355195985596943, 36.931186819253504, 31.19977656962846, 23.45715750326613, 39.420910119702704, 37.40773684717031, 30.657857716033224, 22.756457307675355, 36.37775086125113, 33.644785530583206, 25.78002743449096, 35.99687888823199, 20.699938172790446, 28.422065253529148, 17.202923468683423, 25.10066849640127, 33.20609743936913, 21.405170051135578, 33.87346520160786, 30.33451574916805, 32.41679178769468, 27.452586067955743, 31.988650321494685, 17.3786268016, 39.950131573410985, 25.7840340706857, 33.86570223027753, 23.432957925589637, 35.66516483495251, 19.86499483318785, 34.42772482956785, 35.15106913788608, 32.60887848398802, 36.30722133487386, 19.50519120926152, 31.38835983005364, 17.00471394146412, 35.329295917485595, 30.38030334815032, 19.61742029341967, 19.28430551066288, 22.85399357023912, 20.278002267860398, 28.74224729453969, 30.470439486311705, 26.47802066580661, 26.23041386541877, 28.9608265948034, 23.25264768723772, 17.64904188373294, 34.94261015308108, 35.63538603912391, 16.99471271504434, 37.69483517164984, 22.59324347210292, 19.20872275851254, 16.563091843129918, 38.05950250925263, 17.97975693549246, 25.26163777629512, 27.555749430227827, 15.98760287048213, 22.55957749561621, 34.18993849623658, 31.881969217604155, 23.198350564227063, 16.27481803982542, 15.81061150765667, 32.25927715086027, 20.275084132502364, 29.92580452415764, 18.97198808119468, 17.892343747245103, 24.08043467133656, 32.641285098435674, 19.670823091169886, 26.41914576794064, 28.176449382937854, 29.335344747257448, 18.539512959336207, 24.431584098549614, 25.597303322559423, 22.74611780894813, 32.92490775866041, 26.33035335503375, 36.2802511089239, 18.79479589258546, 29.677244668383164, 15.85292463841885, 20.767556879391776, 36.502163890882535, 18.21329580194532, 33.10961309746708, 26.584140139048465, 20.8120681688556, 21.77628746064144, 15.20003843294569, 28.50285493013955, 29.25002227002653, 15.342490553841998, 27.09612099324103, 30.96817428620986, 29.212884812817894, 35.32800529620967, 38.43833853034037, 27.00075990350492, 17.959134220686202, 32.21275334229618, 16.092385414222818, 35.20777119185959, 19.846185551813928, 36.065308796228905, 35.09304819078064, 21.629897526444957, 28.03314070424281, 39.03358153089343, 17.93404485570587, 28.153177803947983, 18.195926174611994, 25.66923652463067, 37.783944885385935, 26.569986063528688, 16.813388857318895, 31.58356376456568, 37.30507926924528, 21.19322788386302, 23.573648135359235, 34.56556709328356, 39.55031370659234, 18.33321476638853, 35.88004431366396, 32.04515399328088, 34.24808485103314, 15.346605213265184, 30.51128730390051, 22.808068363292563, 26.07414132911954, 23.86001586812989, 31.279678978473967, 20.23525124634773, 25.272982513381542, 39.87103236336524, 31.15127755351438, 19.79507160969373, 22.44409001251146, 28.42703223719217, 24.39335660271577, 38.67499683795171, 22.727477959494724, 36.557336403496976, 35.91832880606124, 34.62784054349062, 19.9954941904814, 22.555323589363603, 26.966335138265755, 22.817999312668668, 34.00057154334208, 29.961175154970604, 23.540982267878515, 31.234989385935894, 39.18043883608473, 35.03144527735515, 29.804799080370103, 24.506781235662537, 26.27508838108129, 36.70127213948095, 20.666414534964527, 26.631749934006077, 16.330250897070506, 16.30400033064783, 35.29699206969957, 25.09267106930961, 37.19077515984427, 33.76336688210236, 23.339187495135995, 33.99787680116333, 16.689193675760045, 37.0035275746075, 34.66212912290888, 15.729193334464636, 32.710478852840886, 24.37116070516915, 31.406449602453645, 21.96208493056057, 31.10651033215939, 31.319384867757915, 35.56774697564994, 28.717617579802365, 15.34775771624999, 38.85112188936437, 36.81996397999216, 20.71666570108004, 25.98186267978351, 25.340485612527644, 16.127726839514143, 28.231420443704643, 31.8047812046418, 32.75396714821191, 18.46157871196821, 38.31344848479284, 21.074379027339297, 38.51123252074356, 38.0811722474572, 15.38644133503897, 24.30013196802186, 32.90630485617171, 38.067926206621216, 25.19273223843557, 25.442226213161, 21.468076909084807, 34.267559077571256, 23.128282889480904, 31.99215120529396, 31.30813408671013, 20.255306929425885, 34.72927548559617, 19.06174209554985, 36.9944090357164, 35.627787162388785, 20.181867654729515, 16.320319380866987, 33.0713808348013, 24.16651413774084, 19.835074283332933, 23.138712427183115, 15.189213607561712, 21.421864510147127, 20.52296258768237, 37.99110494975507, 20.87086690900162, 32.44953913059042, 36.70274375124006, 19.93336723611567, 18.451124324759736, 38.84100486529088, 19.3208369133094, 26.483634165212298, 33.12964026354632, 35.86464784584617, 28.27085063178719, 39.14661642230614, 19.683266861945565, 15.228937942390958, 15.560982985016873, 23.056516040035312, 32.79423730954649, 27.501366764349868, 35.5510436491264, 32.09805848125204, 29.28361228010566, 28.85620862271699, 29.61571224147261, 28.583048183832183, 32.53304713428092, 20.686668804454143, 25.52476515375385, 29.69989943997984, 20.498607473441105, 30.735915737187423, 27.62998374542272, 26.02199774467676, 35.77248590148422, 28.93014449941368, 30.78616739278701, 34.29446369709622, 24.61905731269812, 38.30555239523305, 31.82668179018464, 34.779703829735894, 18.952579119919296, 30.910982906208147, 34.33317432613309, 30.94429889675671, 24.606892329104493, 34.74214408511534, 22.286335714754635, 29.477774121766856, 16.41732599253448, 29.52483317521743, 25.615809129404127, 31.021721918370137, 18.66196754934223, 15.336272522838064, 33.87296616254615, 19.429558111410607, 19.5517716069258, 39.332982384958285, 38.64200620691635, 28.727621897743305, 19.386047375961635, 23.245502238008086, 29.13379852568774, 27.56723788611284, 22.79927212976916, 15.651873222393446, 23.543722693822392, 33.08205134690333, 30.426441944120757, 26.04525054123576, 15.58313709712388, 22.236238957644485, 20.704887552188183, 23.27055858486589, 20.79214315213561, 39.27789363241178, 16.57839013376137, 16.79218114074317, 33.29014947572965, 34.80806568756114, 19.6998220799821, 23.97323943899687, 31.77261326286045, 16.080660888443948, 34.97368611880454, 23.269235819898903, 19.39345924611251, 22.10431300945407, 15.243362166896793, 15.582366519539596, 22.51764265301137, 22.96636001485258, 28.35183423042495, 30.81208715516002, 24.757954181419368, 29.915715861732554, 35.1349105433473, 36.15894447636634, 27.092448247684597, 23.789889576711616, 21.38738648455418, 34.72628168666528, 39.10213675207576, 35.05102934207363, 23.263083240495863, 38.8340130221297, 26.201898876237102, 19.79286055894866, 39.88299204308152, 35.57103451764495, 20.983135813161454, 23.36721720008165, 31.706812108258124, 39.0529718025399, 38.28241422873924, 33.8011593517916, 19.713736893245613, 22.985495322322304, 32.17556192697833, 27.442452043271945, 17.930564727954355, 17.24235236975278, 20.757512726702792, 17.726281420553665, 19.66746540281207, 19.21042952468796, 27.365064899404715, 22.70064711621734, 26.23895992281776, 30.356138112626923, 15.453353229722309, 22.45265578329353, 34.43253182508204, 17.280227933894185, 25.36722262725617, 28.83925489324055, 19.64526651408542, 25.44744395701601, 19.6293669254938, 22.515034398670338, 19.71450144100527, 29.016904125262883, 15.647851493542309, 39.45601377043732, 17.094233105155332, 26.74696734652926, 27.143731747273318, 28.325815160902, 39.72357568701293, 18.51529986086161, 37.18308391445875, 17.470780872422342, 32.565684605710075, 18.4703142139838, 20.438159945869494, 35.79361940452176, 18.660273164798397, 34.16030431665825, 19.21646923672733, 25.828763404990333, 30.869539559940105, 23.373464107622038, 34.01122938660393, 32.91809856735681, 30.4027915982479, 32.881037254405825, 21.904527292739598, 26.991157425447767, 27.97734194005615, 23.37354139157899, 39.87178544417173, 30.815569993731053, 32.56051708798722, 18.33840600708205, 21.760245282114845, 19.92393727736534, 18.48034976232649, 19.46994047357986, 17.452594093657858, 23.964580051302462, 29.276839957477577, 24.781965499143904, 27.32967758570945, 30.559400098170865, 31.722864234461294, 29.52735080879641, 34.0368495387214, 15.91353642958089, 35.59110388130584, 19.68132826485943, 39.8289447978966, 16.044731979496813, 18.03108663821553, 15.558547421682157, 35.19257511847777, 27.572057772974915, 27.386858899249425, 29.81112935234026, 34.066954861974125, 17.843939090321864, 16.708973623467656, 23.75241606746232, 31.841284134548527, 38.81016047412321, 29.619600057805528, 36.41769068158786, 21.370474791813105, 28.79686644798388, 35.81174646592906, 27.307097779054263, 15.008333144286365, 16.53928105567186, 39.59216760723487, 22.51883007741414, 19.409479047224988, 25.16185110237084, 30.471426419963848, 18.884447509829776, 30.549355902108086, 36.08066870425888, 23.01575070313499, 36.84828415596103, 29.43115559978093, 21.21664362190165, 35.794947803209745, 38.41453007368886, 34.69577306409518, 21.789902631295085, 34.374472772844655, 16.204149785726756, 20.378277344096595, 16.411189332470087, 26.601859746754208, 26.444592001526843, 33.73505583774573, 19.525410344885515, 20.403699683450057, 25.81006721864386, 20.30866760833094, 25.39271824164329, 35.96922350969438, 33.202376920838134, 35.160380627061265, 31.26435702326582, 38.03074107150045, 33.04251082751209, 15.199673101318968, 22.9811517876426, 31.68563182561471, 19.464402154921768, 17.614687248486284, 16.615834048017494, 19.514947117084283, 26.27833264799501, 34.80058567300838, 31.770014656781846, 32.16650033421095, 35.95463594248037, 37.8779880284514, 28.80535297565499, 38.08219609153019, 19.13920823344427, 18.31605105833017, 27.528292446417492, 27.006889791584364, 19.04067715726783, 38.490952208627945, 26.91201475521123, 36.49796796825922, 22.892635964512262, 37.24664308721076, 19.83778648923107, 39.01749432825416, 38.91995226953559, 21.75453668810096, 22.624833197170798, 39.78998444815934, 17.010691973603667, 18.893721147589503, 38.22388934481556, 26.657136175972013, 25.396488832090867, 28.05918491000064, 39.40158330593022, 34.85102822616454, 27.51173961175788, 30.20124973668026, 34.902959993941224, 19.75482903235489, 32.88747882132098, 15.36442782811999, 22.51219261599451, 39.99978148556238, 16.71494740491426, 17.08003969656202, 32.22323538313046, 24.364187204916057, 37.04228160235428, 17.575313377026784, 23.243860545836505, 17.817706669623476, 19.508036014241, 27.16753518686262, 29.03221943178652, 38.29370033944579, 32.766749353705805, 28.14243860664352, 38.08471528023343, 18.3485320767416, 24.54098678872724, 31.001666364773097, 38.91134653421058, 26.635278877187083, 39.142933678886735, 21.641088334207943, 29.05859251523747, 17.014467077081143, 17.99136408675737, 28.22163902893751, 28.070065810579727, 37.41258725867812, 36.64946284785293, 23.597021827039747, 27.74270396496164, 32.99832103513876, 28.707989080778734, 28.439120703181917, 29.47786718965521, 37.17858005181178, 24.566593745923125, 21.098805525210945, 29.40471104826875, 15.994293778344003, 22.53676872137041, 21.825668398136173, 33.928204694152555, 22.36561570699364, 24.283933258048684, 36.61082733127377, 19.484299002124143, 36.96731464152885, 39.14579159485669, 18.8475642822048, 30.31164036729577, 33.02616003347984, 31.76252350075567, 31.75227907299478, 35.846157685917845, 38.16578202039318, 22.48770459785783, 34.093678673738985, 19.022597418471943, 28.160282278066823, 34.35279148532624, 22.6995919127899, 27.18457079160664, 39.46706143289042, 26.88589619641069, 20.421183211859343, 22.049790531295415, 38.73119010872611, 27.513470074069744, 22.99787244262939, 31.329889343061925, 25.7374204239391, 20.559588255180635, 18.904846067541808, 25.482364170618133, 37.41126828895622, 17.630099524877455, 23.80044187970074, 23.099875591054563, 39.71337410850636, 28.111889553560864, 25.180539336802497, 37.21671466000088, 34.08169827344703, 18.36228999500741, 20.64779053797407, 31.979083776484156, 21.07510528968272, 34.85702146926785, 24.243843650685484, 34.69884645864984, 31.01103731718902, 21.194181345398952, 15.22955595673837, 22.288189285455253, 22.77793215355049, 29.79416518746585, 26.60536478911758, 30.55899708660728, 23.33292901602637, 23.45922263965092, 20.639143901956, 26.358927026540456, 18.26291213751431, 16.45479560621801, 17.139208075106296, 39.386100341122415, 23.91160521454079, 15.65307953530368, 15.85385176977556, 22.82112469329115, 27.94460610280287, 15.233282726266978, 26.45090538992044, 24.62830416319912, 16.651570967971665, 19.22052693439065, 21.67167213582385, 25.78957310479036, 33.95997962290387, 25.95340822564298, 25.20651775795789, 36.812120808519424, 21.16146434470237, 33.50234654228633, 30.707135971918, 29.723807091481063, 26.103406013918026, 19.977198474746885, 18.06961939477137, 21.68828413035033, 24.18796290812392, 38.53458529742412, 27.95877831501374, 24.796944114410472, 37.17440144142692, 21.99324083459772, 18.64584541402821, 34.380356599088664, 30.499227964802333, 27.59952544950393, 30.943132529240472, 18.526278287256183, 15.98587414766795, 18.246545366564472, 32.96451755602182, 24.07054390425856, 39.76815326026093, 29.353698473733367, 29.74217163635251, 20.05165543231726, 22.555126079633265, 36.4459232002704, 23.961697912948782, 39.99988683753807, 37.99400446529375, 37.543166391291805, 30.091559426201652, 37.4277101386372, 37.98930587533821, 18.431012899383237, 27.32380639263725, 35.43978398881555, 17.550505307626167, 33.63152184338337, 29.660517037543528, 37.85124556848032, 28.87015473831949, 27.436403053493702, 36.111649233529626, 31.503054241420006, 35.27114161546327, 32.94877622819499, 31.04671741532841, 20.441903715000493, 21.51244420867913, 22.00313000204857, 25.283792009503227, 18.615868707704813, 15.300019586548208, 18.10325685302533, 22.47042675004227, 25.329536054994183, 33.91019695116749, 28.17512398895065, 18.366432379216068, 33.9497751501542, 22.06529673830161, 16.075297702523926, 22.912585009361283, 35.38974666686321, 30.23719732421433, 24.900555145596044, 22.695620419661573, 39.05920718262281, 33.648866384232, 18.57474280824055, 32.335471234621295, 27.598231355402824, 36.79284304059241, 21.43740325157532, 21.44192815648409, 21.474357939020862, 24.08292122686779, 32.77633209826102, 39.4682561502696, 36.652406134480174, 29.75274173794455, 22.823795580415684, 27.38592559440989, 34.58674976031012, 30.736662477233462, 32.865398182108734, 25.02238036471588, 26.05796489078258, 28.33877099645254, 19.662271744961807, 27.217004314248257, 23.853231700604223, 22.60336357721405, 24.730607805240343, 18.5179907171244, 36.94166764882813, 22.86399378770904, 19.93191798879027, 20.60104012268712, 35.06853220580284, 21.582708043117066, 33.77621059012889, 36.21177335170111, 23.75073351626789, 36.906177540253246, 26.855368009994333, 25.28860012569043, 39.70624041190423, 35.65281800975376, 29.57950122934484, 20.776775877530135, 28.944225139580176, 32.165834457806795, 20.767865886851837, 22.541762718069723, 19.52092976606039, 28.743413072096917, 21.482880079350817, 34.865787489485896, 28.739783056235908, 27.054905722176983, 18.441074854882608, 28.314096456713024, 15.697328671034938, 24.74946058185197, 24.00520530361803, 29.458550861139653, 36.89176219765349, 18.81917396374593, 34.18342541192458, 33.32784564476192, 28.035375703728, 33.258791579995744, 31.54227940321172, 23.29831457385692, 35.96714865946379, 24.18130844918919, 36.82887074775754, 34.282332908437574, 39.29595140764839, 16.043875843105766, 21.94023775202047, 31.205489356130613, 35.75038040218337, 26.864760764988603, 15.164257548300268, 36.46712999123992, 17.011986031739774, 32.4952905008232, 38.004873832459424, 17.857658429923955, 25.96093233900256, 30.978386482086226, 39.2339831604495, 27.72012237228176, 24.623583145460696, 22.81256101888658, 31.438319930688465, 37.71788755351574, 16.21279142977421, 24.659576929714177, 38.74633590821829, 29.1054481249338, 27.83530076967532, 25.265481624651724, 33.19003879614807, 19.80780374678961, 27.06662910585242, 28.47525705772815, 39.54415326045937, 20.022550660265047, 24.35351268716385, 17.274188599443995, 28.187646058622605, 39.22483910408704, 37.97204866765404, 37.86347150289852, 38.117498874981294, 25.13857287888224, 27.37930096772005, 31.14514654460969, 31.06260628894652, 28.790571644340027, 30.18447890947425, 30.798955179721155, 35.00326724152877, 27.643439833928067, 27.25611921922841, 21.356716825230784, 20.01343153405981, 17.2779564597186, 17.85625690051047, 29.81681815750356, 31.39415575278696, 29.934139747401773, 27.67551691170624, 38.74926665167613, 35.789558730662115, 30.94273448754396, 37.00784635234194, 16.75589579994797, 35.99506912398529, 19.247304841936916, 25.14339078658552, 31.0682664371046, 35.16530713950161, 32.346101001177104, 21.200909918224124, 39.64221121674758, 39.127791073337136, 36.91516897568921, 26.21735161409902, 26.18259462146724, 35.70638390153251, 21.60577342129663, 36.57246516986355, 17.016268601960334, 26.9068568450409, 28.31601364017059, 26.237193685046236, 35.855303332865645, 30.9527525758677, 23.01816122642926, 29.32179433437299, 15.878497577230982, 39.9268873802129, 22.747706936370477, 33.394469002926485, 36.90499093065189, 35.36195907577034, 17.55223224070078, 32.84221554930881, 16.757833861318588, 26.64062100348457, 30.9198116178689, 31.773557776475936, 32.04243696072111, 39.52351434745947, 30.755719894352666, 28.56667043938849, 39.68566378763785, 24.72778166793958, 23.6212042099678, 24.738230111483063, 29.174190998155705, 23.863432084422755, 15.874515856477892, 22.464752540187405, 26.44670645208628, 27.63364159672744, 27.85162763007377, 36.00902827710551, 20.77009053518885, 27.89358878758607, 32.733294225417694, 21.179511459816347, 20.985741126016872, 34.67126125152515, 28.04829267990174, 16.107208012896745, 34.45308431319683, 26.08381481890264, 28.027187828837675, 20.816283147632355, 37.45586074363998, 38.71772349046758, 34.95570352207745, 37.77946831181973, 28.88734912571189, 23.89096330206089, 34.983771486381386, 18.69155183936138, 16.286242944834864, 29.691252774556197, 31.533240859075377, 31.294020591911497, 30.23486833406094, 24.10249612169209, 18.584146187351543, 25.854365901815555, 20.641674934313883, 19.61882214080356, 30.74242874806721, 15.667484902836826, 33.174065540135786, 20.93917702880884, 29.563191005048346, 34.55350560570103, 15.046092949675977, 37.215428890801256, 27.118878955864982, 29.7909215781216, 18.5084095330569, 21.105177767390654, 31.89590503294526, 25.87208750895597, 26.340514530673698, 34.92493824010519, 35.411189900557126, 35.95918508000404, 33.51625888166608, 35.42404932141319, 23.403067118451915, 19.43358010223136, 21.60837377689917, 36.21182856140989, 18.17723296042358, 26.372188144444667, 38.0578364027278, 19.42113145155043, 18.842178028013585, 35.82191067257143, 35.61687895004184, 38.59578049919783, 24.42058816222813, 21.202221373388987, 18.47816965214044, 26.337649844071212, 27.560508871982197, 32.87084437065809, 20.78217571353152, 30.14926446848872, 26.130613459535088, 27.76201247398986, 27.515964620374017, 33.56721767576663, 19.805533666134068, 31.341887629952375, 38.48384112861548, 33.69439562025521, 22.82963142453821, 16.871030481020277, 16.5699343541104]\n",
      "\n",
      "\n",
      "📊 Medidas de Posición:\n",
      "Cuartiles:\n",
      "Q1 (P25): 20.78217571353152\n",
      "Interpretación: El 25% de los valores son menores o iguales a 20.78217571353152\n",
      "\n",
      "Mediana (Q2/P50): 27.18457079160664\n",
      "Interpretación: El 50% de los valores son menores o iguales a 27.18457079160664\n",
      "\n",
      "Q3 (P75): 33.46245176799669\n",
      "Interpretación: El 75% de los valores son menores o iguales a 33.46245176799669\n",
      "\n",
      "\n",
      "📊 Medidas de Variabilidad:\n",
      "- Rango (máx - mín): 24.99\n",
      "- Varianza: 51.96\n",
      "- Desviación estándar: 7.21\n",
      "- Rango intercuartílico (IQR): 12.68\n",
      "- Coeficiente de variación (CV): 26.49%\n",
      "\n",
      "\n",
      "📊 Medidas de Simetría y Curtosis:\n",
      "- Asimetría (skewness): 0.04\n",
      "  → Distribución asimétrica positiva (cola hacia la derecha)\n",
      "- Curtosis: 1.78\n",
      "  → Distribución platicúrtica (Menos concentración en el centro y colas más ligeras)\n"
     ]
    }
   ],
   "source": [
    "bmi = df_csv['BMI']\n",
    "print(f\"📊 Maximo: {bmi.max()}\")\n",
    "print(f\"📊 Minimo: {bmi.min()}\")\n",
    "print('\\n')\n",
    "medidas_tendencia_central(bmi)\n",
    "print('\\n')\n",
    "medidas_posicion(bmi)\n",
    "print('\\n')\n",
    "calcular_medidas_variabilidad(bmi)\n",
    "print('\\n')\n",
    "medidas_simetria_curtosis(bmi)"
   ]
  },
  {
   "cell_type": "code",
   "execution_count": 19,
   "id": "5dd69d35",
   "metadata": {},
   "outputs": [
    {
     "name": "stdout",
     "output_type": "stream",
     "text": [
      "Rango o recorrido (R): 24.991553693251706\n",
      "Número de clases (k): 13.0\n",
      "Amplitud del intervalo (A): 2.0\n",
      "Intervalos: [15.00833314 17.00833314 19.00833314 21.00833314 23.00833314 25.00833314\n",
      " 27.00833314 29.00833314 31.00833314 33.00833314 35.00833314 37.00833314\n",
      " 39.00833314 41.00833314]\n",
      "Intervalos Cerrados: [(15.008333144286365, 16.008333144286365), (17.008333144286365, 18.008333144286365), (19.008333144286365, 20.008333144286365), (21.008333144286365, 22.008333144286365), (23.008333144286365, 24.008333144286365), (25.008333144286365, 26.008333144286365), (27.008333144286365, 28.008333144286365), (29.008333144286365, 30.008333144286365), (31.008333144286365, 32.00833314428637), (33.00833314428637, 34.00833314428637), (35.00833314428637, 36.00833314428637), (37.00833314428637, 38.00833314428637), (39.00833314428637, 40.00833314428637)]\n"
     ]
    },
    {
     "data": {
      "text/html": [
       "<div>\n",
       "<style scoped>\n",
       "    .dataframe tbody tr th:only-of-type {\n",
       "        vertical-align: middle;\n",
       "    }\n",
       "\n",
       "    .dataframe tbody tr th {\n",
       "        vertical-align: top;\n",
       "    }\n",
       "\n",
       "    .dataframe thead th {\n",
       "        text-align: right;\n",
       "    }\n",
       "</style>\n",
       "<table border=\"1\" class=\"dataframe\">\n",
       "  <thead>\n",
       "    <tr style=\"text-align: right;\">\n",
       "      <th></th>\n",
       "      <th>Clase</th>\n",
       "      <th>Marca de clase</th>\n",
       "      <th>Frecuencia Absoluta</th>\n",
       "      <th>Frecuencia absoluta Acumulada</th>\n",
       "      <th>Frecuencia relativa</th>\n",
       "      <th>Frecuencia relativa Acumulada</th>\n",
       "      <th>Frecuencia Porcentual</th>\n",
       "    </tr>\n",
       "  </thead>\n",
       "  <tbody>\n",
       "    <tr>\n",
       "      <th>0</th>\n",
       "      <td>[15, 16]</td>\n",
       "      <td>15.508333</td>\n",
       "      <td>176</td>\n",
       "      <td>176</td>\n",
       "      <td>0.083610</td>\n",
       "      <td>0.083610</td>\n",
       "      <td>8.361045</td>\n",
       "    </tr>\n",
       "    <tr>\n",
       "      <th>1</th>\n",
       "      <td>[17, 18]</td>\n",
       "      <td>17.508333</td>\n",
       "      <td>174</td>\n",
       "      <td>350</td>\n",
       "      <td>0.082660</td>\n",
       "      <td>0.166271</td>\n",
       "      <td>8.266033</td>\n",
       "    </tr>\n",
       "    <tr>\n",
       "      <th>2</th>\n",
       "      <td>[19, 20]</td>\n",
       "      <td>19.508333</td>\n",
       "      <td>196</td>\n",
       "      <td>546</td>\n",
       "      <td>0.093112</td>\n",
       "      <td>0.259382</td>\n",
       "      <td>9.311164</td>\n",
       "    </tr>\n",
       "    <tr>\n",
       "      <th>3</th>\n",
       "      <td>[21, 22]</td>\n",
       "      <td>21.508333</td>\n",
       "      <td>178</td>\n",
       "      <td>724</td>\n",
       "      <td>0.084561</td>\n",
       "      <td>0.343943</td>\n",
       "      <td>8.456057</td>\n",
       "    </tr>\n",
       "    <tr>\n",
       "      <th>4</th>\n",
       "      <td>[23, 24]</td>\n",
       "      <td>23.508333</td>\n",
       "      <td>156</td>\n",
       "      <td>880</td>\n",
       "      <td>0.074109</td>\n",
       "      <td>0.418052</td>\n",
       "      <td>7.410926</td>\n",
       "    </tr>\n",
       "    <tr>\n",
       "      <th>5</th>\n",
       "      <td>[25, 26]</td>\n",
       "      <td>25.508333</td>\n",
       "      <td>159</td>\n",
       "      <td>1039</td>\n",
       "      <td>0.075534</td>\n",
       "      <td>0.493587</td>\n",
       "      <td>7.553444</td>\n",
       "    </tr>\n",
       "    <tr>\n",
       "      <th>6</th>\n",
       "      <td>[27, 28]</td>\n",
       "      <td>27.508333</td>\n",
       "      <td>162</td>\n",
       "      <td>1201</td>\n",
       "      <td>0.076960</td>\n",
       "      <td>0.570546</td>\n",
       "      <td>7.695962</td>\n",
       "    </tr>\n",
       "    <tr>\n",
       "      <th>7</th>\n",
       "      <td>[29, 30]</td>\n",
       "      <td>29.508333</td>\n",
       "      <td>171</td>\n",
       "      <td>1372</td>\n",
       "      <td>0.081235</td>\n",
       "      <td>0.651781</td>\n",
       "      <td>8.123515</td>\n",
       "    </tr>\n",
       "    <tr>\n",
       "      <th>8</th>\n",
       "      <td>[31, 32]</td>\n",
       "      <td>31.508333</td>\n",
       "      <td>169</td>\n",
       "      <td>1541</td>\n",
       "      <td>0.080285</td>\n",
       "      <td>0.732067</td>\n",
       "      <td>8.028504</td>\n",
       "    </tr>\n",
       "    <tr>\n",
       "      <th>9</th>\n",
       "      <td>[33, 34]</td>\n",
       "      <td>33.508333</td>\n",
       "      <td>174</td>\n",
       "      <td>1715</td>\n",
       "      <td>0.082660</td>\n",
       "      <td>0.814727</td>\n",
       "      <td>8.266033</td>\n",
       "    </tr>\n",
       "    <tr>\n",
       "      <th>10</th>\n",
       "      <td>[35, 36]</td>\n",
       "      <td>35.508333</td>\n",
       "      <td>173</td>\n",
       "      <td>1888</td>\n",
       "      <td>0.082185</td>\n",
       "      <td>0.896912</td>\n",
       "      <td>8.218527</td>\n",
       "    </tr>\n",
       "    <tr>\n",
       "      <th>11</th>\n",
       "      <td>[37, 38]</td>\n",
       "      <td>37.508333</td>\n",
       "      <td>137</td>\n",
       "      <td>2025</td>\n",
       "      <td>0.065083</td>\n",
       "      <td>0.961995</td>\n",
       "      <td>6.508314</td>\n",
       "    </tr>\n",
       "    <tr>\n",
       "      <th>12</th>\n",
       "      <td>[39, 40]</td>\n",
       "      <td>39.508333</td>\n",
       "      <td>80</td>\n",
       "      <td>2105</td>\n",
       "      <td>0.038005</td>\n",
       "      <td>1.000000</td>\n",
       "      <td>3.800475</td>\n",
       "    </tr>\n",
       "  </tbody>\n",
       "</table>\n",
       "</div>"
      ],
      "text/plain": [
       "       Clase  Marca de clase  Frecuencia Absoluta  \\\n",
       "0   [15, 16]       15.508333                  176   \n",
       "1   [17, 18]       17.508333                  174   \n",
       "2   [19, 20]       19.508333                  196   \n",
       "3   [21, 22]       21.508333                  178   \n",
       "4   [23, 24]       23.508333                  156   \n",
       "5   [25, 26]       25.508333                  159   \n",
       "6   [27, 28]       27.508333                  162   \n",
       "7   [29, 30]       29.508333                  171   \n",
       "8   [31, 32]       31.508333                  169   \n",
       "9   [33, 34]       33.508333                  174   \n",
       "10  [35, 36]       35.508333                  173   \n",
       "11  [37, 38]       37.508333                  137   \n",
       "12  [39, 40]       39.508333                   80   \n",
       "\n",
       "    Frecuencia absoluta Acumulada  Frecuencia relativa  \\\n",
       "0                             176             0.083610   \n",
       "1                             350             0.082660   \n",
       "2                             546             0.093112   \n",
       "3                             724             0.084561   \n",
       "4                             880             0.074109   \n",
       "5                            1039             0.075534   \n",
       "6                            1201             0.076960   \n",
       "7                            1372             0.081235   \n",
       "8                            1541             0.080285   \n",
       "9                            1715             0.082660   \n",
       "10                           1888             0.082185   \n",
       "11                           2025             0.065083   \n",
       "12                           2105             0.038005   \n",
       "\n",
       "    Frecuencia relativa Acumulada  Frecuencia Porcentual  \n",
       "0                        0.083610               8.361045  \n",
       "1                        0.166271               8.266033  \n",
       "2                        0.259382               9.311164  \n",
       "3                        0.343943               8.456057  \n",
       "4                        0.418052               7.410926  \n",
       "5                        0.493587               7.553444  \n",
       "6                        0.570546               7.695962  \n",
       "7                        0.651781               8.123515  \n",
       "8                        0.732067               8.028504  \n",
       "9                        0.814727               8.266033  \n",
       "10                       0.896912               8.218527  \n",
       "11                       0.961995               6.508314  \n",
       "12                       1.000000               3.800475  "
      ]
     },
     "execution_count": 19,
     "metadata": {},
     "output_type": "execute_result"
    }
   ],
   "source": [
    "frecuencias_cuantitativas(df_csv, 'BMI')"
   ]
  },
  {
   "cell_type": "code",
   "execution_count": 20,
   "id": "affdbede",
   "metadata": {},
   "outputs": [
    {
     "name": "stdout",
     "output_type": "stream",
     "text": [
      "\n",
      "📊 Análisis de la variable: BMI\n",
      "👉 Número de intervalos (bins): 13\n",
      "\n",
      "📌 Frecuencia en cada intervalo:\n",
      "Intervalo 1: [15.01, 16.93) → 172 datos\n",
      "Intervalo 2: [16.93, 18.85) → 161 datos\n",
      "Intervalo 3: [18.85, 20.78) → 191 datos\n",
      "Intervalo 4: [20.78, 22.7) → 162 datos\n",
      "Intervalo 5: [22.7, 24.62) → 168 datos\n",
      "Intervalo 6: [24.62, 26.54) → 150 datos\n",
      "Intervalo 7: [26.54, 28.47) → 156 datos\n",
      "Intervalo 8: [28.47, 30.39) → 156 datos\n",
      "Intervalo 9: [30.39, 32.31) → 163 datos\n",
      "Intervalo 10: [32.31, 34.23) → 163 datos\n",
      "Intervalo 11: [34.23, 36.16) → 175 datos\n",
      "Intervalo 12: [36.16, 38.08) → 141 datos\n",
      "Intervalo 13: [38.08, 40.0) → 147 datos\n"
     ]
    },
    {
     "data": {
      "image/png": "[encoded data removed]",
      "text/plain": [
       "<Figure size 1200x600 with 2 Axes>"
      ]
     },
     "metadata": {},
     "output_type": "display_data"
    },
    {
     "name": "stdout",
     "output_type": "stream",
     "text": [
      "\n",
      "📈 Curva de densidad para: BMI\n",
      "Esta gráfica muestra cómo se distribuyen los valores de la variable.\n"
     ]
    },
    {
     "data": {
      "image/png": "[encoded data removed]",
      "text/plain": [
       "<Figure size 1000x500 with 1 Axes>"
      ]
     },
     "metadata": {},
     "output_type": "display_data"
    }
   ],
   "source": [
    "graficar_boxplot_e_histograma(df_csv, 'BMI')\n",
    "graficar_densidad(df_csv, 'BMI')"
   ]
  },
  {
   "cell_type": "markdown",
   "id": "936e00f4",
   "metadata": {},
   "source": [
    "Identificar si existen valores atípicos en las variable BMI, ¿estos valores podrían generar un falso análisis?"
   ]
  },
  {
   "cell_type": "markdown",
   "id": "cce39889",
   "metadata": {},
   "source": [
    "### **<span>Variable: Colesterol total</span>**"
   ]
  },
  {
   "cell_type": "code",
   "execution_count": 21,
   "id": "a210235f",
   "metadata": {},
   "outputs": [
    {
     "name": "stdout",
     "output_type": "stream",
     "text": [
      "📊 Maximo: 299.9630739305192\n",
      "📊 Minimo: 150.06269820288267\n",
      "\n",
      "\n",
      "📊 Medidas de tendencia central:\n",
      "-Media: 226.86083976879297\n",
      "-Mediana: 228.52825624521068\n",
      "-Las modas son: [222.8422778232232, 210.50113288438223, 287.3879956557186, 280.3395460135172, 284.0141507422267, 290.1331221023323, 283.5030140912468, 185.20370314606868, 274.97014867403914, 204.47184188266183, 195.12056120926803, 282.5629376741359, 231.16325953053823, 189.24322583044284, 278.15384070149526, 243.2914023487305, 180.99282347960468, 179.81651118279487, 161.09049069341933, 216.69918393708215, 154.96005678886863, 153.6414785670579, 174.59474277265224, 241.2617843515152, 239.2256789413424, 246.54971082444644, 249.71351946498635, 216.92813424868712, 249.38228987301693, 151.75453572734006, 251.1870707743057, 249.0416857407817, 263.53317944463447, 268.58074026192315, 158.24923160091154, 278.43673070713635, 160.2626031996525, 164.7391378954802, 187.69615596235596, 214.4728872697078, 241.09625775689787, 200.9213620653495, 253.21261495200213, 173.2104727826286, 266.53924923485323, 229.0865220556681, 264.37140497871053, 156.00962071225422, 229.9684939973665, 272.5540539562073, 194.7353830847568, 281.5501088890471, 289.0775140828183, 285.4635935797611, 230.58399898072548, 167.61565718271228, 247.72219767989515, 199.92098527475952, 228.85976730449372, 290.24911915129087, 212.91393337533196, 260.5595028599031, 259.53324114526083, 222.27543136951505, 161.85760116791397, 231.34637715351852, 194.94602137974857, 230.0326542829826, 268.9509226072528, 261.47107177770806, 220.79982415895324, 278.96559638662654, 252.1549136067924, 193.7811726578407, 275.4431399981941, 246.30931351421367, 253.14249420657703, 231.35912194019323, 255.6423876250693, 199.73802179434483, 299.4207039167522, 299.0077034836087, 158.62356447222265, 288.49966558235866, 221.9166476535832, 289.3032933252882, 222.88869216381312, 154.23541671656147, 198.22539790065971, 281.4600739911855, 292.95709352425365, 239.7919744032966, 204.75463844376785, 259.02239937518993, 151.10962830627014, 189.3061556556493, 205.599072133223, 235.2990328913146, 151.24078015003292, 285.130542211493, 278.4980966709718, 227.42297504628564, 276.3626711990197, 235.3607086342126, 261.9942311984801, 182.25930320089168, 196.2887542008188, 209.91056237961936, 261.89712633805834, 206.12800096516048, 258.79690836177326, 282.5961967937719, 168.55670109045246, 163.94580856257377, 264.0400234152942, 255.1284574967001, 176.27630480373898, 202.6283576066053, 160.1094318483939, 256.1024119714699, 195.3775140275088, 205.19201533709264, 245.1384031011148, 203.09237008588943, 245.0225123612104, 171.53531767782522, 227.50626072082764, 159.80145711920045, 157.92446583135043, 177.50958632980985, 154.2420101707138, 178.64004537925956, 181.46368148725057, 268.037308233073, 160.5995228733127, 175.86787803200417, 151.35993511291164, 286.49920502924147, 259.75765584504103, 257.3132370831144, 151.47683891544185, 288.3966441788846, 199.74612871203817, 180.37760476914, 286.6844125057893, 289.7232101973474, 289.2524808760393, 183.60032510780488, 178.7761801825522, 292.05043785084274, 237.07850372554964, 285.39644542128497, 219.78106852989163, 260.40987917930124, 218.86385592194017, 215.1978300571144, 265.25578462455866, 233.77493018011592, 254.0021713363315, 224.10163974191292, 249.35051662577644, 286.9117509310664, 179.63205094499585, 191.6695673394065, 210.6097720124963, 151.7409806778595, 232.499252657504, 227.86807078793288, 288.19476746770096, 233.0009366743331, 240.3785980155876, 235.27710273702823, 264.85546695224195, 268.49757680161366, 264.6080999676281, 195.1662441581301, 220.37824040901205, 258.3310638432378, 289.12900765892584, 167.5469306800798, 250.3233576034618, 281.32723452519906, 240.05466265626288, 171.9319998741634, 175.26017537215637, 235.16059669899292, 203.4086676500877, 183.2076136795443, 270.1727876241491, 239.62842186401133, 230.1472661306869, 261.5981008201736, 247.97044778161347, 258.7978633738413, 269.8801491740584, 219.1402954996273, 281.53680146678886, 169.15492271599962, 226.1600538095664, 159.27300357816674, 211.32234789667064, 194.75689884057675, 296.9420478693617, 202.93373379957785, 204.37993175098103, 240.02366658734957, 285.03067274742745, 167.61059191109945, 214.26615949206948, 160.46023491860106, 206.85472719420065, 223.07883661141804, 252.14500978642116, 152.70579514064602, 151.80162992753984, 215.0303889155798, 168.32879435973575, 222.7482184749974, 280.6212972984483, 297.63464867473374, 249.10199292178584, 253.86252454241708, 283.2208261262133, 169.5780412102746, 164.61522293575626, 271.53759913825417, 201.8031629512134, 195.32304243870723, 279.4459303815012, 259.9584145364346, 242.9473205524634, 288.8588648621819, 216.8333378497455, 170.22645124972996, 287.97652646859456, 282.13830779206, 240.287114895446, 218.0090456498452, 241.6668012492296, 230.34888021647785, 152.5342543526859, 284.19197416418007, 253.3979897558873, 167.03493468567197, 207.6762657669542, 192.75633725829024, 277.8356322784541, 174.5330343357931, 166.1025472604, 186.71545046968825, 258.2148681311834, 193.0612034861649, 205.1126664994486, 283.3234663408598, 278.1384837242612, 278.7973105648929, 281.4636077636728, 299.47075957026885, 168.8675158111592, 299.10098271843947, 260.38703265780543, 260.18971799385235, 296.91846567845334, 228.85891457252944, 216.78511161111487, 176.7816422236108, 176.187275600028, 289.8588354627649, 224.13056415185545, 276.7877250880273, 176.99232894856044, 208.7367900740788, 223.1658690808729, 177.4446775919332, 299.2803826246228, 183.8364825599186, 153.29716455070766, 162.78873200942635, 236.83800318430696, 251.0262322932048, 211.5997228980888, 166.23815241856695, 219.97135080839115, 217.8073452855952, 188.5033986610701, 216.10514298051976, 214.25475874946287, 280.4267315268126, 201.83286839576056, 186.309150753369, 255.1369267886736, 209.1222311050724, 291.2895350491002, 191.97643571581648, 236.9541192436421, 201.0791982439652, 166.21153706227827, 228.05369685623816, 201.58957716188277, 212.99965591473247, 190.2807584959908, 257.5950193972045, 252.23057480756307, 244.78715912926415, 183.2112419920825, 258.26668021739323, 219.4044066791891, 272.10222504443414, 223.2593387836411, 232.52359908410943, 208.7906253606694, 264.6369352251173, 287.62856558937165, 206.2873749368395, 258.9123499538109, 266.17878569391246, 209.47119604573265, 246.3076884000863, 250.97921445554908, 179.82301429538302, 182.0168020725508, 152.20465389575793, 225.88897569747115, 295.1291262415131, 218.40866103650396, 270.1775346587033, 288.557065332168, 261.12362679116586, 151.07872385284475, 275.0234212190465, 206.7724388223358, 276.86414967829967, 281.4396725627596, 208.4064321345108, 170.90780070119456, 206.77294745038049, 285.799820855843, 274.0836198775311, 214.90559671918496, 296.97200755534345, 193.8935172157739, 241.46294044400355, 188.30275350920567, 192.5390849892178, 234.16518601306723, 241.00440293080385, 241.0544403774034, 226.15864481063505, 285.18302616535414, 153.96115350697124, 298.701077755465, 158.20683138556348, 255.64933296865547, 192.38479624859104, 202.7936718948565, 234.280786462121, 278.59568855849375, 299.5366799709973, 267.7990502840369, 218.44343784478173, 215.23023044968892, 250.57596570321545, 296.71982677586107, 214.24620967479285, 260.843736347534, 185.5230042107497, 250.72006294423383, 162.8011410529656, 290.6951090594614, 261.0583132410279, 241.11543421773823, 162.7445796549176, 283.71622958066683, 195.74012530478856, 209.7311962779753, 190.68181139768583, 269.275480892565, 224.51560879276133, 217.36860509200167, 157.518743363559, 242.497876535758, 275.44315073437537, 172.12846720207315, 167.40356925317948, 291.89038750094284, 254.6014236599029, 188.833882664683, 150.6301603822769, 265.72453918489646, 209.5181810854619, 263.6002358109627, 292.7029482471948, 163.028176703744, 153.53299370026156, 261.5656520470808, 223.0709219303104, 199.7331540176375, 178.73382115320337, 171.62614526846707, 162.74851563285569, 185.38448317530785, 206.07434579781963, 155.0425579357679, 210.31074932971185, 292.1121678578632, 272.30268965651123, 190.54961955058204, 255.5419703823341, 151.05911519174748, 201.9046527328531, 242.81138245790487, 210.3913708201938, 280.90736246179074, 232.54840266359207, 245.04122460995387, 295.52652472143564, 254.863042863904, 170.28460115763912, 211.2288331235476, 229.49243323447456, 263.86939795446744, 274.4351649886481, 260.16780104030016, 216.5973293482097, 234.7585281435067, 191.40781379458556, 281.37995746000865, 164.14911963242204, 288.2638823932487, 215.04175370804825, 190.0488769222064, 261.17105638574816, 279.1629648202848, 223.80543866121764, 209.6968028352757, 250.80038207073608, 226.3064295324025, 160.39060404737333, 170.16835056794207, 285.6753183696851, 289.56703655681696, 248.2571635760908, 196.21292461713347, 154.91615330801497, 173.26306513703173, 208.8676008254204, 289.8895133148811, 276.1946471335151, 158.0872928431058, 178.11913022877536, 152.90614398475614, 210.4867416307058, 231.14961589645296, 271.1495906861718, 169.11108422898968, 255.67314926486347, 224.22826562468384, 296.8287222962423, 204.280107751436, 206.5852245566965, 220.998616828555, 206.9785555237972, 291.05904231968464, 213.60388216893128, 237.3451455758147, 298.1442841837287, 221.4689391401974, 150.18655437095333, 249.3210488199716, 170.77813599312398, 246.57694591056003, 287.56000386223644, 214.0742728100796, 151.81478443809118, 170.18498684068288, 216.982550878911, 203.73165611295556, 267.60088844615314, 174.51121223138935, 215.09304954546369, 181.05543230349693, 288.6147159038451, 156.6503963820035, 258.14878003418823, 249.9895390418376, 179.5271015076989, 272.81219452939354, 287.1919253335122, 205.1948464154129, 231.4006251436849, 176.34451224483414, 175.4975811124036, 281.39947074473434, 194.8264768005764, 286.1621630707021, 199.0869472542697, 226.83277689023777, 291.68587658719366, 180.85517049085, 283.9502197008758, 181.08410343089056, 210.3628665777915, 255.18462023970096, 189.7219342643615, 192.0072695671976, 175.81739394330296, 225.43819143279592, 181.2113684279208, 291.31610305501374, 275.4915571631232, 229.91527960036416, 297.6376773409803, 259.932799681192, 192.5869607499539, 212.18434364616448, 233.9963707374386, 195.24642902619885, 231.11750198668452, 174.04463565317192, 213.65642761775405, 248.3680187545878, 150.4131403532372, 284.82504348372424, 206.8917058791488, 257.3383982528835, 193.5823264306254, 291.20557830698294, 177.1164056225032, 249.54794498577468, 239.4443602356344, 214.2435211565112, 151.30257497179957, 178.22293853179957, 251.5933297602957, 193.5220394275493, 276.2155254250997, 227.6567434159446, 263.5655800888834, 180.09960394224493, 161.83164710778763, 207.59572896551356, 275.96529448227955, 286.4035066220481, 272.0807223636119, 237.50072564075896, 163.72489695004646, 177.3535114968726, 152.86629832698435, 198.9464238213557, 275.82743152558027, 170.09550448422178, 281.6242309514767, 289.74821254588034, 286.3901251007079, 203.82246289382735, 296.9479722944803, 235.07821019654625, 249.416947523926, 196.91573778363053, 173.9361811272221, 156.93467452694887, 233.4435487621485, 222.94533054075197, 296.60621903357435, 244.6121318621418, 167.6436719165718, 201.12105218077448, 290.1596144772124, 192.3344884234756, 235.73984457645548, 287.0296541215969, 199.82703892982823, 298.94939994653294, 253.6812590526082, 185.30719376113137, 293.541095643437, 150.733973266579, 213.56682131678616, 188.81525511321112, 187.44436103495565, 273.98612113379835, 183.07067222552692, 214.5861194957901, 206.7467963723057, 153.70762552967145, 280.0530310089391, 246.6212987604428, 296.35996909371926, 201.7218075098442, 295.35458080995727, 181.0170049668827, 227.41036047937013, 162.84432103763842, 256.11629239028105, 212.5752999203495, 247.66738721813675, 252.83929769560163, 171.49143973559163, 218.69186229771876, 163.1721581478925, 270.13212071982014, 173.86908251215016, 196.087570370669, 228.7780633805105, 208.79076049689183, 157.0018529486632, 232.74253441198272, 241.55544780046276, 294.0533766623414, 290.7013606363059, 199.30905716424627, 169.77074898985975, 267.6186879577508, 270.2083613768744, 266.3535018846843, 157.32959206138682, 296.1746007879196, 197.76657552587432, 200.97449985160992, 205.6107580362222, 193.28322515050905, 184.5790040328352, 256.8642839801699, 170.933253978485, 195.64292180458227, 208.20098040024803, 206.35798429187895, 266.33883186174484, 210.7132784282887, 233.07164650047065, 176.4541782010269, 238.69978794631905, 211.1147729134915, 174.40832691717742, 158.61493843934193, 192.0000049350357, 210.1645075011785, 154.71923015121118, 207.63993335867255, 277.4877457173769, 212.7491512145652, 210.6375841777609, 215.84414185340376, 193.0805859136, 230.14917186259032, 202.1510407284693, 154.13555841438355, 189.53926626242708, 293.2176616646426, 156.5736253220859, 269.62846462993895, 288.20909147013697, 162.1666584414517, 158.18307618308023, 236.5764570722459, 294.9637724215676, 239.06803793011005, 158.45735435057543, 184.6852450900829, 255.4992995374415, 183.1734905374051, 180.19018445218884, 296.7017661286664, 250.639160088508, 220.14150557620843, 250.79386469452504, 265.9996874482026, 289.71285427199933, 166.4984497056735, 268.62191780642854, 235.971313748191, 155.56975364200616, 267.2165557733528, 261.6667290634489, 211.1975811981684, 290.715301682686, 298.6951775942474, 266.001695572229, 228.79184155646203, 174.85864848899098, 203.1064188165231, 294.3545076274323, 251.2589590156749, 217.67911816849383, 164.68454811279634, 199.23471689890124, 182.2592895381175, 244.3286940737218, 169.75077927038888, 233.73615234228896, 280.9203195111752, 186.8541733183396, 155.01373280035685, 213.95388778145383, 294.7970075397375, 175.9978878158027, 150.18492574288226, 264.0191230139717, 204.33897636577183, 277.10143051548465, 234.57994564279863, 211.95737258145485, 222.80875992607176, 152.98029026605755, 283.948621748166, 240.58980018145235, 299.7110105225629, 232.7695826635497, 239.09249601943856, 298.02556765944905, 230.05122273785696, 225.42569984580544, 269.1790183880534, 175.11840790179264, 224.66885707034933, 197.20119891990623, 238.49152893723607, 247.2828867322292, 184.52819389450545, 290.65511047979794, 221.9984096862993, 195.7987377689258, 253.16569322216537, 212.02894936555043, 263.1808588176379, 166.3958269203744, 201.7837549705007, 256.26103195639104, 272.6723180998692, 162.17783318326937, 175.95189377253152, 298.2830006511572, 248.05412322831648, 280.95061409107643, 159.4456991135895, 163.47987886437025, 233.1289875407552, 164.07018476055043, 169.52504915321424, 201.1028589389487, 216.50138146748037, 150.07023037695413, 228.56476410627107, 262.73151477867253, 180.1849895988326, 257.6112289383304, 212.27410876049765, 238.1094826846344, 167.41045885945363, 232.64053363406796, 257.1985155155297, 291.494462772911, 270.1721261520726, 258.6547300048325, 236.38487491985015, 285.1456763563805, 156.55227204961523, 212.48980367882015, 260.65924219589624, 198.64771366151055, 291.36155589036133, 162.6066504437538, 192.9203716619308, 208.8948731692505, 284.5483335788274, 156.67646216580002, 195.54143356277368, 277.66652023802453, 163.64404873482516, 176.35570811048498, 183.0284109561902, 246.24887834767333, 163.15156667332317, 252.1994161746997, 235.5882986286696, 262.5453762759856, 230.712246990255, 191.22909832316623, 217.28603116596167, 160.74042630822072, 213.74959395819567, 188.6650056415699, 220.35109987841008, 268.4866463932828, 217.1796538205188, 160.49327894927484, 249.526944671964, 215.9137005920107, 223.784900869411, 226.6231224510101, 217.3182385643235, 151.76307471098718, 291.4550182811221, 272.0701842561965, 224.47426964356796, 190.0318851302005, 238.60210565578893, 290.17751394643267, 258.2433626647137, 240.62932040285293, 174.51058927957584, 154.11163196681915, 215.2734710785472, 238.7551049982086, 238.2563978037974, 174.78312616193932, 164.76168659525553, 283.9217784140371, 254.15932391145705, 244.70338152746436, 186.30901945138223, 216.71832173747796, 231.35965310976763, 182.32875370262664, 235.5029893602645, 290.7058361655928, 258.7075617518897, 204.62748521230904, 233.02264007935247, 189.6614053955157, 248.320980377368, 226.59153490966176, 152.44143332659607, 217.82707170133392, 150.44802615155018, 229.8722191290368, 261.99340608407806, 169.98028902620013, 298.0053186464895, 205.88345349140667, 294.8728505247728, 241.24008304882656, 187.11131420205143, 270.65849601060864, 286.1206601524044, 243.66083372431996, 155.61881467016408, 238.3513667372174, 187.81737720458068, 204.33924882936836, 242.2611449621107, 210.6837614450648, 198.81124412788083, 161.20510013686567, 247.98658152900407, 284.9423168498498, 166.69201562636198, 165.59142398912513, 269.8431148951368, 158.98843011425402, 205.69694419562347, 241.7792286722208, 151.13020872881796, 200.86356116211164, 186.04628642736745, 264.4129279818084, 298.58856680335174, 253.3751059096044, 185.61326254979824, 217.57722625305632, 299.1119030814257, 277.4989903606736, 215.7255558234155, 278.3728385574276, 225.08351436771989, 274.5407903987506, 268.32571803806223, 166.85830195293585, 156.3944933246092, 190.0462914379423, 297.8466892174685, 186.05240383245368, 220.72830733399644, 200.90018945331616, 268.90678398294546, 250.5548690386579, 175.44060162239748, 222.6710780309037, 283.6506944720211, 265.69534689770694, 286.9250637736908, 202.7473034229819, 195.22384051858015, 182.45771938562007, 174.7521427759574, 287.9962795121486, 255.7654392973958, 179.05316925514344, 151.37559492122486, 261.1375458478389, 264.4064168156257, 174.94017853496402, 240.8565857808165, 244.99524437934627, 160.58874100364736, 297.4268938982492, 188.85934296905268, 258.5358598374823, 227.2882672193504, 151.0033742373553, 243.67321484683185, 150.6768619001131, 178.07187449522132, 276.8460952037097, 246.1614340534132, 180.56586479911152, 222.7929738736504, 152.254641726857, 291.4633450680864, 266.8132656788388, 229.12520575818684, 262.1353559635449, 242.3841297614145, 280.97223942904, 285.66898739287944, 181.0631996184938, 156.1144218879218, 250.74369781135024, 225.63178038951725, 262.63688083078625, 169.31874746037357, 151.3659006310985, 205.66542202039903, 181.54260200543771, 296.03541044854705, 222.30168676858145, 180.0298801201488, 266.2715566690965, 234.320633520638, 264.27010020994777, 255.8931119130717, 214.74018913402455, 160.77782445891677, 266.9162377088502, 255.834928572386, 202.189342696398, 258.23032642904934, 193.4404997909477, 212.42993852811827, 187.2681972522252, 175.0668918580868, 292.18058785646, 278.84335958827546, 172.25131176165328, 233.02575350463425, 231.76323250769545, 200.60332616593135, 207.01458999160536, 248.5220653859095, 287.2425640089749, 151.8897688964378, 195.7570047848858, 291.9552114055423, 206.71214704390803, 271.67500107045123, 225.2494182160505, 209.88714178134973, 235.14189750035436, 253.7094715898461, 170.6121906319974, 211.85905359750785, 202.8621988001188, 211.5410732950189, 210.73474832893157, 212.6544774315915, 275.00749911739354, 170.0502177671036, 235.98061172494124, 188.28433517509728, 176.8319248391955, 224.9721525906581, 220.68399704539755, 152.80380279364468, 248.0204910511356, 231.84516993288835, 165.85067458720752, 240.829354892884, 189.9786511167325, 281.5187214891609, 167.4017842712726, 241.24900366519665, 157.5939865805526, 243.0921752788534, 274.97002320887646, 198.08160796092423, 262.4402092097717, 291.7163372162024, 249.8566119384245, 251.15893173821792, 198.48844877426623, 199.6797612984456, 161.10492861967174, 167.76345806830176, 178.20166154029593, 299.56806848114, 266.875952454865, 246.76961090975252, 231.62808921165745, 236.93930574835383, 270.4854383793524, 231.507811338642, 209.42126073255488, 276.4033948411882, 253.7186001587888, 177.78105392663264, 222.91922507219996, 258.41526316121656, 151.98707973717643, 203.81044746006785, 239.9071614223436, 257.4540081287257, 259.78130798123425, 210.63127627623945, 227.5138809580043, 289.1275251412952, 196.6022514727828, 164.6436711873782, 293.59427580414035, 265.2030695036639, 248.5502861622234, 283.4082866170444, 224.12897991676292, 155.37646156531338, 224.097062203634, 229.6421541841134, 282.14315904510863, 288.7906158623442, 177.63036501910003, 268.7827380037752, 286.917799096444, 206.6371256569421, 168.93769063829967, 207.17167157664647, 288.11000246019347, 228.9941817474328, 242.83491995182663, 230.39582828105895, 268.5831280456438, 254.02546392118197, 242.3860083843005, 188.3702888778924, 293.83077351653617, 160.79527753228933, 165.09344026816206, 225.3130779178188, 218.46376112509577, 233.63706315075805, 212.31317792601948, 191.65220823971868, 188.654831447661, 262.32613436930023, 229.61165256931508, 187.5435366513829, 249.77324815339787, 250.62380370333855, 242.99771399322336, 171.06197275388368, 192.4007579633091, 189.29617010815412, 210.813473708244, 299.1294085117814, 267.2050139394505, 168.18518386028393, 272.2794471065133, 275.6058844551916, 187.64709133674015, 154.11989771539538, 270.64747891852744, 193.1381868106296, 191.9547491115746, 252.57269873425943, 257.64926801808133, 203.03713116365597, 158.5606107525516, 244.00998127903404, 215.25962075911656, 296.014421214916, 183.80854800488083, 236.3782165551574, 252.19018904124647, 184.00369425950885, 282.0371797369216, 161.621245493205, 282.3226867253693, 238.3978188506215, 253.8584989918611, 278.0729553091004, 275.6397820845564, 178.17323042429626, 201.4735892990634, 282.45458483587333, 253.4648112512209, 235.52042286657684, 207.77360357293503, 190.4570805929716, 287.7471943517736, 150.55411161249663, 196.5880897116275, 217.32331129015571, 259.0226927273644, 290.36064058873063, 157.1772683934745, 168.54517762160825, 279.46318448222263, 192.4062946987085, 156.91040087772623, 213.92851174532487, 161.45619908701624, 202.4243729095898, 277.90532043566327, 193.43695583151805, 201.77829618742643, 187.8616471160048, 236.0449896722872, 151.33113037795397, 220.0483891062918, 219.26640377467027, 175.49692561639102, 177.9678802523733, 175.00153850811057, 260.2396079569893, 177.38379099623785, 231.8892775598289, 196.4093812094125, 273.5481140166462, 234.43784585815712, 206.28855112462608, 201.6959624296667, 295.8472507045441, 249.9159367669781, 286.03289750872153, 203.7472609255674, 230.7788686231393, 181.3478070911316, 286.8639855381461, 229.53145778678828, 298.11014805126416, 250.35643288372145, 256.324398750063, 194.99653650102172, 206.5961586686724, 240.70914092132037, 286.38381703446885, 299.7669762420977, 244.60127615452848, 159.00146698089196, 229.6201920671545, 293.8513846035788, 210.75858627705412, 299.91016711235955, 282.96280536628853, 259.3536159847362, 183.7964293924036, 254.50094571860893, 184.84359436721743, 270.67289192831146, 228.8598399982852, 221.8576886184256, 195.3059737877287, 207.1621771205598, 192.4053416425674, 157.52206043879548, 171.9080325033736, 241.05757092121556, 299.6658326785594, 190.4599400292272, 257.1097629839527, 203.3273017232152, 265.7563657946868, 238.19420887394512, 270.41313459572706, 198.0668772513336, 298.5685686594986, 271.2127173463276, 288.8031361292728, 258.1650862334491, 251.2570251799416, 177.54457418565565, 218.97048454926235, 296.08771671750685, 241.05468785366745, 157.69157554689545, 257.49458652704834, 298.2046240445219, 293.66238495483515, 297.0486802965429, 174.26109012472867, 151.88850181230742, 280.05699271589856, 215.8159264570116, 256.0917884609794, 156.612296334636, 297.8056137143236, 154.95716584141655, 187.08485886730423, 218.50851636429545, 181.8009063272013, 179.2939742227475, 201.41723391658303, 296.68429252300075, 277.9037390166837, 176.4586682249207, 238.8498663322839, 297.8300070908233, 178.93151876073472, 198.00349078742076, 226.97603113272004, 291.2280125762141, 203.15796143013864, 271.6486116396329, 270.36217076746817, 245.9029636740564, 156.12396396547516, 250.1756642198023, 266.06224644218173, 241.77622824866643, 285.187122713077, 241.7065052330064, 202.3504238456821, 237.71805220558312, 280.39141551025955, 254.9147198298366, 282.61504157680747, 249.60402111960929, 206.5746524251605, 214.72399417947648, 209.5233202062204, 242.142207027516, 236.38676310272768, 291.7873954931306, 166.3322515590147, 279.6088078536669, 294.61965572144766, 234.25908714559029, 299.92787954485624, 245.6098620396205, 154.8986464437607, 236.82779683165887, 194.36254925492872, 266.47770208336993, 297.6361784516969, 177.21988473454658, 174.60974929761994, 163.4773159614283, 284.8685925853972, 274.38644457437124, 282.9716061658552, 219.90596918626028, 249.6667914534856, 254.4443524544754, 154.46783108826816, 152.76500120146574, 297.50243584999373, 180.9646497111279, 187.7105906864655, 209.0252773577205, 183.95894773018853, 217.96960443250796, 294.21153183654496, 252.6672807003064, 214.64123536990851, 219.45229453960496, 161.22043734904457, 215.74605264334787, 245.2456530738924, 243.0926289871859, 276.6360189669289, 282.0210952357188, 256.8565779251694, 259.3428039838652, 186.65339117625552, 178.1787917089387, 209.58311082414852, 242.3374463690168, 196.2321159135212, 170.64127286322832, 196.0288200818105, 198.5854364779212, 249.72539370419497, 251.6063243654885, 201.18984313932643, 207.83739017190248, 274.4957918724741, 215.03706929869293, 199.87650254684257, 258.508310788638, 293.62738350418346, 225.01874224540495, 156.5047888914172, 272.5033338857116, 266.1957171638099, 265.57069517988293, 198.8614806316776, 175.63206083899004, 185.01271026404984, 232.75416053396816, 219.95536017498904, 255.25992237144777, 160.35941432507974, 260.2816466602787, 297.32879634431373, 242.3147550083217, 207.95274260892603, 154.05390901077192, 200.8775601944536, 269.3430439991896, 224.68278261011207, 283.66225877800787, 174.32647851065855, 220.4383193614902, 282.23157442423684, 245.6023632999258, 228.52825624521068, 233.54593571782607, 158.35266458394366, 277.8844673293644, 166.53909783500907, 168.1108877166419, 220.734039541736, 267.57511916482514, 255.3673909250525, 273.0726285324464, 280.2022229194981, 251.66257772174905, 205.2927185773699, 164.07322067785597, 254.24166936409827, 270.38184150855574, 180.05111738455275, 214.15727046369437, 220.45104303898844, 279.8416883565385, 278.0852283661396, 287.68979239299887, 155.6130595442282, 292.92404546373746, 167.32759373599865, 186.3799591016177, 205.55564134558907, 230.93282735849317, 187.13123659136065, 151.52203012326152, 230.13772544412265, 231.93488907959608, 179.06046539980568, 203.4293971784025, 176.5123166350172, 228.42453831447503, 228.46478463775264, 251.08820544975185, 182.78584417374776, 222.15501529659468, 291.32316894449855, 239.86535121730208, 251.01308567823816, 199.1620526683996, 272.3864875304256, 239.2104107172485, 292.9892328905795, 192.60538828438, 194.207389452097, 183.12971190593237, 175.94131714790925, 202.0576486775488, 217.5772673436272, 270.7077640526592, 254.2148380328537, 267.84173759606267, 241.2305324306808, 291.900088269897, 234.0592668458908, 223.61919799431848, 230.1805432910184, 249.83473156522308, 197.3047178798727, 256.0252303060336, 159.0897379296067, 291.6603807448799, 272.494203880784, 288.60782566344267, 156.27903063489694, 188.70966830532237, 174.2868550128732, 170.53052944747927, 180.0108717131398, 294.6112519525577, 192.5757539874695, 218.66548163843183, 210.65668974793124, 244.4919621045241, 241.9267483638559, 263.65594479235585, 254.26180705894663, 172.89119074502378, 212.08008784801703, 195.9920909960273, 193.32155255621285, 158.09210814605467, 260.0039095830654, 280.0155981109547, 261.38302034611445, 183.59250496912264, 162.59956201792704, 209.48753767717105, 162.94566132364767, 294.95250259340867, 241.1065300608139, 290.5276094051551, 271.8366772853417, 295.2455295175032, 284.91847065041424, 213.94097623115383, 223.96364270528912, 200.7652936397388, 226.45434025069085, 277.7440045094648, 260.37727500308483, 233.32094941893635, 182.70604866649495, 197.957629043126, 178.78380915314898, 182.02517990943028, 227.30376622537003, 166.73111502081954, 174.25574998286092, 283.3476276574529, 170.5412736193475, 270.1219885334616, 178.04051389611723, 261.9051207853727, 214.88022638876853, 187.63599524389303, 280.76209838162873, 164.7807986816355, 240.5401612411198, 271.1250650176405, 200.94053393201375, 214.55050370211168, 268.81540466326976, 263.9481740757428, 183.08969243427788, 248.60818489042384, 258.1985260794863, 238.34251457767544, 152.18365224065803, 227.35665788756145, 260.1494339098917, 227.399366364, 216.1397968106001, 171.2715561118696, 156.39926408175396, 202.8201386522036, 190.8695349633789, 289.2296986706281, 175.93106208120727, 234.99852742704425, 205.97254427614524, 175.207697705346, 200.03071128521785, 177.64234338779772, 223.93030766346183, 158.6641565812809, 251.85195693189857, 224.82769748554784, 259.15370589826614, 264.8514669462778, 273.71131860703383, 226.0821307354377, 230.9586910010405, 261.0528225272837, 199.46234508663431, 260.13790153011047, 267.7456756308088, 275.2239709101773, 249.3704995850195, 227.3469076773443, 282.5061784118559, 180.5303210517848, 271.4596883706831, 203.8530047629607, 232.8861914396166, 290.4432553702126, 260.8533618363808, 227.85618970201293, 241.9744026336581, 174.13422864289524, 231.35640003407664, 191.48987388616243, 215.99491159371476, 260.6481519670902, 244.68035856983244, 166.6875609866144, 217.1485464228385, 245.2894250287113, 174.6819629434159, 265.75561840859666, 171.3250733453378, 213.07870445124843, 183.5358981959513, 240.36419089083677, 179.8768941776287, 187.89118241566447, 212.850620699986, 275.02950361886826, 229.6453969234581, 216.53914537536627, 206.8684810477228, 182.7007549268871, 236.23282010743628, 176.55107694633088, 210.56748324412203, 235.02677942000955, 245.2674507854597, 261.34108892929385, 167.22720925818797, 187.0577059220584, 175.03163583254397, 259.1101064227986, 261.1018318648862, 163.87439299088288, 282.827355567793, 169.54682198510818, 165.15921769196208, 290.71897524226955, 190.72864194151649, 289.6959491321062, 219.45479346621013, 252.64151705632077, 187.535708508379, 280.74751665338164, 225.51916096563696, 201.08559810285, 150.06269820288267, 173.1655474907256, 259.0349627156696, 267.73586828383964, 283.11397641668225, 253.77538745338228, 249.79070651035707, 236.44199246671823, 279.6424515827538, 258.11327420172086, 207.25501319571148, 188.0110860135688, 264.83069840509904, 285.52873475332603, 159.74675037988305, 168.82836530573996, 165.76055395876526, 278.9205420945753, 230.3792755752841, 217.5373182101037, 246.58071666985484, 299.43323784191404, 245.9258892419437, 294.6135054517291, 254.61063967055148, 226.590370032604, 232.88853348537245, 239.60322977359252, 219.9720334236136, 214.8433486989113, 193.1579092332669, 182.7374923638176, 232.50019717026848, 249.75468904409357, 158.1919211381801, 221.7501219000944, 203.3222152648487, 171.727010177672, 208.2809725035182, 289.88095722029175, 189.04879871102204, 279.39593512745734, 295.7680822908267, 244.8437349897932, 204.9185453051622, 170.5535467052686, 212.80335014809685, 241.4721020774477, 156.49424805103928, 153.45993693847043, 204.08030435954936, 230.0224636235294, 263.9538286282727, 248.82112031106027, 181.1166978318517, 216.8668757766908, 154.51685856012057, 223.296355457291, 265.1460004971166, 226.8086198450721, 293.12906023525403, 236.2867730095507, 275.72142666797623, 294.237269924491, 299.2892612499967, 174.81091848147568, 196.0199892886733, 266.4563491287275, 277.6778146684295, 208.81505508062105, 230.425734517335, 193.0128639282985, 266.4051054155592, 205.65096509899377, 283.70459348294423, 280.8041913858019, 199.98763033839757, 243.89534081615156, 299.9630739305192, 158.83340921976313, 292.1704637126543, 284.07452848960963, 220.90197084319183, 238.63862401365336, 269.6833759656388, 266.1709942394275, 271.9457936909204, 156.1496951174005, 169.2385017688292, 283.4629901529188, 155.4110910716772, 207.02512932489907, 166.0081510271818, 205.50169425903903, 190.22047024995817, 199.77256265886743, 189.3851781213063, 164.07305692468705, 175.03007188651748, 280.102566668863, 183.16498136414825, 200.46016600686815, 173.6854504242823, 237.1104005728804, 153.97993558463, 269.9046333593438, 190.0625086399961, 223.8672469134233, 296.78550878420475, 291.5692085586201, 244.0635329048974, 294.94798257064014, 298.1019948727975, 261.92731883259785, 214.34363580110733, 160.43895020972923, 190.5402778767485, 188.5827275348973, 284.7064617295781, 236.7734073443287, 299.90301788691363, 243.24130527248076, 285.3683032797201, 169.46497743643397, 240.69388339550483, 234.84065039216483, 237.56277176972085, 272.8679646957809, 281.147806259134, 275.4043907789708, 286.59329872364486, 157.03360327967746, 190.36083080837057, 179.28249312820773, 162.7229888931802, 273.886420475249, 187.41045790482755, 250.3590715837024, 285.1013482698527, 188.35382226641485, 204.8347033984179, 268.5071497337136, 184.52517715212312, 164.01434127360676, 176.39822181452374, 298.6612307136249, 276.4675732976749, 264.73740833092273, 291.01503749925416, 154.51199049019337, 261.953590993805, 165.45329337518285, 168.619662391731, 216.65448129187047, 249.931614647704, 189.2410227927625, 293.010622398607, 282.5118179512798, 181.0822341362724, 175.95428084112055, 250.7728409368021, 271.3654804804013, 296.84534003205306, 176.40232959655518, 197.14130335366147, 248.4286666049898, 280.9896286051304, 176.91422532978967, 214.44645541238296, 199.24417478964008, 297.6140566765235, 198.77115714068864, 299.7676455817401, 227.11332935674596, 162.61556116435108, 295.03602178153426, 274.5501663139107, 183.4368138273313, 180.22299236026487, 163.81271152548476, 242.0449107036314, 198.82979137540596, 294.8548058546161, 296.6112183552352, 293.7521282635916, 274.11933205041646, 199.4339600543768, 163.22585865982853, 253.1536003167288, 250.438093717332, 236.62572279896185, 177.62913125681683, 230.43505389475644, 273.5940151744591, 183.82254110745905, 208.36662865431447, 298.5083120611112, 266.2607829919996, 163.49393339602466, 239.49377546227103, 253.8091361668053, 278.244555885982, 162.63233569556078, 291.94480924849734, 265.87945278713926, 232.3408666339053, 199.0976840006738, 253.73579882782911, 274.2353555598248, 239.61641448106604, 259.792053765123, 265.4058477158893, 287.70606874610945, 275.77878545548765, 284.2863587022289, 185.39132633061092, 155.6612660582265, 214.90198498105397, 223.652183114615, 247.11756694654184, 267.89684669069663, 186.27311214851971, 284.97773596247214, 255.864719573582, 150.10831528180503, 242.9706233549165, 171.27401576037272, 216.1404490460672, 239.6519699954193, 215.5008748315984, 164.43530212912898, 172.45628056962445, 224.59674875055924, 259.844426464123, 250.22015758142857, 157.23200191166865, 276.46826600303064, 248.9602087928085, 191.6061362254704, 157.38842659740578, 194.17797162647207, 279.74074556098344, 263.5736503648532, 172.72765985600373, 244.88173652598044, 299.6743332326336, 297.5626789322837, 268.2863902934164, 207.45293202583665, 296.9461128610677, 228.4920024693281, 243.59674491453808, 162.66034257498552, 272.5792746219439, 183.84564290345529, 285.412823192252, 155.56978373198393, 193.61768643322304, 271.105498244007, 286.81835067352574, 172.66477683554723, 180.7185017811965, 221.47920958009615, 202.95281925918036, 176.15163332620094, 267.2280968742813, 157.77235356634685, 164.6816673733835, 272.01976688476765, 214.08069261399365, 236.5966552941537, 165.9342419373829, 247.08818083847308, 251.6443286980244, 219.69700963862945, 265.4286492797886, 167.24131308101028, 260.3714853588076, 237.9718873307886, 215.75526467894355, 163.3601999297545, 213.85241228587407, 256.6905192213857, 228.01450702085765, 240.064998167343, 278.77218263041505, 165.50902198001873, 191.34566220371283, 286.1822325663983, 273.60301350936777, 216.49488853643635, 292.9493544283346, 227.2506918559622, 289.03544382991697, 288.15397262975523, 242.76147657616931, 234.22625527375504, 191.01027365208964, 217.25872836162307, 221.90405740761085, 233.9021077937487, 279.5136512261886, 232.9401520183618, 247.57834995428067, 285.4324463244976, 208.5621317419028, 254.67885224473156, 296.2901527208188, 159.8125131235748, 264.45953632852843, 262.0379821814521, 233.3795192043756, 243.184326512654, 171.11957935202798, 265.75945264116723, 202.80314859495357, 180.75070022916796, 166.12634237454887, 224.6590217000588, 230.55286375306352, 178.33196078462885, 271.872858084263, 285.93692252077943, 252.0768614884692, 212.94142137206012, 172.26281394625389, 271.35548441895764, 291.39090975380213, 187.56309996508463, 233.43485360760653, 290.0081055947559, 247.2310306924928, 182.08789324555653, 243.4225437714042, 258.46365658652206, 279.12345796124634, 277.17549793322985, 271.0326690504771, 261.7777422464863, 171.852530654387, 277.142911688386, 184.93118430681045, 273.77115885222645, 193.48841229524103, 228.7401153776821, 222.1363788172076, 264.56344481021966, 189.8860426680752, 235.27310007645428, 223.77896032506428, 264.7741922510696, 156.27408751579785, 277.4750684898007, 162.5041890140138, 191.23554737326336, 289.4001198136224, 262.94860238201574, 254.74171151444523, 163.34708374950495, 295.3190000957733, 236.58484257231532, 201.07230194505172, 205.81993379460255, 261.41991846001326, 157.47198566773562, 297.6858631685997, 163.4812760149308, 258.15666530835307, 242.6749888644037, 272.2648034589212, 177.05664513498198, 165.61271285581262, 261.2668007034018, 252.55394039030696, 293.4176441612883, 232.30760516853144, 283.61025340221806, 198.2433365294028, 299.3928948732395, 242.5072390845488, 218.41259385049003, 230.07017888217527, 296.63480951829587, 181.42061159307437, 248.51183983218084, 278.6378369720717, 192.3482611085601, 167.82936614242954, 168.2989400459175, 245.68804625231, 231.7108605560889, 156.29581779108818, 297.9500183967677, 199.6609425837892, 176.75585958521782, 186.1507380398877, 254.3835546951333, 287.5180932078712, 168.91881214360615, 213.88060551348968, 285.1642456775493, 241.99513221957403, 172.45584602260217, 156.39234878797075, 270.305110875008, 202.6043917281203, 257.659294786848, 261.6081394302281, 230.13218989800265, 240.37638718636168, 208.1825568621026, 197.263764249056, 275.22033684195014, 204.8830689203267, 177.95594977367392, 202.48526032577075, 238.82706055953204, 283.3034769041748, 282.9811067968775, 239.3445440053764, 286.3915818105729, 201.18344704846, 270.6300985338637, 268.98275308548386, 294.21132507066824, 247.6578853268524, 238.1765160936568, 276.06249957352213, 257.8279718788361, 209.6484453405717, 169.26866634668383, 205.76944511329188, 284.8992667177405, 254.03793529344372, 159.14059653310014, 278.1324622336881, 184.3443312549209, 283.0986278951814, 287.86929652668306, 272.8107060244388, 276.6668780678789, 207.684944068392, 288.4170269897953, 296.8271447832532, 151.30061179025714, 159.63928168268956, 199.18882222361097, 268.63684778088907, 184.01894285236784, 251.9487654173001, 202.85703101361705, 194.8068058691, 217.8324099323356, 236.33837127380804, 232.950849870498, 207.50495692335215, 182.4441444597732, 289.79900072533934, 254.42113212997037, 154.46498483899413, 272.0028736494645, 204.5920592237694, 262.23202714593697, 291.9371784243325, 190.9721186686002, 190.83156093051215, 240.31779060853555, 247.89566116472085, 236.4489544964892, 232.13699490191988, 189.97473619400927, 297.2133220284236, 243.29343986542403, 176.09398709030933, 215.1045104500949, 280.46161773023937, 203.53751609858685, 277.44943736648827, 271.6811334956902, 296.15956159455146, 187.18018373000623, 188.0744475858805, 238.67115893758887, 217.82519040800204, 210.2595223708057, 178.12211623446197, 286.62371311383004, 177.94292697832762, 200.9882376872883, 151.21623047010058, 177.52080109505647, 271.04423432924, 185.8295478291668, 174.03185824061887, 215.53609548539868, 230.3781442920188, 226.4494342646108, 265.80832358844634, 270.0472841834577, 231.6951886446583, 196.0043302439492, 283.67181945617864, 168.9255755944006, 286.5096173174336, 254.31336558926196, 166.03087108420516, 244.69595442122227, 259.9505449706936, 175.7522955608174, 240.34614421923868, 195.9806044180555, 159.23234805249865, 221.2538611465554, 260.7820996858377, 288.87952359843007, 217.5591650568825, 157.75592107780847, 192.90195057137345, 241.92822829910472, 197.0401675832388, 201.61793803118783, 274.8186876799977, 203.15180974991236, 261.90693386954683, 287.7190859225759, 261.61882268700344, 213.98290232245563, 248.0991423835071, 179.68460224385046, 287.78537679117426, 283.3809466325031, 157.13652952730644, 172.66679879862784, 208.15250875945503, 272.72107314387665, 260.0859914666265, 262.97734922923246, 280.3961682594483, 275.0658718264215, 152.65808838823423, 253.2675351146173, 263.2112334993693, 289.4461906995292, 238.7514741414975, 151.6977059227212, 273.27782204648224, 289.7320456691187, 215.5879478744945, 242.3746811410909, 241.3405791331172, 281.72917695731053, 177.2151047326556, 206.1785061298392, 180.30510822695317, 275.0107017718076, 293.5595421453959, 169.2526211718486, 227.7979525446707, 293.3830613418377, 276.7578533545307, 166.65838058721874, 155.03094625248175, 157.35110174750696, 273.8906509547399, 228.77482341751983, 163.77520614746572, 227.88617645767036, 180.37321938680483, 191.3727070446953, 150.18864665611693, 159.35115504022116, 232.24047321938468, 190.05302668447064]\n",
      "\n",
      "\n",
      "📊 Medidas de Posición:\n",
      "Cuartiles:\n",
      "Q1 (P25): 189.3851781213063\n",
      "Interpretación: El 25% de los valores son menores o iguales a 189.3851781213063\n",
      "\n",
      "Mediana (Q2/P50): 228.52825624521068\n",
      "Interpretación: El 50% de los valores son menores o iguales a 228.52825624521068\n",
      "\n",
      "Q3 (P75): 264.6080999676281\n",
      "Interpretación: El 75% de los valores son menores o iguales a 264.6080999676281\n",
      "\n",
      "\n",
      "📊 Medidas de Variabilidad:\n",
      "- Rango (máx - mín): 149.90\n",
      "- Varianza: 1900.04\n",
      "- Desviación estándar: 43.59\n",
      "- Rango intercuartílico (IQR): 75.22\n",
      "- Coeficiente de variación (CV): 19.21%\n",
      "\n",
      "\n",
      "📊 Medidas de Simetría y Curtosis:\n",
      "- Asimetría (skewness): -0.05\n",
      "  → Distribución asimétrica negativa (cola hacia la izquierda)\n",
      "- Curtosis: 1.80\n",
      "  → Distribución platicúrtica (Menos concentración en el centro y colas más ligeras)\n"
     ]
    }
   ],
   "source": [
    "colesterol = df_csv['CholesterolTotal']\n",
    "print(f\"📊 Maximo: {colesterol.max()}\")\n",
    "print(f\"📊 Minimo: {colesterol.min()}\")\n",
    "print('\\n')\n",
    "medidas_tendencia_central(colesterol)\n",
    "print('\\n')\n",
    "medidas_posicion(colesterol)\n",
    "print('\\n')\n",
    "calcular_medidas_variabilidad(colesterol)\n",
    "print('\\n')\n",
    "medidas_simetria_curtosis(colesterol)"
   ]
  },
  {
   "cell_type": "code",
   "execution_count": 22,
   "id": "f85d08a9",
   "metadata": {},
   "outputs": [
    {
     "name": "stdout",
     "output_type": "stream",
     "text": [
      "Rango o recorrido (R): 149.90037572763654\n",
      "Número de clases (k): 13.0\n",
      "Amplitud del intervalo (A): 12.0\n",
      "Intervalos: [150.0626982 162.0626982 174.0626982 186.0626982 198.0626982 210.0626982\n",
      " 222.0626982 234.0626982 246.0626982 258.0626982 270.0626982 282.0626982\n",
      " 294.0626982 306.0626982]\n",
      "Intervalos Cerrados: [(150.06269820288267, 161.06269820288267), (162.06269820288267, 173.06269820288267), (174.06269820288267, 185.06269820288267), (186.06269820288267, 197.06269820288267), (198.06269820288267, 209.06269820288267), (210.06269820288267, 221.06269820288267), (222.06269820288267, 233.06269820288267), (234.06269820288267, 245.06269820288267), (246.06269820288267, 257.06269820288264), (258.06269820288264, 269.06269820288264), (270.06269820288264, 281.06269820288264), (282.06269820288264, 293.06269820288264), (294.06269820288264, 305.06269820288264)]\n"
     ]
    },
    {
     "data": {
      "text/html": [
       "<div>\n",
       "<style scoped>\n",
       "    .dataframe tbody tr th:only-of-type {\n",
       "        vertical-align: middle;\n",
       "    }\n",
       "\n",
       "    .dataframe tbody tr th {\n",
       "        vertical-align: top;\n",
       "    }\n",
       "\n",
       "    .dataframe thead th {\n",
       "        text-align: right;\n",
       "    }\n",
       "</style>\n",
       "<table border=\"1\" class=\"dataframe\">\n",
       "  <thead>\n",
       "    <tr style=\"text-align: right;\">\n",
       "      <th></th>\n",
       "      <th>Clase</th>\n",
       "      <th>Marca de clase</th>\n",
       "      <th>Frecuencia Absoluta</th>\n",
       "      <th>Frecuencia absoluta Acumulada</th>\n",
       "      <th>Frecuencia relativa</th>\n",
       "      <th>Frecuencia relativa Acumulada</th>\n",
       "      <th>Frecuencia Porcentual</th>\n",
       "    </tr>\n",
       "  </thead>\n",
       "  <tbody>\n",
       "    <tr>\n",
       "      <th>0</th>\n",
       "      <td>[150, 161]</td>\n",
       "      <td>155.562698</td>\n",
       "      <td>160</td>\n",
       "      <td>160</td>\n",
       "      <td>0.076010</td>\n",
       "      <td>0.076010</td>\n",
       "      <td>7.600950</td>\n",
       "    </tr>\n",
       "    <tr>\n",
       "      <th>1</th>\n",
       "      <td>[162, 173]</td>\n",
       "      <td>167.562698</td>\n",
       "      <td>149</td>\n",
       "      <td>309</td>\n",
       "      <td>0.070784</td>\n",
       "      <td>0.146793</td>\n",
       "      <td>7.078385</td>\n",
       "    </tr>\n",
       "    <tr>\n",
       "      <th>2</th>\n",
       "      <td>[174, 185]</td>\n",
       "      <td>179.562698</td>\n",
       "      <td>172</td>\n",
       "      <td>481</td>\n",
       "      <td>0.081710</td>\n",
       "      <td>0.228504</td>\n",
       "      <td>8.171021</td>\n",
       "    </tr>\n",
       "    <tr>\n",
       "      <th>3</th>\n",
       "      <td>[186, 197]</td>\n",
       "      <td>191.562698</td>\n",
       "      <td>153</td>\n",
       "      <td>634</td>\n",
       "      <td>0.072684</td>\n",
       "      <td>0.301188</td>\n",
       "      <td>7.268409</td>\n",
       "    </tr>\n",
       "    <tr>\n",
       "      <th>4</th>\n",
       "      <td>[198, 209]</td>\n",
       "      <td>203.562698</td>\n",
       "      <td>176</td>\n",
       "      <td>810</td>\n",
       "      <td>0.083610</td>\n",
       "      <td>0.384798</td>\n",
       "      <td>8.361045</td>\n",
       "    </tr>\n",
       "    <tr>\n",
       "      <th>5</th>\n",
       "      <td>[210, 221]</td>\n",
       "      <td>215.562698</td>\n",
       "      <td>162</td>\n",
       "      <td>972</td>\n",
       "      <td>0.076960</td>\n",
       "      <td>0.461758</td>\n",
       "      <td>7.695962</td>\n",
       "    </tr>\n",
       "    <tr>\n",
       "      <th>6</th>\n",
       "      <td>[222, 233]</td>\n",
       "      <td>227.562698</td>\n",
       "      <td>170</td>\n",
       "      <td>1142</td>\n",
       "      <td>0.080760</td>\n",
       "      <td>0.542518</td>\n",
       "      <td>8.076010</td>\n",
       "    </tr>\n",
       "    <tr>\n",
       "      <th>7</th>\n",
       "      <td>[234, 245]</td>\n",
       "      <td>239.562698</td>\n",
       "      <td>170</td>\n",
       "      <td>1312</td>\n",
       "      <td>0.080760</td>\n",
       "      <td>0.623278</td>\n",
       "      <td>8.076010</td>\n",
       "    </tr>\n",
       "    <tr>\n",
       "      <th>8</th>\n",
       "      <td>[246, 257]</td>\n",
       "      <td>251.562698</td>\n",
       "      <td>162</td>\n",
       "      <td>1474</td>\n",
       "      <td>0.076960</td>\n",
       "      <td>0.700238</td>\n",
       "      <td>7.695962</td>\n",
       "    </tr>\n",
       "    <tr>\n",
       "      <th>9</th>\n",
       "      <td>[258, 269]</td>\n",
       "      <td>263.562698</td>\n",
       "      <td>176</td>\n",
       "      <td>1650</td>\n",
       "      <td>0.083610</td>\n",
       "      <td>0.783848</td>\n",
       "      <td>8.361045</td>\n",
       "    </tr>\n",
       "    <tr>\n",
       "      <th>10</th>\n",
       "      <td>[270, 281]</td>\n",
       "      <td>275.562698</td>\n",
       "      <td>174</td>\n",
       "      <td>1824</td>\n",
       "      <td>0.082660</td>\n",
       "      <td>0.866508</td>\n",
       "      <td>8.266033</td>\n",
       "    </tr>\n",
       "    <tr>\n",
       "      <th>11</th>\n",
       "      <td>[282, 293]</td>\n",
       "      <td>287.562698</td>\n",
       "      <td>188</td>\n",
       "      <td>2012</td>\n",
       "      <td>0.089311</td>\n",
       "      <td>0.955819</td>\n",
       "      <td>8.931116</td>\n",
       "    </tr>\n",
       "    <tr>\n",
       "      <th>12</th>\n",
       "      <td>[294, 305]</td>\n",
       "      <td>299.562698</td>\n",
       "      <td>93</td>\n",
       "      <td>2105</td>\n",
       "      <td>0.044181</td>\n",
       "      <td>1.000000</td>\n",
       "      <td>4.418052</td>\n",
       "    </tr>\n",
       "  </tbody>\n",
       "</table>\n",
       "</div>"
      ],
      "text/plain": [
       "         Clase  Marca de clase  Frecuencia Absoluta  \\\n",
       "0   [150, 161]      155.562698                  160   \n",
       "1   [162, 173]      167.562698                  149   \n",
       "2   [174, 185]      179.562698                  172   \n",
       "3   [186, 197]      191.562698                  153   \n",
       "4   [198, 209]      203.562698                  176   \n",
       "5   [210, 221]      215.562698                  162   \n",
       "6   [222, 233]      227.562698                  170   \n",
       "7   [234, 245]      239.562698                  170   \n",
       "8   [246, 257]      251.562698                  162   \n",
       "9   [258, 269]      263.562698                  176   \n",
       "10  [270, 281]      275.562698                  174   \n",
       "11  [282, 293]      287.562698                  188   \n",
       "12  [294, 305]      299.562698                   93   \n",
       "\n",
       "    Frecuencia absoluta Acumulada  Frecuencia relativa  \\\n",
       "0                             160             0.076010   \n",
       "1                             309             0.070784   \n",
       "2                             481             0.081710   \n",
       "3                             634             0.072684   \n",
       "4                             810             0.083610   \n",
       "5                             972             0.076960   \n",
       "6                            1142             0.080760   \n",
       "7                            1312             0.080760   \n",
       "8                            1474             0.076960   \n",
       "9                            1650             0.083610   \n",
       "10                           1824             0.082660   \n",
       "11                           2012             0.089311   \n",
       "12                           2105             0.044181   \n",
       "\n",
       "    Frecuencia relativa Acumulada  Frecuencia Porcentual  \n",
       "0                        0.076010               7.600950  \n",
       "1                        0.146793               7.078385  \n",
       "2                        0.228504               8.171021  \n",
       "3                        0.301188               7.268409  \n",
       "4                        0.384798               8.361045  \n",
       "5                        0.461758               7.695962  \n",
       "6                        0.542518               8.076010  \n",
       "7                        0.623278               8.076010  \n",
       "8                        0.700238               7.695962  \n",
       "9                        0.783848               8.361045  \n",
       "10                       0.866508               8.266033  \n",
       "11                       0.955819               8.931116  \n",
       "12                       1.000000               4.418052  "
      ]
     },
     "execution_count": 22,
     "metadata": {},
     "output_type": "execute_result"
    }
   ],
   "source": [
    "frecuencias_cuantitativas(df_csv, 'CholesterolTotal')"
   ]
  },
  {
   "cell_type": "code",
   "execution_count": 23,
   "id": "0063aed9",
   "metadata": {},
   "outputs": [
    {
     "name": "stdout",
     "output_type": "stream",
     "text": [
      "\n",
      "📊 Análisis de la variable: CholesterolTotal\n",
      "👉 Número de intervalos (bins): 13\n",
      "\n",
      "📌 Frecuencia en cada intervalo:\n",
      "Intervalo 1: [150.06, 161.59) → 157 datos\n",
      "Intervalo 2: [161.59, 173.12) → 144 datos\n",
      "Intervalo 3: [173.12, 184.66) → 167 datos\n",
      "Intervalo 4: [184.66, 196.19) → 151 datos\n",
      "Intervalo 5: [196.19, 207.72) → 162 datos\n",
      "Intervalo 6: [207.72, 219.25) → 161 datos\n",
      "Intervalo 7: [219.25, 230.78) → 149 datos\n",
      "Intervalo 8: [230.78, 242.31) → 172 datos\n",
      "Intervalo 9: [242.31, 253.84) → 157 datos\n",
      "Intervalo 10: [253.84, 265.37) → 168 datos\n",
      "Intervalo 11: [265.37, 276.9) → 163 datos\n",
      "Intervalo 12: [276.9, 288.43) → 175 datos\n",
      "Intervalo 13: [288.43, 299.96) → 179 datos\n"
     ]
    },
    {
     "data": {
      "image/png": "[encoded data removed]",
      "text/plain": [
       "<Figure size 1200x600 with 2 Axes>"
      ]
     },
     "metadata": {},
     "output_type": "display_data"
    },
    {
     "name": "stdout",
     "output_type": "stream",
     "text": [
      "\n",
      "📈 Curva de densidad para: CholesterolTotal\n",
      "Esta gráfica muestra cómo se distribuyen los valores de la variable.\n"
     ]
    },
    {
     "data": {
      "image/png": "[encoded data removed]",
      "text/plain": [
       "<Figure size 1000x500 with 1 Axes>"
      ]
     },
     "metadata": {},
     "output_type": "display_data"
    }
   ],
   "source": [
    "graficar_boxplot_e_histograma(df_csv, 'CholesterolTotal')\n",
    "graficar_densidad(df_csv, 'CholesterolTotal')"
   ]
  },
  {
   "cell_type": "markdown",
   "id": "ab76e4e3",
   "metadata": {},
   "source": [
    "Identificar si existen valores atípicos en las variable Colesterol Total, ¿estos valores podrían generar un falso análisis?"
   ]
  },
  {
   "cell_type": "markdown",
   "id": "29074b77",
   "metadata": {},
   "source": [
    "### **<span>Variable: Triglicéridos</span>**"
   ]
  },
  {
   "cell_type": "code",
   "execution_count": 24,
   "id": "94de3975",
   "metadata": {},
   "outputs": [
    {
     "name": "stdout",
     "output_type": "stream",
     "text": [
      "📊 Maximo: 399.9750224753191\n",
      "📊 Minimo: 50.11360418775354\n",
      "\n",
      "\n",
      "📊 Medidas de tendencia central:\n",
      "-Media: 222.9404998224325\n",
      "-Mediana: 222.80245198268625\n",
      "-Las modas son: [337.3071139948232, 264.63552148532744, 395.6626489615112, 362.189688382462, 149.95658606233192, 253.7973339365577, 319.85481544744806, 390.3443987692356, 214.60459051964023, 208.05195449418832, 388.8496409551816, 211.46855584040853, 110.14433841517524, 239.2732757786737, 200.05642563886656, 304.4557584088065, 190.54626109586232, 352.35893173645053, 312.49655245910327, 279.6186821126466, 320.774918150783, 179.04849017679257, 384.26573845440186, 385.1932515562724, 352.5856660839363, 399.9365986453812, 299.3743443280048, 319.28810866147205, 397.45255239047367, 95.16151366222618, 394.1659471041083, 338.41853336916074, 258.69187686327723, 162.0150894708407, 225.22677950782784, 216.08168704195907, 170.22695658425857, 185.4576159277748, 62.24847869430171, 200.93710091166855, 275.89501369354286, 395.810315946801, 102.1958230509568, 173.37570978963845, 251.70935845883943, 227.02949370245105, 363.80742483524415, 234.8155767936259, 194.88136128563545, 177.3553074398544, 368.2578712520181, 269.50876984543595, 253.97500331783507, 231.19172643164563, 336.86521214805475, 399.5916263069856, 163.40793993714342, 147.66071467013862, 205.55268796755755, 111.35704914013898, 167.44792704658943, 365.2352967558006, 222.52296085407613, 215.0724116903212, 349.48524895275966, 158.90504118189557, 259.5365913400781, 260.9245726402969, 89.59543247014457, 370.7227632435506, 127.11933451021878, 112.49540036306766, 71.00770272549576, 205.09776273122625, 174.15290689911262, 61.494616125947104, 370.3620820016868, 290.19535467721323, 145.73373333308058, 245.5799080251313, 151.2078263814421, 79.1345838288598, 98.1435583851444, 241.7233909517814, 55.66013099944887, 303.22504368620366, 377.14288571446, 276.94008499952395, 99.24758580100524, 227.66029782987343, 149.09253980068684, 322.8153382335002, 102.7758819529562, 265.4796420003468, 220.1553724112234, 139.265156826848, 201.47419304618376, 337.68774555861165, 341.70547132681827, 230.26645321130297, 151.93750477664017, 120.7135437983965, 119.65766950020246, 168.71084095061997, 314.09360195808654, 63.7808270273329, 125.55894177921188, 257.6627342266167, 234.7207532998481, 190.9843267173069, 220.0804887744652, 74.19402702054522, 239.57518640860548, 220.5388932890642, 392.1127487889741, 146.28204568050484, 210.3313089178695, 377.8192058129954, 177.73748579044317, 60.60398613004405, 173.73166495086036, 105.41427478363532, 208.55941345535408, 274.39302294689764, 220.4066991808998, 308.4151533665973, 261.56189079467686, 374.8804383535663, 286.38133753215584, 147.76408780156896, 296.50085861951163, 186.6239294212995, 334.2655473003762, 132.09853703182392, 249.10282233678925, 256.0603151511436, 182.0258584130382, 107.43901817769876, 65.10541375421559, 240.3021825947185, 77.88762891802999, 254.3251665450515, 222.42815000940936, 222.20300148078556, 216.1295314515432, 237.55140032082195, 347.0633163360889, 191.03378450246385, 303.4021392313522, 373.022773177145, 81.13595327708724, 196.40839459553743, 251.8640195806712, 395.18559327053873, 189.46801811953503, 72.89841514294268, 246.5285488141093, 212.28759650491003, 287.975745943254, 177.68499208998043, 356.23713613696583, 309.2194751793948, 255.2224940845504, 223.89367239281395, 333.6391735864339, 123.5295286419394, 171.6649213849815, 283.69224753417654, 240.43835353795464, 74.8392951335154, 209.293055179074, 79.79906217573576, 295.1081725661005, 372.58579380173495, 243.324066462282, 134.2785030828371, 279.40415445217195, 378.8992297907807, 125.80831763379902, 300.14665686687204, 273.86903027791993, 86.81494740065807, 79.40418712458255, 344.6178307192713, 231.4725102720884, 336.7046700403636, 272.73673977144426, 275.47344105037087, 372.5613860911279, 106.35619116486824, 186.2677313619904, 165.1191297886803, 310.16359785125934, 283.0794931126213, 331.6796511003212, 63.09139515790017, 222.83051906165173, 353.6801637539912, 398.7035277544268, 394.5387241086195, 109.72755113953475, 292.1090412358657, 356.6989718629088, 157.7478940342599, 346.9360960910293, 187.2145066799684, 59.04163905362702, 96.84248462623891, 77.11589665903007, 188.3513168591057, 243.58751178922893, 319.73836138346377, 154.9019403440998, 254.0303515942348, 51.22059675360091, 316.0930003811839, 147.8520426317499, 82.37722894440856, 355.4895027608478, 255.19945346122907, 374.8773268774853, 84.09414054376748, 93.61356922730414, 304.64818380233214, 352.9887441488449, 376.47797105324463, 122.88977612323252, 354.00683302253344, 346.9492396935901, 190.10344731366487, 149.93019786785118, 195.8729091542524, 134.41433940759384, 160.12797671755965, 333.75872143446, 344.647088394172, 203.811168832424, 331.9616373961363, 157.95659956516022, 147.3460205053563, 55.45631200374925, 308.6526076219983, 54.934530619877336, 259.1088168412035, 99.6482477493336, 253.08220726504987, 200.7620365838312, 277.8043046945585, 136.99645582416105, 312.57944939232254, 145.92634550739854, 168.22231802814136, 72.11437726323173, 173.80667679830347, 234.9367912732829, 62.14897305187272, 373.89341742424097, 255.8355957469668, 238.449550018034, 230.85290564576584, 307.2448594787264, 372.7740311254343, 80.59350657599515, 196.5707040438839, 176.5380990031984, 392.7776720611344, 150.02711067243968, 393.14716073734047, 284.4641201957279, 131.7924786054157, 95.40059181900824, 76.91461421751367, 263.58749745142666, 277.7675363677492, 212.64216111125705, 376.9728917920309, 319.4891057929717, 373.5473139847824, 55.99444136151609, 192.9184376850148, 297.42759240805697, 115.181637463091, 374.6151301982178, 243.3734880050721, 306.4458583668105, 355.93242392054395, 105.19931107516246, 325.01261614894304, 93.35506340910032, 141.7041922569082, 88.18332908020082, 89.56717602238373, 193.26509508696992, 61.21305077008778, 290.66161601818294, 174.2769102206476, 140.5662484021846, 281.98229836596846, 132.24750895213137, 120.45413611776232, 146.44875897286718, 263.1529509497418, 300.9786387627024, 88.78698483574458, 188.38730866649573, 170.34497419377573, 269.21653600317165, 382.48881236461824, 218.62709522315492, 177.90698543336205, 325.2311852013821, 99.80582262679606, 320.0740333565847, 357.7135638526943, 372.05180976161546, 79.50754404469075, 345.5808873593604, 366.20364408020623, 183.6014554044547, 273.8674642232869, 90.95817631794291, 334.9607746643097, 50.26608864402549, 206.0024958567246, 336.73392300297525, 167.92613958788365, 202.14225441603665, 89.35323430051952, 195.02556295842547, 230.08926856862428, 177.08437210851235, 353.5397822381232, 176.0529646501504, 221.74684347068012, 142.52238264550087, 365.0544679313599, 139.3164874386256, 211.26714348080927, 218.33895689848896, 153.2946412907339, 292.3426014297046, 326.3369838618752, 115.41379887253444, 213.97020074044005, 72.37863411801706, 303.346888008989, 184.0809388925312, 86.76728655662414, 279.271728844351, 53.26970116589826, 70.84442289997483, 204.5216353341972, 363.56822790140944, 223.06552572427591, 379.9246648205285, 181.49968429038375, 205.5688018217424, 170.86275596999067, 218.12987963608805, 214.98453850851288, 362.7554173213683, 215.42283564022264, 388.696725749501, 297.6827883802889, 122.788858336285, 194.718983946606, 100.57631899642212, 321.5515811301224, 353.62277262417774, 330.93500640566475, 392.982689225496, 115.19791625503046, 106.6458551355994, 307.7349195972159, 117.1824235852869, 186.67100697852092, 321.28019499494627, 53.5139024080842, 343.910985104431, 251.3711821218477, 66.13862695694529, 247.8790522962039, 265.1371759151001, 264.3124778165694, 150.3832353736901, 142.97214651633294, 226.28854121772716, 138.13139598841963, 395.2269397552503, 203.2390941489046, 333.47371709280736, 65.24093240650251, 74.79634044579748, 120.51719445817427, 389.1360375861744, 300.68135031855627, 272.8808874452308, 58.74137873818015, 295.65007697202134, 173.78107899108176, 316.13753943615166, 113.34303468551605, 300.3340005542535, 259.6941322877317, 213.26875350984776, 123.0787465386043, 229.7940911659228, 105.60969319346184, 89.39975212560405, 68.9808322228186, 157.43812635904462, 138.59034353864786, 156.11839398803883, 307.2715737828483, 231.84598034840064, 240.48919819362604, 274.7473595067497, 209.0706324492908, 57.62647240841517, 96.73445294234494, 267.6191682981133, 253.27071723927372, 297.9313323013498, 227.45798024025905, 179.92250597138596, 231.17462989613463, 66.65349462660858, 316.94968165492327, 51.75808295739151, 306.4469540762753, 203.80230183757925, 82.52271504444985, 56.27653573248472, 317.64848536904174, 283.6951770191656, 266.70913759985046, 69.88753489459882, 85.68611480213869, 177.17970237728292, 181.008870735497, 121.2981140305266, 99.77490186710436, 85.37674732295797, 245.83481381283315, 387.4397616108713, 349.2001628267193, 142.12848922344773, 351.44122000941417, 240.63912607816465, 168.15897371923273, 70.20028124450843, 289.1798218784368, 146.9931155381432, 216.740397446078, 280.0519867627462, 385.0014318224297, 74.78196974575653, 72.3832599721593, 236.94170618561955, 289.47699344141427, 87.89103080022886, 56.1437850289572, 368.006966881568, 390.700283260419, 376.673854747267, 357.51894733553326, 194.57245105805185, 309.7830214213831, 386.97981972486906, 273.0778875450539, 69.40123795912764, 321.687477940872, 237.2908073990015, 168.38781784173415, 292.0828309247388, 330.79920124518947, 197.88462928718573, 323.63989162340295, 245.10724455123844, 295.5415983140842, 54.26203200138469, 107.20389642392252, 253.80857167784967, 284.7267281278344, 393.60593353718633, 57.9058987826763, 379.7830725865379, 126.92203482337638, 280.3790455428088, 265.05772391261, 286.068539075612, 248.5070834313397, 64.40434981270981, 160.04257560975964, 258.9537792609753, 389.2028127985451, 339.2514221431384, 78.28288417535991, 58.86475894070461, 68.90341637638448, 314.5888346384301, 319.1231576971712, 186.5681520141925, 275.07385538312514, 236.16427377431023, 82.8006987492503, 114.48039897856016, 51.4221065130422, 342.0713226367079, 109.17771347112932, 225.21192602197576, 72.44102026840132, 242.51356928548785, 249.79538369267337, 299.6627670093376, 224.84170191747867, 342.82545181597976, 73.2051580411899, 202.84117663574952, 387.1285095321794, 188.6574975276862, 334.00481095359135, 72.26853490985044, 399.1213353113413, 245.72923739744135, 188.33009277651996, 257.2881526205338, 168.04537190329737, 353.29532415404174, 159.2626115364249, 112.03022841671428, 130.19212386168084, 207.16788581776493, 95.2043353775679, 100.30718268750418, 391.6002722163775, 61.52574725725802, 184.10701426729776, 340.8196258160486, 132.461697343354, 77.34429143853752, 325.2396220953374, 337.7131589093627, 358.5122266855193, 274.63784140602286, 152.8055489715179, 267.0348113599582, 245.56985662441895, 186.40362418428865, 276.6031153013087, 263.2791930600307, 262.5543699261509, 163.14483286294643, 89.71912135973417, 377.4237876201868, 83.10084444631877, 227.1068749706004, 285.3557494848966, 186.2368341848387, 269.8310240178196, 53.90332711261656, 235.4009297755048, 199.5057414430573, 183.66280602033152, 139.47900908621222, 330.982845567043, 200.3617454130745, 97.34737780839504, 199.2062928588712, 329.4122129583582, 346.46644586316125, 380.01192503036646, 343.9998603267339, 347.62255694381406, 323.88464008760786, 230.3703731027649, 122.59475008866836, 171.81864041891944, 334.8266471003393, 90.66276951097088, 86.02989745043102, 166.98197158337956, 323.5537124996541, 283.7737631087915, 397.3276945010153, 367.9649422070168, 230.9325403679204, 281.3749355549509, 92.34148000985552, 138.87791990389894, 110.72956861674928, 311.21191791607635, 75.6287302775706, 353.42392052162234, 126.72191644986071, 161.5063929672981, 346.7300284851939, 223.9395627698038, 300.38604081663226, 59.62281767707493, 55.36344638896063, 213.40764287951745, 347.03875619570186, 397.7110380780177, 152.8841003488224, 129.0495335199389, 318.2422990471188, 105.09626639257894, 380.7702032834688, 156.83838676673855, 105.538330618374, 177.38630678573588, 253.3015746387428, 163.20430013698598, 292.3203037479292, 196.26648927813525, 161.86502121529895, 388.18189687774793, 186.623184511573, 391.6058013639934, 352.4462747328509, 122.54174185412788, 277.8976507571644, 118.4291287386649, 107.04074644570235, 277.5796687337461, 97.69777824778106, 360.5643389659516, 324.71972622972794, 175.68412441629056, 144.71618758978502, 179.92152233322437, 167.6557463599161, 377.0087911054797, 68.55978455494211, 232.0021886927492, 228.192822943318, 259.3865749315683, 65.05139816009002, 247.54616375208929, 222.65289613385403, 50.11360418775354, 254.52407449417808, 191.03841120409265, 64.53695133891362, 152.13414744484015, 111.2635653087572, 376.2926522299033, 393.398263848433, 224.4576757529466, 73.24892537306074, 359.57856823621535, 314.5158773651266, 150.29168467267584, 311.9239235063628, 341.93816575080893, 76.00573193558066, 133.28006503571638, 223.6968386685089, 209.442351508962, 264.2062940025776, 69.65875984894465, 137.08438713161118, 353.3209355717488, 70.04072033183476, 248.15389852947112, 52.22557385500878, 50.36894734072872, 207.5776247510373, 304.75651941117985, 246.63505575344396, 293.21060038744355, 238.64543471514293, 354.4106405741597, 98.81665898423086, 222.8984444221038, 245.4632618274341, 96.4522534686516, 258.21345409075207, 375.12741651043655, 319.16896124644086, 249.32917247048053, 345.88742976477306, 280.52618903139125, 120.79554114690868, 133.10844692305608, 88.90313362696918, 187.31527443641025, 107.09291878517368, 294.1156346597913, 277.4943940926522, 120.64340561549704, 303.14993546929827, 155.4978364160938, 122.70681679169974, 126.37443255714398, 118.28599811238264, 254.96168698208567, 97.96859773583968, 87.27459250571013, 163.3330981025034, 84.08472980025836, 202.45242080111228, 68.02577918743246, 174.58949734291042, 341.14952649770817, 126.80354788856462, 130.86811242443736, 303.8377972555756, 179.85315809008335, 109.7547996090135, 259.0472287933914, 114.53173408356508, 330.52069223791096, 361.1300661943425, 170.78961675682604, 240.2421725707009, 337.520346681371, 326.2233960532432, 337.1572888142736, 87.6578058646707, 167.80746676340257, 215.76342131491973, 104.09296856584528, 314.86491769930524, 52.42407591525296, 124.0577928534896, 397.5669911383261, 227.194374731447, 62.98974287619071, 228.09200440504503, 142.6097247091525, 270.3393172737768, 311.57983939119987, 61.44908758028344, 298.65769983994767, 68.72789041909262, 135.63120950390612, 320.7752875042946, 248.31348604016452, 181.09668813042956, 312.6161946835634, 310.9661220449921, 200.0229725779491, 293.9441406540012, 77.39660461945067, 272.86174334166844, 60.515490949287546, 187.5039487820163, 182.1426695672763, 397.5200601565536, 112.47448411698356, 281.8783224784352, 331.7680094173744, 255.794370100719, 65.53116526987336, 291.52987246244845, 132.6960674375926, 196.50975065855027, 113.32620147713534, 135.02338234887225, 219.8466336720069, 303.9345370200971, 208.3508173450512, 243.3209456576976, 394.8181215621641, 193.2628132861504, 330.8002590231937, 252.40227839495657, 149.15866214493002, 259.71749777877494, 106.30618529139088, 367.2085606339412, 236.7083875790718, 350.6998573258734, 398.93512647936734, 295.7576863589603, 257.23806796376186, 80.32714069268835, 67.23527547367104, 57.753204250324025, 168.02354899931422, 326.4713536252374, 377.3745821521488, 377.2156566608304, 321.73748237969954, 334.1042216078018, 220.39199037692583, 109.47100291972778, 136.44316489038516, 56.44997653375065, 289.6159101322963, 384.0375900852548, 160.84968031009996, 116.03862917824938, 393.1347155311041, 277.2471844619249, 89.61845112606784, 330.99959785387665, 287.40613985071354, 195.3455060602078, 272.95059147045856, 145.28682205915027, 82.36217671640108, 235.3349887374204, 236.18165138490977, 266.8299407626518, 316.6664660877451, 305.7494958115124, 381.6447248491265, 376.4854437590439, 214.3909116574388, 345.22866624237355, 340.94471411328936, 174.57263252889533, 234.34920485123112, 129.80977772964343, 282.80768545978674, 321.6983180232432, 125.27633973835228, 121.41586339835204, 83.73523886864005, 189.05151556748973, 226.2114948637645, 296.73035771693384, 371.8653086375896, 98.94511926715508, 348.4950240250652, 55.93250552893246, 148.83044794250765, 195.8290063974173, 315.0498818145663, 69.90316026520658, 256.07764930355603, 57.84270397889567, 269.338802250627, 391.15371037636527, 253.43114536334247, 349.64559843432403, 384.0507620559717, 205.2218404207188, 361.1758746217908, 396.39305226573066, 325.77911361762426, 62.01776097112846, 392.11709722851066, 101.23732123636928, 110.95805253951242, 235.8627029715456, 245.8044926534614, 366.2250424436088, 151.61062409746626, 242.56079449381917, 221.6918743735345, 222.6349715930924, 372.0141789068738, 74.94172757311927, 98.22948581327796, 399.5398965231353, 122.9248901474592, 305.3568154406091, 211.401236483684, 268.32041955928685, 184.81368354982752, 289.3451927575092, 313.141400140936, 123.76254810703816, 335.4535429481089, 191.10770416470749, 388.7882906077309, 284.7190282211741, 203.36032569397335, 371.39672584807374, 116.6383268002791, 112.28672408186812, 97.99442798297528, 95.68281021780402, 276.61671769568784, 66.03296772768412, 188.77066531645437, 276.62445124810813, 152.12520064387826, 360.9235759606597, 368.7282298728464, 80.16149773617833, 155.65058198994393, 376.1957149683279, 161.72875236270858, 224.92116377232657, 313.9507814520685, 53.3500691452227, 290.3988696732035, 306.73289861522346, 272.82251381427784, 53.593745364174936, 315.0960998896278, 153.43738894993817, 70.72263689042848, 200.9543222399165, 355.681163798462, 139.79012500715297, 256.7702945291244, 244.36575716053477, 93.60120276424054, 220.1860263157631, 88.43481819010364, 261.63436532966045, 55.809865366097085, 190.17147655391625, 335.6291137816988, 276.45862124410155, 119.61814559208328, 178.71714672025175, 138.4231180918012, 153.89088005107288, 267.71738995949795, 228.615269119007, 371.01916147112576, 80.1434596056685, 228.3952160995263, 152.1645712719241, 71.39038522305268, 59.78813321045885, 232.83227904042224, 244.81805272508868, 234.4591345423428, 337.91726700435635, 365.9085773263899, 146.54541075806313, 278.33475825018616, 167.76359510325753, 359.33483784794004, 65.40840743502186, 199.8779908167309, 292.5536400443069, 52.715171524267504, 346.0621801885944, 302.48676872429024, 71.6067548069478, 296.2753072908978, 317.64163620462494, 100.27473297571996, 271.4650809335873, 53.376534760999256, 78.75872483466544, 334.47009711772904, 160.6899039770025, 231.6184572345533, 369.0386342496898, 59.88457242805544, 169.59039102432516, 340.78138620611384, 323.9072553325944, 138.08793730049666, 279.55405363980253, 185.8303951387795, 225.21788860824896, 88.02649600379388, 243.21283487725717, 291.35950676347545, 113.48876371075582, 387.82631684271774, 329.85431846676227, 383.3502937344319, 213.30793303790188, 71.06169624542166, 57.8270340663676, 162.6156757199018, 277.5448791191401, 219.44806508911776, 196.5671119105706, 288.9278224656854, 134.7308107967472, 254.63458560040567, 155.05050324544135, 332.4612955163301, 153.5969641889277, 339.8826099277301, 193.59298155302017, 367.7324363978866, 384.6300671845314, 92.91079276231248, 256.056201166104, 331.3822979030653, 371.8281734307651, 354.4682018102701, 277.1001278884604, 287.11352169700683, 103.60909288691546, 285.8966153280703, 108.46587338077371, 56.08140610845611, 88.09146612941859, 360.69670308238335, 292.69570703554825, 269.91080167190245, 256.68574892821795, 338.7023777597121, 112.47470170248104, 73.36372456107964, 385.51746559129055, 117.23941762030412, 66.05543547293307, 193.7043451354944, 335.3213653778106, 83.6649333173524, 354.6986033787665, 162.50390030299138, 107.61327092603332, 208.79747063725475, 193.52426548156976, 67.78559543417158, 156.03240963519852, 310.3308023889055, 252.44635474163263, 191.01513722768985, 144.26701193573018, 314.58939095025727, 152.13823322105264, 367.8701328278663, 226.33912921738997, 185.44688165606976, 368.537474297192, 94.01656553189964, 73.7458441969147, 280.0013415874126, 311.6991090975843, 145.08104075061556, 66.69631235254327, 77.29400414240247, 337.78166606971934, 276.4668750010401, 88.29110167606915, 345.4725042250923, 67.72712548940692, 58.848020335286, 314.2407839310935, 397.99828079731634, 236.56903255631772, 271.3931579989547, 85.034599558532, 265.970806933008, 60.68026166329577, 364.5861791439267, 226.1673381572041, 292.5373241577447, 398.2630503888877, 126.54278343821969, 126.78578627778136, 371.8417792168948, 320.07603800387346, 218.05911032264768, 381.7595184443018, 138.01227632378993, 314.08643634796334, 374.9243455721155, 257.07945115994744, 338.69258609923287, 385.10012841112353, 271.2284647010516, 313.6439700010492, 187.1961639347033, 326.5078246628952, 348.5303618752308, 200.91080144813083, 287.11804177241686, 56.14405093117337, 384.536129112698, 313.66674876926953, 307.88377510322965, 61.61017337799829, 114.49029124031745, 178.14254243212176, 249.54180858891172, 321.83591229512456, 395.2862331606962, 83.0615546539648, 147.52109610308793, 359.7827436377154, 380.37822129571146, 352.9716950352435, 176.51904300222265, 171.77249215638017, 243.49142938900715, 355.8383408538911, 58.60482423018248, 165.0412060280127, 124.9075660368564, 371.4754135400885, 264.4409208228391, 106.69959377591596, 331.5206479868731, 194.33029972277475, 127.94058408571576, 141.8223346605294, 76.2468493883, 156.96505639042394, 177.46838067594382, 269.51577420827687, 134.82837639856265, 65.9176846767334, 214.12020371723187, 237.9871066131171, 288.5116950999044, 50.80362376506214, 395.8297966388101, 296.7380306835281, 178.08526968958603, 390.23318751117495, 173.5991317555768, 121.51717249419492, 271.99659349790227, 149.1981032442211, 291.09541222547, 312.2421458737083, 208.82832879577788, 100.29533174305584, 262.1520890123054, 152.26577711595513, 316.53469754459843, 278.9276537313441, 166.79901117954017, 300.9052006624399, 371.198845452085, 327.58982540150987, 90.81107760864714, 54.76658663774376, 346.13587107541474, 55.77496029625526, 64.86268465706803, 206.16064273705587, 69.06631480349482, 130.15927862646464, 220.05562604220145, 141.21296008716865, 321.2530708632473, 199.33458142039444, 214.09879161189227, 332.2364853581442, 160.70849035856935, 119.28062709886424, 124.13596848111656, 102.7403403123136, 232.6577819813255, 156.49738742059793, 336.6484219992404, 394.13428056740526, 163.88861035877028, 376.6885559283469, 193.49960951117131, 373.7222494668301, 175.77640559743702, 342.78017436320727, 311.9445670878576, 178.15654947550132, 271.88904092931625, 322.37836270489146, 91.38951994140206, 135.3179587427873, 346.3662472378811, 233.95800966315875, 231.56096385399968, 328.7179912672931, 158.8833473706385, 199.5491452293448, 103.14574189037468, 244.36405435127827, 303.8681868466394, 372.93373680361367, 328.2989976458721, 75.2502843541475, 67.77389130513082, 306.486562828354, 173.91115317985063, 130.67904716277826, 379.1965393664733, 248.53160922548923, 393.6732952083219, 260.03367647769846, 50.91153923685614, 148.62639460173227, 359.08665572147686, 95.15935716888616, 91.32309409240176, 127.74769343293218, 263.2817298302796, 265.3489794973916, 229.5549568060496, 183.97821256119616, 70.70864641212069, 332.61532809870886, 80.15376209772853, 315.88406064610234, 198.93324550385216, 227.4497726163155, 171.60886903737662, 376.0247672571549, 50.41205582347184, 78.53142508066554, 216.644599707192, 330.74191730370325, 218.9971665566274, 127.86097730057271, 293.6315760029154, 368.5322498859455, 318.22774217966503, 278.0577329456736, 200.13179696821575, 340.3634986983186, 218.74719707104157, 318.6768379773161, 277.9474767835145, 158.63529390089548, 200.1367819506228, 162.14347658173256, 349.0832210377695, 228.0656751393199, 253.58769053039933, 96.06645045476228, 83.96411466967564, 391.1529033888247, 352.20194540381914, 269.76715920187496, 141.34054601769174, 249.74622436145475, 340.8994382361741, 118.09830604768788, 128.09493383154148, 243.66843218973275, 85.84922141344975, 304.8712139621612, 66.87141659727028, 114.93117647045746, 134.26160921259674, 58.04382689646465, 97.94916357126436, 143.36754384743733, 89.3818217778828, 150.76132142445672, 153.43540959590018, 78.94024849255445, 208.30988679629135, 291.6196864952334, 264.3856028292788, 235.9414075268554, 274.7018938120659, 161.70476981670916, 262.5381867869986, 194.17566513173549, 118.1598840668408, 254.1002511562059, 119.83527334976507, 138.72357882324786, 307.61363694747706, 383.0830736358609, 172.80592374063878, 242.72205793580915, 190.44387945541396, 147.10252508363763, 383.5418022958697, 180.5233667412892, 388.9003530139752, 234.8523020953741, 389.2524561375696, 94.71165380268562, 294.72839255219054, 359.6453760759737, 214.13535848677077, 247.47206421749425, 73.53252285824092, 76.17114449312831, 97.35765668697078, 264.3574441837332, 149.75368010791277, 316.7975903967969, 328.25539770087664, 374.0762399706174, 360.1343160403265, 251.26754385330491, 99.81240908012856, 296.8519247579288, 221.1231740771839, 94.00336908032826, 386.99815621347886, 123.83762127007242, 286.6173207756924, 328.64571197424806, 278.9254524811911, 175.68462991514275, 127.00780852641684, 351.618852750631, 396.7528472168573, 333.96404135456004, 136.6948323578676, 163.8372276791897, 254.83202487778888, 256.4819211763153, 118.83096696749251, 214.3363490177846, 286.2870300285765, 342.97698132351246, 118.31914156572152, 197.0768190145391, 210.09853419866587, 273.8563141898242, 307.4294448751264, 118.63325206391328, 121.25846969345233, 179.51469414167897, 302.8955905584968, 303.0743050927207, 283.868540176863, 250.5653279689064, 71.42235111604924, 145.0109681984801, 214.8388499366569, 243.08820446940524, 290.17871725188854, 140.99063119982998, 124.84810561601724, 214.5766586878203, 376.5911454705972, 97.95698176793638, 227.24867499625557, 365.8618981131055, 371.3621077045862, 195.82281853434745, 376.9368032639236, 387.6544662870756, 70.04968564852206, 54.780520849185415, 357.1157765766338, 320.43698017787966, 146.78719642023665, 298.4249443066911, 337.26943337241624, 146.4756699624793, 125.66356926835888, 74.89419901853377, 259.55628084110765, 337.6164139075688, 211.6161815490241, 115.08173850125554, 115.83507401378448, 75.55354531405806, 234.11101985006124, 354.3621815387643, 123.57390352729692, 181.33235108207649, 193.38808331516768, 124.52711801650224, 177.16621169098653, 195.0334670452474, 306.07943245933865, 177.25106339734913, 392.7972979609322, 366.499842261272, 259.52398002914333, 397.6190075629816, 82.08763342422372, 273.0907149884084, 340.6976208735788, 179.31587891198637, 297.150816386876, 184.63143379059315, 206.56337901434645, 95.86420324211949, 387.6431858305437, 253.12421633351164, 68.4559388657191, 151.3450753413382, 388.21398412022, 233.87064171153725, 372.72871496394725, 357.7499158956296, 96.08752271445816, 123.3275268560828, 72.38603294258769, 164.54344128311652, 215.4691146147, 300.3442529292262, 279.0916523085578, 95.07083821486675, 371.56521583736793, 64.32478179055087, 193.32085629671943, 243.26701823781144, 144.7476741907447, 81.03316609635634, 264.4920787837781, 85.9330008336222, 65.97410785028455, 243.84759439708952, 106.41168634464644, 340.1970713705029, 183.91869411696524, 311.541704401058, 96.6082480961154, 62.60190362508359, 377.2878859511281, 271.92467837186007, 357.5505490374819, 232.77151023847853, 332.71729466442736, 124.22719654987507, 167.26980011401872, 349.63231339670523, 309.575249677254, 183.43273953459567, 299.8830256450142, 89.15101701732178, 76.4453598824724, 263.1999404784247, 221.63520786171384, 148.5858443720582, 61.91363379547484, 158.7757555175117, 130.2294854655646, 222.80245198268625, 119.39556080793749, 282.33351571539714, 258.60450626545185, 344.7652229174923, 142.55642927962288, 348.7690626345534, 253.36671846809125, 191.99055612237208, 237.44722756107188, 170.57839615756455, 157.6620049863543, 392.6792774324461, 378.7814387057535, 270.3302525954349, 389.8066504472272, 210.49412406470253, 118.55796328906884, 204.1137416123936, 394.999588741934, 313.69371659239533, 391.53556255112727, 94.37469845049884, 372.795528475713, 332.8303112095105, 234.13005056607184, 127.22544174783631, 127.16783647907528, 360.0868600863029, 110.60663668453932, 211.67133799806007, 151.25967204911353, 217.06791078106653, 278.31864905486134, 83.25130875940025, 389.03240505972894, 330.7502797385487, 192.8714763949544, 64.10205903133124, 350.8290209088782, 299.13322035689976, 124.63821314155835, 188.72152253461724, 193.69338210647535, 184.39246481947413, 178.90478190857596, 122.85796939556676, 256.2047102763504, 180.5683118555177, 379.7169433320975, 378.412149897806, 193.50587202591376, 239.12752664176276, 241.45304465017256, 185.85027021863132, 173.13395672686974, 358.65515305533154, 339.73018198894084, 325.58781420177115, 300.8400637745141, 131.62627371548683, 268.96041936072254, 133.69894784129858, 190.2937868794607, 88.87161869723505, 111.02175857308792, 355.03033288728346, 220.19569309487167, 54.34976504922396, 366.4724051015462, 323.00442619084805, 126.84201151451424, 178.0287106471572, 125.391064436947, 172.71851368016564, 198.82845660729444, 355.8761647421202, 300.0180015850503, 221.71552626958223, 155.31538534108216, 157.17589025077197, 216.73999872540244, 199.7147373478832, 207.10650518046043, 255.9427151130984, 258.9550838249396, 322.1864267564273, 135.26374556370354, 67.34031941476695, 228.60126929950783, 97.79400206231476, 178.03677904447628, 295.51614232846765, 185.97565035333, 145.91951816219702, 265.7229339713874, 92.6557548515646, 251.71916997869985, 378.6199941947946, 330.0927146648471, 257.5092560951582, 247.7859362301707, 54.43089967286004, 50.31045466565456, 356.8542508951895, 109.58141306567302, 269.71159515196143, 313.2030858823362, 93.4061822314216, 253.49365115296425, 95.39894160351471, 318.01033245693753, 360.13813177722847, 229.1567968061376, 271.57327185071085, 275.11703339312714, 111.7944145219837, 215.25186167771807, 201.71137930833748, 80.2726386104979, 91.39441154754108, 90.22518754687574, 354.1314490150548, 231.97214152812063, 50.524267112416, 366.00729710055776, 138.15883241198645, 312.9078837098631, 360.00804470794566, 309.3320443615636, 172.60311250058027, 281.0640825748104, 310.9897633455421, 183.3360543625874, 210.71200101122173, 192.2692708081058, 62.28077268990835, 304.189261915092, 308.82714364844423, 162.32543424220347, 290.2809658665483, 349.6900886212038, 73.72228708107394, 101.07250463097849, 68.45550643792419, 161.52505185352473, 178.2864187898117, 342.4083368839739, 214.4589207573005, 363.592233607127, 327.3879177265781, 85.53408509599942, 157.9641065888364, 288.34886089749534, 167.64579742124633, 159.91867455853134, 293.6698294351519, 77.34390886033933, 366.6407629404738, 326.2270645033734, 356.6484137955862, 271.01645694169804, 283.6519252900903, 362.4709476239524, 85.94530793797699, 379.8501438738, 199.2940239401556, 273.68370616049333, 362.4262043387355, 55.80130531113835, 388.533919053038, 80.78243093351284, 389.2001586303112, 388.0433699236504, 242.6687163615228, 244.1813297337215, 88.04002420325253, 95.81454922655578, 115.64054039969876, 291.1340701268162, 149.90751039499037, 319.8402821287221, 266.36158583372503, 302.07031461753513, 146.27588415451356, 88.49013651218772, 134.96618996731547, 92.65437880523324, 307.4097709355765, 60.13878961836133, 185.62542466721587, 210.03773446576105, 392.839125281547, 152.25203885008867, 221.08013755198743, 70.01959088570263, 374.8246980448606, 328.1245921311767, 201.07267672660643, 134.3595647192232, 115.22889331870168, 270.0939017554326, 73.54562755450016, 204.95423983989423, 340.8391017662157, 108.39885741344057, 259.5121596316722, 330.7039737435326, 380.5179966952464, 229.26294559997737, 210.42433943073496, 389.3514807349196, 329.64185199634665, 119.83741251919818, 119.01958616491876, 148.14626802560815, 395.1670712023214, 315.8839066722125, 305.88266580022935, 116.43735986659038, 222.9346416957304, 399.9750224753191, 78.35424893149502, 115.41489639099744, 249.35306223928376, 113.28523687963067, 118.72452450007496, 220.362674921798, 288.4131370816144, 291.1279945100242, 191.4404549944168, 178.43534295111172, 140.6826364422215, 74.38679057900362, 90.07060950291637, 57.47786142076811, 383.240268553182, 398.8936575260706, 168.62789834132363, 285.886239716143, 101.69801010585796, 81.62130935556483, 249.81940343341543, 83.1227492929674, 116.77630164488625, 191.27095133062508, 347.9831113734246, 319.26739292616384, 207.10030859055937, 372.3979845128065, 184.7718747637888, 266.72163536694006, 266.911875180209, 388.6546701796889, 265.2422068861973, 377.5910587014444, 206.7129383673841, 346.2113867287756, 216.09511821594225, 330.72832944146825, 180.37215032132468, 203.0971388927716, 188.52512298027517, 85.11896963468368, 252.24297933537417, 364.1790212721795, 387.5577666502097, 260.2386295496852, 64.76312153897888, 98.59305947486524, 143.47727479369863, 360.55052573048727, 162.70353206692957, 359.3605844024422, 212.5828836944546, 248.1634864521328, 246.6142136690669, 174.2763286671346, 365.65727901417335, 277.3511356354286, 212.4082400296465, 115.47327612546871, 177.61325771188422, 349.26465791260074, 68.17748903614736, 151.46851049222005, 398.6684415299036, 279.23106431080055, 377.2610088785823, 175.4362380886111, 307.7715187445661, 132.56919719482283, 372.8084371006312, 196.31878038363288, 395.5022351873924, 115.15821425901326, 271.2541781931972, 365.4166605443236, 280.580173108337, 345.2666945734841, 295.27240973802816, 322.66860397391355, 83.63556315654014, 112.55137551999486, 206.9348129706552, 223.41260784171425, 274.0801808650927, 379.7590720133584, 329.4734671166065, 345.37035202377365, 87.99553145439017, 242.60393908492097, 361.61828185935735, 74.52138682798434, 287.1442178155543, 64.64987256932974, 382.20743968818334, 114.66860486410675, 165.0831620774039, 195.53749362101016, 111.51879562364373, 121.54070713521564, 398.311672898615, 120.24554467987282, 102.48844809598786, 257.3774772992898, 296.1549620331409, 390.997717311507, 239.0850905345027, 303.12415869310746, 383.205995731108, 341.1910229119786, 71.47617877739506, 257.742194317448, 244.8016616347759, 321.1818214279968, 91.0208382571717, 132.52017434236382, 268.63274301674164, 62.70111932678115, 254.9202355448305, 258.4489441160463, 213.48272818475832, 68.41719498402168, 79.05855242345619, 79.1897050400987, 114.29259654656413, 382.4549009530934, 183.46298748084564, 132.15482863223343, 108.66231870814708, 55.77896542511543, 346.083201791435, 233.41906175454693, 331.48146650421893, 293.4302753438968, 222.6459448760592, 252.49134872421763, 374.28774444796346, 278.10017858209176, 94.57617919082024, 248.78266005941532, 194.7942634743548, 168.22318521062692, 228.37966484167544, 138.369125189989, 304.4097877070752, 228.41876164349185, 55.38026008095797, 167.45477143946553, 256.3398174165184, 141.62432127702337, 150.130321247848, 253.15979710618063, 288.9131482417083, 171.02009778049313, 252.9784666739757, 224.11393669592357, 369.18010914377777, 316.2402130075096, 261.085740416527, 398.7478704058138, 82.39751507812795, 383.6956403529523, 172.1904775332372, 352.1906070604145, 289.5614774913904, 241.983707413972, 218.2748380351022, 379.0617733293858, 219.82757270423303, 90.5822210169552, 111.80026571424892, 324.8789538306195, 175.17575183096852, 380.8688982415385, 269.37960739775497, 271.7720989660346, 331.3632117585356, 118.36749260976184, 227.46630609482008, 69.05727805035843, 398.71042854867807, 275.65252997201105, 384.27435375341565, 313.38212899461985, 238.14529263240536, 235.58479019603283, 292.7240541830208, 252.57316960166816, 149.93394918457, 239.58996962058492, 122.1938451403562, 241.5847656404377, 310.9750562654111, 176.85309405135595, 129.29930102433642, 102.80537343202192, 318.7475742898715, 121.71616822367582, 271.7579332128788, 355.2566469437764, 82.57336231805542, 65.10242830331421, 245.88571363699063, 202.8670758796003, 382.8170762795498, 57.15921759402738, 218.5597366456788, 329.1418965358052, 170.53764763144713, 216.6115643789171, 277.9700596401757, 315.0898028157353, 178.10588172188992, 233.66498232456203, 308.9880837102654, 341.95278964971584, 301.5688835906484, 180.06235056597728, 327.1739810492524, 153.0555950245825, 240.82042284088013, 84.84045518122508, 170.523654771398, 358.63080938246327, 145.88598103569495, 312.6439033192203, 340.9513349580254, 301.2014122823513, 342.8601279363819, 229.92433097207373, 282.99059178427194, 340.66429076556324, 239.89287145352887, 222.52098667430303, 307.8427998450543, 197.00350112319143, 142.41005714307403, 70.32862344553516, 387.98244596355545, 130.86708222161582, 50.20294524965748, 354.2113135622699, 324.12176063519985, 283.9163665259282, 335.95077883382737, 92.06137410288278, 310.450459804459, 357.4170868518354, 144.09757270302998, 246.8421599437432, 207.420798891164, 231.02135066948549, 164.46461550327552, 113.88015768032017, 352.4302998207124, 106.4328337603748, 57.994923406350736, 130.835541780264, 285.3615807140558, 199.4637471398484, 218.8566537182796, 184.92861089012104, 218.60324316617823, 334.47172447462697, 296.9468482663602, 133.9280551406202, 309.66924691081664, 371.7838162738957, 158.80133805475765, 87.69294482741014, 298.4300474258625, 112.86902373571876, 276.35424125062286, 372.0558687049901, 80.01129551505312, 201.43843782114632, 177.85326394578266, 342.80839727590427, 212.7471125136728, 323.9339380789447, 263.9427658718492, 94.34684530340812, 68.40264851648911, 320.9198694683302, 91.9154068381477, 326.0777741427181, 156.09976770403352, 301.63185379721074, 164.5807624405844, 244.4415953826384, 220.91933287528056, 263.35198913601994, 136.8191218290536, 323.05558915786554, 121.56002675073246, 117.98569122427206, 156.17676445878826, 314.2730116275357, 98.78371039273514, 222.25288571135556, 257.9801507722665, 373.7433690741273, 227.80647428116492, 136.437700049477, 245.46815817389864, 64.69980091357982, 373.0743575811735, 352.9096561306675, 269.97937809227994, 374.3867867096374, 287.97109007407005, 215.4989741401617, 134.43220404593478, 207.3455592251732, 127.56463035909766, 172.0295189077881, 134.7728742560016, 100.0474355608473, 92.17431571519576, 357.83642409172165, 128.4550085358532, 119.6456674855499, 110.3779026636414, 267.6422645400745, 353.5757758502131, 363.7615284570219, 91.85262061867064, 53.51339028633368, 380.9218441806096, 329.75801585878065, 369.09317363534296, 60.72957812553793, 61.7671975375205, 397.7114495757448, 222.29001732274648, 126.66927684229472, 321.457377038074, 130.8060188849611, 133.86407869488534, 107.95393060931772, 122.03660389992233, 100.31057385942506, 338.8418589264628, 330.5667006827018, 253.480725946811, 103.34381476779744, 169.10679203729518, 363.6298456250941, 309.1210041936767, 235.01950759250684, 350.35442585433515, 63.7254072944674, 347.3550717803603, 56.645312957119735, 196.0215479223097, 170.3496530974295, 234.916705232098, 156.52642482713992, 304.8568761409727, 129.11459484342885, 211.38602051500388, 60.39340306343223, 329.8496646098123, 95.95122067337842, 173.9929857591881, 76.15652302178913, 318.0601884519876, 103.08429518724024, 277.99802904054206, 104.46019772193556, 393.12150374291656, 303.3598115025329, 328.3603383810828, 110.8195924747099, 143.2206174742872, 217.6329079056479, 103.78350429711628, 398.9164569300864, 93.3936667165959, 393.0599802168972, 365.345158366124, 385.9057861149196, 131.91007105195655, 179.9342434514898, 112.81506182122132, 156.20864188847503, 345.4283260941938, 117.50608036646148, 197.7130850446803, 195.0475524194244, 142.49646639038207, 226.15703771326005, 309.07865236390364, 324.5824907422077, 139.11358348579154, 177.12219337494048, 258.6325842441288, 267.0317285603806, 393.90687954883424, 230.89929891204812, 59.20203580455258, 339.5319532232364, 298.3605307343197, 287.84815478871747, 379.9067685822261, 166.94980405208733, 315.2622893053985, 119.67812941630989, 77.5610951417218, 344.1708024282031, 103.0091482929686, 72.47275039884317, 85.09858032495424, 248.86211863208524, 342.91358044561144, 319.66032752831904, 242.69974263843935, 56.64501640344092, 89.11488177842116, 225.724766770698, 288.3680023187208, 206.81416557908275, 225.72345853239952, 138.88385139400057, 102.16565267084366, 388.8198724985066, 84.87892241344511, 325.2897007509584, 260.466625366223, 135.39918887163964, 202.9427939530621, 184.94104329807905, 114.13390079425076, 134.86683280299874, 126.40559703738204, 107.77006553540951, 148.68210727100882, 95.73054761627424, 201.14377370984317, 188.0990087523856, 373.90216860821687, 129.27477675922194, 342.91911102489064, 344.48582133191616, 149.79496213779495, 297.91334387254426, 230.2411452478842, 391.6355708973835, 88.70853562469371, 367.1962169516041, 358.6452835810918, 268.6070553979638, 108.5899254347842, 249.7916884661656, 135.17796910029423, 378.49756279623824, 95.77667275435016, 53.25153606394113, 50.1197132734162, 377.6917324501151, 161.2917300889461, 240.0866161656256, 222.23101377528724, 167.9809284666306, 194.4769293617604]\n",
      "\n",
      "\n",
      "📊 Medidas de Posición:\n",
      "Cuartiles:\n",
      "Q1 (P25): 132.52017434236382\n",
      "Interpretación: El 25% de los valores son menores o iguales a 132.52017434236382\n",
      "\n",
      "Mediana (Q2/P50): 222.80245198268625\n",
      "Interpretación: El 50% de los valores son menores o iguales a 222.80245198268625\n",
      "\n",
      "Q3 (P75): 311.6991090975843\n",
      "Interpretación: El 75% de los valores son menores o iguales a 311.6991090975843\n",
      "\n",
      "\n",
      "📊 Medidas de Variabilidad:\n",
      "- Rango (máx - mín): 349.86\n",
      "- Varianza: 10382.76\n",
      "- Desviación estándar: 101.90\n",
      "- Rango intercuartílico (IQR): 179.18\n",
      "- Coeficiente de variación (CV): 45.71%\n",
      "\n",
      "\n",
      "📊 Medidas de Simetría y Curtosis:\n",
      "- Asimetría (skewness): 0.02\n",
      "  → Distribución asimétrica positiva (cola hacia la derecha)\n",
      "- Curtosis: 1.79\n",
      "  → Distribución platicúrtica (Menos concentración en el centro y colas más ligeras)\n"
     ]
    }
   ],
   "source": [
    "trigliceridos = df_csv['CholesterolTriglycerides']\n",
    "print(f\"📊 Maximo: {trigliceridos.max()}\")\n",
    "print(f\"📊 Minimo: {trigliceridos.min()}\")\n",
    "print('\\n')\n",
    "medidas_tendencia_central(trigliceridos)\n",
    "print('\\n')\n",
    "medidas_posicion(trigliceridos)\n",
    "print('\\n')\n",
    "calcular_medidas_variabilidad(trigliceridos)\n",
    "print('\\n')\n",
    "medidas_simetria_curtosis(trigliceridos)"
   ]
  },
  {
   "cell_type": "code",
   "execution_count": 25,
   "id": "d15499db",
   "metadata": {},
   "outputs": [
    {
     "name": "stdout",
     "output_type": "stream",
     "text": [
      "Rango o recorrido (R): 349.8614182875656\n",
      "Número de clases (k): 13.0\n",
      "Amplitud del intervalo (A): 27.0\n",
      "Intervalos: [ 50.11360419  77.11360419 104.11360419 131.11360419 158.11360419\n",
      " 185.11360419 212.11360419 239.11360419 266.11360419 293.11360419\n",
      " 320.11360419 347.11360419 374.11360419 401.11360419]\n",
      "Intervalos Cerrados: [(50.11360418775354, 76.11360418775354), (77.11360418775354, 103.11360418775354), (104.11360418775354, 130.11360418775354), (131.11360418775354, 157.11360418775354), (158.11360418775354, 184.11360418775354), (185.11360418775354, 211.11360418775354), (212.11360418775354, 238.11360418775354), (239.11360418775354, 265.11360418775354), (266.11360418775354, 292.11360418775354), (293.11360418775354, 319.11360418775354), (320.11360418775354, 346.11360418775354), (347.11360418775354, 373.11360418775354), (374.11360418775354, 400.11360418775354)]\n"
     ]
    },
    {
     "data": {
      "text/html": [
       "<div>\n",
       "<style scoped>\n",
       "    .dataframe tbody tr th:only-of-type {\n",
       "        vertical-align: middle;\n",
       "    }\n",
       "\n",
       "    .dataframe tbody tr th {\n",
       "        vertical-align: top;\n",
       "    }\n",
       "\n",
       "    .dataframe thead th {\n",
       "        text-align: right;\n",
       "    }\n",
       "</style>\n",
       "<table border=\"1\" class=\"dataframe\">\n",
       "  <thead>\n",
       "    <tr style=\"text-align: right;\">\n",
       "      <th></th>\n",
       "      <th>Clase</th>\n",
       "      <th>Marca de clase</th>\n",
       "      <th>Frecuencia Absoluta</th>\n",
       "      <th>Frecuencia absoluta Acumulada</th>\n",
       "      <th>Frecuencia relativa</th>\n",
       "      <th>Frecuencia relativa Acumulada</th>\n",
       "      <th>Frecuencia Porcentual</th>\n",
       "    </tr>\n",
       "  </thead>\n",
       "  <tbody>\n",
       "    <tr>\n",
       "      <th>0</th>\n",
       "      <td>[50, 76]</td>\n",
       "      <td>63.113604</td>\n",
       "      <td>177</td>\n",
       "      <td>177</td>\n",
       "      <td>0.084086</td>\n",
       "      <td>0.084086</td>\n",
       "      <td>8.408551</td>\n",
       "    </tr>\n",
       "    <tr>\n",
       "      <th>1</th>\n",
       "      <td>[77, 103]</td>\n",
       "      <td>90.113604</td>\n",
       "      <td>173</td>\n",
       "      <td>350</td>\n",
       "      <td>0.082185</td>\n",
       "      <td>0.166271</td>\n",
       "      <td>8.218527</td>\n",
       "    </tr>\n",
       "    <tr>\n",
       "      <th>2</th>\n",
       "      <td>[104, 130]</td>\n",
       "      <td>117.113604</td>\n",
       "      <td>169</td>\n",
       "      <td>519</td>\n",
       "      <td>0.080285</td>\n",
       "      <td>0.246556</td>\n",
       "      <td>8.028504</td>\n",
       "    </tr>\n",
       "    <tr>\n",
       "      <th>3</th>\n",
       "      <td>[131, 157]</td>\n",
       "      <td>144.113604</td>\n",
       "      <td>153</td>\n",
       "      <td>672</td>\n",
       "      <td>0.072684</td>\n",
       "      <td>0.319240</td>\n",
       "      <td>7.268409</td>\n",
       "    </tr>\n",
       "    <tr>\n",
       "      <th>4</th>\n",
       "      <td>[158, 184]</td>\n",
       "      <td>171.113604</td>\n",
       "      <td>153</td>\n",
       "      <td>825</td>\n",
       "      <td>0.072684</td>\n",
       "      <td>0.391924</td>\n",
       "      <td>7.268409</td>\n",
       "    </tr>\n",
       "    <tr>\n",
       "      <th>5</th>\n",
       "      <td>[185, 211]</td>\n",
       "      <td>198.113604</td>\n",
       "      <td>153</td>\n",
       "      <td>978</td>\n",
       "      <td>0.072684</td>\n",
       "      <td>0.464608</td>\n",
       "      <td>7.268409</td>\n",
       "    </tr>\n",
       "    <tr>\n",
       "      <th>6</th>\n",
       "      <td>[212, 238]</td>\n",
       "      <td>225.113604</td>\n",
       "      <td>170</td>\n",
       "      <td>1148</td>\n",
       "      <td>0.080760</td>\n",
       "      <td>0.545368</td>\n",
       "      <td>8.076010</td>\n",
       "    </tr>\n",
       "    <tr>\n",
       "      <th>7</th>\n",
       "      <td>[239, 265]</td>\n",
       "      <td>252.113604</td>\n",
       "      <td>171</td>\n",
       "      <td>1319</td>\n",
       "      <td>0.081235</td>\n",
       "      <td>0.626603</td>\n",
       "      <td>8.123515</td>\n",
       "    </tr>\n",
       "    <tr>\n",
       "      <th>8</th>\n",
       "      <td>[266, 292]</td>\n",
       "      <td>279.113604</td>\n",
       "      <td>157</td>\n",
       "      <td>1476</td>\n",
       "      <td>0.074584</td>\n",
       "      <td>0.701188</td>\n",
       "      <td>7.458432</td>\n",
       "    </tr>\n",
       "    <tr>\n",
       "      <th>9</th>\n",
       "      <td>[293, 319]</td>\n",
       "      <td>306.113604</td>\n",
       "      <td>158</td>\n",
       "      <td>1634</td>\n",
       "      <td>0.075059</td>\n",
       "      <td>0.776247</td>\n",
       "      <td>7.505938</td>\n",
       "    </tr>\n",
       "    <tr>\n",
       "      <th>10</th>\n",
       "      <td>[320, 346]</td>\n",
       "      <td>333.113604</td>\n",
       "      <td>165</td>\n",
       "      <td>1799</td>\n",
       "      <td>0.078385</td>\n",
       "      <td>0.854632</td>\n",
       "      <td>7.838480</td>\n",
       "    </tr>\n",
       "    <tr>\n",
       "      <th>11</th>\n",
       "      <td>[347, 373]</td>\n",
       "      <td>360.113604</td>\n",
       "      <td>148</td>\n",
       "      <td>1947</td>\n",
       "      <td>0.070309</td>\n",
       "      <td>0.924941</td>\n",
       "      <td>7.030879</td>\n",
       "    </tr>\n",
       "    <tr>\n",
       "      <th>12</th>\n",
       "      <td>[374, 400]</td>\n",
       "      <td>387.113604</td>\n",
       "      <td>158</td>\n",
       "      <td>2105</td>\n",
       "      <td>0.075059</td>\n",
       "      <td>1.000000</td>\n",
       "      <td>7.505938</td>\n",
       "    </tr>\n",
       "  </tbody>\n",
       "</table>\n",
       "</div>"
      ],
      "text/plain": [
       "         Clase  Marca de clase  Frecuencia Absoluta  \\\n",
       "0     [50, 76]       63.113604                  177   \n",
       "1    [77, 103]       90.113604                  173   \n",
       "2   [104, 130]      117.113604                  169   \n",
       "3   [131, 157]      144.113604                  153   \n",
       "4   [158, 184]      171.113604                  153   \n",
       "5   [185, 211]      198.113604                  153   \n",
       "6   [212, 238]      225.113604                  170   \n",
       "7   [239, 265]      252.113604                  171   \n",
       "8   [266, 292]      279.113604                  157   \n",
       "9   [293, 319]      306.113604                  158   \n",
       "10  [320, 346]      333.113604                  165   \n",
       "11  [347, 373]      360.113604                  148   \n",
       "12  [374, 400]      387.113604                  158   \n",
       "\n",
       "    Frecuencia absoluta Acumulada  Frecuencia relativa  \\\n",
       "0                             177             0.084086   \n",
       "1                             350             0.082185   \n",
       "2                             519             0.080285   \n",
       "3                             672             0.072684   \n",
       "4                             825             0.072684   \n",
       "5                             978             0.072684   \n",
       "6                            1148             0.080760   \n",
       "7                            1319             0.081235   \n",
       "8                            1476             0.074584   \n",
       "9                            1634             0.075059   \n",
       "10                           1799             0.078385   \n",
       "11                           1947             0.070309   \n",
       "12                           2105             0.075059   \n",
       "\n",
       "    Frecuencia relativa Acumulada  Frecuencia Porcentual  \n",
       "0                        0.084086               8.408551  \n",
       "1                        0.166271               8.218527  \n",
       "2                        0.246556               8.028504  \n",
       "3                        0.319240               7.268409  \n",
       "4                        0.391924               7.268409  \n",
       "5                        0.464608               7.268409  \n",
       "6                        0.545368               8.076010  \n",
       "7                        0.626603               8.123515  \n",
       "8                        0.701188               7.458432  \n",
       "9                        0.776247               7.505938  \n",
       "10                       0.854632               7.838480  \n",
       "11                       0.924941               7.030879  \n",
       "12                       1.000000               7.505938  "
      ]
     },
     "execution_count": 25,
     "metadata": {},
     "output_type": "execute_result"
    }
   ],
   "source": [
    "frecuencias_cuantitativas(df_csv, 'CholesterolTriglycerides')"
   ]
  },
  {
   "cell_type": "code",
   "execution_count": 26,
   "id": "27d47dc3",
   "metadata": {},
   "outputs": [
    {
     "name": "stdout",
     "output_type": "stream",
     "text": [
      "\n",
      "📊 Análisis de la variable: CholesterolTriglycerides\n",
      "👉 Número de intervalos (bins): 13\n",
      "\n",
      "📌 Frecuencia en cada intervalo:\n",
      "Intervalo 1: [50.11, 77.03) → 177 datos\n",
      "Intervalo 2: [77.03, 103.94) → 172 datos\n",
      "Intervalo 3: [103.94, 130.85) → 168 datos\n",
      "Intervalo 4: [130.85, 157.76) → 153 datos\n",
      "Intervalo 5: [157.76, 184.68) → 151 datos\n",
      "Intervalo 6: [184.68, 211.59) → 155 datos\n",
      "Intervalo 7: [211.59, 238.5) → 170 datos\n",
      "Intervalo 8: [238.5, 265.41) → 170 datos\n",
      "Intervalo 9: [265.41, 292.33) → 155 datos\n",
      "Intervalo 10: [292.33, 319.24) → 154 datos\n",
      "Intervalo 11: [319.24, 346.15) → 166 datos\n",
      "Intervalo 12: [346.15, 373.06) → 149 datos\n",
      "Intervalo 13: [373.06, 399.98) → 165 datos\n"
     ]
    },
    {
     "data": {
      "image/png": "[encoded data removed]",
      "text/plain": [
       "<Figure size 1200x600 with 2 Axes>"
      ]
     },
     "metadata": {},
     "output_type": "display_data"
    },
    {
     "name": "stdout",
     "output_type": "stream",
     "text": [
      "\n",
      "📈 Curva de densidad para: CholesterolTriglycerides\n",
      "Esta gráfica muestra cómo se distribuyen los valores de la variable.\n"
     ]
    },
    {
     "data": {
      "image/png": "[encoded data removed]",
      "text/plain": [
       "<Figure size 1000x500 with 1 Axes>"
      ]
     },
     "metadata": {},
     "output_type": "display_data"
    }
   ],
   "source": [
    "graficar_boxplot_e_histograma(df_csv, 'CholesterolTriglycerides')\n",
    "graficar_densidad(df_csv, 'CholesterolTriglycerides')"
   ]
  },
  {
   "cell_type": "markdown",
   "id": "374e4d50",
   "metadata": {},
   "source": [
    "Identificar si existen valores atípicos en las variable Trigliceridos, ¿estos valores podrían generar un falso análisis?"
   ]
  },
  {
   "cell_type": "markdown",
   "id": "b050afe7",
   "metadata": {},
   "source": [
    "### **<span>Variable: UPDRS (Puntuación de la Escala Unificada de Evaluación de la Enfermedad de Parkinson)</span>**"
   ]
  },
  {
   "cell_type": "code",
   "execution_count": 27,
   "id": "7e7641d5",
   "metadata": {},
   "outputs": [
    {
     "name": "stdout",
     "output_type": "stream",
     "text": [
      "📊 Maximo: 198.9536041801936\n",
      "📊 Minimo: 0.0284410965338546\n",
      "\n",
      "\n",
      "📊 Medidas de tendencia central:\n",
      "-Media: 101.41531827710152\n",
      "-Mediana: 102.56102328715424\n",
      "-Las modas son: [6.458712950742582, 37.306702734053545, 67.83817038400828, 52.96469599618885, 21.80487994840652, 101.91253614400428, 37.45372031884688, 181.17256510567967, 178.26152136421837, 115.96586931521588, 95.33227724939748, 172.01190934387796, 91.0745414771992, 142.12134114953614, 166.08838526836269, 165.70939811652045, 171.39699664308, 165.80339455370014, 82.68315260815908, 114.96126445141428, 160.54819774437485, 168.55663529590106, 47.35378355385343, 107.3490583988548, 28.900746235751924, 92.27006059115443, 144.27969069343723, 27.690286714959772, 103.01714296933316, 80.81913117194222, 24.873194718307296, 89.69901898248467, 121.75720122368516, 77.09131687455893, 114.8425506971858, 171.2428310189457, 62.53958450198451, 134.48493012397412, 116.0957577121816, 17.994027789051906, 107.0116660611058, 56.78407607643131, 53.9956531596839, 60.91580182498567, 197.6339379209482, 89.72826149207026, 104.77965160758322, 7.586472423325194, 114.26074773808244, 138.5431916706447, 190.1101015556073, 7.212181044594794, 28.96763157561776, 115.08131483234963, 168.77812121472104, 197.2023842515277, 119.03099555075605, 172.89829292071218, 54.89968229638684, 140.6043826709855, 52.21746160795671, 159.195277589082, 84.78090353278425, 138.81525174208906, 56.18452012108328, 98.4681135601144, 176.0687840223213, 132.49534326587275, 33.09373266480985, 181.67190312014236, 66.91208931124932, 66.78095083962869, 101.00738887903934, 44.77574596813069, 140.71718628020446, 26.70761324002617, 127.835731811267, 195.7345735137209, 97.66796197264752, 187.2898967213183, 52.97553289768815, 70.12368107369309, 157.80664672915734, 53.1199515927057, 128.66373667570804, 146.952825964871, 20.212541480973137, 121.10075572895724, 39.095984643722055, 21.654711817913896, 39.88190619457141, 40.37066805559035, 34.74943230187632, 8.776453526531633, 132.36799545580266, 179.67707656931387, 129.4690073362772, 99.33360465452634, 168.40540297552894, 175.3830249777841, 80.68055918226973, 40.141593420531066, 170.4009322605674, 158.42846540271782, 67.71562500770987, 133.46820155722153, 135.81016697618955, 18.279820656546164, 60.31332316856234, 42.82116314343638, 18.457129289876324, 47.45297619137189, 191.53761665847952, 99.47086088347942, 167.6970351783875, 76.78188264478204, 7.211427736582528, 160.2614514819223, 104.39238674819896, 39.97552031090433, 36.36424889428698, 101.080396329555, 86.87316167296584, 56.01485246999624, 132.84711611679094, 10.397441899916096, 132.24665203932105, 15.716834010628306, 34.07449207665029, 54.8963810684331, 61.4566384421339, 164.29480193571737, 126.47359098840928, 112.73366478018286, 38.951675198119055, 10.603478603420024, 96.59126901079198, 74.43577790954117, 124.30730976294168, 93.4968467264433, 93.0014907006342, 47.11591441516031, 167.75461520504484, 58.5258797819127, 175.58325833156962, 43.19404617985974, 160.171715486101, 165.1989493867644, 141.194218883973, 49.07382457903448, 143.7080325094921, 152.01771624779045, 96.71714236533394, 92.17730749104274, 172.19980876534387, 35.12412361913762, 76.92193400792513, 109.43534961169304, 78.53356250913181, 140.10471480354136, 129.80282987925438, 9.77005385864777, 152.49567807927482, 125.72235835880542, 131.4060850869812, 122.1829075964414, 125.52851805016353, 120.45344291108742, 66.56076904769543, 114.5269316253118, 94.51301734072388, 95.98621009552754, 138.75189719877432, 44.41748519657352, 61.31354528472677, 35.53715504660898, 128.95357230957487, 142.34360261601546, 101.46805165170642, 176.5343081713355, 171.53367468210493, 149.88288297054663, 191.52986340334772, 180.76171374945548, 67.48353154705373, 95.44159654592096, 34.817388931111495, 182.21762720228568, 20.63777449550114, 143.53984991909704, 118.53863977144051, 191.69682086036897, 18.149174273560543, 145.57689675655317, 99.5374264709679, 72.47810574865231, 143.27603512195955, 1.5852371568108468, 162.6104004861959, 101.52481029245716, 94.76787705781987, 34.70373575058362, 147.59518644627647, 153.92312205252338, 91.79775160839506, 58.91638629246448, 121.70398426689398, 158.4472185285332, 170.922679023167, 172.36393086526468, 76.85971907939907, 97.0186290300508, 184.10167432793196, 95.93778790709048, 79.66158752501121, 15.148150336426069, 139.16434673317224, 100.23699615303372, 119.13959893285036, 103.11156393778626, 135.45567277860383, 67.01199096607266, 124.8341120098073, 141.6754707291726, 176.3589929139789, 97.26424430004214, 194.89664084215323, 160.90134838920025, 156.85851920111625, 146.83959877958375, 155.6705544269168, 2.360302104903581, 102.1303433366823, 36.86333433075448, 92.84492017365147, 184.85636305157777, 106.71441909762711, 141.91463707875772, 96.896748752896, 68.07465049294592, 90.7669711051566, 115.99256360741624, 61.92027858627819, 105.12356092337863, 108.81661485638666, 194.234278269198, 65.89237345043627, 83.20446063595665, 37.59954789004033, 41.57723232969653, 37.686034816499, 54.42952800982139, 39.1820055036014, 71.53441479923586, 158.9097781201617, 170.76216610488558, 39.675288056105856, 164.97217835457295, 52.464586152775375, 21.54886470836798, 192.0709256038554, 174.59138537005597, 128.5585633754242, 80.36137455306967, 53.68767711824344, 175.9738812520002, 48.23444269615081, 169.4018812186819, 18.610981839842665, 185.14515241139725, 72.34794349353768, 7.53668019941954, 29.076009844157152, 13.467378582686957, 170.4737179191223, 33.25638900416946, 96.91169130420998, 24.145472205220106, 67.66989816483483, 105.96851133736388, 74.12006200629479, 90.29777479360077, 86.95588006976045, 158.83464534504714, 71.11829327396383, 47.76695170473106, 118.96256091791128, 87.08243732438861, 113.44488792766856, 68.66238825382197, 145.95569849417174, 170.6175372970714, 121.9321847567222, 189.68133124594868, 123.50571544614634, 17.290670519385287, 86.6933077781488, 165.76405287854422, 49.2739892247276, 127.8423011117706, 67.44716234483053, 162.68452405509774, 69.9405991980028, 169.01972060992202, 185.01017720725912, 29.223284654704365, 198.2113477967485, 166.1736883798534, 190.74459168797432, 159.68368553723502, 32.12165752138933, 137.79393795925387, 102.6050195153474, 174.72456964970362, 34.67690972616006, 90.67234451869572, 107.06075646088622, 91.8854302157881, 170.4038272174812, 169.18170634274588, 112.48650004147656, 113.77604669360112, 152.34833774297343, 72.94411180949163, 70.70042007938194, 37.16984650427667, 84.7234392429816, 180.25903257048375, 197.37995068835772, 79.04324010581512, 91.79390937834464, 188.43023503635305, 171.4128247390112, 155.32480798322638, 130.85234612972462, 131.96115770078342, 74.1767142298134, 68.30451196973355, 151.0227193829883, 164.978726484281, 65.74294489106921, 127.8679832535118, 7.269533180781355, 197.4664976031004, 85.87339784034882, 192.32275037904225, 77.07049031427974, 118.130123184, 198.22661240191013, 89.86516937797963, 102.84401286184077, 180.7406521481773, 41.51694064804144, 196.45599652361707, 29.113197769572352, 86.00160150423396, 7.08295433377803, 3.3537037624985446, 193.30849612948245, 163.71351241920237, 175.11138998037148, 46.928717722550736, 194.6171448673283, 103.25084758063292, 108.9997116978225, 70.00577297395039, 11.579057114600712, 30.595383545589087, 89.86372372755692, 10.492212543163433, 117.25016904718434, 104.87820948819912, 35.52445666399863, 147.14096435287092, 129.60132816675403, 186.66691664238397, 145.17376676317548, 127.32444416285747, 21.629912803859327, 180.13453469991254, 180.76944532624915, 49.33702172384761, 90.730810142399, 193.0894452188624, 115.03518416784092, 116.948861477659, 7.689030333843876, 181.33977689511568, 84.63502417643821, 182.08318248164653, 54.8995581599276, 39.86335360655659, 130.13974093919924, 1.1817765012459027, 125.87595699115212, 151.61787263675876, 54.54495780080609, 4.849974120051599, 98.02741838679472, 189.9329946602433, 19.739655124283303, 27.98702207078602, 61.85678939213872, 116.22399306786824, 103.21394925480172, 133.54532509829124, 77.51526907566432, 85.89884624002043, 130.13042557402588, 1.8698642365223823, 105.10879538950604, 5.582638972408238, 50.684622783226, 70.40169907857899, 118.39188583139368, 20.65379534421671, 164.92057737460786, 129.10716863401663, 8.530573725664045, 171.1693111509678, 127.11496562896797, 163.85798896945514, 131.19703502190154, 71.3674575825732, 85.55162661497188, 70.1681349151609, 189.45455360264975, 180.6394059200254, 44.65250528919696, 197.939476430186, 158.98058788002214, 163.96410104785096, 89.47389285945287, 141.44336868133084, 90.39798499968585, 159.39915645151768, 129.09117432833443, 79.44425125946351, 139.3937198805809, 79.19046733161859, 44.55127680849293, 171.41310400172424, 88.00519751796575, 113.78698533099131, 29.210130316736755, 27.6360907322949, 7.258556547676959, 127.95344833680474, 140.42302407741357, 195.53651832142847, 123.80334356004448, 163.42589318908614, 146.1709921805437, 76.33329182068607, 133.2970092856201, 166.30333017945676, 119.28434482359896, 121.54956153373764, 1.7627404162810256, 142.23437570446936, 106.69203288487996, 85.75252219726697, 42.221107186322016, 1.7399220356051592, 67.26367214122622, 89.09118592645954, 51.51518514453602, 102.56102328715424, 10.354641475437464, 160.89242565732943, 73.74859548756585, 97.01243799118654, 4.161620076179414, 66.66992952927639, 89.62659094222786, 117.33006404973646, 26.52402369730573, 1.7522439836437358, 88.12932158680826, 77.73214324389023, 95.57838027534936, 143.01008103211615, 70.73956227854146, 178.06904461469583, 2.038145162360553, 57.46509575369479, 3.9570937822637857, 10.036246015247483, 97.93701601706212, 164.43780952190684, 176.20056273439857, 198.9536041801936, 4.428645415438991, 2.159818085609075, 31.23393082804883, 41.79879946555417, 127.58592968850738, 30.089957611981248, 8.456638386381016, 53.92173098622066, 4.054152802498999, 88.67666004492118, 5.783028771179508, 120.26572958167024, 29.885772985602017, 193.00282052095463, 105.31750262186289, 18.00795662724891, 121.42537463969543, 0.6980530076244079, 190.2697514836888, 136.9568873285017, 41.3594656409061, 138.5399315466501, 157.96650901204916, 146.36629765906375, 148.77438210671636, 177.559898551473, 147.81692386957613, 175.04222481395325, 157.4044282887537, 190.49685783596087, 29.59075885179101, 64.58881544829522, 52.25797741380079, 89.99433662046468, 106.19297298379652, 155.34447925114264, 77.8155149770823, 160.85947191951053, 168.10983837187484, 90.88204749076304, 12.496262145733622, 99.95605436688102, 85.83253153649316, 91.52137131395918, 186.715196201665, 103.5676420628446, 43.539153376854415, 52.085093608417765, 83.87652328899938, 171.065271944014, 29.99680045308586, 108.87863719806136, 9.725096331868505, 37.77295765544468, 121.92492927766516, 187.53856844001135, 46.258530386616805, 18.54956410854979, 10.71801334864403, 194.23339265987204, 39.37833007510883, 17.791312064614306, 115.1879798121663, 45.0254303758182, 63.05064646436165, 71.85431975543553, 182.5438219118982, 155.59164029335042, 116.70056668860497, 131.6868177766874, 95.78280376926362, 198.8083932530284, 157.02572313316065, 9.637178161821785, 135.49321782490148, 158.50020717619486, 101.74623006635191, 103.03400020143238, 129.71082988408816, 0.8173111407486587, 192.33174329304592, 192.0375549145127, 162.45190599637942, 37.404902575731526, 167.61041154850508, 155.0838615106016, 170.33363122618698, 29.318974383256343, 128.9773942074443, 18.98446941324041, 178.0211135837716, 0.2504973172357873, 54.29956557817667, 152.64656243371027, 190.0477686302648, 115.69344515240704, 43.41216609714734, 148.9997111151366, 98.80708578809111, 154.15889393702545, 137.51186912930137, 75.50715759346544, 136.66104815154353, 190.10394740346464, 71.03687025262349, 34.849537816481025, 72.1270168239454, 150.109151766854, 156.93082921036566, 6.543078341170768, 145.4390218983993, 126.24208835346154, 65.22150411571624, 58.61110168853929, 96.71376927070732, 127.51115499671502, 18.550760523119656, 65.75562327959082, 132.88489618021805, 141.46938191502647, 112.07046802017928, 54.36024293893284, 37.17188256000982, 77.42970174398874, 167.23239359300797, 41.53483574143486, 73.24467769613432, 109.38717272647666, 67.01883962654533, 73.43995793020463, 48.71020122876556, 71.40339857488577, 1.27289401258947, 96.63653293769592, 189.73283986437383, 88.01213723254466, 157.18453112826683, 165.55986009320563, 141.85695315669395, 2.3843675581181807, 33.66436449371915, 185.7847839922648, 49.50039406688006, 156.44101985579837, 111.27244263974342, 116.9694286548362, 53.39060526027743, 66.0382128243396, 94.49720002392128, 84.20462827609609, 24.153472585154557, 198.57499863787308, 158.49523936117865, 115.6999237778183, 11.95031010411614, 24.50932983402608, 177.42410168818108, 103.79285010586663, 35.65651077770531, 56.85818874050556, 32.73214968183444, 112.88935840396886, 119.00132300653976, 159.90841049564744, 124.38627312705624, 178.48754746616464, 6.07147026455738, 39.52719986262033, 87.02589337057627, 55.48805288606707, 147.3085371063434, 141.9540785442064, 100.95558208303824, 113.35492198659765, 24.95431309338465, 158.26488411865128, 157.48748466319998, 82.11706844585717, 154.15194034033897, 151.6420396940516, 12.091312858956684, 111.69028680141103, 68.35870558294451, 182.5016204061765, 159.6777700938599, 0.574866633191749, 42.3901952009472, 30.952378004397676, 137.49026009795023, 160.6686036210844, 106.3728477348765, 181.78149319596335, 63.685720272639074, 70.56645067747453, 51.22762040069644, 122.05683752857752, 79.5382380086083, 110.73723807929314, 51.604026639578976, 182.7817825811985, 112.0745651135596, 85.96386996380895, 172.31439853260989, 10.55051240873108, 4.723159399409013, 48.58488200944487, 164.02348952450464, 69.44225194145484, 192.5579702175212, 32.56593435557369, 6.242907248719, 132.55302632040463, 177.05009170839944, 164.48206823975235, 132.1523903704618, 151.73352533159982, 170.1085284411012, 163.2381901064106, 80.54054010973302, 21.333682956119603, 189.4356522488947, 95.48172289833938, 179.12714124018842, 118.2618209710742, 159.9083309949511, 141.737041038254, 29.495254176469476, 59.15741326440623, 103.75937963998771, 38.43437457173839, 137.77665692426692, 174.89149238084838, 168.97115273761895, 112.38734513197578, 103.35212671869606, 58.70706975848361, 164.25492354574268, 186.89986911279328, 113.61505165620216, 160.73318943067463, 61.6691124676348, 149.8316824559032, 64.28875958689838, 88.61241865802224, 17.471909818355034, 14.871427012089, 20.71234381971182, 13.109276603966189, 93.17047602528638, 186.99456703486132, 2.079730344863267, 58.00626606819262, 5.171405595825967, 174.16957577227433, 152.85614813917826, 40.00547311957052, 67.75352425726322, 1.200379195782359, 129.2284475541554, 102.71532645125416, 130.66082006624478, 36.30296677772183, 157.53627240433224, 180.277226518966, 176.93712875566928, 155.0056768545661, 6.386240832917281, 137.11157761177574, 138.7164995476742, 189.3575742253404, 180.26050736412608, 190.67764398610947, 140.23609470143614, 183.6866177875554, 89.00981175978917, 166.2020103300667, 54.01577291473744, 97.96430889561807, 50.05446426321491, 174.327877665445, 131.9404450594254, 125.90927495827805, 170.3313566997734, 185.3545028125382, 15.87716904834836, 164.39117564222497, 181.64329912531664, 81.75578504689184, 162.30462014294034, 197.68442294943807, 36.40252176535266, 99.26156654315146, 88.29906196694552, 83.16825570758387, 15.852800702866674, 42.92345351129992, 46.96482444202167, 6.7383784830946905, 180.3787207695213, 52.355133751467584, 163.81542262991627, 129.46629465999985, 161.0050181124258, 46.38776275147923, 70.07733403716163, 94.55538505363798, 144.82237168699103, 182.40426256996503, 157.06944788154522, 111.87826337013507, 84.32632142790783, 158.59833133419852, 46.020462534358, 91.02795123512014, 43.791477737832125, 38.67589031215428, 87.84364736537901, 10.713487238899509, 120.14981294540024, 114.84195361966202, 135.1311944306848, 92.94285934059506, 43.05953910015826, 147.22894745386444, 198.76870205494384, 157.11116728361228, 109.12226213650092, 136.1367804576591, 158.2728800239688, 105.86430022186276, 106.06032182698978, 41.90659146712007, 146.3357042032665, 160.18434437928434, 122.94282732107958, 42.58582602632561, 173.2908251605485, 86.34514941023198, 164.7976902927882, 139.27753687056313, 177.9912604495646, 73.14272356421066, 24.021932881792225, 37.91890371351882, 75.71777479408534, 47.25858115861367, 97.79331216443376, 159.5518569918757, 137.50731146779128, 184.8726421911708, 54.69694027288402, 54.49876985028531, 128.27041926812475, 14.865823255546005, 62.006324095108766, 153.6387354127259, 41.94276631503257, 14.489383799320146, 79.21772824836295, 170.68081975490028, 135.20700777191726, 31.97702943805341, 68.21100894021741, 117.29394113686412, 134.3713917923482, 143.48388448533507, 113.49252801761514, 16.570804756021758, 79.93602590941235, 135.33990345074392, 21.02595459758896, 53.966652817257085, 159.77904298250223, 194.98494999442835, 38.65622933633502, 116.42561311139208, 166.83444304080498, 60.310867583776925, 35.75981834131221, 96.63546741394198, 131.64768771288757, 41.66383088835181, 60.94337542266928, 75.35283733675993, 101.77272369588069, 137.71064058735064, 130.56335646969805, 74.69641594306172, 55.989166363708, 0.0284410965338546, 9.000216769175323, 101.31867076514372, 129.4514932641329, 172.18967290275796, 77.95927439011795, 193.45576190021484, 27.460659995323333, 159.73406946420698, 54.5852010911096, 198.14635249315737, 78.83123446087421, 84.38075241925348, 76.77710079154716, 197.4738664426781, 137.76414904350074, 62.87608960062384, 15.854259952832654, 151.43546461440835, 112.39144467373902, 54.57215849358609, 161.59316454128518, 70.66659883171704, 92.23214673325832, 186.4810984165748, 176.04505673618996, 171.92192630158212, 59.29644187581375, 3.3201970140604957, 40.32467531810736, 33.509032951948505, 5.21656926983877, 33.63845356071681, 96.68449592631984, 103.4598181877632, 67.30483059267621, 102.16623055155348, 148.29541007357255, 97.17717569361196, 96.77430286293664, 158.3601009592545, 106.50219644604654, 136.15454264898912, 58.14684121499367, 83.3297583212831, 156.13522350297424, 108.32131870288592, 128.9471483462484, 179.30335608842714, 8.589532774174298, 129.86882733337842, 167.78949998064695, 78.02835604715368, 165.0168442000597, 141.01787454090368, 140.61086020525315, 142.0915926821136, 122.72357114513954, 122.28531553801456, 174.57243302305264, 146.80297508011122, 65.1006813369579, 171.9436665475231, 103.86365608156189, 59.89530375645202, 161.8081253753394, 66.45957702889298, 163.96593827500917, 45.33046705732356, 170.50397102766644, 92.65131076059173, 179.12595959445215, 45.17518052282646, 56.50644224165234, 143.99223660505123, 145.0307120838048, 82.73103576000474, 62.06159833706872, 189.30736479176747, 121.01166650980508, 61.13451579044426, 155.4782788240098, 124.54349947746904, 115.6084547186194, 76.25252376246435, 51.51731145323082, 80.10926560951009, 8.970368128958178, 46.64663238142566, 97.1414626781918, 118.67460457168946, 155.77023909294925, 96.19138642970978, 161.8060074278308, 32.45914380730522, 56.491797850845096, 145.899210436468, 196.96420378419288, 181.57574155579664, 19.98473457908063, 96.46333168304623, 189.0937544789014, 51.31314049433621, 44.21436473429829, 121.89385455701157, 13.710879318897796, 109.0284411053785, 124.5241412819, 7.735920389141195, 172.29570205441206, 136.9090210130497, 70.93511983836697, 74.57789815990212, 65.98192160108255, 139.085878930787, 166.8501527028335, 131.8764109320439, 131.1784327490783, 194.1528722493348, 63.06927345292369, 38.41782000114853, 53.5048899707268, 36.466966653702364, 84.70432278364774, 118.0663837315247, 13.317344969695789, 129.6463396708618, 90.80803272231516, 114.67533802539866, 45.98836862705362, 51.82798359304032, 197.65667918558736, 60.59439314669492, 123.28907908368274, 118.81329856501588, 113.26303762627111, 144.57847113272686, 114.82409598409627, 190.30522679088816, 95.50858438595678, 137.56378080776042, 191.8155470028064, 112.95878969291572, 177.86388260359388, 187.3150841235298, 100.91948033469572, 94.29857916821594, 57.78175837236918, 169.27475673211245, 102.93302299729514, 180.3032117340105, 154.47652692890114, 196.45557824621253, 41.5116436289892, 9.024213170094844, 146.75710888325935, 152.20953500614488, 127.63448688294416, 156.04548939035354, 46.89888093134209, 193.55655380360704, 175.25173044851113, 31.508889044151548, 138.59222688484596, 67.25942032558642, 43.41762686178224, 12.253060466642228, 100.33248291468712, 136.45460145541765, 19.37335064581202, 178.82538979619082, 37.68035056072284, 141.4514802964788, 36.22315642981902, 28.69406803505731, 116.28713409449556, 105.21173946077712, 95.76127789480635, 5.079975415017433, 24.403172690325032, 15.565420572400138, 62.96337760851076, 63.81078498261153, 139.92050089346714, 138.00067664464598, 116.29856885322046, 47.5435007371094, 58.99092096333794, 116.76334590014432, 35.7409647424941, 26.381749491464983, 63.2742971353204, 30.486444701138183, 77.37656214231787, 11.224458918238216, 188.1092764914005, 77.43167392857967, 22.49598050467458, 179.94961958090255, 100.43413073690432, 52.325122407374174, 196.32460194812583, 94.7091670161433, 130.7037043432677, 185.7311247975091, 34.51185194635248, 107.08984674354495, 111.76773567536162, 147.63236986933293, 63.48174155273654, 94.97975495326106, 95.20819391787354, 100.06687565287346, 86.12838756474763, 44.61639699030477, 44.57781504419564, 92.23435571397276, 156.2369713902971, 23.82331215233249, 55.98731285805884, 167.439821349856, 191.99282397083377, 72.42716296895418, 8.498929148954195, 47.4388008556492, 136.8052166607205, 46.87335663802859, 32.913010773886946, 191.7492546895976, 33.56171405393132, 21.71071447241248, 28.051609103641848, 191.76720293276443, 62.56690079596581, 57.14009153428994, 63.88744043625473, 10.182488350902776, 165.70591180374117, 198.06964649710875, 5.567700443481168, 116.2447730649533, 35.50493162126692, 175.55799858600903, 115.24047907502676, 102.13262108974158, 23.85834629242125, 190.365635718237, 197.7986294146918, 182.3906060885383, 50.70242547359215, 14.787632822292782, 114.36015069506456, 54.24280631625083, 14.0034500973445, 30.424367972457564, 91.61893250863298, 45.794347150352834, 149.92275940688165, 103.2304780717156, 116.3356270039382, 27.11217839778097, 158.9433705220714, 151.14992760849142, 28.052799553321503, 158.6281980572463, 179.644681263349, 107.91877451384669, 85.3163563847203, 160.64151611700274, 155.57124814733407, 176.87988960954362, 137.70454858291788, 82.35227704654176, 26.67285147762847, 69.65963679675399, 176.77687363534014, 65.90256087863152, 140.63548901098608, 79.50905088775106, 163.76914654472546, 132.66942830677291, 134.26990868295977, 6.84942767524165, 85.98497133699861, 2.9224807016471974, 187.30024479313104, 185.5003625365538, 59.87103249621811, 48.5319985116308, 183.59324152924407, 28.190852391704816, 94.27318741932788, 65.534109736558, 119.60271109591037, 156.26742877036975, 138.17960876439304, 187.09150832683423, 156.92516561374492, 42.01613137730722, 117.90995422637022, 121.55887590140202, 102.24042417207588, 103.7239328046164, 49.52300149196932, 165.07189588682414, 5.631779673574707, 127.09033779126204, 27.774459979650715, 144.34863846092767, 186.8476194703979, 36.17747669638608, 2.813605141157001, 119.42453730349078, 0.880622406224468, 26.95983624026957, 37.19142830031784, 184.6930255620796, 192.01885777219928, 157.41281451496366, 16.939650515916973, 124.0594724755044, 26.05629247694958, 137.22426271628163, 100.87159613135442, 115.47431198814888, 87.65335809561992, 142.28274595011032, 196.1486239934985, 18.639055403286253, 33.18645349373838, 144.07176509252454, 144.0661162461273, 174.4014456569738, 38.53895160384625, 65.79001980429558, 131.79833738730434, 122.29835944053173, 197.62229112156615, 5.395136914250417, 89.64065768550982, 171.9445042813461, 195.476184775532, 105.90028672019454, 119.05080628013673, 45.8353247688202, 105.65819394358998, 10.750693477831335, 2.2637604079109392, 4.006897989877964, 145.3467964018368, 133.280606740495, 79.49733453408737, 184.1608688520068, 47.63170873661418, 53.529475092266345, 119.28351848566425, 85.98998040049477, 142.7914893236804, 45.59569843703464, 180.3354796086544, 114.88513644554928, 177.24322323390655, 14.245558453930496, 8.92809865880336, 36.98498694453036, 115.9078305905209, 54.53132507188589, 155.39466549887442, 103.82815648975232, 171.09118180434297, 107.03315254147644, 29.53040045751662, 154.60699896126826, 184.628048805186, 185.2151499779404, 54.44655286475856, 32.00473453001605, 125.62289633597965, 70.83963164443283, 88.6306176748202, 93.46050227683294, 37.33046303561136, 164.15855512416812, 136.64184290453278, 148.42301568164396, 86.69744943959522, 113.05285963013274, 125.27080911526612, 148.97041989090602, 94.7631879542238, 106.80993302265684, 170.04032659725837, 7.061373874082194, 156.19094405798788, 64.73948244607685, 169.5960552022031, 22.84568501271462, 96.94571071584598, 184.19759943633431, 76.59846450125498, 198.8669011272402, 71.26113375292653, 95.29795124821334, 90.63302430187642, 105.67966177086204, 75.06719046345853, 138.55088822977487, 185.56204734900683, 64.05950550321634, 21.23043392750013, 154.49161059438885, 169.87551078918744, 178.97094525494086, 47.93796784817133, 166.54443406455584, 192.2885550321376, 126.7070617880725, 17.92403000026056, 45.460752244109, 93.23858953503786, 196.12167532158003, 63.30507040456525, 154.62285727124538, 35.788430916733866, 65.31214638660886, 136.02285656656676, 118.76881433734948, 63.32111220667067, 43.23582369057343, 9.28460031539823, 57.42102267199463, 122.4661323617404, 103.6743999940522, 146.4310646332468, 139.49754395922622, 94.14282092702034, 0.1961464389468546, 5.394008711697992, 24.542706664185403, 149.05540303768217, 83.49038998407586, 181.0261858134764, 164.4836734181889, 135.66298361375323, 56.53940942702633, 85.8872189240514, 45.07492369762076, 184.3798599523112, 127.69101259942532, 89.49034826769322, 44.99535640958021, 115.89896058534649, 34.516453722736344, 13.978095899081916, 174.0408392201375, 48.02047484377246, 108.81737647903896, 92.74765267908226, 158.29909265938832, 6.048773830024645, 161.81345760825397, 144.82186563510425, 176.30226816167934, 122.2765226449399, 43.205072267019645, 167.44789901282604, 20.89095401591108, 181.76318240852487, 182.4879861802681, 189.9195597384905, 28.66108540033832, 48.68724936863604, 191.3461124051267, 81.68306488057488, 126.4497185215701, 129.39200707036773, 158.0415918180221, 181.14639337334228, 76.04394868159027, 57.67657661334306, 164.21874322032883, 174.25225092530297, 56.52274175276784, 147.85292801731975, 143.64058798975697, 189.5026524269749, 116.22633882757836, 86.51193316780181, 66.59200975011613, 71.98012052556008, 188.9634189702047, 156.82202851716875, 172.46801594638495, 193.61827967619536, 155.728649909348, 118.1028483718118, 190.4368645814568, 5.58927573457354, 7.8143677260790465, 143.30581261752954, 63.62618723878345, 88.21409586921857, 112.0848117341798, 81.65648269889587, 30.666652716130475, 124.71608758067164, 158.72186259450675, 15.276993809110436, 51.66463560430625, 121.4013934585055, 49.44052836956547, 171.12734675571383, 21.48565266460448, 66.77099147861259, 90.09228247643216, 68.6708453970348, 84.83565070309575, 29.03693680963928, 16.105607448934425, 76.19629428284502, 175.18618330921083, 9.115277313790523, 75.24167008109968, 154.38274603531812, 96.40657587231875, 79.44252106488442, 103.37445101727758, 22.91282925038097, 133.99176556310454, 118.58726272805174, 68.72676347503585, 183.3789190927831, 191.6583795659952, 131.56998557688192, 197.18283287262275, 148.7813469739549, 23.840454771066643, 112.35264217977146, 166.6307591709824, 17.824143318115674, 185.13542876724725, 144.02827440037834, 174.32868373916307, 14.61587377279538, 134.21944800471093, 198.42997270932463, 26.60917963854712, 93.49697909985896, 53.04814828556021, 124.84297347175504, 111.6709153245155, 134.18767999357723, 183.0433730048366, 50.3638627976934, 117.45018882458147, 150.2604600076734, 93.15385765501247, 155.50958739585857, 197.97186338666867, 92.1890361153416, 169.57598738500698, 53.60856579611857, 146.24735805345327, 129.66909398842978, 122.03778948344416, 198.8948004485215, 68.25003054291312, 133.96208387776431, 81.21306985169453, 17.766022762530728, 196.30447988362369, 59.57059152357993, 41.12240171110248, 6.518980166187647, 148.400965477902, 160.29071561035602, 194.69526827112784, 135.39207361456715, 6.911066055836883, 78.64942310400832, 165.11930916260596, 88.50123212679871, 79.15666556939748, 28.423986550188094, 43.92067020701979, 110.7962504702429, 81.00407965582062, 134.823962176566, 147.39740033835847, 74.55784367793602, 13.211637905048894, 67.46055590321993, 17.43059115668139, 40.62367184366004, 60.05018896465668, 185.2669921209464, 62.05293851324501, 152.8657598274293, 105.0759326498628, 35.49080197606161, 189.1555139266071, 149.53111768231224, 149.16428272054912, 32.92483532232515, 35.770877310933706, 197.6715045083281, 117.58477110539114, 135.18758878381092, 39.80862113397443, 124.38585696538792, 118.58465254191287, 44.03354790641902, 102.0734631668594, 98.56343859532495, 88.87507741545893, 36.20985505013303, 92.208191758639, 147.18941954474766, 142.00644445074806, 90.9108228940867, 90.76022952644502, 58.90734668281405, 138.8396819593991, 120.20836075494591, 39.842002215588096, 179.37240921451843, 30.68415483879636, 39.18649979823837, 110.18174095566836, 197.8707137856571, 94.11610957349303, 106.04148139934382, 137.56422479506233, 134.0814795706445, 166.89314846376217, 54.8869026071329, 72.44425078777134, 8.026236564120744, 73.74251884776493, 12.184463097865482, 163.30452292581865, 130.72874782813324, 90.03937013099296, 100.41106016622317, 55.22452673972461, 162.46724916279013, 70.34239145133236, 17.307810410024896, 123.67247602529127, 120.38654032005984, 184.23352850311443, 62.68660406979016, 140.00929021201225, 57.59966936670865, 179.16972196671065, 24.884625920413946, 23.903561061521085, 118.09852039639236, 172.97452531542385, 105.69031313246454, 132.4840072032334, 105.46935519687446, 87.34933193370335, 53.75071647172254, 42.724161137337866, 55.574194332300266, 28.122571684776474, 177.7205528353562, 10.442039175791532, 188.2845538435681, 114.66993861473136, 61.06439791110476, 75.31534047583723, 101.0490576909264, 0.2001608759925225, 1.7277744733610645, 133.32254282603742, 180.79146504078824, 139.66729209006206, 183.5106909764301, 121.78168891208269, 67.0333302339104, 142.66935805483243, 20.990005976215727, 84.8523073370945, 17.674820262670185, 135.5446494232952, 34.87279128038129, 101.92120044734966, 161.79824589385925, 75.6925075789201, 139.26475537560313, 123.37010553113032, 118.87947440387724, 168.9054699780438, 183.6055218706306, 134.9906546052903, 105.7700492777184, 134.833147176528, 187.69778636065325, 116.05247679642636, 126.76684287529412, 181.6204672161393, 149.72225224550266, 111.66746258336345, 191.3477171744378, 31.546951990632262, 68.43388783271739, 156.8078099662344, 19.934306461505365, 100.87457290645096, 109.01512128601271, 84.29236904161577, 77.1808510770987, 85.15615355109908, 102.17328936207085, 122.3955702085056, 174.1230226970444, 104.2124541970619, 121.20298949697828, 30.281921993639, 110.39555588946826, 22.793478963294746, 187.4371591907674, 37.80015280964797, 112.10648238396293, 168.04289775524273, 146.92348145117245, 96.40304271694671, 95.14962057634844, 24.884665342929413, 144.7295675373573, 192.99226066815496, 94.44219453769352, 54.84054942629398, 175.45247469271243, 119.43400174143328, 26.597185978628243, 106.33522753450146, 125.38828416800236, 171.812521184335, 170.55356502066965, 31.47021253776673, 149.58033111863932, 164.28642893826455, 174.91090433711886, 13.69062176774272, 93.61695206213852, 93.54244227185778, 127.25746223480576, 138.9545164991167, 143.81412839170733, 146.3180926504203, 158.50259662874484, 78.96320003275457, 127.29330303949688, 19.74134570509665, 75.94900998490407, 75.20152868968185, 25.511877250831223, 93.424754322092, 73.63069445091172, 17.22376657017754, 95.10713336101092, 75.5537957058997, 90.26152625109322, 19.352762472599277, 83.82048948681624, 130.61127226287385, 48.39875790929204, 176.10329610413137, 162.92410685224436, 137.75523145944368, 139.09226041614326, 18.677866409054047, 125.67849094752896, 196.6570907840188, 100.23714933864622, 86.22570009446407, 12.654175623501311, 155.2587699547321, 147.83810650676318, 197.3741495515364, 92.0455359465161, 47.87976862115713, 70.03346495301226, 163.92753400987226, 25.415540627577457, 191.4616458009929, 24.292369016957185, 138.6935152831529, 25.54427186673374, 181.9592031425196, 13.100155997289066, 30.693346268628435, 90.74069922553323, 42.59775475527414, 170.81211892100183, 4.624267195316467, 65.12496716910654, 44.40490928084538, 187.89356654184448, 47.28438126482192, 67.16271973336245, 111.74418265922088, 35.707241982921545, 88.27777596127419, 92.94289121209457, 55.28178908374559, 160.87932983892622, 68.6350714020148, 129.0332448876778, 155.95202696699403, 53.50421568104331, 62.05413701349329, 30.401847126023515, 119.6822176600438, 4.069156791237471, 125.4119614058866, 114.94174364866991, 120.35972269599569, 77.84867226631795, 2.0734092902423336, 102.33409035926744, 116.6824883832493, 77.13004981738959, 75.41317761742411, 123.1859121955145, 168.74337071885378, 39.04636894325765, 62.694878695691, 51.53501919345108, 95.8555904000998, 130.8300083329735, 170.04381084179693, 181.44257649605677, 182.20004685122012, 28.600441971706854, 101.37845819704437, 147.73588727122015, 11.385348745069484, 103.74116618812845, 16.81167314197258, 145.3675019831874, 144.63420607719604, 131.55345490924907, 138.92827794205883, 50.61682473990318, 185.4808289980693, 25.408085046332527, 136.5713362201851, 41.07654986737266, 60.75057785853371, 163.68501735152978, 156.05895428325684, 101.00781365186484, 58.90004090838386, 50.08436817678832, 122.33597497341692, 83.12414445188854, 94.98514134765853, 171.08076235752117, 106.80422993119902, 128.58550051484102, 108.6614154458574, 195.4387894747487, 56.11073155287228, 147.15628952234337, 73.47287925463348, 156.81530975273677, 55.34008425104589, 104.60442116610506, 46.12982530301754, 79.87943426850089, 34.059765243524645, 138.11142008314158, 95.792264064011, 113.3020750552275, 62.105946300257614, 140.60988886338507, 178.80056978850314, 102.3989944631838, 122.41445855521646, 29.77411435586906, 89.49172129792576, 104.42943833758808, 78.13891829887521, 166.98492602868922, 74.56229082344655, 192.89279609211263, 108.44279542740378, 101.03710384676008, 190.62191613283363, 123.62723778255636, 52.17645191138504, 68.48128019914539, 132.5222363769968, 104.86528214403928, 130.52118521211102, 194.6142567779641, 135.40489847021504, 73.1004027814807, 191.8006743831352, 102.15269100971602, 86.52320865992846, 133.30866339959186, 80.03241539221038, 155.36684535137522, 192.8445944169601, 176.22040318655706, 151.55213258595992, 15.286421449950431, 41.31951869944122, 159.58204928338455, 15.116172402056495, 169.27657634626237, 32.82546951892488, 123.93316040087004, 198.70850286894893, 155.24131028436358, 89.3494552502517, 41.23170275586486, 20.65173138797914, 59.4091579705062, 21.957200854011116, 139.24367312999723, 136.6066495235458, 141.00851892489064, 112.87056919828156, 175.1999168010594, 157.75428965074354, 49.63157783783599, 18.32877042600211, 80.71504684551078, 42.72780569836302, 62.60035771019509, 134.10406622840816, 146.2381449779146, 117.07097182619738, 123.78082166625695, 3.466322721877964, 114.81711251842846, 180.0463933830003, 176.55982677688476, 195.3275752095161, 5.913975887255766, 91.8852447306568, 17.346879220814966, 119.4149101882761, 47.250899740618095, 36.37504165803647, 135.21376159552446, 39.59541881743893, 152.0115143033769, 5.775639942760364, 34.06294134722618, 98.29901292831312, 188.43014406176903, 160.08562272254005, 161.75879582200093, 33.93613301128755, 78.1453339350988, 150.41665379372745, 185.41073829815437, 84.61992246858762, 160.6565459936084, 63.207549089313936, 46.12496365772429, 114.42304098844936, 191.06357956684093, 147.94197245092033, 7.301948230245871, 107.22300988173258, 188.42431195545905, 17.335767000043976, 61.72901713495226, 138.59974592566934, 132.3133004625041, 28.351516091044964, 171.6397019556555, 43.277988623381525, 38.6221488508326, 133.14822061018856, 44.25598183335378, 198.0832440920624, 81.32987388452166, 92.30715926875337, 30.7091000236462, 85.39749685567926, 90.41197884577586, 123.45655166800434, 11.993988473874218, 73.77685591960905, 127.37020887256392, 116.4949921628404, 144.70538361769417, 79.10389246284453, 14.5606633636124, 122.72502142908456, 84.24099405039671, 7.120058304655985, 186.4751536825345, 189.72070357676847, 125.61078586180524, 97.45575679380808, 61.13464776479379, 13.56470010723808, 162.1783491984004, 133.9898833936129, 194.629287435109, 104.2525574697298, 170.7416638933022, 86.50195142192761, 166.8418727586321, 85.92603390739478, 62.59070014477378, 174.6981850446872, 4.126835918905404, 38.54285177624719, 135.53394635490795, 128.86136670357072, 178.5229088325285, 153.45107784005378, 180.11595055954538, 61.86111404509022, 33.18578057926371, 179.9426523147584, 40.33600982024459, 36.00253654803957, 57.9388692109141, 184.6508920227666, 112.28053703222328, 13.11225518539486, 180.36066888548453, 12.628795693267708, 62.506820039851455, 6.084134091340431, 63.6226386162497, 197.88403287328157, 28.566796318677948, 114.26051983977798, 198.931593403437, 152.27945921164817, 13.981428989050064, 94.1051902125282, 152.12297902903669, 11.734057628945823, 41.537262551929466, 163.52136929412632, 161.64441565695512, 172.2630656772502, 11.52770297307969, 35.758112346904184, 85.96803442167341, 70.03921546103015, 160.6066525470251, 7.659218574513404, 69.3835345605899, 104.622144499645, 116.59356399769123, 7.810594502998255, 191.5651531247756, 100.31964397513612, 176.86086743107327, 170.96400235031297, 58.26325505038181, 166.55501454891063, 117.63392660163854, 186.69313308231472, 91.20690138134113, 50.52745501433881, 4.278699620625202, 190.60162969349523, 110.54558813881376, 57.3459525102809, 24.493895712741125, 143.08566420453317, 33.89231494047585, 112.5224728905699, 196.9606935397041, 169.91592253296253, 6.355125092197987, 168.9875864759348, 108.26173479606643, 32.11315696816708, 161.65697369278772, 0.0602132235103166, 98.94290593967152, 95.40682847145754, 153.90898798227278, 166.71585090066782, 161.57090351146084, 90.66344323098268, 154.21561027335932, 49.78061567527551, 14.491720903075516, 122.17654623579504, 169.63867080705904, 48.735449348494015, 167.3678305024002, 83.69724880923975, 159.873913313565, 25.210504225971743, 110.7256057869686, 30.11955121988721, 34.53698673833156, 62.03974693787049, 73.01071459803188, 145.64262583114856, 177.72329786984082, 81.16728980590156, 185.37251705773625, 190.2527583616829, 28.240999457974063, 48.80357178074165, 0.9492621360629796, 164.0373594981518, 28.54561674880499, 119.25237136326352, 159.3187662452597, 104.61833701136436, 49.56502214136975, 77.82151039909914, 185.661249000121, 160.64719954672034, 159.1215027385213, 109.15003299213744, 132.27429007020876, 72.19341052568292, 111.65436137493847, 160.1141576478344, 156.2754587550994, 64.43604263988998, 64.9226822430954, 126.67214458894152, 67.8551979823521, 190.14330179918667, 2.824616678482643, 49.95172397912179, 116.65699150759148, 19.796739609311025, 0.943476392750856, 67.09064629768069, 74.07102407769642, 169.4012617263593, 122.4083915806426, 150.5711662432034, 12.765963777300655, 20.53666904259432, 68.7906170033887, 49.072081193410696, 1.2548519777552978, 56.05281682933842, 52.03115735161123, 109.44426286929138, 110.56046728844136, 134.0327023449215, 32.478831408830025, 69.77262002367739, 177.78798791263554, 119.827418327579, 148.5853892941099, 91.53531031525718, 120.19160351221926, 65.23454310757815, 126.45064714012928, 183.6960671176709, 6.471735917817643, 43.89022300140892, 18.58715555646553, 92.21075347819732, 17.55611290693539, 75.34596054976743, 136.53966580914832, 32.25490723836626, 167.215656858965, 73.29038018315535, 91.82310898597954, 12.454001025651444, 15.622377308945124, 121.43325339542444, 11.770361453498811, 151.546250418838, 167.26920154998723, 121.35589106606868, 39.7199044623305, 105.44145647823076, 191.31613920518117, 83.68317369873674, 43.914390843919, 95.38810091526004, 81.15260286310318, 82.05654401205214, 53.8124993491353, 46.04904399405926, 124.88249789740352, 10.287841236248974, 14.343900179138512, 46.28212781597455, 85.85949083815618, 33.830680913594286, 21.257233689882835, 123.18165502051576, 19.885074568850275, 52.83153792511005, 136.3943745982369, 112.56359826729202, 94.46204652782312, 129.6240713798985, 117.41119620998236, 52.57529764096837, 49.4950864420135, 8.98105454453011, 104.033288905031, 36.04618064583323, 99.90696526052336, 86.59724863261651, 58.19661185691437, 110.43462739095725, 187.88792500678983, 172.32525311224052, 111.85158143943586, 144.47445253882836, 30.79767964207535]\n",
      "\n",
      "\n",
      "📊 Medidas de Posición:\n",
      "Cuartiles:\n",
      "Q1 (P25): 53.04814828556021\n",
      "Interpretación: El 25% de los valores son menores o iguales a 53.04814828556021\n",
      "\n",
      "Mediana (Q2/P50): 102.56102328715424\n",
      "Interpretación: El 50% de los valores son menores o iguales a 102.56102328715424\n",
      "\n",
      "Q3 (P75): 149.8316824559032\n",
      "Interpretación: El 75% de los valores son menores o iguales a 149.8316824559032\n",
      "\n",
      "\n",
      "📊 Medidas de Variabilidad:\n",
      "- Rango (máx - mín): 198.93\n",
      "- Varianza: 3202.59\n",
      "- Desviación estándar: 56.59\n",
      "- Rango intercuartílico (IQR): 96.78\n",
      "- Coeficiente de variación (CV): 55.80%\n",
      "\n",
      "\n",
      "📊 Medidas de Simetría y Curtosis:\n",
      "- Asimetría (skewness): -0.05\n",
      "  → Distribución asimétrica negativa (cola hacia la izquierda)\n",
      "- Curtosis: 1.84\n",
      "  → Distribución platicúrtica (Menos concentración en el centro y colas más ligeras)\n"
     ]
    }
   ],
   "source": [
    "puntacion = df_csv['UPDRS']\n",
    "print(f\"📊 Maximo: {puntacion.max()}\")\n",
    "print(f\"📊 Minimo: {puntacion.min()}\")\n",
    "print('\\n')\n",
    "medidas_tendencia_central(puntacion)\n",
    "print('\\n')\n",
    "medidas_posicion(puntacion)\n",
    "print('\\n')\n",
    "calcular_medidas_variabilidad(puntacion)\n",
    "print('\\n')\n",
    "medidas_simetria_curtosis(puntacion)"
   ]
  },
  {
   "cell_type": "code",
   "execution_count": 28,
   "id": "a9f0856d",
   "metadata": {},
   "outputs": [
    {
     "name": "stdout",
     "output_type": "stream",
     "text": [
      "Rango o recorrido (R): 198.92516308365973\n",
      "Número de clases (k): 13.0\n",
      "Amplitud del intervalo (A): 16.0\n",
      "Intervalos: [2.84410965e-02 1.60284411e+01 3.20284411e+01 4.80284411e+01\n",
      " 6.40284411e+01 8.00284411e+01 9.60284411e+01 1.12028441e+02\n",
      " 1.28028441e+02 1.44028441e+02 1.60028441e+02 1.76028441e+02\n",
      " 1.92028441e+02 2.08028441e+02]\n",
      "Intervalos Cerrados: [(0.0284410965338546, 15.028441096533854), (16.028441096533854, 31.028441096533854), (32.028441096533854, 47.028441096533854), (48.028441096533854, 63.028441096533854), (64.02844109653385, 79.02844109653385), (80.02844109653385, 95.02844109653385), (96.02844109653385, 111.02844109653385), (112.02844109653385, 127.02844109653387), (128.02844109653387, 143.02844109653387), (144.02844109653387, 159.02844109653387), (160.02844109653387, 175.02844109653387), (176.02844109653387, 191.02844109653387), (192.02844109653387, 207.02844109653387)]\n"
     ]
    },
    {
     "data": {
      "text/html": [
       "<div>\n",
       "<style scoped>\n",
       "    .dataframe tbody tr th:only-of-type {\n",
       "        vertical-align: middle;\n",
       "    }\n",
       "\n",
       "    .dataframe tbody tr th {\n",
       "        vertical-align: top;\n",
       "    }\n",
       "\n",
       "    .dataframe thead th {\n",
       "        text-align: right;\n",
       "    }\n",
       "</style>\n",
       "<table border=\"1\" class=\"dataframe\">\n",
       "  <thead>\n",
       "    <tr style=\"text-align: right;\">\n",
       "      <th></th>\n",
       "      <th>Clase</th>\n",
       "      <th>Marca de clase</th>\n",
       "      <th>Frecuencia Absoluta</th>\n",
       "      <th>Frecuencia absoluta Acumulada</th>\n",
       "      <th>Frecuencia relativa</th>\n",
       "      <th>Frecuencia relativa Acumulada</th>\n",
       "      <th>Frecuencia Porcentual</th>\n",
       "    </tr>\n",
       "  </thead>\n",
       "  <tbody>\n",
       "    <tr>\n",
       "      <th>0</th>\n",
       "      <td>[0, 15]</td>\n",
       "      <td>7.528441</td>\n",
       "      <td>160</td>\n",
       "      <td>160</td>\n",
       "      <td>0.076010</td>\n",
       "      <td>0.076010</td>\n",
       "      <td>7.600950</td>\n",
       "    </tr>\n",
       "    <tr>\n",
       "      <th>1</th>\n",
       "      <td>[16, 31]</td>\n",
       "      <td>23.528441</td>\n",
       "      <td>141</td>\n",
       "      <td>301</td>\n",
       "      <td>0.066983</td>\n",
       "      <td>0.142993</td>\n",
       "      <td>6.698337</td>\n",
       "    </tr>\n",
       "    <tr>\n",
       "      <th>2</th>\n",
       "      <td>[32, 47]</td>\n",
       "      <td>39.528441</td>\n",
       "      <td>178</td>\n",
       "      <td>479</td>\n",
       "      <td>0.084561</td>\n",
       "      <td>0.227553</td>\n",
       "      <td>8.456057</td>\n",
       "    </tr>\n",
       "    <tr>\n",
       "      <th>3</th>\n",
       "      <td>[48, 63]</td>\n",
       "      <td>55.528441</td>\n",
       "      <td>163</td>\n",
       "      <td>642</td>\n",
       "      <td>0.077435</td>\n",
       "      <td>0.304988</td>\n",
       "      <td>7.743468</td>\n",
       "    </tr>\n",
       "    <tr>\n",
       "      <th>4</th>\n",
       "      <td>[64, 79]</td>\n",
       "      <td>71.528441</td>\n",
       "      <td>161</td>\n",
       "      <td>803</td>\n",
       "      <td>0.076485</td>\n",
       "      <td>0.381473</td>\n",
       "      <td>7.648456</td>\n",
       "    </tr>\n",
       "    <tr>\n",
       "      <th>5</th>\n",
       "      <td>[80, 95]</td>\n",
       "      <td>87.528441</td>\n",
       "      <td>180</td>\n",
       "      <td>983</td>\n",
       "      <td>0.085511</td>\n",
       "      <td>0.466983</td>\n",
       "      <td>8.551069</td>\n",
       "    </tr>\n",
       "    <tr>\n",
       "      <th>6</th>\n",
       "      <td>[96, 111]</td>\n",
       "      <td>103.528441</td>\n",
       "      <td>165</td>\n",
       "      <td>1148</td>\n",
       "      <td>0.078385</td>\n",
       "      <td>0.545368</td>\n",
       "      <td>7.838480</td>\n",
       "    </tr>\n",
       "    <tr>\n",
       "      <th>7</th>\n",
       "      <td>[112, 127]</td>\n",
       "      <td>119.528441</td>\n",
       "      <td>192</td>\n",
       "      <td>1340</td>\n",
       "      <td>0.091211</td>\n",
       "      <td>0.636580</td>\n",
       "      <td>9.121140</td>\n",
       "    </tr>\n",
       "    <tr>\n",
       "      <th>8</th>\n",
       "      <td>[128, 143]</td>\n",
       "      <td>135.528441</td>\n",
       "      <td>180</td>\n",
       "      <td>1520</td>\n",
       "      <td>0.085511</td>\n",
       "      <td>0.722090</td>\n",
       "      <td>8.551069</td>\n",
       "    </tr>\n",
       "    <tr>\n",
       "      <th>9</th>\n",
       "      <td>[144, 159]</td>\n",
       "      <td>151.528441</td>\n",
       "      <td>166</td>\n",
       "      <td>1686</td>\n",
       "      <td>0.078860</td>\n",
       "      <td>0.800950</td>\n",
       "      <td>7.885986</td>\n",
       "    </tr>\n",
       "    <tr>\n",
       "      <th>10</th>\n",
       "      <td>[160, 175]</td>\n",
       "      <td>167.528441</td>\n",
       "      <td>180</td>\n",
       "      <td>1866</td>\n",
       "      <td>0.085511</td>\n",
       "      <td>0.886461</td>\n",
       "      <td>8.551069</td>\n",
       "    </tr>\n",
       "    <tr>\n",
       "      <th>11</th>\n",
       "      <td>[176, 191]</td>\n",
       "      <td>183.528441</td>\n",
       "      <td>171</td>\n",
       "      <td>2037</td>\n",
       "      <td>0.081235</td>\n",
       "      <td>0.967696</td>\n",
       "      <td>8.123515</td>\n",
       "    </tr>\n",
       "    <tr>\n",
       "      <th>12</th>\n",
       "      <td>[192, 207]</td>\n",
       "      <td>199.528441</td>\n",
       "      <td>68</td>\n",
       "      <td>2105</td>\n",
       "      <td>0.032304</td>\n",
       "      <td>1.000000</td>\n",
       "      <td>3.230404</td>\n",
       "    </tr>\n",
       "  </tbody>\n",
       "</table>\n",
       "</div>"
      ],
      "text/plain": [
       "         Clase  Marca de clase  Frecuencia Absoluta  \\\n",
       "0      [0, 15]        7.528441                  160   \n",
       "1     [16, 31]       23.528441                  141   \n",
       "2     [32, 47]       39.528441                  178   \n",
       "3     [48, 63]       55.528441                  163   \n",
       "4     [64, 79]       71.528441                  161   \n",
       "5     [80, 95]       87.528441                  180   \n",
       "6    [96, 111]      103.528441                  165   \n",
       "7   [112, 127]      119.528441                  192   \n",
       "8   [128, 143]      135.528441                  180   \n",
       "9   [144, 159]      151.528441                  166   \n",
       "10  [160, 175]      167.528441                  180   \n",
       "11  [176, 191]      183.528441                  171   \n",
       "12  [192, 207]      199.528441                   68   \n",
       "\n",
       "    Frecuencia absoluta Acumulada  Frecuencia relativa  \\\n",
       "0                             160             0.076010   \n",
       "1                             301             0.066983   \n",
       "2                             479             0.084561   \n",
       "3                             642             0.077435   \n",
       "4                             803             0.076485   \n",
       "5                             983             0.085511   \n",
       "6                            1148             0.078385   \n",
       "7                            1340             0.091211   \n",
       "8                            1520             0.085511   \n",
       "9                            1686             0.078860   \n",
       "10                           1866             0.085511   \n",
       "11                           2037             0.081235   \n",
       "12                           2105             0.032304   \n",
       "\n",
       "    Frecuencia relativa Acumulada  Frecuencia Porcentual  \n",
       "0                        0.076010               7.600950  \n",
       "1                        0.142993               6.698337  \n",
       "2                        0.227553               8.456057  \n",
       "3                        0.304988               7.743468  \n",
       "4                        0.381473               7.648456  \n",
       "5                        0.466983               8.551069  \n",
       "6                        0.545368               7.838480  \n",
       "7                        0.636580               9.121140  \n",
       "8                        0.722090               8.551069  \n",
       "9                        0.800950               7.885986  \n",
       "10                       0.886461               8.551069  \n",
       "11                       0.967696               8.123515  \n",
       "12                       1.000000               3.230404  "
      ]
     },
     "execution_count": 28,
     "metadata": {},
     "output_type": "execute_result"
    }
   ],
   "source": [
    "frecuencias_cuantitativas(df_csv, 'UPDRS')"
   ]
  },
  {
   "cell_type": "code",
   "execution_count": 29,
   "id": "cbc04406",
   "metadata": {},
   "outputs": [
    {
     "name": "stdout",
     "output_type": "stream",
     "text": [
      "\n",
      "📊 Análisis de la variable: UPDRS\n",
      "👉 Número de intervalos (bins): 14\n",
      "\n",
      "📌 Frecuencia en cada intervalo:\n",
      "Intervalo 1: [0.03, 14.24) → 141 datos\n",
      "Intervalo 2: [14.24, 28.45) → 122 datos\n",
      "Intervalo 3: [28.45, 42.66) → 155 datos\n",
      "Intervalo 4: [42.66, 56.86) → 155 datos\n",
      "Intervalo 5: [56.86, 71.07) → 143 datos\n",
      "Intervalo 6: [71.07, 85.28) → 129 datos\n",
      "Intervalo 7: [85.28, 99.49) → 171 datos\n",
      "Intervalo 8: [99.49, 113.7) → 154 datos\n",
      "Intervalo 9: [113.7, 127.91) → 169 datos\n",
      "Intervalo 10: [127.91, 142.12) → 164 datos\n",
      "Intervalo 11: [142.12, 156.33) → 135 datos\n",
      "Intervalo 12: [156.33, 170.54) → 170 datos\n",
      "Intervalo 13: [170.54, 184.74) → 148 datos\n",
      "Intervalo 14: [184.74, 198.95) → 149 datos\n"
     ]
    },
    {
     "data": {
      "image/png": "[encoded data removed]",
      "text/plain": [
       "<Figure size 1200x600 with 2 Axes>"
      ]
     },
     "metadata": {},
     "output_type": "display_data"
    },
    {
     "name": "stdout",
     "output_type": "stream",
     "text": [
      "\n",
      "📈 Curva de densidad para: UPDRS\n",
      "Esta gráfica muestra cómo se distribuyen los valores de la variable.\n"
     ]
    },
    {
     "data": {
      "image/png": "[encoded data removed]",
      "text/plain": [
       "<Figure size 1000x500 with 1 Axes>"
      ]
     },
     "metadata": {},
     "output_type": "display_data"
    }
   ],
   "source": [
    "graficar_boxplot_e_histograma(df_csv, 'UPDRS')\n",
    "graficar_densidad(df_csv, 'UPDRS')"
   ]
  },
  {
   "cell_type": "markdown",
   "id": "26138d4e",
   "metadata": {},
   "source": [
    "Identificar si existen valores atípicos en las variable UPDRS, ¿estos valores podrían generar un falso análisis?"
   ]
  },
  {
   "cell_type": "markdown",
   "id": "7c9da12a",
   "metadata": {},
   "source": [
    "### **<span>Punto 2</span>**"
   ]
  },
  {
   "cell_type": "code",
   "execution_count": 31,
   "id": "07724845",
   "metadata": {},
   "outputs": [],
   "source": [
    "def frecuencias_cualitativas(data, variable):\n",
    "    \"\"\"\n",
    "    Calcula la tabla de distribución de frecuencias para una variable cualitativa.\n",
    "\n",
    "    Parámetros:\n",
    "    - data: DataFrame de pandas que contiene los datos.\n",
    "    - variable: Nombre de la columna (str) que representa la variable cualitativa.\n",
    "\n",
    "    Retorna:\n",
    "    - DataFrame con las columnas 'Clase', 'Frecuencia' y 'Porcentaje'.\n",
    "    \"\"\"\n",
    "\n",
    "    # 1. Contar la cantidad de veces que aparece cada categoría en la variable\n",
    "    frecuencias = data[variable].value_counts()\n",
    "    print(frecuencias)\n",
    "\n",
    "    # 2. Calcular el porcentaje de cada categoría dividiendo por el total y multiplicando por 100\n",
    "    # normalize=False (por defecto): Devuelve las frecuencias absolutas (conteo total).\n",
    "    # normalize=True: Devuelve la frecuencia relativa como proporción (entre 0 y 1).\n",
    "    porcentajes = data[variable].value_counts(normalize=True) * 100\n",
    "\n",
    "    # 3. Obtener los nombres de las clases (categorías de la variable)\n",
    "    clases = frecuencias.index.astype(str)  # Convertir a string para asegurar consistencia en los nombres\n",
    "\n",
    "    # 4. Crear un DataFrame con la información organizada\n",
    "    tabla = pd.DataFrame({\n",
    "        'Clase': clases,          # Nombre de la categoría\n",
    "        'Frecuencia': frecuencias, # Número de veces que aparece la categoría\n",
    "        'Porcentaje': porcentajes  # Representación en porcentaje\n",
    "    }).reset_index(drop=True)  # Resetear el índice para una mejor presentación\n",
    "\n",
    "    # 5. Retornar la tabla con las frecuencias y porcentajes\n",
    "    return tabla\n",
    "\n",
    "def graficar_distribucion_categorica(df, columna):\n",
    "    \"\"\"\n",
    "    Grafica un gráfico de torta y un gráfico de barras para una variable categórica.\n",
    "\n",
    "    Parámetros:\n",
    "    - df: DataFrame con los datos\n",
    "    - columna: Nombre de la columna categórica a graficar\n",
    "    \"\"\"\n",
    "\n",
    "    print(f\"\\n\\033[1m{columna.upper()}\\033[0m\")\n",
    "    \n",
    "    # Conteo de frecuencias\n",
    "    conteo = df[columna].value_counts().sort_values(ascending=False)\n",
    "\n",
    "    # Paleta de colores (morado pastel)\n",
    "    colores = [\"#D4A5F0\", \"#C3A2FF\", \"#B5A8F2\", \"#A89DE6\", \"#9D92D9\", \"#9287CC\", \"#877CC0\"]\n",
    "\n",
    "    # --- Gráfico de torta ---\n",
    "    fig_torta = go.Figure(go.Pie(\n",
    "        labels=conteo.index,\n",
    "        values=conteo.values,\n",
    "        marker=dict(colors=colores[:len(conteo)]),\n",
    "        hole=0.3,\n",
    "        textinfo=\"label+percent\"\n",
    "    ))\n",
    "    fig_torta.update_layout( title=\"Distribución porcentual de la variable\",template=\"plotly_white\", width=700, height=600)\n",
    "    fig_torta.show()\n",
    "\n",
    "    # --- Gráfico de barras ---\n",
    "    fig_barras = go.Figure(go.Bar(\n",
    "        x=conteo.index,\n",
    "        y=conteo.values,\n",
    "        text=conteo.values,\n",
    "        textposition=\"outside\",\n",
    "        marker=dict(color=colores[:len(conteo)])\n",
    "    ))\n",
    "    fig_barras.update_layout(title=\"Frecuencia absoluta de la variable\", template=\"plotly_white\", width=700, height=600, showlegend=False)\n",
    "    fig_barras.show()"
   ]
  },
  {
   "cell_type": "markdown",
   "id": "f8797371",
   "metadata": {},
   "source": [
    "### **<span>Variable: Diagnosis</span>**"
   ]
  },
  {
   "cell_type": "code",
   "execution_count": 33,
   "id": "09961800",
   "metadata": {},
   "outputs": [
    {
     "name": "stdout",
     "output_type": "stream",
     "text": [
      "Diagnosis\n",
      "1    1304\n",
      "0     801\n",
      "Name: count, dtype: int64\n"
     ]
    },
    {
     "data": {
      "text/html": [
       "<div>\n",
       "<style scoped>\n",
       "    .dataframe tbody tr th:only-of-type {\n",
       "        vertical-align: middle;\n",
       "    }\n",
       "\n",
       "    .dataframe tbody tr th {\n",
       "        vertical-align: top;\n",
       "    }\n",
       "\n",
       "    .dataframe thead th {\n",
       "        text-align: right;\n",
       "    }\n",
       "</style>\n",
       "<table border=\"1\" class=\"dataframe\">\n",
       "  <thead>\n",
       "    <tr style=\"text-align: right;\">\n",
       "      <th></th>\n",
       "      <th>Clase</th>\n",
       "      <th>Frecuencia</th>\n",
       "      <th>Porcentaje</th>\n",
       "    </tr>\n",
       "  </thead>\n",
       "  <tbody>\n",
       "    <tr>\n",
       "      <th>0</th>\n",
       "      <td>1</td>\n",
       "      <td>1304</td>\n",
       "      <td>61.947743</td>\n",
       "    </tr>\n",
       "    <tr>\n",
       "      <th>1</th>\n",
       "      <td>0</td>\n",
       "      <td>801</td>\n",
       "      <td>38.052257</td>\n",
       "    </tr>\n",
       "  </tbody>\n",
       "</table>\n",
       "</div>"
      ],
      "text/plain": [
       "  Clase  Frecuencia  Porcentaje\n",
       "0     1        1304   61.947743\n",
       "1     0         801   38.052257"
      ]
     },
     "execution_count": 33,
     "metadata": {},
     "output_type": "execute_result"
    }
   ],
   "source": [
    "frecuencias_cualitativas(df_csv, 'Diagnosis')"
   ]
  },
  {
   "cell_type": "code",
   "execution_count": 34,
   "id": "94d1cb66",
   "metadata": {},
   "outputs": [
    {
     "name": "stdout",
     "output_type": "stream",
     "text": [
      "\n",
      "\u001b[1mDIAGNOSIS\u001b[0m\n"
     ]
    },
    {
     "data": {
      "application/vnd.plotly.v1+json": {
       "config": {
        "plotlyServerURL": "https://plot.ly"
       },
       "data": [
        {
         "hole": 0.3,
         "labels": {
          "bdata": "AQA=",
          "dtype": "i1"
         },
         "marker": {
          "colors": [
           "#D4A5F0",
           "#C3A2FF"
          ]
         },
         "textinfo": "label+percent",
         "type": "pie",
         "values": {
          "bdata": "GAUhAw==",
          "dtype": "i2"
         }
        }
       ],
       "layout": {
        "height": 600,
        "template": {
         "data": {
          "bar": [
           {
            "error_x": {
             "color": "#2a3f5f"
            },
            "error_y": {
             "color": "#2a3f5f"
            },
            "marker": {
             "line": {
              "color": "white",
              "width": 0.5
             },
             "pattern": {
              "fillmode": "overlay",
              "size": 10,
              "solidity": 0.2
             }
            },
            "type": "bar"
           }
          ],
          "barpolar": [
           {
            "marker": {
             "line": {
              "color": "white",
              "width": 0.5
             },
             "pattern": {
              "fillmode": "overlay",
              "size": 10,
              "solidity": 0.2
             }
            },
            "type": "barpolar"
           }
          ],
          "carpet": [
           {
            "aaxis": {
             "endlinecolor": "#2a3f5f",
             "gridcolor": "#C8D4E3",
             "linecolor": "#C8D4E3",
             "minorgridcolor": "#C8D4E3",
             "startlinecolor": "#2a3f5f"
            },
            "baxis": {
             "endlinecolor": "#2a3f5f",
             "gridcolor": "#C8D4E3",
             "linecolor": "#C8D4E3",
             "minorgridcolor": "#C8D4E3",
             "startlinecolor": "#2a3f5f"
            },
            "type": "carpet"
           }
          ],
          "choropleth": [
           {
            "colorbar": {
             "outlinewidth": 0,
             "ticks": ""
            },
            "type": "choropleth"
           }
          ],
          "contour": [
           {
            "colorbar": {
             "outlinewidth": 0,
             "ticks": ""
            },
            "colorscale": [
             [
              0,
              "#0d0887"
             ],
             [
              0.1111111111111111,
              "#46039f"
             ],
             [
              0.2222222222222222,
              "#7201a8"
             ],
             [
              0.3333333333333333,
              "#9c179e"
             ],
             [
              0.4444444444444444,
              "#bd3786"
             ],
             [
              0.5555555555555556,
              "#d8576b"
             ],
             [
              0.6666666666666666,
              "#ed7953"
             ],
             [
              0.7777777777777778,
              "#fb9f3a"
             ],
             [
              0.8888888888888888,
              "#fdca26"
             ],
             [
              1,
              "#f0f921"
             ]
            ],
            "type": "contour"
           }
          ],
          "contourcarpet": [
           {
            "colorbar": {
             "outlinewidth": 0,
             "ticks": ""
            },
            "type": "contourcarpet"
           }
          ],
          "heatmap": [
           {
            "colorbar": {
             "outlinewidth": 0,
             "ticks": ""
            },
            "colorscale": [
             [
              0,
              "#0d0887"
             ],
             [
              0.1111111111111111,
              "#46039f"
             ],
             [
              0.2222222222222222,
              "#7201a8"
             ],
             [
              0.3333333333333333,
              "#9c179e"
             ],
             [
              0.4444444444444444,
              "#bd3786"
             ],
             [
              0.5555555555555556,
              "#d8576b"
             ],
             [
              0.6666666666666666,
              "#ed7953"
             ],
             [
              0.7777777777777778,
              "#fb9f3a"
             ],
             [
              0.8888888888888888,
              "#fdca26"
             ],
             [
              1,
              "#f0f921"
             ]
            ],
            "type": "heatmap"
           }
          ],
          "histogram": [
           {
            "marker": {
             "pattern": {
              "fillmode": "overlay",
              "size": 10,
              "solidity": 0.2
             }
            },
            "type": "histogram"
           }
          ],
          "histogram2d": [
           {
            "colorbar": {
             "outlinewidth": 0,
             "ticks": ""
            },
            "colorscale": [
             [
              0,
              "#0d0887"
             ],
             [
              0.1111111111111111,
              "#46039f"
             ],
             [
              0.2222222222222222,
              "#7201a8"
             ],
             [
              0.3333333333333333,
              "#9c179e"
             ],
             [
              0.4444444444444444,
              "#bd3786"
             ],
             [
              0.5555555555555556,
              "#d8576b"
             ],
             [
              0.6666666666666666,
              "#ed7953"
             ],
             [
              0.7777777777777778,
              "#fb9f3a"
             ],
             [
              0.8888888888888888,
              "#fdca26"
             ],
             [
              1,
              "#f0f921"
             ]
            ],
            "type": "histogram2d"
           }
          ],
          "histogram2dcontour": [
           {
            "colorbar": {
             "outlinewidth": 0,
             "ticks": ""
            },
            "colorscale": [
             [
              0,
              "#0d0887"
             ],
             [
              0.1111111111111111,
              "#46039f"
             ],
             [
              0.2222222222222222,
              "#7201a8"
             ],
             [
              0.3333333333333333,
              "#9c179e"
             ],
             [
              0.4444444444444444,
              "#bd3786"
             ],
             [
              0.5555555555555556,
              "#d8576b"
             ],
             [
              0.6666666666666666,
              "#ed7953"
             ],
             [
              0.7777777777777778,
              "#fb9f3a"
             ],
             [
              0.8888888888888888,
              "#fdca26"
             ],
             [
              1,
              "#f0f921"
             ]
            ],
            "type": "histogram2dcontour"
           }
          ],
          "mesh3d": [
           {
            "colorbar": {
             "outlinewidth": 0,
             "ticks": ""
            },
            "type": "mesh3d"
           }
          ],
          "parcoords": [
           {
            "line": {
             "colorbar": {
              "outlinewidth": 0,
              "ticks": ""
             }
            },
            "type": "parcoords"
           }
          ],
          "pie": [
           {
            "automargin": true,
            "type": "pie"
           }
          ],
          "scatter": [
           {
            "fillpattern": {
             "fillmode": "overlay",
             "size": 10,
             "solidity": 0.2
            },
            "type": "scatter"
           }
          ],
          "scatter3d": [
           {
            "line": {
             "colorbar": {
              "outlinewidth": 0,
              "ticks": ""
             }
            },
            "marker": {
             "colorbar": {
              "outlinewidth": 0,
              "ticks": ""
             }
            },
            "type": "scatter3d"
           }
          ],
          "scattercarpet": [
           {
            "marker": {
             "colorbar": {
              "outlinewidth": 0,
              "ticks": ""
             }
            },
            "type": "scattercarpet"
           }
          ],
          "scattergeo": [
           {
            "marker": {
             "colorbar": {
              "outlinewidth": 0,
              "ticks": ""
             }
            },
            "type": "scattergeo"
           }
          ],
          "scattergl": [
           {
            "marker": {
             "colorbar": {
              "outlinewidth": 0,
              "ticks": ""
             }
            },
            "type": "scattergl"
           }
          ],
          "scattermap": [
           {
            "marker": {
             "colorbar": {
              "outlinewidth": 0,
              "ticks": ""
             }
            },
            "type": "scattermap"
           }
          ],
          "scattermapbox": [
           {
            "marker": {
             "colorbar": {
              "outlinewidth": 0,
              "ticks": ""
             }
            },
            "type": "scattermapbox"
           }
          ],
          "scatterpolar": [
           {
            "marker": {
             "colorbar": {
              "outlinewidth": 0,
              "ticks": ""
             }
            },
            "type": "scatterpolar"
           }
          ],
          "scatterpolargl": [
           {
            "marker": {
             "colorbar": {
              "outlinewidth": 0,
              "ticks": ""
             }
            },
            "type": "scatterpolargl"
           }
          ],
          "scatterternary": [
           {
            "marker": {
             "colorbar": {
              "outlinewidth": 0,
              "ticks": ""
             }
            },
            "type": "scatterternary"
           }
          ],
          "surface": [
           {
            "colorbar": {
             "outlinewidth": 0,
             "ticks": ""
            },
            "colorscale": [
             [
              0,
              "#0d0887"
             ],
             [
              0.1111111111111111,
              "#46039f"
             ],
             [
              0.2222222222222222,
              "#7201a8"
             ],
             [
              0.3333333333333333,
              "#9c179e"
             ],
             [
              0.4444444444444444,
              "#bd3786"
             ],
             [
              0.5555555555555556,
              "#d8576b"
             ],
             [
              0.6666666666666666,
              "#ed7953"
             ],
             [
              0.7777777777777778,
              "#fb9f3a"
             ],
             [
              0.8888888888888888,
              "#fdca26"
             ],
             [
              1,
              "#f0f921"
             ]
            ],
            "type": "surface"
           }
          ],
          "table": [
           {
            "cells": {
             "fill": {
              "color": "#EBF0F8"
             },
             "line": {
              "color": "white"
             }
            },
            "header": {
             "fill": {
              "color": "#C8D4E3"
             },
             "line": {
              "color": "white"
             }
            },
            "type": "table"
           }
          ]
         },
         "layout": {
          "annotationdefaults": {
           "arrowcolor": "#2a3f5f",
           "arrowhead": 0,
           "arrowwidth": 1
          },
          "autotypenumbers": "strict",
          "coloraxis": {
           "colorbar": {
            "outlinewidth": 0,
            "ticks": ""
           }
          },
          "colorscale": {
           "diverging": [
            [
             0,
             "#8e0152"
            ],
            [
             0.1,
             "#c51b7d"
            ],
            [
             0.2,
             "#de77ae"
            ],
            [
             0.3,
             "#f1b6da"
            ],
            [
             0.4,
             "#fde0ef"
            ],
            [
             0.5,
             "#f7f7f7"
            ],
            [
             0.6,
             "#e6f5d0"
            ],
            [
             0.7,
             "#b8e186"
            ],
            [
             0.8,
             "#7fbc41"
            ],
            [
             0.9,
             "#4d9221"
            ],
            [
             1,
             "#276419"
            ]
           ],
           "sequential": [
            [
             0,
             "#0d0887"
            ],
            [
             0.1111111111111111,
             "#46039f"
            ],
            [
             0.2222222222222222,
             "#7201a8"
            ],
            [
             0.3333333333333333,
             "#9c179e"
            ],
            [
             0.4444444444444444,
             "#bd3786"
            ],
            [
             0.5555555555555556,
             "#d8576b"
            ],
            [
             0.6666666666666666,
             "#ed7953"
            ],
            [
             0.7777777777777778,
             "#fb9f3a"
            ],
            [
             0.8888888888888888,
             "#fdca26"
            ],
            [
             1,
             "#f0f921"
            ]
           ],
           "sequentialminus": [
            [
             0,
             "#0d0887"
            ],
            [
             0.1111111111111111,
             "#46039f"
            ],
            [
             0.2222222222222222,
             "#7201a8"
            ],
            [
             0.3333333333333333,
             "#9c179e"
            ],
            [
             0.4444444444444444,
             "#bd3786"
            ],
            [
             0.5555555555555556,
             "#d8576b"
            ],
            [
             0.6666666666666666,
             "#ed7953"
            ],
            [
             0.7777777777777778,
             "#fb9f3a"
            ],
            [
             0.8888888888888888,
             "#fdca26"
            ],
            [
             1,
             "#f0f921"
            ]
           ]
          },
          "colorway": [
           "#636efa",
           "#EF553B",
           "#00cc96",
           "#ab63fa",
           "#FFA15A",
           "#19d3f3",
           "#FF6692",
           "#B6E880",
           "#FF97FF",
           "#FECB52"
          ],
          "font": {
           "color": "#2a3f5f"
          },
          "geo": {
           "bgcolor": "white",
           "lakecolor": "white",
           "landcolor": "white",
           "showlakes": true,
           "showland": true,
           "subunitcolor": "#C8D4E3"
          },
          "hoverlabel": {
           "align": "left"
          },
          "hovermode": "closest",
          "mapbox": {
           "style": "light"
          },
          "paper_bgcolor": "white",
          "plot_bgcolor": "white",
          "polar": {
           "angularaxis": {
            "gridcolor": "#EBF0F8",
            "linecolor": "#EBF0F8",
            "ticks": ""
           },
           "bgcolor": "white",
           "radialaxis": {
            "gridcolor": "#EBF0F8",
            "linecolor": "#EBF0F8",
            "ticks": ""
           }
          },
          "scene": {
           "xaxis": {
            "backgroundcolor": "white",
            "gridcolor": "#DFE8F3",
            "gridwidth": 2,
            "linecolor": "#EBF0F8",
            "showbackground": true,
            "ticks": "",
            "zerolinecolor": "#EBF0F8"
           },
           "yaxis": {
            "backgroundcolor": "white",
            "gridcolor": "#DFE8F3",
            "gridwidth": 2,
            "linecolor": "#EBF0F8",
            "showbackground": true,
            "ticks": "",
            "zerolinecolor": "#EBF0F8"
           },
           "zaxis": {
            "backgroundcolor": "white",
            "gridcolor": "#DFE8F3",
            "gridwidth": 2,
            "linecolor": "#EBF0F8",
            "showbackground": true,
            "ticks": "",
            "zerolinecolor": "#EBF0F8"
           }
          },
          "shapedefaults": {
           "line": {
            "color": "#2a3f5f"
           }
          },
          "ternary": {
           "aaxis": {
            "gridcolor": "#DFE8F3",
            "linecolor": "#A2B1C6",
            "ticks": ""
           },
           "baxis": {
            "gridcolor": "#DFE8F3",
            "linecolor": "#A2B1C6",
            "ticks": ""
           },
           "bgcolor": "white",
           "caxis": {
            "gridcolor": "#DFE8F3",
            "linecolor": "#A2B1C6",
            "ticks": ""
           }
          },
          "title": {
           "x": 0.05
          },
          "xaxis": {
           "automargin": true,
           "gridcolor": "#EBF0F8",
           "linecolor": "#EBF0F8",
           "ticks": "",
           "title": {
            "standoff": 15
           },
           "zerolinecolor": "#EBF0F8",
           "zerolinewidth": 2
          },
          "yaxis": {
           "automargin": true,
           "gridcolor": "#EBF0F8",
           "linecolor": "#EBF0F8",
           "ticks": "",
           "title": {
            "standoff": 15
           },
           "zerolinecolor": "#EBF0F8",
           "zerolinewidth": 2
          }
         }
        },
        "title": {
         "text": "Distribución porcentual de la variable"
        },
        "width": 700
       }
      }
     },
     "metadata": {},
     "output_type": "display_data"
    },
    {
     "data": {
      "application/vnd.plotly.v1+json": {
       "config": {
        "plotlyServerURL": "https://plot.ly"
       },
       "data": [
        {
         "marker": {
          "color": [
           "#D4A5F0",
           "#C3A2FF"
          ]
         },
         "text": {
          "bdata": "AAAAAABglEAAAAAAAAiJQA==",
          "dtype": "f8"
         },
         "textposition": "outside",
         "type": "bar",
         "x": {
          "bdata": "AQA=",
          "dtype": "i1"
         },
         "y": {
          "bdata": "GAUhAw==",
          "dtype": "i2"
         }
        }
       ],
       "layout": {
        "height": 600,
        "showlegend": false,
        "template": {
         "data": {
          "bar": [
           {
            "error_x": {
             "color": "#2a3f5f"
            },
            "error_y": {
             "color": "#2a3f5f"
            },
            "marker": {
             "line": {
              "color": "white",
              "width": 0.5
             },
             "pattern": {
              "fillmode": "overlay",
              "size": 10,
              "solidity": 0.2
             }
            },
            "type": "bar"
           }
          ],
          "barpolar": [
           {
            "marker": {
             "line": {
              "color": "white",
              "width": 0.5
             },
             "pattern": {
              "fillmode": "overlay",
              "size": 10,
              "solidity": 0.2
             }
            },
            "type": "barpolar"
           }
          ],
          "carpet": [
           {
            "aaxis": {
             "endlinecolor": "#2a3f5f",
             "gridcolor": "#C8D4E3",
             "linecolor": "#C8D4E3",
             "minorgridcolor": "#C8D4E3",
             "startlinecolor": "#2a3f5f"
            },
            "baxis": {
             "endlinecolor": "#2a3f5f",
             "gridcolor": "#C8D4E3",
             "linecolor": "#C8D4E3",
             "minorgridcolor": "#C8D4E3",
             "startlinecolor": "#2a3f5f"
            },
            "type": "carpet"
           }
          ],
          "choropleth": [
           {
            "colorbar": {
             "outlinewidth": 0,
             "ticks": ""
            },
            "type": "choropleth"
           }
          ],
          "contour": [
           {
            "colorbar": {
             "outlinewidth": 0,
             "ticks": ""
            },
            "colorscale": [
             [
              0,
              "#0d0887"
             ],
             [
              0.1111111111111111,
              "#46039f"
             ],
             [
              0.2222222222222222,
              "#7201a8"
             ],
             [
              0.3333333333333333,
              "#9c179e"
             ],
             [
              0.4444444444444444,
              "#bd3786"
             ],
             [
              0.5555555555555556,
              "#d8576b"
             ],
             [
              0.6666666666666666,
              "#ed7953"
             ],
             [
              0.7777777777777778,
              "#fb9f3a"
             ],
             [
              0.8888888888888888,
              "#fdca26"
             ],
             [
              1,
              "#f0f921"
             ]
            ],
            "type": "contour"
           }
          ],
          "contourcarpet": [
           {
            "colorbar": {
             "outlinewidth": 0,
             "ticks": ""
            },
            "type": "contourcarpet"
           }
          ],
          "heatmap": [
           {
            "colorbar": {
             "outlinewidth": 0,
             "ticks": ""
            },
            "colorscale": [
             [
              0,
              "#0d0887"
             ],
             [
              0.1111111111111111,
              "#46039f"
             ],
             [
              0.2222222222222222,
              "#7201a8"
             ],
             [
              0.3333333333333333,
              "#9c179e"
             ],
             [
              0.4444444444444444,
              "#bd3786"
             ],
             [
              0.5555555555555556,
              "#d8576b"
             ],
             [
              0.6666666666666666,
              "#ed7953"
             ],
             [
              0.7777777777777778,
              "#fb9f3a"
             ],
             [
              0.8888888888888888,
              "#fdca26"
             ],
             [
              1,
              "#f0f921"
             ]
            ],
            "type": "heatmap"
           }
          ],
          "histogram": [
           {
            "marker": {
             "pattern": {
              "fillmode": "overlay",
              "size": 10,
              "solidity": 0.2
             }
            },
            "type": "histogram"
           }
          ],
          "histogram2d": [
           {
            "colorbar": {
             "outlinewidth": 0,
             "ticks": ""
            },
            "colorscale": [
             [
              0,
              "#0d0887"
             ],
             [
              0.1111111111111111,
              "#46039f"
             ],
             [
              0.2222222222222222,
              "#7201a8"
             ],
             [
              0.3333333333333333,
              "#9c179e"
             ],
             [
              0.4444444444444444,
              "#bd3786"
             ],
             [
              0.5555555555555556,
              "#d8576b"
             ],
             [
              0.6666666666666666,
              "#ed7953"
             ],
             [
              0.7777777777777778,
              "#fb9f3a"
             ],
             [
              0.8888888888888888,
              "#fdca26"
             ],
             [
              1,
              "#f0f921"
             ]
            ],
            "type": "histogram2d"
           }
          ],
          "histogram2dcontour": [
           {
            "colorbar": {
             "outlinewidth": 0,
             "ticks": ""
            },
            "colorscale": [
             [
              0,
              "#0d0887"
             ],
             [
              0.1111111111111111,
              "#46039f"
             ],
             [
              0.2222222222222222,
              "#7201a8"
             ],
             [
              0.3333333333333333,
              "#9c179e"
             ],
             [
              0.4444444444444444,
              "#bd3786"
             ],
             [
              0.5555555555555556,
              "#d8576b"
             ],
             [
              0.6666666666666666,
              "#ed7953"
             ],
             [
              0.7777777777777778,
              "#fb9f3a"
             ],
             [
              0.8888888888888888,
              "#fdca26"
             ],
             [
              1,
              "#f0f921"
             ]
            ],
            "type": "histogram2dcontour"
           }
          ],
          "mesh3d": [
           {
            "colorbar": {
             "outlinewidth": 0,
             "ticks": ""
            },
            "type": "mesh3d"
           }
          ],
          "parcoords": [
           {
            "line": {
             "colorbar": {
              "outlinewidth": 0,
              "ticks": ""
             }
            },
            "type": "parcoords"
           }
          ],
          "pie": [
           {
            "automargin": true,
            "type": "pie"
           }
          ],
          "scatter": [
           {
            "fillpattern": {
             "fillmode": "overlay",
             "size": 10,
             "solidity": 0.2
            },
            "type": "scatter"
           }
          ],
          "scatter3d": [
           {
            "line": {
             "colorbar": {
              "outlinewidth": 0,
              "ticks": ""
             }
            },
            "marker": {
             "colorbar": {
              "outlinewidth": 0,
              "ticks": ""
             }
            },
            "type": "scatter3d"
           }
          ],
          "scattercarpet": [
           {
            "marker": {
             "colorbar": {
              "outlinewidth": 0,
              "ticks": ""
             }
            },
            "type": "scattercarpet"
           }
          ],
          "scattergeo": [
           {
            "marker": {
             "colorbar": {
              "outlinewidth": 0,
              "ticks": ""
             }
            },
            "type": "scattergeo"
           }
          ],
          "scattergl": [
           {
            "marker": {
             "colorbar": {
              "outlinewidth": 0,
              "ticks": ""
             }
            },
            "type": "scattergl"
           }
          ],
          "scattermap": [
           {
            "marker": {
             "colorbar": {
              "outlinewidth": 0,
              "ticks": ""
             }
            },
            "type": "scattermap"
           }
          ],
          "scattermapbox": [
           {
            "marker": {
             "colorbar": {
              "outlinewidth": 0,
              "ticks": ""
             }
            },
            "type": "scattermapbox"
           }
          ],
          "scatterpolar": [
           {
            "marker": {
             "colorbar": {
              "outlinewidth": 0,
              "ticks": ""
             }
            },
            "type": "scatterpolar"
           }
          ],
          "scatterpolargl": [
           {
            "marker": {
             "colorbar": {
              "outlinewidth": 0,
              "ticks": ""
             }
            },
            "type": "scatterpolargl"
           }
          ],
          "scatterternary": [
           {
            "marker": {
             "colorbar": {
              "outlinewidth": 0,
              "ticks": ""
             }
            },
            "type": "scatterternary"
           }
          ],
          "surface": [
           {
            "colorbar": {
             "outlinewidth": 0,
             "ticks": ""
            },
            "colorscale": [
             [
              0,
              "#0d0887"
             ],
             [
              0.1111111111111111,
              "#46039f"
             ],
             [
              0.2222222222222222,
              "#7201a8"
             ],
             [
              0.3333333333333333,
              "#9c179e"
             ],
             [
              0.4444444444444444,
              "#bd3786"
             ],
             [
              0.5555555555555556,
              "#d8576b"
             ],
             [
              0.6666666666666666,
              "#ed7953"
             ],
             [
              0.7777777777777778,
              "#fb9f3a"
             ],
             [
              0.8888888888888888,
              "#fdca26"
             ],
             [
              1,
              "#f0f921"
             ]
            ],
            "type": "surface"
           }
          ],
          "table": [
           {
            "cells": {
             "fill": {
              "color": "#EBF0F8"
             },
             "line": {
              "color": "white"
             }
            },
            "header": {
             "fill": {
              "color": "#C8D4E3"
             },
             "line": {
              "color": "white"
             }
            },
            "type": "table"
           }
          ]
         },
         "layout": {
          "annotationdefaults": {
           "arrowcolor": "#2a3f5f",
           "arrowhead": 0,
           "arrowwidth": 1
          },
          "autotypenumbers": "strict",
          "coloraxis": {
           "colorbar": {
            "outlinewidth": 0,
            "ticks": ""
           }
          },
          "colorscale": {
           "diverging": [
            [
             0,
             "#8e0152"
            ],
            [
             0.1,
             "#c51b7d"
            ],
            [
             0.2,
             "#de77ae"
            ],
            [
             0.3,
             "#f1b6da"
            ],
            [
             0.4,
             "#fde0ef"
            ],
            [
             0.5,
             "#f7f7f7"
            ],
            [
             0.6,
             "#e6f5d0"
            ],
            [
             0.7,
             "#b8e186"
            ],
            [
             0.8,
             "#7fbc41"
            ],
            [
             0.9,
             "#4d9221"
            ],
            [
             1,
             "#276419"
            ]
           ],
           "sequential": [
            [
             0,
             "#0d0887"
            ],
            [
             0.1111111111111111,
             "#46039f"
            ],
            [
             0.2222222222222222,
             "#7201a8"
            ],
            [
             0.3333333333333333,
             "#9c179e"
            ],
            [
             0.4444444444444444,
             "#bd3786"
            ],
            [
             0.5555555555555556,
             "#d8576b"
            ],
            [
             0.6666666666666666,
             "#ed7953"
            ],
            [
             0.7777777777777778,
             "#fb9f3a"
            ],
            [
             0.8888888888888888,
             "#fdca26"
            ],
            [
             1,
             "#f0f921"
            ]
           ],
           "sequentialminus": [
            [
             0,
             "#0d0887"
            ],
            [
             0.1111111111111111,
             "#46039f"
            ],
            [
             0.2222222222222222,
             "#7201a8"
            ],
            [
             0.3333333333333333,
             "#9c179e"
            ],
            [
             0.4444444444444444,
             "#bd3786"
            ],
            [
             0.5555555555555556,
             "#d8576b"
            ],
            [
             0.6666666666666666,
             "#ed7953"
            ],
            [
             0.7777777777777778,
             "#fb9f3a"
            ],
            [
             0.8888888888888888,
             "#fdca26"
            ],
            [
             1,
             "#f0f921"
            ]
           ]
          },
          "colorway": [
           "#636efa",
           "#EF553B",
           "#00cc96",
           "#ab63fa",
           "#FFA15A",
           "#19d3f3",
           "#FF6692",
           "#B6E880",
           "#FF97FF",
           "#FECB52"
          ],
          "font": {
           "color": "#2a3f5f"
          },
          "geo": {
           "bgcolor": "white",
           "lakecolor": "white",
           "landcolor": "white",
           "showlakes": true,
           "showland": true,
           "subunitcolor": "#C8D4E3"
          },
          "hoverlabel": {
           "align": "left"
          },
          "hovermode": "closest",
          "mapbox": {
           "style": "light"
          },
          "paper_bgcolor": "white",
          "plot_bgcolor": "white",
          "polar": {
           "angularaxis": {
            "gridcolor": "#EBF0F8",
            "linecolor": "#EBF0F8",
            "ticks": ""
           },
           "bgcolor": "white",
           "radialaxis": {
            "gridcolor": "#EBF0F8",
            "linecolor": "#EBF0F8",
            "ticks": ""
           }
          },
          "scene": {
           "xaxis": {
            "backgroundcolor": "white",
            "gridcolor": "#DFE8F3",
            "gridwidth": 2,
            "linecolor": "#EBF0F8",
            "showbackground": true,
            "ticks": "",
            "zerolinecolor": "#EBF0F8"
           },
           "yaxis": {
            "backgroundcolor": "white",
            "gridcolor": "#DFE8F3",
            "gridwidth": 2,
            "linecolor": "#EBF0F8",
            "showbackground": true,
            "ticks": "",
            "zerolinecolor": "#EBF0F8"
           },
           "zaxis": {
            "backgroundcolor": "white",
            "gridcolor": "#DFE8F3",
            "gridwidth": 2,
            "linecolor": "#EBF0F8",
            "showbackground": true,
            "ticks": "",
            "zerolinecolor": "#EBF0F8"
           }
          },
          "shapedefaults": {
           "line": {
            "color": "#2a3f5f"
           }
          },
          "ternary": {
           "aaxis": {
            "gridcolor": "#DFE8F3",
            "linecolor": "#A2B1C6",
            "ticks": ""
           },
           "baxis": {
            "gridcolor": "#DFE8F3",
            "linecolor": "#A2B1C6",
            "ticks": ""
           },
           "bgcolor": "white",
           "caxis": {
            "gridcolor": "#DFE8F3",
            "linecolor": "#A2B1C6",
            "ticks": ""
           }
          },
          "title": {
           "x": 0.05
          },
          "xaxis": {
           "automargin": true,
           "gridcolor": "#EBF0F8",
           "linecolor": "#EBF0F8",
           "ticks": "",
           "title": {
            "standoff": 15
           },
           "zerolinecolor": "#EBF0F8",
           "zerolinewidth": 2
          },
          "yaxis": {
           "automargin": true,
           "gridcolor": "#EBF0F8",
           "linecolor": "#EBF0F8",
           "ticks": "",
           "title": {
            "standoff": 15
           },
           "zerolinecolor": "#EBF0F8",
           "zerolinewidth": 2
          }
         }
        },
        "title": {
         "text": "Frecuencia absoluta de la variable"
        },
        "width": 700
       }
      }
     },
     "metadata": {},
     "output_type": "display_data"
    }
   ],
   "source": [
    "graficar_distribucion_categorica(df_csv, 'Diagnosis')"
   ]
  },
  {
   "cell_type": "markdown",
   "id": "9dffcce7",
   "metadata": {},
   "source": [
    "### **<span>Variable: Etnia</span>**"
   ]
  },
  {
   "cell_type": "code",
   "execution_count": 35,
   "id": "23e7e4b1",
   "metadata": {},
   "outputs": [
    {
     "name": "stdout",
     "output_type": "stream",
     "text": [
      "Ethnicity\n",
      "0    1270\n",
      "1     425\n",
      "3     213\n",
      "2     197\n",
      "Name: count, dtype: int64\n"
     ]
    },
    {
     "data": {
      "text/html": [
       "<div>\n",
       "<style scoped>\n",
       "    .dataframe tbody tr th:only-of-type {\n",
       "        vertical-align: middle;\n",
       "    }\n",
       "\n",
       "    .dataframe tbody tr th {\n",
       "        vertical-align: top;\n",
       "    }\n",
       "\n",
       "    .dataframe thead th {\n",
       "        text-align: right;\n",
       "    }\n",
       "</style>\n",
       "<table border=\"1\" class=\"dataframe\">\n",
       "  <thead>\n",
       "    <tr style=\"text-align: right;\">\n",
       "      <th></th>\n",
       "      <th>Clase</th>\n",
       "      <th>Frecuencia</th>\n",
       "      <th>Porcentaje</th>\n",
       "    </tr>\n",
       "  </thead>\n",
       "  <tbody>\n",
       "    <tr>\n",
       "      <th>0</th>\n",
       "      <td>0</td>\n",
       "      <td>1270</td>\n",
       "      <td>60.332542</td>\n",
       "    </tr>\n",
       "    <tr>\n",
       "      <th>1</th>\n",
       "      <td>1</td>\n",
       "      <td>425</td>\n",
       "      <td>20.190024</td>\n",
       "    </tr>\n",
       "    <tr>\n",
       "      <th>2</th>\n",
       "      <td>3</td>\n",
       "      <td>213</td>\n",
       "      <td>10.118765</td>\n",
       "    </tr>\n",
       "    <tr>\n",
       "      <th>3</th>\n",
       "      <td>2</td>\n",
       "      <td>197</td>\n",
       "      <td>9.358670</td>\n",
       "    </tr>\n",
       "  </tbody>\n",
       "</table>\n",
       "</div>"
      ],
      "text/plain": [
       "  Clase  Frecuencia  Porcentaje\n",
       "0     0        1270   60.332542\n",
       "1     1         425   20.190024\n",
       "2     3         213   10.118765\n",
       "3     2         197    9.358670"
      ]
     },
     "execution_count": 35,
     "metadata": {},
     "output_type": "execute_result"
    }
   ],
   "source": [
    "frecuencias_cualitativas(df_csv, 'Ethnicity')"
   ]
  },
  {
   "cell_type": "code",
   "execution_count": 36,
   "id": "71bc06d5",
   "metadata": {},
   "outputs": [
    {
     "name": "stdout",
     "output_type": "stream",
     "text": [
      "\n",
      "\u001b[1mETHNICITY\u001b[0m\n"
     ]
    },
    {
     "data": {
      "application/vnd.plotly.v1+json": {
       "config": {
        "plotlyServerURL": "https://plot.ly"
       },
       "data": [
        {
         "hole": 0.3,
         "labels": {
          "bdata": "AAEDAg==",
          "dtype": "i1"
         },
         "marker": {
          "colors": [
           "#D4A5F0",
           "#C3A2FF",
           "#B5A8F2",
           "#A89DE6"
          ]
         },
         "textinfo": "label+percent",
         "type": "pie",
         "values": {
          "bdata": "9gSpAdUAxQA=",
          "dtype": "i2"
         }
        }
       ],
       "layout": {
        "height": 600,
        "template": {
         "data": {
          "bar": [
           {
            "error_x": {
             "color": "#2a3f5f"
            },
            "error_y": {
             "color": "#2a3f5f"
            },
            "marker": {
             "line": {
              "color": "white",
              "width": 0.5
             },
             "pattern": {
              "fillmode": "overlay",
              "size": 10,
              "solidity": 0.2
             }
            },
            "type": "bar"
           }
          ],
          "barpolar": [
           {
            "marker": {
             "line": {
              "color": "white",
              "width": 0.5
             },
             "pattern": {
              "fillmode": "overlay",
              "size": 10,
              "solidity": 0.2
             }
            },
            "type": "barpolar"
           }
          ],
          "carpet": [
           {
            "aaxis": {
             "endlinecolor": "#2a3f5f",
             "gridcolor": "#C8D4E3",
             "linecolor": "#C8D4E3",
             "minorgridcolor": "#C8D4E3",
             "startlinecolor": "#2a3f5f"
            },
            "baxis": {
             "endlinecolor": "#2a3f5f",
             "gridcolor": "#C8D4E3",
             "linecolor": "#C8D4E3",
             "minorgridcolor": "#C8D4E3",
             "startlinecolor": "#2a3f5f"
            },
            "type": "carpet"
           }
          ],
          "choropleth": [
           {
            "colorbar": {
             "outlinewidth": 0,
             "ticks": ""
            },
            "type": "choropleth"
           }
          ],
          "contour": [
           {
            "colorbar": {
             "outlinewidth": 0,
             "ticks": ""
            },
            "colorscale": [
             [
              0,
              "#0d0887"
             ],
             [
              0.1111111111111111,
              "#46039f"
             ],
             [
              0.2222222222222222,
              "#7201a8"
             ],
             [
              0.3333333333333333,
              "#9c179e"
             ],
             [
              0.4444444444444444,
              "#bd3786"
             ],
             [
              0.5555555555555556,
              "#d8576b"
             ],
             [
              0.6666666666666666,
              "#ed7953"
             ],
             [
              0.7777777777777778,
              "#fb9f3a"
             ],
             [
              0.8888888888888888,
              "#fdca26"
             ],
             [
              1,
              "#f0f921"
             ]
            ],
            "type": "contour"
           }
          ],
          "contourcarpet": [
           {
            "colorbar": {
             "outlinewidth": 0,
             "ticks": ""
            },
            "type": "contourcarpet"
           }
          ],
          "heatmap": [
           {
            "colorbar": {
             "outlinewidth": 0,
             "ticks": ""
            },
            "colorscale": [
             [
              0,
              "#0d0887"
             ],
             [
              0.1111111111111111,
              "#46039f"
             ],
             [
              0.2222222222222222,
              "#7201a8"
             ],
             [
              0.3333333333333333,
              "#9c179e"
             ],
             [
              0.4444444444444444,
              "#bd3786"
             ],
             [
              0.5555555555555556,
              "#d8576b"
             ],
             [
              0.6666666666666666,
              "#ed7953"
             ],
             [
              0.7777777777777778,
              "#fb9f3a"
             ],
             [
              0.8888888888888888,
              "#fdca26"
             ],
             [
              1,
              "#f0f921"
             ]
            ],
            "type": "heatmap"
           }
          ],
          "histogram": [
           {
            "marker": {
             "pattern": {
              "fillmode": "overlay",
              "size": 10,
              "solidity": 0.2
             }
            },
            "type": "histogram"
           }
          ],
          "histogram2d": [
           {
            "colorbar": {
             "outlinewidth": 0,
             "ticks": ""
            },
            "colorscale": [
             [
              0,
              "#0d0887"
             ],
             [
              0.1111111111111111,
              "#46039f"
             ],
             [
              0.2222222222222222,
              "#7201a8"
             ],
             [
              0.3333333333333333,
              "#9c179e"
             ],
             [
              0.4444444444444444,
              "#bd3786"
             ],
             [
              0.5555555555555556,
              "#d8576b"
             ],
             [
              0.6666666666666666,
              "#ed7953"
             ],
             [
              0.7777777777777778,
              "#fb9f3a"
             ],
             [
              0.8888888888888888,
              "#fdca26"
             ],
             [
              1,
              "#f0f921"
             ]
            ],
            "type": "histogram2d"
           }
          ],
          "histogram2dcontour": [
           {
            "colorbar": {
             "outlinewidth": 0,
             "ticks": ""
            },
            "colorscale": [
             [
              0,
              "#0d0887"
             ],
             [
              0.1111111111111111,
              "#46039f"
             ],
             [
              0.2222222222222222,
              "#7201a8"
             ],
             [
              0.3333333333333333,
              "#9c179e"
             ],
             [
              0.4444444444444444,
              "#bd3786"
             ],
             [
              0.5555555555555556,
              "#d8576b"
             ],
             [
              0.6666666666666666,
              "#ed7953"
             ],
             [
              0.7777777777777778,
              "#fb9f3a"
             ],
             [
              0.8888888888888888,
              "#fdca26"
             ],
             [
              1,
              "#f0f921"
             ]
            ],
            "type": "histogram2dcontour"
           }
          ],
          "mesh3d": [
           {
            "colorbar": {
             "outlinewidth": 0,
             "ticks": ""
            },
            "type": "mesh3d"
           }
          ],
          "parcoords": [
           {
            "line": {
             "colorbar": {
              "outlinewidth": 0,
              "ticks": ""
             }
            },
            "type": "parcoords"
           }
          ],
          "pie": [
           {
            "automargin": true,
            "type": "pie"
           }
          ],
          "scatter": [
           {
            "fillpattern": {
             "fillmode": "overlay",
             "size": 10,
             "solidity": 0.2
            },
            "type": "scatter"
           }
          ],
          "scatter3d": [
           {
            "line": {
             "colorbar": {
              "outlinewidth": 0,
              "ticks": ""
             }
            },
            "marker": {
             "colorbar": {
              "outlinewidth": 0,
              "ticks": ""
             }
            },
            "type": "scatter3d"
           }
          ],
          "scattercarpet": [
           {
            "marker": {
             "colorbar": {
              "outlinewidth": 0,
              "ticks": ""
             }
            },
            "type": "scattercarpet"
           }
          ],
          "scattergeo": [
           {
            "marker": {
             "colorbar": {
              "outlinewidth": 0,
              "ticks": ""
             }
            },
            "type": "scattergeo"
           }
          ],
          "scattergl": [
           {
            "marker": {
             "colorbar": {
              "outlinewidth": 0,
              "ticks": ""
             }
            },
            "type": "scattergl"
           }
          ],
          "scattermap": [
           {
            "marker": {
             "colorbar": {
              "outlinewidth": 0,
              "ticks": ""
             }
            },
            "type": "scattermap"
           }
          ],
          "scattermapbox": [
           {
            "marker": {
             "colorbar": {
              "outlinewidth": 0,
              "ticks": ""
             }
            },
            "type": "scattermapbox"
           }
          ],
          "scatterpolar": [
           {
            "marker": {
             "colorbar": {
              "outlinewidth": 0,
              "ticks": ""
             }
            },
            "type": "scatterpolar"
           }
          ],
          "scatterpolargl": [
           {
            "marker": {
             "colorbar": {
              "outlinewidth": 0,
              "ticks": ""
             }
            },
            "type": "scatterpolargl"
           }
          ],
          "scatterternary": [
           {
            "marker": {
             "colorbar": {
              "outlinewidth": 0,
              "ticks": ""
             }
            },
            "type": "scatterternary"
           }
          ],
          "surface": [
           {
            "colorbar": {
             "outlinewidth": 0,
             "ticks": ""
            },
            "colorscale": [
             [
              0,
              "#0d0887"
             ],
             [
              0.1111111111111111,
              "#46039f"
             ],
             [
              0.2222222222222222,
              "#7201a8"
             ],
             [
              0.3333333333333333,
              "#9c179e"
             ],
             [
              0.4444444444444444,
              "#bd3786"
             ],
             [
              0.5555555555555556,
              "#d8576b"
             ],
             [
              0.6666666666666666,
              "#ed7953"
             ],
             [
              0.7777777777777778,
              "#fb9f3a"
             ],
             [
              0.8888888888888888,
              "#fdca26"
             ],
             [
              1,
              "#f0f921"
             ]
            ],
            "type": "surface"
           }
          ],
          "table": [
           {
            "cells": {
             "fill": {
              "color": "#EBF0F8"
             },
             "line": {
              "color": "white"
             }
            },
            "header": {
             "fill": {
              "color": "#C8D4E3"
             },
             "line": {
              "color": "white"
             }
            },
            "type": "table"
           }
          ]
         },
         "layout": {
          "annotationdefaults": {
           "arrowcolor": "#2a3f5f",
           "arrowhead": 0,
           "arrowwidth": 1
          },
          "autotypenumbers": "strict",
          "coloraxis": {
           "colorbar": {
            "outlinewidth": 0,
            "ticks": ""
           }
          },
          "colorscale": {
           "diverging": [
            [
             0,
             "#8e0152"
            ],
            [
             0.1,
             "#c51b7d"
            ],
            [
             0.2,
             "#de77ae"
            ],
            [
             0.3,
             "#f1b6da"
            ],
            [
             0.4,
             "#fde0ef"
            ],
            [
             0.5,
             "#f7f7f7"
            ],
            [
             0.6,
             "#e6f5d0"
            ],
            [
             0.7,
             "#b8e186"
            ],
            [
             0.8,
             "#7fbc41"
            ],
            [
             0.9,
             "#4d9221"
            ],
            [
             1,
             "#276419"
            ]
           ],
           "sequential": [
            [
             0,
             "#0d0887"
            ],
            [
             0.1111111111111111,
             "#46039f"
            ],
            [
             0.2222222222222222,
             "#7201a8"
            ],
            [
             0.3333333333333333,
             "#9c179e"
            ],
            [
             0.4444444444444444,
             "#bd3786"
            ],
            [
             0.5555555555555556,
             "#d8576b"
            ],
            [
             0.6666666666666666,
             "#ed7953"
            ],
            [
             0.7777777777777778,
             "#fb9f3a"
            ],
            [
             0.8888888888888888,
             "#fdca26"
            ],
            [
             1,
             "#f0f921"
            ]
           ],
           "sequentialminus": [
            [
             0,
             "#0d0887"
            ],
            [
             0.1111111111111111,
             "#46039f"
            ],
            [
             0.2222222222222222,
             "#7201a8"
            ],
            [
             0.3333333333333333,
             "#9c179e"
            ],
            [
             0.4444444444444444,
             "#bd3786"
            ],
            [
             0.5555555555555556,
             "#d8576b"
            ],
            [
             0.6666666666666666,
             "#ed7953"
            ],
            [
             0.7777777777777778,
             "#fb9f3a"
            ],
            [
             0.8888888888888888,
             "#fdca26"
            ],
            [
             1,
             "#f0f921"
            ]
           ]
          },
          "colorway": [
           "#636efa",
           "#EF553B",
           "#00cc96",
           "#ab63fa",
           "#FFA15A",
           "#19d3f3",
           "#FF6692",
           "#B6E880",
           "#FF97FF",
           "#FECB52"
          ],
          "font": {
           "color": "#2a3f5f"
          },
          "geo": {
           "bgcolor": "white",
           "lakecolor": "white",
           "landcolor": "white",
           "showlakes": true,
           "showland": true,
           "subunitcolor": "#C8D4E3"
          },
          "hoverlabel": {
           "align": "left"
          },
          "hovermode": "closest",
          "mapbox": {
           "style": "light"
          },
          "paper_bgcolor": "white",
          "plot_bgcolor": "white",
          "polar": {
           "angularaxis": {
            "gridcolor": "#EBF0F8",
            "linecolor": "#EBF0F8",
            "ticks": ""
           },
           "bgcolor": "white",
           "radialaxis": {
            "gridcolor": "#EBF0F8",
            "linecolor": "#EBF0F8",
            "ticks": ""
           }
          },
          "scene": {
           "xaxis": {
            "backgroundcolor": "white",
            "gridcolor": "#DFE8F3",
            "gridwidth": 2,
            "linecolor": "#EBF0F8",
            "showbackground": true,
            "ticks": "",
            "zerolinecolor": "#EBF0F8"
           },
           "yaxis": {
            "backgroundcolor": "white",
            "gridcolor": "#DFE8F3",
            "gridwidth": 2,
            "linecolor": "#EBF0F8",
            "showbackground": true,
            "ticks": "",
            "zerolinecolor": "#EBF0F8"
           },
           "zaxis": {
            "backgroundcolor": "white",
            "gridcolor": "#DFE8F3",
            "gridwidth": 2,
            "linecolor": "#EBF0F8",
            "showbackground": true,
            "ticks": "",
            "zerolinecolor": "#EBF0F8"
           }
          },
          "shapedefaults": {
           "line": {
            "color": "#2a3f5f"
           }
          },
          "ternary": {
           "aaxis": {
            "gridcolor": "#DFE8F3",
            "linecolor": "#A2B1C6",
            "ticks": ""
           },
           "baxis": {
            "gridcolor": "#DFE8F3",
            "linecolor": "#A2B1C6",
            "ticks": ""
           },
           "bgcolor": "white",
           "caxis": {
            "gridcolor": "#DFE8F3",
            "linecolor": "#A2B1C6",
            "ticks": ""
           }
          },
          "title": {
           "x": 0.05
          },
          "xaxis": {
           "automargin": true,
           "gridcolor": "#EBF0F8",
           "linecolor": "#EBF0F8",
           "ticks": "",
           "title": {
            "standoff": 15
           },
           "zerolinecolor": "#EBF0F8",
           "zerolinewidth": 2
          },
          "yaxis": {
           "automargin": true,
           "gridcolor": "#EBF0F8",
           "linecolor": "#EBF0F8",
           "ticks": "",
           "title": {
            "standoff": 15
           },
           "zerolinecolor": "#EBF0F8",
           "zerolinewidth": 2
          }
         }
        },
        "title": {
         "text": "Distribución porcentual de la variable"
        },
        "width": 700
       }
      }
     },
     "metadata": {},
     "output_type": "display_data"
    },
    {
     "data": {
      "application/vnd.plotly.v1+json": {
       "config": {
        "plotlyServerURL": "https://plot.ly"
       },
       "data": [
        {
         "marker": {
          "color": [
           "#D4A5F0",
           "#C3A2FF",
           "#B5A8F2",
           "#A89DE6"
          ]
         },
         "text": {
          "bdata": "AAAAAADYk0AAAAAAAJB6QAAAAAAAoGpAAAAAAACgaEA=",
          "dtype": "f8"
         },
         "textposition": "outside",
         "type": "bar",
         "x": {
          "bdata": "AAEDAg==",
          "dtype": "i1"
         },
         "y": {
          "bdata": "9gSpAdUAxQA=",
          "dtype": "i2"
         }
        }
       ],
       "layout": {
        "height": 600,
        "showlegend": false,
        "template": {
         "data": {
          "bar": [
           {
            "error_x": {
             "color": "#2a3f5f"
            },
            "error_y": {
             "color": "#2a3f5f"
            },
            "marker": {
             "line": {
              "color": "white",
              "width": 0.5
             },
             "pattern": {
              "fillmode": "overlay",
              "size": 10,
              "solidity": 0.2
             }
            },
            "type": "bar"
           }
          ],
          "barpolar": [
           {
            "marker": {
             "line": {
              "color": "white",
              "width": 0.5
             },
             "pattern": {
              "fillmode": "overlay",
              "size": 10,
              "solidity": 0.2
             }
            },
            "type": "barpolar"
           }
          ],
          "carpet": [
           {
            "aaxis": {
             "endlinecolor": "#2a3f5f",
             "gridcolor": "#C8D4E3",
             "linecolor": "#C8D4E3",
             "minorgridcolor": "#C8D4E3",
             "startlinecolor": "#2a3f5f"
            },
            "baxis": {
             "endlinecolor": "#2a3f5f",
             "gridcolor": "#C8D4E3",
             "linecolor": "#C8D4E3",
             "minorgridcolor": "#C8D4E3",
             "startlinecolor": "#2a3f5f"
            },
            "type": "carpet"
           }
          ],
          "choropleth": [
           {
            "colorbar": {
             "outlinewidth": 0,
             "ticks": ""
            },
            "type": "choropleth"
           }
          ],
          "contour": [
           {
            "colorbar": {
             "outlinewidth": 0,
             "ticks": ""
            },
            "colorscale": [
             [
              0,
              "#0d0887"
             ],
             [
              0.1111111111111111,
              "#46039f"
             ],
             [
              0.2222222222222222,
              "#7201a8"
             ],
             [
              0.3333333333333333,
              "#9c179e"
             ],
             [
              0.4444444444444444,
              "#bd3786"
             ],
             [
              0.5555555555555556,
              "#d8576b"
             ],
             [
              0.6666666666666666,
              "#ed7953"
             ],
             [
              0.7777777777777778,
              "#fb9f3a"
             ],
             [
              0.8888888888888888,
              "#fdca26"
             ],
             [
              1,
              "#f0f921"
             ]
            ],
            "type": "contour"
           }
          ],
          "contourcarpet": [
           {
            "colorbar": {
             "outlinewidth": 0,
             "ticks": ""
            },
            "type": "contourcarpet"
           }
          ],
          "heatmap": [
           {
            "colorbar": {
             "outlinewidth": 0,
             "ticks": ""
            },
            "colorscale": [
             [
              0,
              "#0d0887"
             ],
             [
              0.1111111111111111,
              "#46039f"
             ],
             [
              0.2222222222222222,
              "#7201a8"
             ],
             [
              0.3333333333333333,
              "#9c179e"
             ],
             [
              0.4444444444444444,
              "#bd3786"
             ],
             [
              0.5555555555555556,
              "#d8576b"
             ],
             [
              0.6666666666666666,
              "#ed7953"
             ],
             [
              0.7777777777777778,
              "#fb9f3a"
             ],
             [
              0.8888888888888888,
              "#fdca26"
             ],
             [
              1,
              "#f0f921"
             ]
            ],
            "type": "heatmap"
           }
          ],
          "histogram": [
           {
            "marker": {
             "pattern": {
              "fillmode": "overlay",
              "size": 10,
              "solidity": 0.2
             }
            },
            "type": "histogram"
           }
          ],
          "histogram2d": [
           {
            "colorbar": {
             "outlinewidth": 0,
             "ticks": ""
            },
            "colorscale": [
             [
              0,
              "#0d0887"
             ],
             [
              0.1111111111111111,
              "#46039f"
             ],
             [
              0.2222222222222222,
              "#7201a8"
             ],
             [
              0.3333333333333333,
              "#9c179e"
             ],
             [
              0.4444444444444444,
              "#bd3786"
             ],
             [
              0.5555555555555556,
              "#d8576b"
             ],
             [
              0.6666666666666666,
              "#ed7953"
             ],
             [
              0.7777777777777778,
              "#fb9f3a"
             ],
             [
              0.8888888888888888,
              "#fdca26"
             ],
             [
              1,
              "#f0f921"
             ]
            ],
            "type": "histogram2d"
           }
          ],
          "histogram2dcontour": [
           {
            "colorbar": {
             "outlinewidth": 0,
             "ticks": ""
            },
            "colorscale": [
             [
              0,
              "#0d0887"
             ],
             [
              0.1111111111111111,
              "#46039f"
             ],
             [
              0.2222222222222222,
              "#7201a8"
             ],
             [
              0.3333333333333333,
              "#9c179e"
             ],
             [
              0.4444444444444444,
              "#bd3786"
             ],
             [
              0.5555555555555556,
              "#d8576b"
             ],
             [
              0.6666666666666666,
              "#ed7953"
             ],
             [
              0.7777777777777778,
              "#fb9f3a"
             ],
             [
              0.8888888888888888,
              "#fdca26"
             ],
             [
              1,
              "#f0f921"
             ]
            ],
            "type": "histogram2dcontour"
           }
          ],
          "mesh3d": [
           {
            "colorbar": {
             "outlinewidth": 0,
             "ticks": ""
            },
            "type": "mesh3d"
           }
          ],
          "parcoords": [
           {
            "line": {
             "colorbar": {
              "outlinewidth": 0,
              "ticks": ""
             }
            },
            "type": "parcoords"
           }
          ],
          "pie": [
           {
            "automargin": true,
            "type": "pie"
           }
          ],
          "scatter": [
           {
            "fillpattern": {
             "fillmode": "overlay",
             "size": 10,
             "solidity": 0.2
            },
            "type": "scatter"
           }
          ],
          "scatter3d": [
           {
            "line": {
             "colorbar": {
              "outlinewidth": 0,
              "ticks": ""
             }
            },
            "marker": {
             "colorbar": {
              "outlinewidth": 0,
              "ticks": ""
             }
            },
            "type": "scatter3d"
           }
          ],
          "scattercarpet": [
           {
            "marker": {
             "colorbar": {
              "outlinewidth": 0,
              "ticks": ""
             }
            },
            "type": "scattercarpet"
           }
          ],
          "scattergeo": [
           {
            "marker": {
             "colorbar": {
              "outlinewidth": 0,
              "ticks": ""
             }
            },
            "type": "scattergeo"
           }
          ],
          "scattergl": [
           {
            "marker": {
             "colorbar": {
              "outlinewidth": 0,
              "ticks": ""
             }
            },
            "type": "scattergl"
           }
          ],
          "scattermap": [
           {
            "marker": {
             "colorbar": {
              "outlinewidth": 0,
              "ticks": ""
             }
            },
            "type": "scattermap"
           }
          ],
          "scattermapbox": [
           {
            "marker": {
             "colorbar": {
              "outlinewidth": 0,
              "ticks": ""
             }
            },
            "type": "scattermapbox"
           }
          ],
          "scatterpolar": [
           {
            "marker": {
             "colorbar": {
              "outlinewidth": 0,
              "ticks": ""
             }
            },
            "type": "scatterpolar"
           }
          ],
          "scatterpolargl": [
           {
            "marker": {
             "colorbar": {
              "outlinewidth": 0,
              "ticks": ""
             }
            },
            "type": "scatterpolargl"
           }
          ],
          "scatterternary": [
           {
            "marker": {
             "colorbar": {
              "outlinewidth": 0,
              "ticks": ""
             }
            },
            "type": "scatterternary"
           }
          ],
          "surface": [
           {
            "colorbar": {
             "outlinewidth": 0,
             "ticks": ""
            },
            "colorscale": [
             [
              0,
              "#0d0887"
             ],
             [
              0.1111111111111111,
              "#46039f"
             ],
             [
              0.2222222222222222,
              "#7201a8"
             ],
             [
              0.3333333333333333,
              "#9c179e"
             ],
             [
              0.4444444444444444,
              "#bd3786"
             ],
             [
              0.5555555555555556,
              "#d8576b"
             ],
             [
              0.6666666666666666,
              "#ed7953"
             ],
             [
              0.7777777777777778,
              "#fb9f3a"
             ],
             [
              0.8888888888888888,
              "#fdca26"
             ],
             [
              1,
              "#f0f921"
             ]
            ],
            "type": "surface"
           }
          ],
          "table": [
           {
            "cells": {
             "fill": {
              "color": "#EBF0F8"
             },
             "line": {
              "color": "white"
             }
            },
            "header": {
             "fill": {
              "color": "#C8D4E3"
             },
             "line": {
              "color": "white"
             }
            },
            "type": "table"
           }
          ]
         },
         "layout": {
          "annotationdefaults": {
           "arrowcolor": "#2a3f5f",
           "arrowhead": 0,
           "arrowwidth": 1
          },
          "autotypenumbers": "strict",
          "coloraxis": {
           "colorbar": {
            "outlinewidth": 0,
            "ticks": ""
           }
          },
          "colorscale": {
           "diverging": [
            [
             0,
             "#8e0152"
            ],
            [
             0.1,
             "#c51b7d"
            ],
            [
             0.2,
             "#de77ae"
            ],
            [
             0.3,
             "#f1b6da"
            ],
            [
             0.4,
             "#fde0ef"
            ],
            [
             0.5,
             "#f7f7f7"
            ],
            [
             0.6,
             "#e6f5d0"
            ],
            [
             0.7,
             "#b8e186"
            ],
            [
             0.8,
             "#7fbc41"
            ],
            [
             0.9,
             "#4d9221"
            ],
            [
             1,
             "#276419"
            ]
           ],
           "sequential": [
            [
             0,
             "#0d0887"
            ],
            [
             0.1111111111111111,
             "#46039f"
            ],
            [
             0.2222222222222222,
             "#7201a8"
            ],
            [
             0.3333333333333333,
             "#9c179e"
            ],
            [
             0.4444444444444444,
             "#bd3786"
            ],
            [
             0.5555555555555556,
             "#d8576b"
            ],
            [
             0.6666666666666666,
             "#ed7953"
            ],
            [
             0.7777777777777778,
             "#fb9f3a"
            ],
            [
             0.8888888888888888,
             "#fdca26"
            ],
            [
             1,
             "#f0f921"
            ]
           ],
           "sequentialminus": [
            [
             0,
             "#0d0887"
            ],
            [
             0.1111111111111111,
             "#46039f"
            ],
            [
             0.2222222222222222,
             "#7201a8"
            ],
            [
             0.3333333333333333,
             "#9c179e"
            ],
            [
             0.4444444444444444,
             "#bd3786"
            ],
            [
             0.5555555555555556,
             "#d8576b"
            ],
            [
             0.6666666666666666,
             "#ed7953"
            ],
            [
             0.7777777777777778,
             "#fb9f3a"
            ],
            [
             0.8888888888888888,
             "#fdca26"
            ],
            [
             1,
             "#f0f921"
            ]
           ]
          },
          "colorway": [
           "#636efa",
           "#EF553B",
           "#00cc96",
           "#ab63fa",
           "#FFA15A",
           "#19d3f3",
           "#FF6692",
           "#B6E880",
           "#FF97FF",
           "#FECB52"
          ],
          "font": {
           "color": "#2a3f5f"
          },
          "geo": {
           "bgcolor": "white",
           "lakecolor": "white",
           "landcolor": "white",
           "showlakes": true,
           "showland": true,
           "subunitcolor": "#C8D4E3"
          },
          "hoverlabel": {
           "align": "left"
          },
          "hovermode": "closest",
          "mapbox": {
           "style": "light"
          },
          "paper_bgcolor": "white",
          "plot_bgcolor": "white",
          "polar": {
           "angularaxis": {
            "gridcolor": "#EBF0F8",
            "linecolor": "#EBF0F8",
            "ticks": ""
           },
           "bgcolor": "white",
           "radialaxis": {
            "gridcolor": "#EBF0F8",
            "linecolor": "#EBF0F8",
            "ticks": ""
           }
          },
          "scene": {
           "xaxis": {
            "backgroundcolor": "white",
            "gridcolor": "#DFE8F3",
            "gridwidth": 2,
            "linecolor": "#EBF0F8",
            "showbackground": true,
            "ticks": "",
            "zerolinecolor": "#EBF0F8"
           },
           "yaxis": {
            "backgroundcolor": "white",
            "gridcolor": "#DFE8F3",
            "gridwidth": 2,
            "linecolor": "#EBF0F8",
            "showbackground": true,
            "ticks": "",
            "zerolinecolor": "#EBF0F8"
           },
           "zaxis": {
            "backgroundcolor": "white",
            "gridcolor": "#DFE8F3",
            "gridwidth": 2,
            "linecolor": "#EBF0F8",
            "showbackground": true,
            "ticks": "",
            "zerolinecolor": "#EBF0F8"
           }
          },
          "shapedefaults": {
           "line": {
            "color": "#2a3f5f"
           }
          },
          "ternary": {
           "aaxis": {
            "gridcolor": "#DFE8F3",
            "linecolor": "#A2B1C6",
            "ticks": ""
           },
           "baxis": {
            "gridcolor": "#DFE8F3",
            "linecolor": "#A2B1C6",
            "ticks": ""
           },
           "bgcolor": "white",
           "caxis": {
            "gridcolor": "#DFE8F3",
            "linecolor": "#A2B1C6",
            "ticks": ""
           }
          },
          "title": {
           "x": 0.05
          },
          "xaxis": {
           "automargin": true,
           "gridcolor": "#EBF0F8",
           "linecolor": "#EBF0F8",
           "ticks": "",
           "title": {
            "standoff": 15
           },
           "zerolinecolor": "#EBF0F8",
           "zerolinewidth": 2
          },
          "yaxis": {
           "automargin": true,
           "gridcolor": "#EBF0F8",
           "linecolor": "#EBF0F8",
           "ticks": "",
           "title": {
            "standoff": 15
           },
           "zerolinecolor": "#EBF0F8",
           "zerolinewidth": 2
          }
         }
        },
        "title": {
         "text": "Frecuencia absoluta de la variable"
        },
        "width": 700
       }
      }
     },
     "metadata": {},
     "output_type": "display_data"
    }
   ],
   "source": [
    "graficar_distribucion_categorica(df_csv, 'Ethnicity')"
   ]
  },
  {
   "cell_type": "markdown",
   "id": "3e71613e",
   "metadata": {},
   "source": [
    "### **<span>Variable: Nivel Educativo</span>**"
   ]
  },
  {
   "cell_type": "code",
   "execution_count": 37,
   "id": "ecaf561f",
   "metadata": {},
   "outputs": [
    {
     "name": "stdout",
     "output_type": "stream",
     "text": [
      "EducationLevel\n",
      "1    840\n",
      "2    656\n",
      "0    388\n",
      "3    221\n",
      "Name: count, dtype: int64\n"
     ]
    },
    {
     "data": {
      "text/html": [
       "<div>\n",
       "<style scoped>\n",
       "    .dataframe tbody tr th:only-of-type {\n",
       "        vertical-align: middle;\n",
       "    }\n",
       "\n",
       "    .dataframe tbody tr th {\n",
       "        vertical-align: top;\n",
       "    }\n",
       "\n",
       "    .dataframe thead th {\n",
       "        text-align: right;\n",
       "    }\n",
       "</style>\n",
       "<table border=\"1\" class=\"dataframe\">\n",
       "  <thead>\n",
       "    <tr style=\"text-align: right;\">\n",
       "      <th></th>\n",
       "      <th>Clase</th>\n",
       "      <th>Frecuencia</th>\n",
       "      <th>Porcentaje</th>\n",
       "    </tr>\n",
       "  </thead>\n",
       "  <tbody>\n",
       "    <tr>\n",
       "      <th>0</th>\n",
       "      <td>1</td>\n",
       "      <td>840</td>\n",
       "      <td>39.904988</td>\n",
       "    </tr>\n",
       "    <tr>\n",
       "      <th>1</th>\n",
       "      <td>2</td>\n",
       "      <td>656</td>\n",
       "      <td>31.163895</td>\n",
       "    </tr>\n",
       "    <tr>\n",
       "      <th>2</th>\n",
       "      <td>0</td>\n",
       "      <td>388</td>\n",
       "      <td>18.432304</td>\n",
       "    </tr>\n",
       "    <tr>\n",
       "      <th>3</th>\n",
       "      <td>3</td>\n",
       "      <td>221</td>\n",
       "      <td>10.498812</td>\n",
       "    </tr>\n",
       "  </tbody>\n",
       "</table>\n",
       "</div>"
      ],
      "text/plain": [
       "  Clase  Frecuencia  Porcentaje\n",
       "0     1         840   39.904988\n",
       "1     2         656   31.163895\n",
       "2     0         388   18.432304\n",
       "3     3         221   10.498812"
      ]
     },
     "execution_count": 37,
     "metadata": {},
     "output_type": "execute_result"
    }
   ],
   "source": [
    "frecuencias_cualitativas(df_csv, 'EducationLevel')"
   ]
  },
  {
   "cell_type": "code",
   "execution_count": 38,
   "id": "abbcc8af",
   "metadata": {},
   "outputs": [
    {
     "name": "stdout",
     "output_type": "stream",
     "text": [
      "\n",
      "\u001b[1mEDUCATIONLEVEL\u001b[0m\n"
     ]
    },
    {
     "data": {
      "application/vnd.plotly.v1+json": {
       "config": {
        "plotlyServerURL": "https://plot.ly"
       },
       "data": [
        {
         "hole": 0.3,
         "labels": {
          "bdata": "AQIAAw==",
          "dtype": "i1"
         },
         "marker": {
          "colors": [
           "#D4A5F0",
           "#C3A2FF",
           "#B5A8F2",
           "#A89DE6"
          ]
         },
         "textinfo": "label+percent",
         "type": "pie",
         "values": {
          "bdata": "SAOQAoQB3QA=",
          "dtype": "i2"
         }
        }
       ],
       "layout": {
        "height": 600,
        "template": {
         "data": {
          "bar": [
           {
            "error_x": {
             "color": "#2a3f5f"
            },
            "error_y": {
             "color": "#2a3f5f"
            },
            "marker": {
             "line": {
              "color": "white",
              "width": 0.5
             },
             "pattern": {
              "fillmode": "overlay",
              "size": 10,
              "solidity": 0.2
             }
            },
            "type": "bar"
           }
          ],
          "barpolar": [
           {
            "marker": {
             "line": {
              "color": "white",
              "width": 0.5
             },
             "pattern": {
              "fillmode": "overlay",
              "size": 10,
              "solidity": 0.2
             }
            },
            "type": "barpolar"
           }
          ],
          "carpet": [
           {
            "aaxis": {
             "endlinecolor": "#2a3f5f",
             "gridcolor": "#C8D4E3",
             "linecolor": "#C8D4E3",
             "minorgridcolor": "#C8D4E3",
             "startlinecolor": "#2a3f5f"
            },
            "baxis": {
             "endlinecolor": "#2a3f5f",
             "gridcolor": "#C8D4E3",
             "linecolor": "#C8D4E3",
             "minorgridcolor": "#C8D4E3",
             "startlinecolor": "#2a3f5f"
            },
            "type": "carpet"
           }
          ],
          "choropleth": [
           {
            "colorbar": {
             "outlinewidth": 0,
             "ticks": ""
            },
            "type": "choropleth"
           }
          ],
          "contour": [
           {
            "colorbar": {
             "outlinewidth": 0,
             "ticks": ""
            },
            "colorscale": [
             [
              0,
              "#0d0887"
             ],
             [
              0.1111111111111111,
              "#46039f"
             ],
             [
              0.2222222222222222,
              "#7201a8"
             ],
             [
              0.3333333333333333,
              "#9c179e"
             ],
             [
              0.4444444444444444,
              "#bd3786"
             ],
             [
              0.5555555555555556,
              "#d8576b"
             ],
             [
              0.6666666666666666,
              "#ed7953"
             ],
             [
              0.7777777777777778,
              "#fb9f3a"
             ],
             [
              0.8888888888888888,
              "#fdca26"
             ],
             [
              1,
              "#f0f921"
             ]
            ],
            "type": "contour"
           }
          ],
          "contourcarpet": [
           {
            "colorbar": {
             "outlinewidth": 0,
             "ticks": ""
            },
            "type": "contourcarpet"
           }
          ],
          "heatmap": [
           {
            "colorbar": {
             "outlinewidth": 0,
             "ticks": ""
            },
            "colorscale": [
             [
              0,
              "#0d0887"
             ],
             [
              0.1111111111111111,
              "#46039f"
             ],
             [
              0.2222222222222222,
              "#7201a8"
             ],
             [
              0.3333333333333333,
              "#9c179e"
             ],
             [
              0.4444444444444444,
              "#bd3786"
             ],
             [
              0.5555555555555556,
              "#d8576b"
             ],
             [
              0.6666666666666666,
              "#ed7953"
             ],
             [
              0.7777777777777778,
              "#fb9f3a"
             ],
             [
              0.8888888888888888,
              "#fdca26"
             ],
             [
              1,
              "#f0f921"
             ]
            ],
            "type": "heatmap"
           }
          ],
          "histogram": [
           {
            "marker": {
             "pattern": {
              "fillmode": "overlay",
              "size": 10,
              "solidity": 0.2
             }
            },
            "type": "histogram"
           }
          ],
          "histogram2d": [
           {
            "colorbar": {
             "outlinewidth": 0,
             "ticks": ""
            },
            "colorscale": [
             [
              0,
              "#0d0887"
             ],
             [
              0.1111111111111111,
              "#46039f"
             ],
             [
              0.2222222222222222,
              "#7201a8"
             ],
             [
              0.3333333333333333,
              "#9c179e"
             ],
             [
              0.4444444444444444,
              "#bd3786"
             ],
             [
              0.5555555555555556,
              "#d8576b"
             ],
             [
              0.6666666666666666,
              "#ed7953"
             ],
             [
              0.7777777777777778,
              "#fb9f3a"
             ],
             [
              0.8888888888888888,
              "#fdca26"
             ],
             [
              1,
              "#f0f921"
             ]
            ],
            "type": "histogram2d"
           }
          ],
          "histogram2dcontour": [
           {
            "colorbar": {
             "outlinewidth": 0,
             "ticks": ""
            },
            "colorscale": [
             [
              0,
              "#0d0887"
             ],
             [
              0.1111111111111111,
              "#46039f"
             ],
             [
              0.2222222222222222,
              "#7201a8"
             ],
             [
              0.3333333333333333,
              "#9c179e"
             ],
             [
              0.4444444444444444,
              "#bd3786"
             ],
             [
              0.5555555555555556,
              "#d8576b"
             ],
             [
              0.6666666666666666,
              "#ed7953"
             ],
             [
              0.7777777777777778,
              "#fb9f3a"
             ],
             [
              0.8888888888888888,
              "#fdca26"
             ],
             [
              1,
              "#f0f921"
             ]
            ],
            "type": "histogram2dcontour"
           }
          ],
          "mesh3d": [
           {
            "colorbar": {
             "outlinewidth": 0,
             "ticks": ""
            },
            "type": "mesh3d"
           }
          ],
          "parcoords": [
           {
            "line": {
             "colorbar": {
              "outlinewidth": 0,
              "ticks": ""
             }
            },
            "type": "parcoords"
           }
          ],
          "pie": [
           {
            "automargin": true,
            "type": "pie"
           }
          ],
          "scatter": [
           {
            "fillpattern": {
             "fillmode": "overlay",
             "size": 10,
             "solidity": 0.2
            },
            "type": "scatter"
           }
          ],
          "scatter3d": [
           {
            "line": {
             "colorbar": {
              "outlinewidth": 0,
              "ticks": ""
             }
            },
            "marker": {
             "colorbar": {
              "outlinewidth": 0,
              "ticks": ""
             }
            },
            "type": "scatter3d"
           }
          ],
          "scattercarpet": [
           {
            "marker": {
             "colorbar": {
              "outlinewidth": 0,
              "ticks": ""
             }
            },
            "type": "scattercarpet"
           }
          ],
          "scattergeo": [
           {
            "marker": {
             "colorbar": {
              "outlinewidth": 0,
              "ticks": ""
             }
            },
            "type": "scattergeo"
           }
          ],
          "scattergl": [
           {
            "marker": {
             "colorbar": {
              "outlinewidth": 0,
              "ticks": ""
             }
            },
            "type": "scattergl"
           }
          ],
          "scattermap": [
           {
            "marker": {
             "colorbar": {
              "outlinewidth": 0,
              "ticks": ""
             }
            },
            "type": "scattermap"
           }
          ],
          "scattermapbox": [
           {
            "marker": {
             "colorbar": {
              "outlinewidth": 0,
              "ticks": ""
             }
            },
            "type": "scattermapbox"
           }
          ],
          "scatterpolar": [
           {
            "marker": {
             "colorbar": {
              "outlinewidth": 0,
              "ticks": ""
             }
            },
            "type": "scatterpolar"
           }
          ],
          "scatterpolargl": [
           {
            "marker": {
             "colorbar": {
              "outlinewidth": 0,
              "ticks": ""
             }
            },
            "type": "scatterpolargl"
           }
          ],
          "scatterternary": [
           {
            "marker": {
             "colorbar": {
              "outlinewidth": 0,
              "ticks": ""
             }
            },
            "type": "scatterternary"
           }
          ],
          "surface": [
           {
            "colorbar": {
             "outlinewidth": 0,
             "ticks": ""
            },
            "colorscale": [
             [
              0,
              "#0d0887"
             ],
             [
              0.1111111111111111,
              "#46039f"
             ],
             [
              0.2222222222222222,
              "#7201a8"
             ],
             [
              0.3333333333333333,
              "#9c179e"
             ],
             [
              0.4444444444444444,
              "#bd3786"
             ],
             [
              0.5555555555555556,
              "#d8576b"
             ],
             [
              0.6666666666666666,
              "#ed7953"
             ],
             [
              0.7777777777777778,
              "#fb9f3a"
             ],
             [
              0.8888888888888888,
              "#fdca26"
             ],
             [
              1,
              "#f0f921"
             ]
            ],
            "type": "surface"
           }
          ],
          "table": [
           {
            "cells": {
             "fill": {
              "color": "#EBF0F8"
             },
             "line": {
              "color": "white"
             }
            },
            "header": {
             "fill": {
              "color": "#C8D4E3"
             },
             "line": {
              "color": "white"
             }
            },
            "type": "table"
           }
          ]
         },
         "layout": {
          "annotationdefaults": {
           "arrowcolor": "#2a3f5f",
           "arrowhead": 0,
           "arrowwidth": 1
          },
          "autotypenumbers": "strict",
          "coloraxis": {
           "colorbar": {
            "outlinewidth": 0,
            "ticks": ""
           }
          },
          "colorscale": {
           "diverging": [
            [
             0,
             "#8e0152"
            ],
            [
             0.1,
             "#c51b7d"
            ],
            [
             0.2,
             "#de77ae"
            ],
            [
             0.3,
             "#f1b6da"
            ],
            [
             0.4,
             "#fde0ef"
            ],
            [
             0.5,
             "#f7f7f7"
            ],
            [
             0.6,
             "#e6f5d0"
            ],
            [
             0.7,
             "#b8e186"
            ],
            [
             0.8,
             "#7fbc41"
            ],
            [
             0.9,
             "#4d9221"
            ],
            [
             1,
             "#276419"
            ]
           ],
           "sequential": [
            [
             0,
             "#0d0887"
            ],
            [
             0.1111111111111111,
             "#46039f"
            ],
            [
             0.2222222222222222,
             "#7201a8"
            ],
            [
             0.3333333333333333,
             "#9c179e"
            ],
            [
             0.4444444444444444,
             "#bd3786"
            ],
            [
             0.5555555555555556,
             "#d8576b"
            ],
            [
             0.6666666666666666,
             "#ed7953"
            ],
            [
             0.7777777777777778,
             "#fb9f3a"
            ],
            [
             0.8888888888888888,
             "#fdca26"
            ],
            [
             1,
             "#f0f921"
            ]
           ],
           "sequentialminus": [
            [
             0,
             "#0d0887"
            ],
            [
             0.1111111111111111,
             "#46039f"
            ],
            [
             0.2222222222222222,
             "#7201a8"
            ],
            [
             0.3333333333333333,
             "#9c179e"
            ],
            [
             0.4444444444444444,
             "#bd3786"
            ],
            [
             0.5555555555555556,
             "#d8576b"
            ],
            [
             0.6666666666666666,
             "#ed7953"
            ],
            [
             0.7777777777777778,
             "#fb9f3a"
            ],
            [
             0.8888888888888888,
             "#fdca26"
            ],
            [
             1,
             "#f0f921"
            ]
           ]
          },
          "colorway": [
           "#636efa",
           "#EF553B",
           "#00cc96",
           "#ab63fa",
           "#FFA15A",
           "#19d3f3",
           "#FF6692",
           "#B6E880",
           "#FF97FF",
           "#FECB52"
          ],
          "font": {
           "color": "#2a3f5f"
          },
          "geo": {
           "bgcolor": "white",
           "lakecolor": "white",
           "landcolor": "white",
           "showlakes": true,
           "showland": true,
           "subunitcolor": "#C8D4E3"
          },
          "hoverlabel": {
           "align": "left"
          },
          "hovermode": "closest",
          "mapbox": {
           "style": "light"
          },
          "paper_bgcolor": "white",
          "plot_bgcolor": "white",
          "polar": {
           "angularaxis": {
            "gridcolor": "#EBF0F8",
            "linecolor": "#EBF0F8",
            "ticks": ""
           },
           "bgcolor": "white",
           "radialaxis": {
            "gridcolor": "#EBF0F8",
            "linecolor": "#EBF0F8",
            "ticks": ""
           }
          },
          "scene": {
           "xaxis": {
            "backgroundcolor": "white",
            "gridcolor": "#DFE8F3",
            "gridwidth": 2,
            "linecolor": "#EBF0F8",
            "showbackground": true,
            "ticks": "",
            "zerolinecolor": "#EBF0F8"
           },
           "yaxis": {
            "backgroundcolor": "white",
            "gridcolor": "#DFE8F3",
            "gridwidth": 2,
            "linecolor": "#EBF0F8",
            "showbackground": true,
            "ticks": "",
            "zerolinecolor": "#EBF0F8"
           },
           "zaxis": {
            "backgroundcolor": "white",
            "gridcolor": "#DFE8F3",
            "gridwidth": 2,
            "linecolor": "#EBF0F8",
            "showbackground": true,
            "ticks": "",
            "zerolinecolor": "#EBF0F8"
           }
          },
          "shapedefaults": {
           "line": {
            "color": "#2a3f5f"
           }
          },
          "ternary": {
           "aaxis": {
            "gridcolor": "#DFE8F3",
            "linecolor": "#A2B1C6",
            "ticks": ""
           },
           "baxis": {
            "gridcolor": "#DFE8F3",
            "linecolor": "#A2B1C6",
            "ticks": ""
           },
           "bgcolor": "white",
           "caxis": {
            "gridcolor": "#DFE8F3",
            "linecolor": "#A2B1C6",
            "ticks": ""
           }
          },
          "title": {
           "x": 0.05
          },
          "xaxis": {
           "automargin": true,
           "gridcolor": "#EBF0F8",
           "linecolor": "#EBF0F8",
           "ticks": "",
           "title": {
            "standoff": 15
           },
           "zerolinecolor": "#EBF0F8",
           "zerolinewidth": 2
          },
          "yaxis": {
           "automargin": true,
           "gridcolor": "#EBF0F8",
           "linecolor": "#EBF0F8",
           "ticks": "",
           "title": {
            "standoff": 15
           },
           "zerolinecolor": "#EBF0F8",
           "zerolinewidth": 2
          }
         }
        },
        "title": {
         "text": "Distribución porcentual de la variable"
        },
        "width": 700
       }
      }
     },
     "metadata": {},
     "output_type": "display_data"
    },
    {
     "data": {
      "application/vnd.plotly.v1+json": {
       "config": {
        "plotlyServerURL": "https://plot.ly"
       },
       "data": [
        {
         "marker": {
          "color": [
           "#D4A5F0",
           "#C3A2FF",
           "#B5A8F2",
           "#A89DE6"
          ]
         },
         "text": {
          "bdata": "AAAAAABAikAAAAAAAICEQAAAAAAAQHhAAAAAAACga0A=",
          "dtype": "f8"
         },
         "textposition": "outside",
         "type": "bar",
         "x": {
          "bdata": "AQIAAw==",
          "dtype": "i1"
         },
         "y": {
          "bdata": "SAOQAoQB3QA=",
          "dtype": "i2"
         }
        }
       ],
       "layout": {
        "height": 600,
        "showlegend": false,
        "template": {
         "data": {
          "bar": [
           {
            "error_x": {
             "color": "#2a3f5f"
            },
            "error_y": {
             "color": "#2a3f5f"
            },
            "marker": {
             "line": {
              "color": "white",
              "width": 0.5
             },
             "pattern": {
              "fillmode": "overlay",
              "size": 10,
              "solidity": 0.2
             }
            },
            "type": "bar"
           }
          ],
          "barpolar": [
           {
            "marker": {
             "line": {
              "color": "white",
              "width": 0.5
             },
             "pattern": {
              "fillmode": "overlay",
              "size": 10,
              "solidity": 0.2
             }
            },
            "type": "barpolar"
           }
          ],
          "carpet": [
           {
            "aaxis": {
             "endlinecolor": "#2a3f5f",
             "gridcolor": "#C8D4E3",
             "linecolor": "#C8D4E3",
             "minorgridcolor": "#C8D4E3",
             "startlinecolor": "#2a3f5f"
            },
            "baxis": {
             "endlinecolor": "#2a3f5f",
             "gridcolor": "#C8D4E3",
             "linecolor": "#C8D4E3",
             "minorgridcolor": "#C8D4E3",
             "startlinecolor": "#2a3f5f"
            },
            "type": "carpet"
           }
          ],
          "choropleth": [
           {
            "colorbar": {
             "outlinewidth": 0,
             "ticks": ""
            },
            "type": "choropleth"
           }
          ],
          "contour": [
           {
            "colorbar": {
             "outlinewidth": 0,
             "ticks": ""
            },
            "colorscale": [
             [
              0,
              "#0d0887"
             ],
             [
              0.1111111111111111,
              "#46039f"
             ],
             [
              0.2222222222222222,
              "#7201a8"
             ],
             [
              0.3333333333333333,
              "#9c179e"
             ],
             [
              0.4444444444444444,
              "#bd3786"
             ],
             [
              0.5555555555555556,
              "#d8576b"
             ],
             [
              0.6666666666666666,
              "#ed7953"
             ],
             [
              0.7777777777777778,
              "#fb9f3a"
             ],
             [
              0.8888888888888888,
              "#fdca26"
             ],
             [
              1,
              "#f0f921"
             ]
            ],
            "type": "contour"
           }
          ],
          "contourcarpet": [
           {
            "colorbar": {
             "outlinewidth": 0,
             "ticks": ""
            },
            "type": "contourcarpet"
           }
          ],
          "heatmap": [
           {
            "colorbar": {
             "outlinewidth": 0,
             "ticks": ""
            },
            "colorscale": [
             [
              0,
              "#0d0887"
             ],
             [
              0.1111111111111111,
              "#46039f"
             ],
             [
              0.2222222222222222,
              "#7201a8"
             ],
             [
              0.3333333333333333,
              "#9c179e"
             ],
             [
              0.4444444444444444,
              "#bd3786"
             ],
             [
              0.5555555555555556,
              "#d8576b"
             ],
             [
              0.6666666666666666,
              "#ed7953"
             ],
             [
              0.7777777777777778,
              "#fb9f3a"
             ],
             [
              0.8888888888888888,
              "#fdca26"
             ],
             [
              1,
              "#f0f921"
             ]
            ],
            "type": "heatmap"
           }
          ],
          "histogram": [
           {
            "marker": {
             "pattern": {
              "fillmode": "overlay",
              "size": 10,
              "solidity": 0.2
             }
            },
            "type": "histogram"
           }
          ],
          "histogram2d": [
           {
            "colorbar": {
             "outlinewidth": 0,
             "ticks": ""
            },
            "colorscale": [
             [
              0,
              "#0d0887"
             ],
             [
              0.1111111111111111,
              "#46039f"
             ],
             [
              0.2222222222222222,
              "#7201a8"
             ],
             [
              0.3333333333333333,
              "#9c179e"
             ],
             [
              0.4444444444444444,
              "#bd3786"
             ],
             [
              0.5555555555555556,
              "#d8576b"
             ],
             [
              0.6666666666666666,
              "#ed7953"
             ],
             [
              0.7777777777777778,
              "#fb9f3a"
             ],
             [
              0.8888888888888888,
              "#fdca26"
             ],
             [
              1,
              "#f0f921"
             ]
            ],
            "type": "histogram2d"
           }
          ],
          "histogram2dcontour": [
           {
            "colorbar": {
             "outlinewidth": 0,
             "ticks": ""
            },
            "colorscale": [
             [
              0,
              "#0d0887"
             ],
             [
              0.1111111111111111,
              "#46039f"
             ],
             [
              0.2222222222222222,
              "#7201a8"
             ],
             [
              0.3333333333333333,
              "#9c179e"
             ],
             [
              0.4444444444444444,
              "#bd3786"
             ],
             [
              0.5555555555555556,
              "#d8576b"
             ],
             [
              0.6666666666666666,
              "#ed7953"
             ],
             [
              0.7777777777777778,
              "#fb9f3a"
             ],
             [
              0.8888888888888888,
              "#fdca26"
             ],
             [
              1,
              "#f0f921"
             ]
            ],
            "type": "histogram2dcontour"
           }
          ],
          "mesh3d": [
           {
            "colorbar": {
             "outlinewidth": 0,
             "ticks": ""
            },
            "type": "mesh3d"
           }
          ],
          "parcoords": [
           {
            "line": {
             "colorbar": {
              "outlinewidth": 0,
              "ticks": ""
             }
            },
            "type": "parcoords"
           }
          ],
          "pie": [
           {
            "automargin": true,
            "type": "pie"
           }
          ],
          "scatter": [
           {
            "fillpattern": {
             "fillmode": "overlay",
             "size": 10,
             "solidity": 0.2
            },
            "type": "scatter"
           }
          ],
          "scatter3d": [
           {
            "line": {
             "colorbar": {
              "outlinewidth": 0,
              "ticks": ""
             }
            },
            "marker": {
             "colorbar": {
              "outlinewidth": 0,
              "ticks": ""
             }
            },
            "type": "scatter3d"
           }
          ],
          "scattercarpet": [
           {
            "marker": {
             "colorbar": {
              "outlinewidth": 0,
              "ticks": ""
             }
            },
            "type": "scattercarpet"
           }
          ],
          "scattergeo": [
           {
            "marker": {
             "colorbar": {
              "outlinewidth": 0,
              "ticks": ""
             }
            },
            "type": "scattergeo"
           }
          ],
          "scattergl": [
           {
            "marker": {
             "colorbar": {
              "outlinewidth": 0,
              "ticks": ""
             }
            },
            "type": "scattergl"
           }
          ],
          "scattermap": [
           {
            "marker": {
             "colorbar": {
              "outlinewidth": 0,
              "ticks": ""
             }
            },
            "type": "scattermap"
           }
          ],
          "scattermapbox": [
           {
            "marker": {
             "colorbar": {
              "outlinewidth": 0,
              "ticks": ""
             }
            },
            "type": "scattermapbox"
           }
          ],
          "scatterpolar": [
           {
            "marker": {
             "colorbar": {
              "outlinewidth": 0,
              "ticks": ""
             }
            },
            "type": "scatterpolar"
           }
          ],
          "scatterpolargl": [
           {
            "marker": {
             "colorbar": {
              "outlinewidth": 0,
              "ticks": ""
             }
            },
            "type": "scatterpolargl"
           }
          ],
          "scatterternary": [
           {
            "marker": {
             "colorbar": {
              "outlinewidth": 0,
              "ticks": ""
             }
            },
            "type": "scatterternary"
           }
          ],
          "surface": [
           {
            "colorbar": {
             "outlinewidth": 0,
             "ticks": ""
            },
            "colorscale": [
             [
              0,
              "#0d0887"
             ],
             [
              0.1111111111111111,
              "#46039f"
             ],
             [
              0.2222222222222222,
              "#7201a8"
             ],
             [
              0.3333333333333333,
              "#9c179e"
             ],
             [
              0.4444444444444444,
              "#bd3786"
             ],
             [
              0.5555555555555556,
              "#d8576b"
             ],
             [
              0.6666666666666666,
              "#ed7953"
             ],
             [
              0.7777777777777778,
              "#fb9f3a"
             ],
             [
              0.8888888888888888,
              "#fdca26"
             ],
             [
              1,
              "#f0f921"
             ]
            ],
            "type": "surface"
           }
          ],
          "table": [
           {
            "cells": {
             "fill": {
              "color": "#EBF0F8"
             },
             "line": {
              "color": "white"
             }
            },
            "header": {
             "fill": {
              "color": "#C8D4E3"
             },
             "line": {
              "color": "white"
             }
            },
            "type": "table"
           }
          ]
         },
         "layout": {
          "annotationdefaults": {
           "arrowcolor": "#2a3f5f",
           "arrowhead": 0,
           "arrowwidth": 1
          },
          "autotypenumbers": "strict",
          "coloraxis": {
           "colorbar": {
            "outlinewidth": 0,
            "ticks": ""
           }
          },
          "colorscale": {
           "diverging": [
            [
             0,
             "#8e0152"
            ],
            [
             0.1,
             "#c51b7d"
            ],
            [
             0.2,
             "#de77ae"
            ],
            [
             0.3,
             "#f1b6da"
            ],
            [
             0.4,
             "#fde0ef"
            ],
            [
             0.5,
             "#f7f7f7"
            ],
            [
             0.6,
             "#e6f5d0"
            ],
            [
             0.7,
             "#b8e186"
            ],
            [
             0.8,
             "#7fbc41"
            ],
            [
             0.9,
             "#4d9221"
            ],
            [
             1,
             "#276419"
            ]
           ],
           "sequential": [
            [
             0,
             "#0d0887"
            ],
            [
             0.1111111111111111,
             "#46039f"
            ],
            [
             0.2222222222222222,
             "#7201a8"
            ],
            [
             0.3333333333333333,
             "#9c179e"
            ],
            [
             0.4444444444444444,
             "#bd3786"
            ],
            [
             0.5555555555555556,
             "#d8576b"
            ],
            [
             0.6666666666666666,
             "#ed7953"
            ],
            [
             0.7777777777777778,
             "#fb9f3a"
            ],
            [
             0.8888888888888888,
             "#fdca26"
            ],
            [
             1,
             "#f0f921"
            ]
           ],
           "sequentialminus": [
            [
             0,
             "#0d0887"
            ],
            [
             0.1111111111111111,
             "#46039f"
            ],
            [
             0.2222222222222222,
             "#7201a8"
            ],
            [
             0.3333333333333333,
             "#9c179e"
            ],
            [
             0.4444444444444444,
             "#bd3786"
            ],
            [
             0.5555555555555556,
             "#d8576b"
            ],
            [
             0.6666666666666666,
             "#ed7953"
            ],
            [
             0.7777777777777778,
             "#fb9f3a"
            ],
            [
             0.8888888888888888,
             "#fdca26"
            ],
            [
             1,
             "#f0f921"
            ]
           ]
          },
          "colorway": [
           "#636efa",
           "#EF553B",
           "#00cc96",
           "#ab63fa",
           "#FFA15A",
           "#19d3f3",
           "#FF6692",
           "#B6E880",
           "#FF97FF",
           "#FECB52"
          ],
          "font": {
           "color": "#2a3f5f"
          },
          "geo": {
           "bgcolor": "white",
           "lakecolor": "white",
           "landcolor": "white",
           "showlakes": true,
           "showland": true,
           "subunitcolor": "#C8D4E3"
          },
          "hoverlabel": {
           "align": "left"
          },
          "hovermode": "closest",
          "mapbox": {
           "style": "light"
          },
          "paper_bgcolor": "white",
          "plot_bgcolor": "white",
          "polar": {
           "angularaxis": {
            "gridcolor": "#EBF0F8",
            "linecolor": "#EBF0F8",
            "ticks": ""
           },
           "bgcolor": "white",
           "radialaxis": {
            "gridcolor": "#EBF0F8",
            "linecolor": "#EBF0F8",
            "ticks": ""
           }
          },
          "scene": {
           "xaxis": {
            "backgroundcolor": "white",
            "gridcolor": "#DFE8F3",
            "gridwidth": 2,
            "linecolor": "#EBF0F8",
            "showbackground": true,
            "ticks": "",
            "zerolinecolor": "#EBF0F8"
           },
           "yaxis": {
            "backgroundcolor": "white",
            "gridcolor": "#DFE8F3",
            "gridwidth": 2,
            "linecolor": "#EBF0F8",
            "showbackground": true,
            "ticks": "",
            "zerolinecolor": "#EBF0F8"
           },
           "zaxis": {
            "backgroundcolor": "white",
            "gridcolor": "#DFE8F3",
            "gridwidth": 2,
            "linecolor": "#EBF0F8",
            "showbackground": true,
            "ticks": "",
            "zerolinecolor": "#EBF0F8"
           }
          },
          "shapedefaults": {
           "line": {
            "color": "#2a3f5f"
           }
          },
          "ternary": {
           "aaxis": {
            "gridcolor": "#DFE8F3",
            "linecolor": "#A2B1C6",
            "ticks": ""
           },
           "baxis": {
            "gridcolor": "#DFE8F3",
            "linecolor": "#A2B1C6",
            "ticks": ""
           },
           "bgcolor": "white",
           "caxis": {
            "gridcolor": "#DFE8F3",
            "linecolor": "#A2B1C6",
            "ticks": ""
           }
          },
          "title": {
           "x": 0.05
          },
          "xaxis": {
           "automargin": true,
           "gridcolor": "#EBF0F8",
           "linecolor": "#EBF0F8",
           "ticks": "",
           "title": {
            "standoff": 15
           },
           "zerolinecolor": "#EBF0F8",
           "zerolinewidth": 2
          },
          "yaxis": {
           "automargin": true,
           "gridcolor": "#EBF0F8",
           "linecolor": "#EBF0F8",
           "ticks": "",
           "title": {
            "standoff": 15
           },
           "zerolinecolor": "#EBF0F8",
           "zerolinewidth": 2
          }
         }
        },
        "title": {
         "text": "Frecuencia absoluta de la variable"
        },
        "width": 700
       }
      }
     },
     "metadata": {},
     "output_type": "display_data"
    }
   ],
   "source": [
    "graficar_distribucion_categorica(df_csv, 'EducationLevel')"
   ]
  },
  {
   "cell_type": "markdown",
   "id": "a1d50411",
   "metadata": {},
   "source": [
    "### **<span>Variable: Depresion</span>**"
   ]
  },
  {
   "cell_type": "code",
   "execution_count": 39,
   "id": "8eaa981c",
   "metadata": {},
   "outputs": [
    {
     "name": "stdout",
     "output_type": "stream",
     "text": [
      "Depression\n",
      "0    1673\n",
      "1     432\n",
      "Name: count, dtype: int64\n"
     ]
    },
    {
     "data": {
      "text/html": [
       "<div>\n",
       "<style scoped>\n",
       "    .dataframe tbody tr th:only-of-type {\n",
       "        vertical-align: middle;\n",
       "    }\n",
       "\n",
       "    .dataframe tbody tr th {\n",
       "        vertical-align: top;\n",
       "    }\n",
       "\n",
       "    .dataframe thead th {\n",
       "        text-align: right;\n",
       "    }\n",
       "</style>\n",
       "<table border=\"1\" class=\"dataframe\">\n",
       "  <thead>\n",
       "    <tr style=\"text-align: right;\">\n",
       "      <th></th>\n",
       "      <th>Clase</th>\n",
       "      <th>Frecuencia</th>\n",
       "      <th>Porcentaje</th>\n",
       "    </tr>\n",
       "  </thead>\n",
       "  <tbody>\n",
       "    <tr>\n",
       "      <th>0</th>\n",
       "      <td>0</td>\n",
       "      <td>1673</td>\n",
       "      <td>79.477435</td>\n",
       "    </tr>\n",
       "    <tr>\n",
       "      <th>1</th>\n",
       "      <td>1</td>\n",
       "      <td>432</td>\n",
       "      <td>20.522565</td>\n",
       "    </tr>\n",
       "  </tbody>\n",
       "</table>\n",
       "</div>"
      ],
      "text/plain": [
       "  Clase  Frecuencia  Porcentaje\n",
       "0     0        1673   79.477435\n",
       "1     1         432   20.522565"
      ]
     },
     "execution_count": 39,
     "metadata": {},
     "output_type": "execute_result"
    }
   ],
   "source": [
    "frecuencias_cualitativas(df_csv, 'Depression')"
   ]
  },
  {
   "cell_type": "code",
   "execution_count": 40,
   "id": "b7154e9a",
   "metadata": {},
   "outputs": [
    {
     "name": "stdout",
     "output_type": "stream",
     "text": [
      "\n",
      "\u001b[1mDEPRESSION\u001b[0m\n"
     ]
    },
    {
     "data": {
      "application/vnd.plotly.v1+json": {
       "config": {
        "plotlyServerURL": "https://plot.ly"
       },
       "data": [
        {
         "hole": 0.3,
         "labels": {
          "bdata": "AAE=",
          "dtype": "i1"
         },
         "marker": {
          "colors": [
           "#D4A5F0",
           "#C3A2FF"
          ]
         },
         "textinfo": "label+percent",
         "type": "pie",
         "values": {
          "bdata": "iQawAQ==",
          "dtype": "i2"
         }
        }
       ],
       "layout": {
        "height": 600,
        "template": {
         "data": {
          "bar": [
           {
            "error_x": {
             "color": "#2a3f5f"
            },
            "error_y": {
             "color": "#2a3f5f"
            },
            "marker": {
             "line": {
              "color": "white",
              "width": 0.5
             },
             "pattern": {
              "fillmode": "overlay",
              "size": 10,
              "solidity": 0.2
             }
            },
            "type": "bar"
           }
          ],
          "barpolar": [
           {
            "marker": {
             "line": {
              "color": "white",
              "width": 0.5
             },
             "pattern": {
              "fillmode": "overlay",
              "size": 10,
              "solidity": 0.2
             }
            },
            "type": "barpolar"
           }
          ],
          "carpet": [
           {
            "aaxis": {
             "endlinecolor": "#2a3f5f",
             "gridcolor": "#C8D4E3",
             "linecolor": "#C8D4E3",
             "minorgridcolor": "#C8D4E3",
             "startlinecolor": "#2a3f5f"
            },
            "baxis": {
             "endlinecolor": "#2a3f5f",
             "gridcolor": "#C8D4E3",
             "linecolor": "#C8D4E3",
             "minorgridcolor": "#C8D4E3",
             "startlinecolor": "#2a3f5f"
            },
            "type": "carpet"
           }
          ],
          "choropleth": [
           {
            "colorbar": {
             "outlinewidth": 0,
             "ticks": ""
            },
            "type": "choropleth"
           }
          ],
          "contour": [
           {
            "colorbar": {
             "outlinewidth": 0,
             "ticks": ""
            },
            "colorscale": [
             [
              0,
              "#0d0887"
             ],
             [
              0.1111111111111111,
              "#46039f"
             ],
             [
              0.2222222222222222,
              "#7201a8"
             ],
             [
              0.3333333333333333,
              "#9c179e"
             ],
             [
              0.4444444444444444,
              "#bd3786"
             ],
             [
              0.5555555555555556,
              "#d8576b"
             ],
             [
              0.6666666666666666,
              "#ed7953"
             ],
             [
              0.7777777777777778,
              "#fb9f3a"
             ],
             [
              0.8888888888888888,
              "#fdca26"
             ],
             [
              1,
              "#f0f921"
             ]
            ],
            "type": "contour"
           }
          ],
          "contourcarpet": [
           {
            "colorbar": {
             "outlinewidth": 0,
             "ticks": ""
            },
            "type": "contourcarpet"
           }
          ],
          "heatmap": [
           {
            "colorbar": {
             "outlinewidth": 0,
             "ticks": ""
            },
            "colorscale": [
             [
              0,
              "#0d0887"
             ],
             [
              0.1111111111111111,
              "#46039f"
             ],
             [
              0.2222222222222222,
              "#7201a8"
             ],
             [
              0.3333333333333333,
              "#9c179e"
             ],
             [
              0.4444444444444444,
              "#bd3786"
             ],
             [
              0.5555555555555556,
              "#d8576b"
             ],
             [
              0.6666666666666666,
              "#ed7953"
             ],
             [
              0.7777777777777778,
              "#fb9f3a"
             ],
             [
              0.8888888888888888,
              "#fdca26"
             ],
             [
              1,
              "#f0f921"
             ]
            ],
            "type": "heatmap"
           }
          ],
          "histogram": [
           {
            "marker": {
             "pattern": {
              "fillmode": "overlay",
              "size": 10,
              "solidity": 0.2
             }
            },
            "type": "histogram"
           }
          ],
          "histogram2d": [
           {
            "colorbar": {
             "outlinewidth": 0,
             "ticks": ""
            },
            "colorscale": [
             [
              0,
              "#0d0887"
             ],
             [
              0.1111111111111111,
              "#46039f"
             ],
             [
              0.2222222222222222,
              "#7201a8"
             ],
             [
              0.3333333333333333,
              "#9c179e"
             ],
             [
              0.4444444444444444,
              "#bd3786"
             ],
             [
              0.5555555555555556,
              "#d8576b"
             ],
             [
              0.6666666666666666,
              "#ed7953"
             ],
             [
              0.7777777777777778,
              "#fb9f3a"
             ],
             [
              0.8888888888888888,
              "#fdca26"
             ],
             [
              1,
              "#f0f921"
             ]
            ],
            "type": "histogram2d"
           }
          ],
          "histogram2dcontour": [
           {
            "colorbar": {
             "outlinewidth": 0,
             "ticks": ""
            },
            "colorscale": [
             [
              0,
              "#0d0887"
             ],
             [
              0.1111111111111111,
              "#46039f"
             ],
             [
              0.2222222222222222,
              "#7201a8"
             ],
             [
              0.3333333333333333,
              "#9c179e"
             ],
             [
              0.4444444444444444,
              "#bd3786"
             ],
             [
              0.5555555555555556,
              "#d8576b"
             ],
             [
              0.6666666666666666,
              "#ed7953"
             ],
             [
              0.7777777777777778,
              "#fb9f3a"
             ],
             [
              0.8888888888888888,
              "#fdca26"
             ],
             [
              1,
              "#f0f921"
             ]
            ],
            "type": "histogram2dcontour"
           }
          ],
          "mesh3d": [
           {
            "colorbar": {
             "outlinewidth": 0,
             "ticks": ""
            },
            "type": "mesh3d"
           }
          ],
          "parcoords": [
           {
            "line": {
             "colorbar": {
              "outlinewidth": 0,
              "ticks": ""
             }
            },
            "type": "parcoords"
           }
          ],
          "pie": [
           {
            "automargin": true,
            "type": "pie"
           }
          ],
          "scatter": [
           {
            "fillpattern": {
             "fillmode": "overlay",
             "size": 10,
             "solidity": 0.2
            },
            "type": "scatter"
           }
          ],
          "scatter3d": [
           {
            "line": {
             "colorbar": {
              "outlinewidth": 0,
              "ticks": ""
             }
            },
            "marker": {
             "colorbar": {
              "outlinewidth": 0,
              "ticks": ""
             }
            },
            "type": "scatter3d"
           }
          ],
          "scattercarpet": [
           {
            "marker": {
             "colorbar": {
              "outlinewidth": 0,
              "ticks": ""
             }
            },
            "type": "scattercarpet"
           }
          ],
          "scattergeo": [
           {
            "marker": {
             "colorbar": {
              "outlinewidth": 0,
              "ticks": ""
             }
            },
            "type": "scattergeo"
           }
          ],
          "scattergl": [
           {
            "marker": {
             "colorbar": {
              "outlinewidth": 0,
              "ticks": ""
             }
            },
            "type": "scattergl"
           }
          ],
          "scattermap": [
           {
            "marker": {
             "colorbar": {
              "outlinewidth": 0,
              "ticks": ""
             }
            },
            "type": "scattermap"
           }
          ],
          "scattermapbox": [
           {
            "marker": {
             "colorbar": {
              "outlinewidth": 0,
              "ticks": ""
             }
            },
            "type": "scattermapbox"
           }
          ],
          "scatterpolar": [
           {
            "marker": {
             "colorbar": {
              "outlinewidth": 0,
              "ticks": ""
             }
            },
            "type": "scatterpolar"
           }
          ],
          "scatterpolargl": [
           {
            "marker": {
             "colorbar": {
              "outlinewidth": 0,
              "ticks": ""
             }
            },
            "type": "scatterpolargl"
           }
          ],
          "scatterternary": [
           {
            "marker": {
             "colorbar": {
              "outlinewidth": 0,
              "ticks": ""
             }
            },
            "type": "scatterternary"
           }
          ],
          "surface": [
           {
            "colorbar": {
             "outlinewidth": 0,
             "ticks": ""
            },
            "colorscale": [
             [
              0,
              "#0d0887"
             ],
             [
              0.1111111111111111,
              "#46039f"
             ],
             [
              0.2222222222222222,
              "#7201a8"
             ],
             [
              0.3333333333333333,
              "#9c179e"
             ],
             [
              0.4444444444444444,
              "#bd3786"
             ],
             [
              0.5555555555555556,
              "#d8576b"
             ],
             [
              0.6666666666666666,
              "#ed7953"
             ],
             [
              0.7777777777777778,
              "#fb9f3a"
             ],
             [
              0.8888888888888888,
              "#fdca26"
             ],
             [
              1,
              "#f0f921"
             ]
            ],
            "type": "surface"
           }
          ],
          "table": [
           {
            "cells": {
             "fill": {
              "color": "#EBF0F8"
             },
             "line": {
              "color": "white"
             }
            },
            "header": {
             "fill": {
              "color": "#C8D4E3"
             },
             "line": {
              "color": "white"
             }
            },
            "type": "table"
           }
          ]
         },
         "layout": {
          "annotationdefaults": {
           "arrowcolor": "#2a3f5f",
           "arrowhead": 0,
           "arrowwidth": 1
          },
          "autotypenumbers": "strict",
          "coloraxis": {
           "colorbar": {
            "outlinewidth": 0,
            "ticks": ""
           }
          },
          "colorscale": {
           "diverging": [
            [
             0,
             "#8e0152"
            ],
            [
             0.1,
             "#c51b7d"
            ],
            [
             0.2,
             "#de77ae"
            ],
            [
             0.3,
             "#f1b6da"
            ],
            [
             0.4,
             "#fde0ef"
            ],
            [
             0.5,
             "#f7f7f7"
            ],
            [
             0.6,
             "#e6f5d0"
            ],
            [
             0.7,
             "#b8e186"
            ],
            [
             0.8,
             "#7fbc41"
            ],
            [
             0.9,
             "#4d9221"
            ],
            [
             1,
             "#276419"
            ]
           ],
           "sequential": [
            [
             0,
             "#0d0887"
            ],
            [
             0.1111111111111111,
             "#46039f"
            ],
            [
             0.2222222222222222,
             "#7201a8"
            ],
            [
             0.3333333333333333,
             "#9c179e"
            ],
            [
             0.4444444444444444,
             "#bd3786"
            ],
            [
             0.5555555555555556,
             "#d8576b"
            ],
            [
             0.6666666666666666,
             "#ed7953"
            ],
            [
             0.7777777777777778,
             "#fb9f3a"
            ],
            [
             0.8888888888888888,
             "#fdca26"
            ],
            [
             1,
             "#f0f921"
            ]
           ],
           "sequentialminus": [
            [
             0,
             "#0d0887"
            ],
            [
             0.1111111111111111,
             "#46039f"
            ],
            [
             0.2222222222222222,
             "#7201a8"
            ],
            [
             0.3333333333333333,
             "#9c179e"
            ],
            [
             0.4444444444444444,
             "#bd3786"
            ],
            [
             0.5555555555555556,
             "#d8576b"
            ],
            [
             0.6666666666666666,
             "#ed7953"
            ],
            [
             0.7777777777777778,
             "#fb9f3a"
            ],
            [
             0.8888888888888888,
             "#fdca26"
            ],
            [
             1,
             "#f0f921"
            ]
           ]
          },
          "colorway": [
           "#636efa",
           "#EF553B",
           "#00cc96",
           "#ab63fa",
           "#FFA15A",
           "#19d3f3",
           "#FF6692",
           "#B6E880",
           "#FF97FF",
           "#FECB52"
          ],
          "font": {
           "color": "#2a3f5f"
          },
          "geo": {
           "bgcolor": "white",
           "lakecolor": "white",
           "landcolor": "white",
           "showlakes": true,
           "showland": true,
           "subunitcolor": "#C8D4E3"
          },
          "hoverlabel": {
           "align": "left"
          },
          "hovermode": "closest",
          "mapbox": {
           "style": "light"
          },
          "paper_bgcolor": "white",
          "plot_bgcolor": "white",
          "polar": {
           "angularaxis": {
            "gridcolor": "#EBF0F8",
            "linecolor": "#EBF0F8",
            "ticks": ""
           },
           "bgcolor": "white",
           "radialaxis": {
            "gridcolor": "#EBF0F8",
            "linecolor": "#EBF0F8",
            "ticks": ""
           }
          },
          "scene": {
           "xaxis": {
            "backgroundcolor": "white",
            "gridcolor": "#DFE8F3",
            "gridwidth": 2,
            "linecolor": "#EBF0F8",
            "showbackground": true,
            "ticks": "",
            "zerolinecolor": "#EBF0F8"
           },
           "yaxis": {
            "backgroundcolor": "white",
            "gridcolor": "#DFE8F3",
            "gridwidth": 2,
            "linecolor": "#EBF0F8",
            "showbackground": true,
            "ticks": "",
            "zerolinecolor": "#EBF0F8"
           },
           "zaxis": {
            "backgroundcolor": "white",
            "gridcolor": "#DFE8F3",
            "gridwidth": 2,
            "linecolor": "#EBF0F8",
            "showbackground": true,
            "ticks": "",
            "zerolinecolor": "#EBF0F8"
           }
          },
          "shapedefaults": {
           "line": {
            "color": "#2a3f5f"
           }
          },
          "ternary": {
           "aaxis": {
            "gridcolor": "#DFE8F3",
            "linecolor": "#A2B1C6",
            "ticks": ""
           },
           "baxis": {
            "gridcolor": "#DFE8F3",
            "linecolor": "#A2B1C6",
            "ticks": ""
           },
           "bgcolor": "white",
           "caxis": {
            "gridcolor": "#DFE8F3",
            "linecolor": "#A2B1C6",
            "ticks": ""
           }
          },
          "title": {
           "x": 0.05
          },
          "xaxis": {
           "automargin": true,
           "gridcolor": "#EBF0F8",
           "linecolor": "#EBF0F8",
           "ticks": "",
           "title": {
            "standoff": 15
           },
           "zerolinecolor": "#EBF0F8",
           "zerolinewidth": 2
          },
          "yaxis": {
           "automargin": true,
           "gridcolor": "#EBF0F8",
           "linecolor": "#EBF0F8",
           "ticks": "",
           "title": {
            "standoff": 15
           },
           "zerolinecolor": "#EBF0F8",
           "zerolinewidth": 2
          }
         }
        },
        "title": {
         "text": "Distribución porcentual de la variable"
        },
        "width": 700
       }
      }
     },
     "metadata": {},
     "output_type": "display_data"
    },
    {
     "data": {
      "application/vnd.plotly.v1+json": {
       "config": {
        "plotlyServerURL": "https://plot.ly"
       },
       "data": [
        {
         "marker": {
          "color": [
           "#D4A5F0",
           "#C3A2FF"
          ]
         },
         "text": {
          "bdata": "AAAAAAAkmkAAAAAAAAB7QA==",
          "dtype": "f8"
         },
         "textposition": "outside",
         "type": "bar",
         "x": {
          "bdata": "AAE=",
          "dtype": "i1"
         },
         "y": {
          "bdata": "iQawAQ==",
          "dtype": "i2"
         }
        }
       ],
       "layout": {
        "height": 600,
        "showlegend": false,
        "template": {
         "data": {
          "bar": [
           {
            "error_x": {
             "color": "#2a3f5f"
            },
            "error_y": {
             "color": "#2a3f5f"
            },
            "marker": {
             "line": {
              "color": "white",
              "width": 0.5
             },
             "pattern": {
              "fillmode": "overlay",
              "size": 10,
              "solidity": 0.2
             }
            },
            "type": "bar"
           }
          ],
          "barpolar": [
           {
            "marker": {
             "line": {
              "color": "white",
              "width": 0.5
             },
             "pattern": {
              "fillmode": "overlay",
              "size": 10,
              "solidity": 0.2
             }
            },
            "type": "barpolar"
           }
          ],
          "carpet": [
           {
            "aaxis": {
             "endlinecolor": "#2a3f5f",
             "gridcolor": "#C8D4E3",
             "linecolor": "#C8D4E3",
             "minorgridcolor": "#C8D4E3",
             "startlinecolor": "#2a3f5f"
            },
            "baxis": {
             "endlinecolor": "#2a3f5f",
             "gridcolor": "#C8D4E3",
             "linecolor": "#C8D4E3",
             "minorgridcolor": "#C8D4E3",
             "startlinecolor": "#2a3f5f"
            },
            "type": "carpet"
           }
          ],
          "choropleth": [
           {
            "colorbar": {
             "outlinewidth": 0,
             "ticks": ""
            },
            "type": "choropleth"
           }
          ],
          "contour": [
           {
            "colorbar": {
             "outlinewidth": 0,
             "ticks": ""
            },
            "colorscale": [
             [
              0,
              "#0d0887"
             ],
             [
              0.1111111111111111,
              "#46039f"
             ],
             [
              0.2222222222222222,
              "#7201a8"
             ],
             [
              0.3333333333333333,
              "#9c179e"
             ],
             [
              0.4444444444444444,
              "#bd3786"
             ],
             [
              0.5555555555555556,
              "#d8576b"
             ],
             [
              0.6666666666666666,
              "#ed7953"
             ],
             [
              0.7777777777777778,
              "#fb9f3a"
             ],
             [
              0.8888888888888888,
              "#fdca26"
             ],
             [
              1,
              "#f0f921"
             ]
            ],
            "type": "contour"
           }
          ],
          "contourcarpet": [
           {
            "colorbar": {
             "outlinewidth": 0,
             "ticks": ""
            },
            "type": "contourcarpet"
           }
          ],
          "heatmap": [
           {
            "colorbar": {
             "outlinewidth": 0,
             "ticks": ""
            },
            "colorscale": [
             [
              0,
              "#0d0887"
             ],
             [
              0.1111111111111111,
              "#46039f"
             ],
             [
              0.2222222222222222,
              "#7201a8"
             ],
             [
              0.3333333333333333,
              "#9c179e"
             ],
             [
              0.4444444444444444,
              "#bd3786"
             ],
             [
              0.5555555555555556,
              "#d8576b"
             ],
             [
              0.6666666666666666,
              "#ed7953"
             ],
             [
              0.7777777777777778,
              "#fb9f3a"
             ],
             [
              0.8888888888888888,
              "#fdca26"
             ],
             [
              1,
              "#f0f921"
             ]
            ],
            "type": "heatmap"
           }
          ],
          "histogram": [
           {
            "marker": {
             "pattern": {
              "fillmode": "overlay",
              "size": 10,
              "solidity": 0.2
             }
            },
            "type": "histogram"
           }
          ],
          "histogram2d": [
           {
            "colorbar": {
             "outlinewidth": 0,
             "ticks": ""
            },
            "colorscale": [
             [
              0,
              "#0d0887"
             ],
             [
              0.1111111111111111,
              "#46039f"
             ],
             [
              0.2222222222222222,
              "#7201a8"
             ],
             [
              0.3333333333333333,
              "#9c179e"
             ],
             [
              0.4444444444444444,
              "#bd3786"
             ],
             [
              0.5555555555555556,
              "#d8576b"
             ],
             [
              0.6666666666666666,
              "#ed7953"
             ],
             [
              0.7777777777777778,
              "#fb9f3a"
             ],
             [
              0.8888888888888888,
              "#fdca26"
             ],
             [
              1,
              "#f0f921"
             ]
            ],
            "type": "histogram2d"
           }
          ],
          "histogram2dcontour": [
           {
            "colorbar": {
             "outlinewidth": 0,
             "ticks": ""
            },
            "colorscale": [
             [
              0,
              "#0d0887"
             ],
             [
              0.1111111111111111,
              "#46039f"
             ],
             [
              0.2222222222222222,
              "#7201a8"
             ],
             [
              0.3333333333333333,
              "#9c179e"
             ],
             [
              0.4444444444444444,
              "#bd3786"
             ],
             [
              0.5555555555555556,
              "#d8576b"
             ],
             [
              0.6666666666666666,
              "#ed7953"
             ],
             [
              0.7777777777777778,
              "#fb9f3a"
             ],
             [
              0.8888888888888888,
              "#fdca26"
             ],
             [
              1,
              "#f0f921"
             ]
            ],
            "type": "histogram2dcontour"
           }
          ],
          "mesh3d": [
           {
            "colorbar": {
             "outlinewidth": 0,
             "ticks": ""
            },
            "type": "mesh3d"
           }
          ],
          "parcoords": [
           {
            "line": {
             "colorbar": {
              "outlinewidth": 0,
              "ticks": ""
             }
            },
            "type": "parcoords"
           }
          ],
          "pie": [
           {
            "automargin": true,
            "type": "pie"
           }
          ],
          "scatter": [
           {
            "fillpattern": {
             "fillmode": "overlay",
             "size": 10,
             "solidity": 0.2
            },
            "type": "scatter"
           }
          ],
          "scatter3d": [
           {
            "line": {
             "colorbar": {
              "outlinewidth": 0,
              "ticks": ""
             }
            },
            "marker": {
             "colorbar": {
              "outlinewidth": 0,
              "ticks": ""
             }
            },
            "type": "scatter3d"
           }
          ],
          "scattercarpet": [
           {
            "marker": {
             "colorbar": {
              "outlinewidth": 0,
              "ticks": ""
             }
            },
            "type": "scattercarpet"
           }
          ],
          "scattergeo": [
           {
            "marker": {
             "colorbar": {
              "outlinewidth": 0,
              "ticks": ""
             }
            },
            "type": "scattergeo"
           }
          ],
          "scattergl": [
           {
            "marker": {
             "colorbar": {
              "outlinewidth": 0,
              "ticks": ""
             }
            },
            "type": "scattergl"
           }
          ],
          "scattermap": [
           {
            "marker": {
             "colorbar": {
              "outlinewidth": 0,
              "ticks": ""
             }
            },
            "type": "scattermap"
           }
          ],
          "scattermapbox": [
           {
            "marker": {
             "colorbar": {
              "outlinewidth": 0,
              "ticks": ""
             }
            },
            "type": "scattermapbox"
           }
          ],
          "scatterpolar": [
           {
            "marker": {
             "colorbar": {
              "outlinewidth": 0,
              "ticks": ""
             }
            },
            "type": "scatterpolar"
           }
          ],
          "scatterpolargl": [
           {
            "marker": {
             "colorbar": {
              "outlinewidth": 0,
              "ticks": ""
             }
            },
            "type": "scatterpolargl"
           }
          ],
          "scatterternary": [
           {
            "marker": {
             "colorbar": {
              "outlinewidth": 0,
              "ticks": ""
             }
            },
            "type": "scatterternary"
           }
          ],
          "surface": [
           {
            "colorbar": {
             "outlinewidth": 0,
             "ticks": ""
            },
            "colorscale": [
             [
              0,
              "#0d0887"
             ],
             [
              0.1111111111111111,
              "#46039f"
             ],
             [
              0.2222222222222222,
              "#7201a8"
             ],
             [
              0.3333333333333333,
              "#9c179e"
             ],
             [
              0.4444444444444444,
              "#bd3786"
             ],
             [
              0.5555555555555556,
              "#d8576b"
             ],
             [
              0.6666666666666666,
              "#ed7953"
             ],
             [
              0.7777777777777778,
              "#fb9f3a"
             ],
             [
              0.8888888888888888,
              "#fdca26"
             ],
             [
              1,
              "#f0f921"
             ]
            ],
            "type": "surface"
           }
          ],
          "table": [
           {
            "cells": {
             "fill": {
              "color": "#EBF0F8"
             },
             "line": {
              "color": "white"
             }
            },
            "header": {
             "fill": {
              "color": "#C8D4E3"
             },
             "line": {
              "color": "white"
             }
            },
            "type": "table"
           }
          ]
         },
         "layout": {
          "annotationdefaults": {
           "arrowcolor": "#2a3f5f",
           "arrowhead": 0,
           "arrowwidth": 1
          },
          "autotypenumbers": "strict",
          "coloraxis": {
           "colorbar": {
            "outlinewidth": 0,
            "ticks": ""
           }
          },
          "colorscale": {
           "diverging": [
            [
             0,
             "#8e0152"
            ],
            [
             0.1,
             "#c51b7d"
            ],
            [
             0.2,
             "#de77ae"
            ],
            [
             0.3,
             "#f1b6da"
            ],
            [
             0.4,
             "#fde0ef"
            ],
            [
             0.5,
             "#f7f7f7"
            ],
            [
             0.6,
             "#e6f5d0"
            ],
            [
             0.7,
             "#b8e186"
            ],
            [
             0.8,
             "#7fbc41"
            ],
            [
             0.9,
             "#4d9221"
            ],
            [
             1,
             "#276419"
            ]
           ],
           "sequential": [
            [
             0,
             "#0d0887"
            ],
            [
             0.1111111111111111,
             "#46039f"
            ],
            [
             0.2222222222222222,
             "#7201a8"
            ],
            [
             0.3333333333333333,
             "#9c179e"
            ],
            [
             0.4444444444444444,
             "#bd3786"
            ],
            [
             0.5555555555555556,
             "#d8576b"
            ],
            [
             0.6666666666666666,
             "#ed7953"
            ],
            [
             0.7777777777777778,
             "#fb9f3a"
            ],
            [
             0.8888888888888888,
             "#fdca26"
            ],
            [
             1,
             "#f0f921"
            ]
           ],
           "sequentialminus": [
            [
             0,
             "#0d0887"
            ],
            [
             0.1111111111111111,
             "#46039f"
            ],
            [
             0.2222222222222222,
             "#7201a8"
            ],
            [
             0.3333333333333333,
             "#9c179e"
            ],
            [
             0.4444444444444444,
             "#bd3786"
            ],
            [
             0.5555555555555556,
             "#d8576b"
            ],
            [
             0.6666666666666666,
             "#ed7953"
            ],
            [
             0.7777777777777778,
             "#fb9f3a"
            ],
            [
             0.8888888888888888,
             "#fdca26"
            ],
            [
             1,
             "#f0f921"
            ]
           ]
          },
          "colorway": [
           "#636efa",
           "#EF553B",
           "#00cc96",
           "#ab63fa",
           "#FFA15A",
           "#19d3f3",
           "#FF6692",
           "#B6E880",
           "#FF97FF",
           "#FECB52"
          ],
          "font": {
           "color": "#2a3f5f"
          },
          "geo": {
           "bgcolor": "white",
           "lakecolor": "white",
           "landcolor": "white",
           "showlakes": true,
           "showland": true,
           "subunitcolor": "#C8D4E3"
          },
          "hoverlabel": {
           "align": "left"
          },
          "hovermode": "closest",
          "mapbox": {
           "style": "light"
          },
          "paper_bgcolor": "white",
          "plot_bgcolor": "white",
          "polar": {
           "angularaxis": {
            "gridcolor": "#EBF0F8",
            "linecolor": "#EBF0F8",
            "ticks": ""
           },
           "bgcolor": "white",
           "radialaxis": {
            "gridcolor": "#EBF0F8",
            "linecolor": "#EBF0F8",
            "ticks": ""
           }
          },
          "scene": {
           "xaxis": {
            "backgroundcolor": "white",
            "gridcolor": "#DFE8F3",
            "gridwidth": 2,
            "linecolor": "#EBF0F8",
            "showbackground": true,
            "ticks": "",
            "zerolinecolor": "#EBF0F8"
           },
           "yaxis": {
            "backgroundcolor": "white",
            "gridcolor": "#DFE8F3",
            "gridwidth": 2,
            "linecolor": "#EBF0F8",
            "showbackground": true,
            "ticks": "",
            "zerolinecolor": "#EBF0F8"
           },
           "zaxis": {
            "backgroundcolor": "white",
            "gridcolor": "#DFE8F3",
            "gridwidth": 2,
            "linecolor": "#EBF0F8",
            "showbackground": true,
            "ticks": "",
            "zerolinecolor": "#EBF0F8"
           }
          },
          "shapedefaults": {
           "line": {
            "color": "#2a3f5f"
           }
          },
          "ternary": {
           "aaxis": {
            "gridcolor": "#DFE8F3",
            "linecolor": "#A2B1C6",
            "ticks": ""
           },
           "baxis": {
            "gridcolor": "#DFE8F3",
            "linecolor": "#A2B1C6",
            "ticks": ""
           },
           "bgcolor": "white",
           "caxis": {
            "gridcolor": "#DFE8F3",
            "linecolor": "#A2B1C6",
            "ticks": ""
           }
          },
          "title": {
           "x": 0.05
          },
          "xaxis": {
           "automargin": true,
           "gridcolor": "#EBF0F8",
           "linecolor": "#EBF0F8",
           "ticks": "",
           "title": {
            "standoff": 15
           },
           "zerolinecolor": "#EBF0F8",
           "zerolinewidth": 2
          },
          "yaxis": {
           "automargin": true,
           "gridcolor": "#EBF0F8",
           "linecolor": "#EBF0F8",
           "ticks": "",
           "title": {
            "standoff": 15
           },
           "zerolinecolor": "#EBF0F8",
           "zerolinewidth": 2
          }
         }
        },
        "title": {
         "text": "Frecuencia absoluta de la variable"
        },
        "width": 700
       }
      }
     },
     "metadata": {},
     "output_type": "display_data"
    }
   ],
   "source": [
    "graficar_distribucion_categorica(df_csv, 'Depression')"
   ]
  },
  {
   "cell_type": "markdown",
   "id": "1fd2c5c0",
   "metadata": {},
   "source": [
    "### **<span>Variable: Problemas del Habla</span>**"
   ]
  },
  {
   "cell_type": "code",
   "execution_count": 41,
   "id": "de8a440b",
   "metadata": {},
   "outputs": [
    {
     "name": "stdout",
     "output_type": "stream",
     "text": [
      "SpeechProblems\n",
      "0    1484\n",
      "1     621\n",
      "Name: count, dtype: int64\n"
     ]
    },
    {
     "data": {
      "text/html": [
       "<div>\n",
       "<style scoped>\n",
       "    .dataframe tbody tr th:only-of-type {\n",
       "        vertical-align: middle;\n",
       "    }\n",
       "\n",
       "    .dataframe tbody tr th {\n",
       "        vertical-align: top;\n",
       "    }\n",
       "\n",
       "    .dataframe thead th {\n",
       "        text-align: right;\n",
       "    }\n",
       "</style>\n",
       "<table border=\"1\" class=\"dataframe\">\n",
       "  <thead>\n",
       "    <tr style=\"text-align: right;\">\n",
       "      <th></th>\n",
       "      <th>Clase</th>\n",
       "      <th>Frecuencia</th>\n",
       "      <th>Porcentaje</th>\n",
       "    </tr>\n",
       "  </thead>\n",
       "  <tbody>\n",
       "    <tr>\n",
       "      <th>0</th>\n",
       "      <td>0</td>\n",
       "      <td>1484</td>\n",
       "      <td>70.498812</td>\n",
       "    </tr>\n",
       "    <tr>\n",
       "      <th>1</th>\n",
       "      <td>1</td>\n",
       "      <td>621</td>\n",
       "      <td>29.501188</td>\n",
       "    </tr>\n",
       "  </tbody>\n",
       "</table>\n",
       "</div>"
      ],
      "text/plain": [
       "  Clase  Frecuencia  Porcentaje\n",
       "0     0        1484   70.498812\n",
       "1     1         621   29.501188"
      ]
     },
     "execution_count": 41,
     "metadata": {},
     "output_type": "execute_result"
    }
   ],
   "source": [
    "frecuencias_cualitativas(df_csv, 'SpeechProblems')"
   ]
  },
  {
   "cell_type": "code",
   "execution_count": 42,
   "id": "bc0ea6a5",
   "metadata": {},
   "outputs": [
    {
     "name": "stdout",
     "output_type": "stream",
     "text": [
      "\n",
      "\u001b[1mSPEECHPROBLEMS\u001b[0m\n"
     ]
    },
    {
     "data": {
      "application/vnd.plotly.v1+json": {
       "config": {
        "plotlyServerURL": "https://plot.ly"
       },
       "data": [
        {
         "hole": 0.3,
         "labels": {
          "bdata": "AAE=",
          "dtype": "i1"
         },
         "marker": {
          "colors": [
           "#D4A5F0",
           "#C3A2FF"
          ]
         },
         "textinfo": "label+percent",
         "type": "pie",
         "values": {
          "bdata": "zAVtAg==",
          "dtype": "i2"
         }
        }
       ],
       "layout": {
        "height": 600,
        "template": {
         "data": {
          "bar": [
           {
            "error_x": {
             "color": "#2a3f5f"
            },
            "error_y": {
             "color": "#2a3f5f"
            },
            "marker": {
             "line": {
              "color": "white",
              "width": 0.5
             },
             "pattern": {
              "fillmode": "overlay",
              "size": 10,
              "solidity": 0.2
             }
            },
            "type": "bar"
           }
          ],
          "barpolar": [
           {
            "marker": {
             "line": {
              "color": "white",
              "width": 0.5
             },
             "pattern": {
              "fillmode": "overlay",
              "size": 10,
              "solidity": 0.2
             }
            },
            "type": "barpolar"
           }
          ],
          "carpet": [
           {
            "aaxis": {
             "endlinecolor": "#2a3f5f",
             "gridcolor": "#C8D4E3",
             "linecolor": "#C8D4E3",
             "minorgridcolor": "#C8D4E3",
             "startlinecolor": "#2a3f5f"
            },
            "baxis": {
             "endlinecolor": "#2a3f5f",
             "gridcolor": "#C8D4E3",
             "linecolor": "#C8D4E3",
             "minorgridcolor": "#C8D4E3",
             "startlinecolor": "#2a3f5f"
            },
            "type": "carpet"
           }
          ],
          "choropleth": [
           {
            "colorbar": {
             "outlinewidth": 0,
             "ticks": ""
            },
            "type": "choropleth"
           }
          ],
          "contour": [
           {
            "colorbar": {
             "outlinewidth": 0,
             "ticks": ""
            },
            "colorscale": [
             [
              0,
              "#0d0887"
             ],
             [
              0.1111111111111111,
              "#46039f"
             ],
             [
              0.2222222222222222,
              "#7201a8"
             ],
             [
              0.3333333333333333,
              "#9c179e"
             ],
             [
              0.4444444444444444,
              "#bd3786"
             ],
             [
              0.5555555555555556,
              "#d8576b"
             ],
             [
              0.6666666666666666,
              "#ed7953"
             ],
             [
              0.7777777777777778,
              "#fb9f3a"
             ],
             [
              0.8888888888888888,
              "#fdca26"
             ],
             [
              1,
              "#f0f921"
             ]
            ],
            "type": "contour"
           }
          ],
          "contourcarpet": [
           {
            "colorbar": {
             "outlinewidth": 0,
             "ticks": ""
            },
            "type": "contourcarpet"
           }
          ],
          "heatmap": [
           {
            "colorbar": {
             "outlinewidth": 0,
             "ticks": ""
            },
            "colorscale": [
             [
              0,
              "#0d0887"
             ],
             [
              0.1111111111111111,
              "#46039f"
             ],
             [
              0.2222222222222222,
              "#7201a8"
             ],
             [
              0.3333333333333333,
              "#9c179e"
             ],
             [
              0.4444444444444444,
              "#bd3786"
             ],
             [
              0.5555555555555556,
              "#d8576b"
             ],
             [
              0.6666666666666666,
              "#ed7953"
             ],
             [
              0.7777777777777778,
              "#fb9f3a"
             ],
             [
              0.8888888888888888,
              "#fdca26"
             ],
             [
              1,
              "#f0f921"
             ]
            ],
            "type": "heatmap"
           }
          ],
          "histogram": [
           {
            "marker": {
             "pattern": {
              "fillmode": "overlay",
              "size": 10,
              "solidity": 0.2
             }
            },
            "type": "histogram"
           }
          ],
          "histogram2d": [
           {
            "colorbar": {
             "outlinewidth": 0,
             "ticks": ""
            },
            "colorscale": [
             [
              0,
              "#0d0887"
             ],
             [
              0.1111111111111111,
              "#46039f"
             ],
             [
              0.2222222222222222,
              "#7201a8"
             ],
             [
              0.3333333333333333,
              "#9c179e"
             ],
             [
              0.4444444444444444,
              "#bd3786"
             ],
             [
              0.5555555555555556,
              "#d8576b"
             ],
             [
              0.6666666666666666,
              "#ed7953"
             ],
             [
              0.7777777777777778,
              "#fb9f3a"
             ],
             [
              0.8888888888888888,
              "#fdca26"
             ],
             [
              1,
              "#f0f921"
             ]
            ],
            "type": "histogram2d"
           }
          ],
          "histogram2dcontour": [
           {
            "colorbar": {
             "outlinewidth": 0,
             "ticks": ""
            },
            "colorscale": [
             [
              0,
              "#0d0887"
             ],
             [
              0.1111111111111111,
              "#46039f"
             ],
             [
              0.2222222222222222,
              "#7201a8"
             ],
             [
              0.3333333333333333,
              "#9c179e"
             ],
             [
              0.4444444444444444,
              "#bd3786"
             ],
             [
              0.5555555555555556,
              "#d8576b"
             ],
             [
              0.6666666666666666,
              "#ed7953"
             ],
             [
              0.7777777777777778,
              "#fb9f3a"
             ],
             [
              0.8888888888888888,
              "#fdca26"
             ],
             [
              1,
              "#f0f921"
             ]
            ],
            "type": "histogram2dcontour"
           }
          ],
          "mesh3d": [
           {
            "colorbar": {
             "outlinewidth": 0,
             "ticks": ""
            },
            "type": "mesh3d"
           }
          ],
          "parcoords": [
           {
            "line": {
             "colorbar": {
              "outlinewidth": 0,
              "ticks": ""
             }
            },
            "type": "parcoords"
           }
          ],
          "pie": [
           {
            "automargin": true,
            "type": "pie"
           }
          ],
          "scatter": [
           {
            "fillpattern": {
             "fillmode": "overlay",
             "size": 10,
             "solidity": 0.2
            },
            "type": "scatter"
           }
          ],
          "scatter3d": [
           {
            "line": {
             "colorbar": {
              "outlinewidth": 0,
              "ticks": ""
             }
            },
            "marker": {
             "colorbar": {
              "outlinewidth": 0,
              "ticks": ""
             }
            },
            "type": "scatter3d"
           }
          ],
          "scattercarpet": [
           {
            "marker": {
             "colorbar": {
              "outlinewidth": 0,
              "ticks": ""
             }
            },
            "type": "scattercarpet"
           }
          ],
          "scattergeo": [
           {
            "marker": {
             "colorbar": {
              "outlinewidth": 0,
              "ticks": ""
             }
            },
            "type": "scattergeo"
           }
          ],
          "scattergl": [
           {
            "marker": {
             "colorbar": {
              "outlinewidth": 0,
              "ticks": ""
             }
            },
            "type": "scattergl"
           }
          ],
          "scattermap": [
           {
            "marker": {
             "colorbar": {
              "outlinewidth": 0,
              "ticks": ""
             }
            },
            "type": "scattermap"
           }
          ],
          "scattermapbox": [
           {
            "marker": {
             "colorbar": {
              "outlinewidth": 0,
              "ticks": ""
             }
            },
            "type": "scattermapbox"
           }
          ],
          "scatterpolar": [
           {
            "marker": {
             "colorbar": {
              "outlinewidth": 0,
              "ticks": ""
             }
            },
            "type": "scatterpolar"
           }
          ],
          "scatterpolargl": [
           {
            "marker": {
             "colorbar": {
              "outlinewidth": 0,
              "ticks": ""
             }
            },
            "type": "scatterpolargl"
           }
          ],
          "scatterternary": [
           {
            "marker": {
             "colorbar": {
              "outlinewidth": 0,
              "ticks": ""
             }
            },
            "type": "scatterternary"
           }
          ],
          "surface": [
           {
            "colorbar": {
             "outlinewidth": 0,
             "ticks": ""
            },
            "colorscale": [
             [
              0,
              "#0d0887"
             ],
             [
              0.1111111111111111,
              "#46039f"
             ],
             [
              0.2222222222222222,
              "#7201a8"
             ],
             [
              0.3333333333333333,
              "#9c179e"
             ],
             [
              0.4444444444444444,
              "#bd3786"
             ],
             [
              0.5555555555555556,
              "#d8576b"
             ],
             [
              0.6666666666666666,
              "#ed7953"
             ],
             [
              0.7777777777777778,
              "#fb9f3a"
             ],
             [
              0.8888888888888888,
              "#fdca26"
             ],
             [
              1,
              "#f0f921"
             ]
            ],
            "type": "surface"
           }
          ],
          "table": [
           {
            "cells": {
             "fill": {
              "color": "#EBF0F8"
             },
             "line": {
              "color": "white"
             }
            },
            "header": {
             "fill": {
              "color": "#C8D4E3"
             },
             "line": {
              "color": "white"
             }
            },
            "type": "table"
           }
          ]
         },
         "layout": {
          "annotationdefaults": {
           "arrowcolor": "#2a3f5f",
           "arrowhead": 0,
           "arrowwidth": 1
          },
          "autotypenumbers": "strict",
          "coloraxis": {
           "colorbar": {
            "outlinewidth": 0,
            "ticks": ""
           }
          },
          "colorscale": {
           "diverging": [
            [
             0,
             "#8e0152"
            ],
            [
             0.1,
             "#c51b7d"
            ],
            [
             0.2,
             "#de77ae"
            ],
            [
             0.3,
             "#f1b6da"
            ],
            [
             0.4,
             "#fde0ef"
            ],
            [
             0.5,
             "#f7f7f7"
            ],
            [
             0.6,
             "#e6f5d0"
            ],
            [
             0.7,
             "#b8e186"
            ],
            [
             0.8,
             "#7fbc41"
            ],
            [
             0.9,
             "#4d9221"
            ],
            [
             1,
             "#276419"
            ]
           ],
           "sequential": [
            [
             0,
             "#0d0887"
            ],
            [
             0.1111111111111111,
             "#46039f"
            ],
            [
             0.2222222222222222,
             "#7201a8"
            ],
            [
             0.3333333333333333,
             "#9c179e"
            ],
            [
             0.4444444444444444,
             "#bd3786"
            ],
            [
             0.5555555555555556,
             "#d8576b"
            ],
            [
             0.6666666666666666,
             "#ed7953"
            ],
            [
             0.7777777777777778,
             "#fb9f3a"
            ],
            [
             0.8888888888888888,
             "#fdca26"
            ],
            [
             1,
             "#f0f921"
            ]
           ],
           "sequentialminus": [
            [
             0,
             "#0d0887"
            ],
            [
             0.1111111111111111,
             "#46039f"
            ],
            [
             0.2222222222222222,
             "#7201a8"
            ],
            [
             0.3333333333333333,
             "#9c179e"
            ],
            [
             0.4444444444444444,
             "#bd3786"
            ],
            [
             0.5555555555555556,
             "#d8576b"
            ],
            [
             0.6666666666666666,
             "#ed7953"
            ],
            [
             0.7777777777777778,
             "#fb9f3a"
            ],
            [
             0.8888888888888888,
             "#fdca26"
            ],
            [
             1,
             "#f0f921"
            ]
           ]
          },
          "colorway": [
           "#636efa",
           "#EF553B",
           "#00cc96",
           "#ab63fa",
           "#FFA15A",
           "#19d3f3",
           "#FF6692",
           "#B6E880",
           "#FF97FF",
           "#FECB52"
          ],
          "font": {
           "color": "#2a3f5f"
          },
          "geo": {
           "bgcolor": "white",
           "lakecolor": "white",
           "landcolor": "white",
           "showlakes": true,
           "showland": true,
           "subunitcolor": "#C8D4E3"
          },
          "hoverlabel": {
           "align": "left"
          },
          "hovermode": "closest",
          "mapbox": {
           "style": "light"
          },
          "paper_bgcolor": "white",
          "plot_bgcolor": "white",
          "polar": {
           "angularaxis": {
            "gridcolor": "#EBF0F8",
            "linecolor": "#EBF0F8",
            "ticks": ""
           },
           "bgcolor": "white",
           "radialaxis": {
            "gridcolor": "#EBF0F8",
            "linecolor": "#EBF0F8",
            "ticks": ""
           }
          },
          "scene": {
           "xaxis": {
            "backgroundcolor": "white",
            "gridcolor": "#DFE8F3",
            "gridwidth": 2,
            "linecolor": "#EBF0F8",
            "showbackground": true,
            "ticks": "",
            "zerolinecolor": "#EBF0F8"
           },
           "yaxis": {
            "backgroundcolor": "white",
            "gridcolor": "#DFE8F3",
            "gridwidth": 2,
            "linecolor": "#EBF0F8",
            "showbackground": true,
            "ticks": "",
            "zerolinecolor": "#EBF0F8"
           },
           "zaxis": {
            "backgroundcolor": "white",
            "gridcolor": "#DFE8F3",
            "gridwidth": 2,
            "linecolor": "#EBF0F8",
            "showbackground": true,
            "ticks": "",
            "zerolinecolor": "#EBF0F8"
           }
          },
          "shapedefaults": {
           "line": {
            "color": "#2a3f5f"
           }
          },
          "ternary": {
           "aaxis": {
            "gridcolor": "#DFE8F3",
            "linecolor": "#A2B1C6",
            "ticks": ""
           },
           "baxis": {
            "gridcolor": "#DFE8F3",
            "linecolor": "#A2B1C6",
            "ticks": ""
           },
           "bgcolor": "white",
           "caxis": {
            "gridcolor": "#DFE8F3",
            "linecolor": "#A2B1C6",
            "ticks": ""
           }
          },
          "title": {
           "x": 0.05
          },
          "xaxis": {
           "automargin": true,
           "gridcolor": "#EBF0F8",
           "linecolor": "#EBF0F8",
           "ticks": "",
           "title": {
            "standoff": 15
           },
           "zerolinecolor": "#EBF0F8",
           "zerolinewidth": 2
          },
          "yaxis": {
           "automargin": true,
           "gridcolor": "#EBF0F8",
           "linecolor": "#EBF0F8",
           "ticks": "",
           "title": {
            "standoff": 15
           },
           "zerolinecolor": "#EBF0F8",
           "zerolinewidth": 2
          }
         }
        },
        "title": {
         "text": "Distribución porcentual de la variable"
        },
        "width": 700
       }
      }
     },
     "metadata": {},
     "output_type": "display_data"
    },
    {
     "data": {
      "application/vnd.plotly.v1+json": {
       "config": {
        "plotlyServerURL": "https://plot.ly"
       },
       "data": [
        {
         "marker": {
          "color": [
           "#D4A5F0",
           "#C3A2FF"
          ]
         },
         "text": {
          "bdata": "AAAAAAAwl0AAAAAAAGiDQA==",
          "dtype": "f8"
         },
         "textposition": "outside",
         "type": "bar",
         "x": {
          "bdata": "AAE=",
          "dtype": "i1"
         },
         "y": {
          "bdata": "zAVtAg==",
          "dtype": "i2"
         }
        }
       ],
       "layout": {
        "height": 600,
        "showlegend": false,
        "template": {
         "data": {
          "bar": [
           {
            "error_x": {
             "color": "#2a3f5f"
            },
            "error_y": {
             "color": "#2a3f5f"
            },
            "marker": {
             "line": {
              "color": "white",
              "width": 0.5
             },
             "pattern": {
              "fillmode": "overlay",
              "size": 10,
              "solidity": 0.2
             }
            },
            "type": "bar"
           }
          ],
          "barpolar": [
           {
            "marker": {
             "line": {
              "color": "white",
              "width": 0.5
             },
             "pattern": {
              "fillmode": "overlay",
              "size": 10,
              "solidity": 0.2
             }
            },
            "type": "barpolar"
           }
          ],
          "carpet": [
           {
            "aaxis": {
             "endlinecolor": "#2a3f5f",
             "gridcolor": "#C8D4E3",
             "linecolor": "#C8D4E3",
             "minorgridcolor": "#C8D4E3",
             "startlinecolor": "#2a3f5f"
            },
            "baxis": {
             "endlinecolor": "#2a3f5f",
             "gridcolor": "#C8D4E3",
             "linecolor": "#C8D4E3",
             "minorgridcolor": "#C8D4E3",
             "startlinecolor": "#2a3f5f"
            },
            "type": "carpet"
           }
          ],
          "choropleth": [
           {
            "colorbar": {
             "outlinewidth": 0,
             "ticks": ""
            },
            "type": "choropleth"
           }
          ],
          "contour": [
           {
            "colorbar": {
             "outlinewidth": 0,
             "ticks": ""
            },
            "colorscale": [
             [
              0,
              "#0d0887"
             ],
             [
              0.1111111111111111,
              "#46039f"
             ],
             [
              0.2222222222222222,
              "#7201a8"
             ],
             [
              0.3333333333333333,
              "#9c179e"
             ],
             [
              0.4444444444444444,
              "#bd3786"
             ],
             [
              0.5555555555555556,
              "#d8576b"
             ],
             [
              0.6666666666666666,
              "#ed7953"
             ],
             [
              0.7777777777777778,
              "#fb9f3a"
             ],
             [
              0.8888888888888888,
              "#fdca26"
             ],
             [
              1,
              "#f0f921"
             ]
            ],
            "type": "contour"
           }
          ],
          "contourcarpet": [
           {
            "colorbar": {
             "outlinewidth": 0,
             "ticks": ""
            },
            "type": "contourcarpet"
           }
          ],
          "heatmap": [
           {
            "colorbar": {
             "outlinewidth": 0,
             "ticks": ""
            },
            "colorscale": [
             [
              0,
              "#0d0887"
             ],
             [
              0.1111111111111111,
              "#46039f"
             ],
             [
              0.2222222222222222,
              "#7201a8"
             ],
             [
              0.3333333333333333,
              "#9c179e"
             ],
             [
              0.4444444444444444,
              "#bd3786"
             ],
             [
              0.5555555555555556,
              "#d8576b"
             ],
             [
              0.6666666666666666,
              "#ed7953"
             ],
             [
              0.7777777777777778,
              "#fb9f3a"
             ],
             [
              0.8888888888888888,
              "#fdca26"
             ],
             [
              1,
              "#f0f921"
             ]
            ],
            "type": "heatmap"
           }
          ],
          "histogram": [
           {
            "marker": {
             "pattern": {
              "fillmode": "overlay",
              "size": 10,
              "solidity": 0.2
             }
            },
            "type": "histogram"
           }
          ],
          "histogram2d": [
           {
            "colorbar": {
             "outlinewidth": 0,
             "ticks": ""
            },
            "colorscale": [
             [
              0,
              "#0d0887"
             ],
             [
              0.1111111111111111,
              "#46039f"
             ],
             [
              0.2222222222222222,
              "#7201a8"
             ],
             [
              0.3333333333333333,
              "#9c179e"
             ],
             [
              0.4444444444444444,
              "#bd3786"
             ],
             [
              0.5555555555555556,
              "#d8576b"
             ],
             [
              0.6666666666666666,
              "#ed7953"
             ],
             [
              0.7777777777777778,
              "#fb9f3a"
             ],
             [
              0.8888888888888888,
              "#fdca26"
             ],
             [
              1,
              "#f0f921"
             ]
            ],
            "type": "histogram2d"
           }
          ],
          "histogram2dcontour": [
           {
            "colorbar": {
             "outlinewidth": 0,
             "ticks": ""
            },
            "colorscale": [
             [
              0,
              "#0d0887"
             ],
             [
              0.1111111111111111,
              "#46039f"
             ],
             [
              0.2222222222222222,
              "#7201a8"
             ],
             [
              0.3333333333333333,
              "#9c179e"
             ],
             [
              0.4444444444444444,
              "#bd3786"
             ],
             [
              0.5555555555555556,
              "#d8576b"
             ],
             [
              0.6666666666666666,
              "#ed7953"
             ],
             [
              0.7777777777777778,
              "#fb9f3a"
             ],
             [
              0.8888888888888888,
              "#fdca26"
             ],
             [
              1,
              "#f0f921"
             ]
            ],
            "type": "histogram2dcontour"
           }
          ],
          "mesh3d": [
           {
            "colorbar": {
             "outlinewidth": 0,
             "ticks": ""
            },
            "type": "mesh3d"
           }
          ],
          "parcoords": [
           {
            "line": {
             "colorbar": {
              "outlinewidth": 0,
              "ticks": ""
             }
            },
            "type": "parcoords"
           }
          ],
          "pie": [
           {
            "automargin": true,
            "type": "pie"
           }
          ],
          "scatter": [
           {
            "fillpattern": {
             "fillmode": "overlay",
             "size": 10,
             "solidity": 0.2
            },
            "type": "scatter"
           }
          ],
          "scatter3d": [
           {
            "line": {
             "colorbar": {
              "outlinewidth": 0,
              "ticks": ""
             }
            },
            "marker": {
             "colorbar": {
              "outlinewidth": 0,
              "ticks": ""
             }
            },
            "type": "scatter3d"
           }
          ],
          "scattercarpet": [
           {
            "marker": {
             "colorbar": {
              "outlinewidth": 0,
              "ticks": ""
             }
            },
            "type": "scattercarpet"
           }
          ],
          "scattergeo": [
           {
            "marker": {
             "colorbar": {
              "outlinewidth": 0,
              "ticks": ""
             }
            },
            "type": "scattergeo"
           }
          ],
          "scattergl": [
           {
            "marker": {
             "colorbar": {
              "outlinewidth": 0,
              "ticks": ""
             }
            },
            "type": "scattergl"
           }
          ],
          "scattermap": [
           {
            "marker": {
             "colorbar": {
              "outlinewidth": 0,
              "ticks": ""
             }
            },
            "type": "scattermap"
           }
          ],
          "scattermapbox": [
           {
            "marker": {
             "colorbar": {
              "outlinewidth": 0,
              "ticks": ""
             }
            },
            "type": "scattermapbox"
           }
          ],
          "scatterpolar": [
           {
            "marker": {
             "colorbar": {
              "outlinewidth": 0,
              "ticks": ""
             }
            },
            "type": "scatterpolar"
           }
          ],
          "scatterpolargl": [
           {
            "marker": {
             "colorbar": {
              "outlinewidth": 0,
              "ticks": ""
             }
            },
            "type": "scatterpolargl"
           }
          ],
          "scatterternary": [
           {
            "marker": {
             "colorbar": {
              "outlinewidth": 0,
              "ticks": ""
             }
            },
            "type": "scatterternary"
           }
          ],
          "surface": [
           {
            "colorbar": {
             "outlinewidth": 0,
             "ticks": ""
            },
            "colorscale": [
             [
              0,
              "#0d0887"
             ],
             [
              0.1111111111111111,
              "#46039f"
             ],
             [
              0.2222222222222222,
              "#7201a8"
             ],
             [
              0.3333333333333333,
              "#9c179e"
             ],
             [
              0.4444444444444444,
              "#bd3786"
             ],
             [
              0.5555555555555556,
              "#d8576b"
             ],
             [
              0.6666666666666666,
              "#ed7953"
             ],
             [
              0.7777777777777778,
              "#fb9f3a"
             ],
             [
              0.8888888888888888,
              "#fdca26"
             ],
             [
              1,
              "#f0f921"
             ]
            ],
            "type": "surface"
           }
          ],
          "table": [
           {
            "cells": {
             "fill": {
              "color": "#EBF0F8"
             },
             "line": {
              "color": "white"
             }
            },
            "header": {
             "fill": {
              "color": "#C8D4E3"
             },
             "line": {
              "color": "white"
             }
            },
            "type": "table"
           }
          ]
         },
         "layout": {
          "annotationdefaults": {
           "arrowcolor": "#2a3f5f",
           "arrowhead": 0,
           "arrowwidth": 1
          },
          "autotypenumbers": "strict",
          "coloraxis": {
           "colorbar": {
            "outlinewidth": 0,
            "ticks": ""
           }
          },
          "colorscale": {
           "diverging": [
            [
             0,
             "#8e0152"
            ],
            [
             0.1,
             "#c51b7d"
            ],
            [
             0.2,
             "#de77ae"
            ],
            [
             0.3,
             "#f1b6da"
            ],
            [
             0.4,
             "#fde0ef"
            ],
            [
             0.5,
             "#f7f7f7"
            ],
            [
             0.6,
             "#e6f5d0"
            ],
            [
             0.7,
             "#b8e186"
            ],
            [
             0.8,
             "#7fbc41"
            ],
            [
             0.9,
             "#4d9221"
            ],
            [
             1,
             "#276419"
            ]
           ],
           "sequential": [
            [
             0,
             "#0d0887"
            ],
            [
             0.1111111111111111,
             "#46039f"
            ],
            [
             0.2222222222222222,
             "#7201a8"
            ],
            [
             0.3333333333333333,
             "#9c179e"
            ],
            [
             0.4444444444444444,
             "#bd3786"
            ],
            [
             0.5555555555555556,
             "#d8576b"
            ],
            [
             0.6666666666666666,
             "#ed7953"
            ],
            [
             0.7777777777777778,
             "#fb9f3a"
            ],
            [
             0.8888888888888888,
             "#fdca26"
            ],
            [
             1,
             "#f0f921"
            ]
           ],
           "sequentialminus": [
            [
             0,
             "#0d0887"
            ],
            [
             0.1111111111111111,
             "#46039f"
            ],
            [
             0.2222222222222222,
             "#7201a8"
            ],
            [
             0.3333333333333333,
             "#9c179e"
            ],
            [
             0.4444444444444444,
             "#bd3786"
            ],
            [
             0.5555555555555556,
             "#d8576b"
            ],
            [
             0.6666666666666666,
             "#ed7953"
            ],
            [
             0.7777777777777778,
             "#fb9f3a"
            ],
            [
             0.8888888888888888,
             "#fdca26"
            ],
            [
             1,
             "#f0f921"
            ]
           ]
          },
          "colorway": [
           "#636efa",
           "#EF553B",
           "#00cc96",
           "#ab63fa",
           "#FFA15A",
           "#19d3f3",
           "#FF6692",
           "#B6E880",
           "#FF97FF",
           "#FECB52"
          ],
          "font": {
           "color": "#2a3f5f"
          },
          "geo": {
           "bgcolor": "white",
           "lakecolor": "white",
           "landcolor": "white",
           "showlakes": true,
           "showland": true,
           "subunitcolor": "#C8D4E3"
          },
          "hoverlabel": {
           "align": "left"
          },
          "hovermode": "closest",
          "mapbox": {
           "style": "light"
          },
          "paper_bgcolor": "white",
          "plot_bgcolor": "white",
          "polar": {
           "angularaxis": {
            "gridcolor": "#EBF0F8",
            "linecolor": "#EBF0F8",
            "ticks": ""
           },
           "bgcolor": "white",
           "radialaxis": {
            "gridcolor": "#EBF0F8",
            "linecolor": "#EBF0F8",
            "ticks": ""
           }
          },
          "scene": {
           "xaxis": {
            "backgroundcolor": "white",
            "gridcolor": "#DFE8F3",
            "gridwidth": 2,
            "linecolor": "#EBF0F8",
            "showbackground": true,
            "ticks": "",
            "zerolinecolor": "#EBF0F8"
           },
           "yaxis": {
            "backgroundcolor": "white",
            "gridcolor": "#DFE8F3",
            "gridwidth": 2,
            "linecolor": "#EBF0F8",
            "showbackground": true,
            "ticks": "",
            "zerolinecolor": "#EBF0F8"
           },
           "zaxis": {
            "backgroundcolor": "white",
            "gridcolor": "#DFE8F3",
            "gridwidth": 2,
            "linecolor": "#EBF0F8",
            "showbackground": true,
            "ticks": "",
            "zerolinecolor": "#EBF0F8"
           }
          },
          "shapedefaults": {
           "line": {
            "color": "#2a3f5f"
           }
          },
          "ternary": {
           "aaxis": {
            "gridcolor": "#DFE8F3",
            "linecolor": "#A2B1C6",
            "ticks": ""
           },
           "baxis": {
            "gridcolor": "#DFE8F3",
            "linecolor": "#A2B1C6",
            "ticks": ""
           },
           "bgcolor": "white",
           "caxis": {
            "gridcolor": "#DFE8F3",
            "linecolor": "#A2B1C6",
            "ticks": ""
           }
          },
          "title": {
           "x": 0.05
          },
          "xaxis": {
           "automargin": true,
           "gridcolor": "#EBF0F8",
           "linecolor": "#EBF0F8",
           "ticks": "",
           "title": {
            "standoff": 15
           },
           "zerolinecolor": "#EBF0F8",
           "zerolinewidth": 2
          },
          "yaxis": {
           "automargin": true,
           "gridcolor": "#EBF0F8",
           "linecolor": "#EBF0F8",
           "ticks": "",
           "title": {
            "standoff": 15
           },
           "zerolinecolor": "#EBF0F8",
           "zerolinewidth": 2
          }
         }
        },
        "title": {
         "text": "Frecuencia absoluta de la variable"
        },
        "width": 700
       }
      }
     },
     "metadata": {},
     "output_type": "display_data"
    }
   ],
   "source": [
    "graficar_distribucion_categorica(df_csv, 'SpeechProblems')"
   ]
  },
  {
   "cell_type": "markdown",
   "id": "8a8ba28f",
   "metadata": {},
   "source": [
    "### **<span>Punto 3</span>**"
   ]
  },
  {
   "cell_type": "markdown",
   "id": "035f0cf7",
   "metadata": {},
   "source": [
    "### **<span>Punto 4</span>**"
   ]
  },
  {
   "cell_type": "markdown",
   "id": "4aff375f",
   "metadata": {},
   "source": [
    "### **<span>Punto 5</span>**"
   ]
  },
  {
   "cell_type": "markdown",
   "id": "18886c2d",
   "metadata": {},
   "source": [
    "### **<span>Punto 6</span>**"
   ]
  },
  {
   "cell_type": "markdown",
   "id": "499153e3",
   "metadata": {},
   "source": [
    "### **<span>Punto 7</span>**"
   ]
  },
  {
   "cell_type": "markdown",
   "id": "a4cd8f84",
   "metadata": {},
   "source": [
    "### **<span>Punto 8</span>**"
   ]
  },
  {
   "cell_type": "markdown",
   "id": "8b96929b",
   "metadata": {},
   "source": [
    "### **<span>Punto 9</span>**"
   ]
  }
 ],
 "metadata": {
  "kernelspec": {
   "display_name": "base",
   "language": "python",
   "name": "python3"
  },
  "language_info": {
   "codemirror_mode": {
    "name": "ipython",
    "version": 3
   },
   "file_extension": ".py",
   "mimetype": "text/x-python",
   "name": "python",
   "nbconvert_exporter": "python",
   "pygments_lexer": "ipython3",
   "version": "3.11.5"
  }
 },
 "nbformat": 4,
 "nbformat_minor": 5
}
