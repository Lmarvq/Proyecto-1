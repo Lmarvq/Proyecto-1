{
 "cells": [
  {
   "cell_type": "markdown",
   "metadata": {},
   "source": [
    "### **<span style=\"color:#1a73e8;\">Gráficos para el análisis de una sola variable</span>**"
   ]
  },
  {
   "cell_type": "code",
   "execution_count": 15,
   "metadata": {},
   "outputs": [],
   "source": [
    "import numpy as np\n",
    "import pandas as pd\n",
    "import plotly.graph_objects as go\n",
    "import matplotlib.pyplot as plt\n",
    "import seaborn as sns\n",
    "import plotly.express as px\n",
    "\n",
    "import warnings\n",
    "warnings.filterwarnings(\"ignore\", category=FutureWarning)"
   ]
  },
  {
   "cell_type": "code",
   "execution_count": 8,
   "metadata": {},
   "outputs": [
    {
     "data": {
      "text/html": [
       "<div>\n",
       "<style scoped>\n",
       "    .dataframe tbody tr th:only-of-type {\n",
       "        vertical-align: middle;\n",
       "    }\n",
       "\n",
       "    .dataframe tbody tr th {\n",
       "        vertical-align: top;\n",
       "    }\n",
       "\n",
       "    .dataframe thead th {\n",
       "        text-align: right;\n",
       "    }\n",
       "</style>\n",
       "<table border=\"1\" class=\"dataframe\">\n",
       "  <thead>\n",
       "    <tr style=\"text-align: right;\">\n",
       "      <th></th>\n",
       "      <th>formacion_academica</th>\n",
       "      <th>estrato_socioeconomico</th>\n",
       "      <th>sexo</th>\n",
       "      <th>edad</th>\n",
       "      <th>desempeno_neurocognitivo</th>\n",
       "      <th>duracion_sueno</th>\n",
       "      <th>consumo_cafe</th>\n",
       "      <th>fc_antes</th>\n",
       "      <th>fc_despues</th>\n",
       "      <th>fr_antes</th>\n",
       "      <th>fr_despues</th>\n",
       "      <th>pas_antes</th>\n",
       "      <th>pad_antes</th>\n",
       "      <th>pas_despues</th>\n",
       "      <th>pad_despues</th>\n",
       "    </tr>\n",
       "  </thead>\n",
       "  <tbody>\n",
       "    <tr>\n",
       "      <th>0</th>\n",
       "      <td>2.5</td>\n",
       "      <td>1.2</td>\n",
       "      <td>Mujer</td>\n",
       "      <td>36</td>\n",
       "      <td>2.8</td>\n",
       "      <td>1</td>\n",
       "      <td>2</td>\n",
       "      <td>87.483571</td>\n",
       "      <td>79.684860</td>\n",
       "      <td>14.649643</td>\n",
       "      <td>14.557451</td>\n",
       "      <td>109.429593</td>\n",
       "      <td>78.925925</td>\n",
       "      <td>104.495644</td>\n",
       "      <td>75.160523</td>\n",
       "    </tr>\n",
       "    <tr>\n",
       "      <th>1</th>\n",
       "      <td>4.5</td>\n",
       "      <td>3.0</td>\n",
       "      <td>Mujer</td>\n",
       "      <td>28</td>\n",
       "      <td>2.1</td>\n",
       "      <td>4</td>\n",
       "      <td>3</td>\n",
       "      <td>84.308678</td>\n",
       "      <td>77.459411</td>\n",
       "      <td>15.710963</td>\n",
       "      <td>14.571348</td>\n",
       "      <td>111.845346</td>\n",
       "      <td>66.111595</td>\n",
       "      <td>107.852646</td>\n",
       "      <td>62.038182</td>\n",
       "    </tr>\n",
       "    <tr>\n",
       "      <th>2</th>\n",
       "      <td>3.9</td>\n",
       "      <td>3.1</td>\n",
       "      <td>Mujer</td>\n",
       "      <td>54</td>\n",
       "      <td>2.8</td>\n",
       "      <td>4</td>\n",
       "      <td>2</td>\n",
       "      <td>88.238443</td>\n",
       "      <td>83.119182</td>\n",
       "      <td>14.415160</td>\n",
       "      <td>12.828766</td>\n",
       "      <td>110.289699</td>\n",
       "      <td>78.573728</td>\n",
       "      <td>105.634449</td>\n",
       "      <td>75.075038</td>\n",
       "    </tr>\n",
       "    <tr>\n",
       "      <th>3</th>\n",
       "      <td>3.1</td>\n",
       "      <td>3.0</td>\n",
       "      <td>Hombre</td>\n",
       "      <td>42</td>\n",
       "      <td>4.0</td>\n",
       "      <td>4</td>\n",
       "      <td>4</td>\n",
       "      <td>92.615149</td>\n",
       "      <td>88.909023</td>\n",
       "      <td>15.384077</td>\n",
       "      <td>11.496389</td>\n",
       "      <td>112.260021</td>\n",
       "      <td>73.831380</td>\n",
       "      <td>105.830557</td>\n",
       "      <td>72.773877</td>\n",
       "    </tr>\n",
       "    <tr>\n",
       "      <th>4</th>\n",
       "      <td>4.2</td>\n",
       "      <td>3.0</td>\n",
       "      <td>Hombre</td>\n",
       "      <td>29</td>\n",
       "      <td>3.6</td>\n",
       "      <td>2</td>\n",
       "      <td>4</td>\n",
       "      <td>83.829233</td>\n",
       "      <td>77.432786</td>\n",
       "      <td>12.212771</td>\n",
       "      <td>9.656218</td>\n",
       "      <td>113.929248</td>\n",
       "      <td>78.537289</td>\n",
       "      <td>106.373535</td>\n",
       "      <td>75.692711</td>\n",
       "    </tr>\n",
       "    <tr>\n",
       "      <th>...</th>\n",
       "      <td>...</td>\n",
       "      <td>...</td>\n",
       "      <td>...</td>\n",
       "      <td>...</td>\n",
       "      <td>...</td>\n",
       "      <td>...</td>\n",
       "      <td>...</td>\n",
       "      <td>...</td>\n",
       "      <td>...</td>\n",
       "      <td>...</td>\n",
       "      <td>...</td>\n",
       "      <td>...</td>\n",
       "      <td>...</td>\n",
       "      <td>...</td>\n",
       "      <td>...</td>\n",
       "    </tr>\n",
       "    <tr>\n",
       "      <th>995</th>\n",
       "      <td>2.0</td>\n",
       "      <td>4.2</td>\n",
       "      <td>Hombre</td>\n",
       "      <td>59</td>\n",
       "      <td>3.0</td>\n",
       "      <td>4</td>\n",
       "      <td>4</td>\n",
       "      <td>83.594499</td>\n",
       "      <td>76.454198</td>\n",
       "      <td>16.154961</td>\n",
       "      <td>14.126503</td>\n",
       "      <td>113.510666</td>\n",
       "      <td>86.049278</td>\n",
       "      <td>108.307406</td>\n",
       "      <td>81.748176</td>\n",
       "    </tr>\n",
       "    <tr>\n",
       "      <th>996</th>\n",
       "      <td>2.4</td>\n",
       "      <td>1.5</td>\n",
       "      <td>Hombre</td>\n",
       "      <td>21</td>\n",
       "      <td>1.6</td>\n",
       "      <td>3</td>\n",
       "      <td>2</td>\n",
       "      <td>93.988433</td>\n",
       "      <td>89.041475</td>\n",
       "      <td>16.515505</td>\n",
       "      <td>16.593317</td>\n",
       "      <td>118.845158</td>\n",
       "      <td>76.634973</td>\n",
       "      <td>111.510723</td>\n",
       "      <td>75.633318</td>\n",
       "    </tr>\n",
       "    <tr>\n",
       "      <th>997</th>\n",
       "      <td>4.4</td>\n",
       "      <td>5.0</td>\n",
       "      <td>Hombre</td>\n",
       "      <td>23</td>\n",
       "      <td>4.0</td>\n",
       "      <td>3</td>\n",
       "      <td>4</td>\n",
       "      <td>88.204214</td>\n",
       "      <td>84.967964</td>\n",
       "      <td>13.516479</td>\n",
       "      <td>11.836777</td>\n",
       "      <td>112.363055</td>\n",
       "      <td>70.824377</td>\n",
       "      <td>104.186160</td>\n",
       "      <td>68.529694</td>\n",
       "    </tr>\n",
       "    <tr>\n",
       "      <th>998</th>\n",
       "      <td>3.8</td>\n",
       "      <td>3.5</td>\n",
       "      <td>Mujer</td>\n",
       "      <td>32</td>\n",
       "      <td>1.8</td>\n",
       "      <td>4</td>\n",
       "      <td>1</td>\n",
       "      <td>82.144105</td>\n",
       "      <td>77.470239</td>\n",
       "      <td>16.668353</td>\n",
       "      <td>13.024975</td>\n",
       "      <td>114.974467</td>\n",
       "      <td>83.264565</td>\n",
       "      <td>111.344441</td>\n",
       "      <td>79.768800</td>\n",
       "    </tr>\n",
       "    <tr>\n",
       "      <th>999</th>\n",
       "      <td>4.2</td>\n",
       "      <td>5.0</td>\n",
       "      <td>Mujer</td>\n",
       "      <td>43</td>\n",
       "      <td>2.0</td>\n",
       "      <td>3</td>\n",
       "      <td>3</td>\n",
       "      <td>87.862914</td>\n",
       "      <td>84.352719</td>\n",
       "      <td>15.689482</td>\n",
       "      <td>13.328834</td>\n",
       "      <td>116.993819</td>\n",
       "      <td>85.388888</td>\n",
       "      <td>110.391455</td>\n",
       "      <td>81.744499</td>\n",
       "    </tr>\n",
       "  </tbody>\n",
       "</table>\n",
       "<p>1000 rows × 15 columns</p>\n",
       "</div>"
      ],
      "text/plain": [
       "     formacion_academica  estrato_socioeconomico    sexo  edad  \\\n",
       "0                    2.5                     1.2   Mujer    36   \n",
       "1                    4.5                     3.0   Mujer    28   \n",
       "2                    3.9                     3.1   Mujer    54   \n",
       "3                    3.1                     3.0  Hombre    42   \n",
       "4                    4.2                     3.0  Hombre    29   \n",
       "..                   ...                     ...     ...   ...   \n",
       "995                  2.0                     4.2  Hombre    59   \n",
       "996                  2.4                     1.5  Hombre    21   \n",
       "997                  4.4                     5.0  Hombre    23   \n",
       "998                  3.8                     3.5   Mujer    32   \n",
       "999                  4.2                     5.0   Mujer    43   \n",
       "\n",
       "     desempeno_neurocognitivo  duracion_sueno  consumo_cafe   fc_antes  \\\n",
       "0                         2.8               1             2  87.483571   \n",
       "1                         2.1               4             3  84.308678   \n",
       "2                         2.8               4             2  88.238443   \n",
       "3                         4.0               4             4  92.615149   \n",
       "4                         3.6               2             4  83.829233   \n",
       "..                        ...             ...           ...        ...   \n",
       "995                       3.0               4             4  83.594499   \n",
       "996                       1.6               3             2  93.988433   \n",
       "997                       4.0               3             4  88.204214   \n",
       "998                       1.8               4             1  82.144105   \n",
       "999                       2.0               3             3  87.862914   \n",
       "\n",
       "     fc_despues   fr_antes  fr_despues   pas_antes  pad_antes  pas_despues  \\\n",
       "0     79.684860  14.649643   14.557451  109.429593  78.925925   104.495644   \n",
       "1     77.459411  15.710963   14.571348  111.845346  66.111595   107.852646   \n",
       "2     83.119182  14.415160   12.828766  110.289699  78.573728   105.634449   \n",
       "3     88.909023  15.384077   11.496389  112.260021  73.831380   105.830557   \n",
       "4     77.432786  12.212771    9.656218  113.929248  78.537289   106.373535   \n",
       "..          ...        ...         ...         ...        ...          ...   \n",
       "995   76.454198  16.154961   14.126503  113.510666  86.049278   108.307406   \n",
       "996   89.041475  16.515505   16.593317  118.845158  76.634973   111.510723   \n",
       "997   84.967964  13.516479   11.836777  112.363055  70.824377   104.186160   \n",
       "998   77.470239  16.668353   13.024975  114.974467  83.264565   111.344441   \n",
       "999   84.352719  15.689482   13.328834  116.993819  85.388888   110.391455   \n",
       "\n",
       "     pad_despues  \n",
       "0      75.160523  \n",
       "1      62.038182  \n",
       "2      75.075038  \n",
       "3      72.773877  \n",
       "4      75.692711  \n",
       "..           ...  \n",
       "995    81.748176  \n",
       "996    75.633318  \n",
       "997    68.529694  \n",
       "998    79.768800  \n",
       "999    81.744499  \n",
       "\n",
       "[1000 rows x 15 columns]"
      ]
     },
     "execution_count": 8,
     "metadata": {},
     "output_type": "execute_result"
    }
   ],
   "source": [
    "df_csv = pd.read_csv('Set_datos_T1_completo.csv')\n",
    "df_csv"
   ]
  },
  {
   "cell_type": "markdown",
   "metadata": {},
   "source": [
    "### **<span style=\"color:#1a73e8;\">Variables Cualitativas</span>**\n",
    "\n",
    "**1. Gráfico de Barras** 📊:\n",
    "\n",
    "Compara frecuencias de categorías.\n",
    "\n",
    "✅ Para qué se usa: Comparar tamaños entre categorías.\n",
    "\n",
    "\n",
    "**2. Gráfico de Torta** 🥧:\n",
    "\n",
    "Muestra proporciones (%) de un total.\n",
    "\n",
    "✅ Para qué se usa: Visualizar participación porcentual.\n"
   ]
  },
  {
   "cell_type": "code",
   "execution_count": 3,
   "metadata": {},
   "outputs": [],
   "source": [
    "def graficar_distribucion_categorica(df, columna):\n",
    "    \"\"\"\n",
    "    Grafica un gráfico de torta y un gráfico de barras para una variable categórica.\n",
    "\n",
    "    Parámetros:\n",
    "    - df: DataFrame con los datos\n",
    "    - columna: Nombre de la columna categórica a graficar\n",
    "    \"\"\"\n",
    "\n",
    "    print(f\"\\n\\033[1m{columna.upper()}\\033[0m\")\n",
    "    \n",
    "    # Conteo de frecuencias\n",
    "    conteo = df[columna].value_counts().sort_values(ascending=False)\n",
    "\n",
    "    # Paleta de colores (morado pastel)\n",
    "    colores = [\"#D4A5F0\", \"#C3A2FF\", \"#B5A8F2\", \"#A89DE6\", \"#9D92D9\", \"#9287CC\", \"#877CC0\"]\n",
    "\n",
    "    # --- Gráfico de torta ---\n",
    "    fig_torta = go.Figure(go.Pie(\n",
    "        labels=conteo.index,\n",
    "        values=conteo.values,\n",
    "        marker=dict(colors=colores[:len(conteo)]),\n",
    "        hole=0.3,\n",
    "        textinfo=\"label+percent\"\n",
    "    ))\n",
    "    fig_torta.update_layout( title=\"Distribución porcentual de la variable\",template=\"plotly_white\", width=700, height=600)\n",
    "    fig_torta.show()\n",
    "\n",
    "    # --- Gráfico de barras ---\n",
    "    fig_barras = go.Figure(go.Bar(\n",
    "        x=conteo.index,\n",
    "        y=conteo.values,\n",
    "        text=conteo.values,\n",
    "        textposition=\"outside\",\n",
    "        marker=dict(color=colores[:len(conteo)])\n",
    "    ))\n",
    "    fig_barras.update_layout(title=\"Frecuencia absoluta de la variable\", template=\"plotly_white\", width=700, height=600, showlegend=False)\n",
    "    fig_barras.show()"
   ]
  },
  {
   "cell_type": "code",
   "execution_count": 10,
   "metadata": {},
   "outputs": [
    {
     "name": "stdout",
     "output_type": "stream",
     "text": [
      "\n",
      "\u001b[1mSEXO\u001b[0m\n"
     ]
    },
    {
     "data": {
      "application/vnd.plotly.v1+json": {
       "config": {
        "plotlyServerURL": "https://plot.ly"
       },
       "data": [
        {
         "hole": 0.3,
         "labels": [
          "Mujer",
          "Hombre"
         ],
         "marker": {
          "colors": [
           "#D4A5F0",
           "#C3A2FF"
          ]
         },
         "textinfo": "label+percent",
         "type": "pie",
         "values": [
          515,
          485
         ]
        }
       ],
       "layout": {
        "height": 600,
        "template": {
         "data": {
          "bar": [
           {
            "error_x": {
             "color": "#2a3f5f"
            },
            "error_y": {
             "color": "#2a3f5f"
            },
            "marker": {
             "line": {
              "color": "white",
              "width": 0.5
             },
             "pattern": {
              "fillmode": "overlay",
              "size": 10,
              "solidity": 0.2
             }
            },
            "type": "bar"
           }
          ],
          "barpolar": [
           {
            "marker": {
             "line": {
              "color": "white",
              "width": 0.5
             },
             "pattern": {
              "fillmode": "overlay",
              "size": 10,
              "solidity": 0.2
             }
            },
            "type": "barpolar"
           }
          ],
          "carpet": [
           {
            "aaxis": {
             "endlinecolor": "#2a3f5f",
             "gridcolor": "#C8D4E3",
             "linecolor": "#C8D4E3",
             "minorgridcolor": "#C8D4E3",
             "startlinecolor": "#2a3f5f"
            },
            "baxis": {
             "endlinecolor": "#2a3f5f",
             "gridcolor": "#C8D4E3",
             "linecolor": "#C8D4E3",
             "minorgridcolor": "#C8D4E3",
             "startlinecolor": "#2a3f5f"
            },
            "type": "carpet"
           }
          ],
          "choropleth": [
           {
            "colorbar": {
             "outlinewidth": 0,
             "ticks": ""
            },
            "type": "choropleth"
           }
          ],
          "contour": [
           {
            "colorbar": {
             "outlinewidth": 0,
             "ticks": ""
            },
            "colorscale": [
             [
              0,
              "#0d0887"
             ],
             [
              0.1111111111111111,
              "#46039f"
             ],
             [
              0.2222222222222222,
              "#7201a8"
             ],
             [
              0.3333333333333333,
              "#9c179e"
             ],
             [
              0.4444444444444444,
              "#bd3786"
             ],
             [
              0.5555555555555556,
              "#d8576b"
             ],
             [
              0.6666666666666666,
              "#ed7953"
             ],
             [
              0.7777777777777778,
              "#fb9f3a"
             ],
             [
              0.8888888888888888,
              "#fdca26"
             ],
             [
              1,
              "#f0f921"
             ]
            ],
            "type": "contour"
           }
          ],
          "contourcarpet": [
           {
            "colorbar": {
             "outlinewidth": 0,
             "ticks": ""
            },
            "type": "contourcarpet"
           }
          ],
          "heatmap": [
           {
            "colorbar": {
             "outlinewidth": 0,
             "ticks": ""
            },
            "colorscale": [
             [
              0,
              "#0d0887"
             ],
             [
              0.1111111111111111,
              "#46039f"
             ],
             [
              0.2222222222222222,
              "#7201a8"
             ],
             [
              0.3333333333333333,
              "#9c179e"
             ],
             [
              0.4444444444444444,
              "#bd3786"
             ],
             [
              0.5555555555555556,
              "#d8576b"
             ],
             [
              0.6666666666666666,
              "#ed7953"
             ],
             [
              0.7777777777777778,
              "#fb9f3a"
             ],
             [
              0.8888888888888888,
              "#fdca26"
             ],
             [
              1,
              "#f0f921"
             ]
            ],
            "type": "heatmap"
           }
          ],
          "heatmapgl": [
           {
            "colorbar": {
             "outlinewidth": 0,
             "ticks": ""
            },
            "colorscale": [
             [
              0,
              "#0d0887"
             ],
             [
              0.1111111111111111,
              "#46039f"
             ],
             [
              0.2222222222222222,
              "#7201a8"
             ],
             [
              0.3333333333333333,
              "#9c179e"
             ],
             [
              0.4444444444444444,
              "#bd3786"
             ],
             [
              0.5555555555555556,
              "#d8576b"
             ],
             [
              0.6666666666666666,
              "#ed7953"
             ],
             [
              0.7777777777777778,
              "#fb9f3a"
             ],
             [
              0.8888888888888888,
              "#fdca26"
             ],
             [
              1,
              "#f0f921"
             ]
            ],
            "type": "heatmapgl"
           }
          ],
          "histogram": [
           {
            "marker": {
             "pattern": {
              "fillmode": "overlay",
              "size": 10,
              "solidity": 0.2
             }
            },
            "type": "histogram"
           }
          ],
          "histogram2d": [
           {
            "colorbar": {
             "outlinewidth": 0,
             "ticks": ""
            },
            "colorscale": [
             [
              0,
              "#0d0887"
             ],
             [
              0.1111111111111111,
              "#46039f"
             ],
             [
              0.2222222222222222,
              "#7201a8"
             ],
             [
              0.3333333333333333,
              "#9c179e"
             ],
             [
              0.4444444444444444,
              "#bd3786"
             ],
             [
              0.5555555555555556,
              "#d8576b"
             ],
             [
              0.6666666666666666,
              "#ed7953"
             ],
             [
              0.7777777777777778,
              "#fb9f3a"
             ],
             [
              0.8888888888888888,
              "#fdca26"
             ],
             [
              1,
              "#f0f921"
             ]
            ],
            "type": "histogram2d"
           }
          ],
          "histogram2dcontour": [
           {
            "colorbar": {
             "outlinewidth": 0,
             "ticks": ""
            },
            "colorscale": [
             [
              0,
              "#0d0887"
             ],
             [
              0.1111111111111111,
              "#46039f"
             ],
             [
              0.2222222222222222,
              "#7201a8"
             ],
             [
              0.3333333333333333,
              "#9c179e"
             ],
             [
              0.4444444444444444,
              "#bd3786"
             ],
             [
              0.5555555555555556,
              "#d8576b"
             ],
             [
              0.6666666666666666,
              "#ed7953"
             ],
             [
              0.7777777777777778,
              "#fb9f3a"
             ],
             [
              0.8888888888888888,
              "#fdca26"
             ],
             [
              1,
              "#f0f921"
             ]
            ],
            "type": "histogram2dcontour"
           }
          ],
          "mesh3d": [
           {
            "colorbar": {
             "outlinewidth": 0,
             "ticks": ""
            },
            "type": "mesh3d"
           }
          ],
          "parcoords": [
           {
            "line": {
             "colorbar": {
              "outlinewidth": 0,
              "ticks": ""
             }
            },
            "type": "parcoords"
           }
          ],
          "pie": [
           {
            "automargin": true,
            "type": "pie"
           }
          ],
          "scatter": [
           {
            "fillpattern": {
             "fillmode": "overlay",
             "size": 10,
             "solidity": 0.2
            },
            "type": "scatter"
           }
          ],
          "scatter3d": [
           {
            "line": {
             "colorbar": {
              "outlinewidth": 0,
              "ticks": ""
             }
            },
            "marker": {
             "colorbar": {
              "outlinewidth": 0,
              "ticks": ""
             }
            },
            "type": "scatter3d"
           }
          ],
          "scattercarpet": [
           {
            "marker": {
             "colorbar": {
              "outlinewidth": 0,
              "ticks": ""
             }
            },
            "type": "scattercarpet"
           }
          ],
          "scattergeo": [
           {
            "marker": {
             "colorbar": {
              "outlinewidth": 0,
              "ticks": ""
             }
            },
            "type": "scattergeo"
           }
          ],
          "scattergl": [
           {
            "marker": {
             "colorbar": {
              "outlinewidth": 0,
              "ticks": ""
             }
            },
            "type": "scattergl"
           }
          ],
          "scattermapbox": [
           {
            "marker": {
             "colorbar": {
              "outlinewidth": 0,
              "ticks": ""
             }
            },
            "type": "scattermapbox"
           }
          ],
          "scatterpolar": [
           {
            "marker": {
             "colorbar": {
              "outlinewidth": 0,
              "ticks": ""
             }
            },
            "type": "scatterpolar"
           }
          ],
          "scatterpolargl": [
           {
            "marker": {
             "colorbar": {
              "outlinewidth": 0,
              "ticks": ""
             }
            },
            "type": "scatterpolargl"
           }
          ],
          "scatterternary": [
           {
            "marker": {
             "colorbar": {
              "outlinewidth": 0,
              "ticks": ""
             }
            },
            "type": "scatterternary"
           }
          ],
          "surface": [
           {
            "colorbar": {
             "outlinewidth": 0,
             "ticks": ""
            },
            "colorscale": [
             [
              0,
              "#0d0887"
             ],
             [
              0.1111111111111111,
              "#46039f"
             ],
             [
              0.2222222222222222,
              "#7201a8"
             ],
             [
              0.3333333333333333,
              "#9c179e"
             ],
             [
              0.4444444444444444,
              "#bd3786"
             ],
             [
              0.5555555555555556,
              "#d8576b"
             ],
             [
              0.6666666666666666,
              "#ed7953"
             ],
             [
              0.7777777777777778,
              "#fb9f3a"
             ],
             [
              0.8888888888888888,
              "#fdca26"
             ],
             [
              1,
              "#f0f921"
             ]
            ],
            "type": "surface"
           }
          ],
          "table": [
           {
            "cells": {
             "fill": {
              "color": "#EBF0F8"
             },
             "line": {
              "color": "white"
             }
            },
            "header": {
             "fill": {
              "color": "#C8D4E3"
             },
             "line": {
              "color": "white"
             }
            },
            "type": "table"
           }
          ]
         },
         "layout": {
          "annotationdefaults": {
           "arrowcolor": "#2a3f5f",
           "arrowhead": 0,
           "arrowwidth": 1
          },
          "autotypenumbers": "strict",
          "coloraxis": {
           "colorbar": {
            "outlinewidth": 0,
            "ticks": ""
           }
          },
          "colorscale": {
           "diverging": [
            [
             0,
             "#8e0152"
            ],
            [
             0.1,
             "#c51b7d"
            ],
            [
             0.2,
             "#de77ae"
            ],
            [
             0.3,
             "#f1b6da"
            ],
            [
             0.4,
             "#fde0ef"
            ],
            [
             0.5,
             "#f7f7f7"
            ],
            [
             0.6,
             "#e6f5d0"
            ],
            [
             0.7,
             "#b8e186"
            ],
            [
             0.8,
             "#7fbc41"
            ],
            [
             0.9,
             "#4d9221"
            ],
            [
             1,
             "#276419"
            ]
           ],
           "sequential": [
            [
             0,
             "#0d0887"
            ],
            [
             0.1111111111111111,
             "#46039f"
            ],
            [
             0.2222222222222222,
             "#7201a8"
            ],
            [
             0.3333333333333333,
             "#9c179e"
            ],
            [
             0.4444444444444444,
             "#bd3786"
            ],
            [
             0.5555555555555556,
             "#d8576b"
            ],
            [
             0.6666666666666666,
             "#ed7953"
            ],
            [
             0.7777777777777778,
             "#fb9f3a"
            ],
            [
             0.8888888888888888,
             "#fdca26"
            ],
            [
             1,
             "#f0f921"
            ]
           ],
           "sequentialminus": [
            [
             0,
             "#0d0887"
            ],
            [
             0.1111111111111111,
             "#46039f"
            ],
            [
             0.2222222222222222,
             "#7201a8"
            ],
            [
             0.3333333333333333,
             "#9c179e"
            ],
            [
             0.4444444444444444,
             "#bd3786"
            ],
            [
             0.5555555555555556,
             "#d8576b"
            ],
            [
             0.6666666666666666,
             "#ed7953"
            ],
            [
             0.7777777777777778,
             "#fb9f3a"
            ],
            [
             0.8888888888888888,
             "#fdca26"
            ],
            [
             1,
             "#f0f921"
            ]
           ]
          },
          "colorway": [
           "#636efa",
           "#EF553B",
           "#00cc96",
           "#ab63fa",
           "#FFA15A",
           "#19d3f3",
           "#FF6692",
           "#B6E880",
           "#FF97FF",
           "#FECB52"
          ],
          "font": {
           "color": "#2a3f5f"
          },
          "geo": {
           "bgcolor": "white",
           "lakecolor": "white",
           "landcolor": "white",
           "showlakes": true,
           "showland": true,
           "subunitcolor": "#C8D4E3"
          },
          "hoverlabel": {
           "align": "left"
          },
          "hovermode": "closest",
          "mapbox": {
           "style": "light"
          },
          "paper_bgcolor": "white",
          "plot_bgcolor": "white",
          "polar": {
           "angularaxis": {
            "gridcolor": "#EBF0F8",
            "linecolor": "#EBF0F8",
            "ticks": ""
           },
           "bgcolor": "white",
           "radialaxis": {
            "gridcolor": "#EBF0F8",
            "linecolor": "#EBF0F8",
            "ticks": ""
           }
          },
          "scene": {
           "xaxis": {
            "backgroundcolor": "white",
            "gridcolor": "#DFE8F3",
            "gridwidth": 2,
            "linecolor": "#EBF0F8",
            "showbackground": true,
            "ticks": "",
            "zerolinecolor": "#EBF0F8"
           },
           "yaxis": {
            "backgroundcolor": "white",
            "gridcolor": "#DFE8F3",
            "gridwidth": 2,
            "linecolor": "#EBF0F8",
            "showbackground": true,
            "ticks": "",
            "zerolinecolor": "#EBF0F8"
           },
           "zaxis": {
            "backgroundcolor": "white",
            "gridcolor": "#DFE8F3",
            "gridwidth": 2,
            "linecolor": "#EBF0F8",
            "showbackground": true,
            "ticks": "",
            "zerolinecolor": "#EBF0F8"
           }
          },
          "shapedefaults": {
           "line": {
            "color": "#2a3f5f"
           }
          },
          "ternary": {
           "aaxis": {
            "gridcolor": "#DFE8F3",
            "linecolor": "#A2B1C6",
            "ticks": ""
           },
           "baxis": {
            "gridcolor": "#DFE8F3",
            "linecolor": "#A2B1C6",
            "ticks": ""
           },
           "bgcolor": "white",
           "caxis": {
            "gridcolor": "#DFE8F3",
            "linecolor": "#A2B1C6",
            "ticks": ""
           }
          },
          "title": {
           "x": 0.05
          },
          "xaxis": {
           "automargin": true,
           "gridcolor": "#EBF0F8",
           "linecolor": "#EBF0F8",
           "ticks": "",
           "title": {
            "standoff": 15
           },
           "zerolinecolor": "#EBF0F8",
           "zerolinewidth": 2
          },
          "yaxis": {
           "automargin": true,
           "gridcolor": "#EBF0F8",
           "linecolor": "#EBF0F8",
           "ticks": "",
           "title": {
            "standoff": 15
           },
           "zerolinecolor": "#EBF0F8",
           "zerolinewidth": 2
          }
         }
        },
        "title": {
         "text": "Distribución porcentual de la variable"
        },
        "width": 700
       }
      }
     },
     "metadata": {},
     "output_type": "display_data"
    },
    {
     "data": {
      "application/vnd.plotly.v1+json": {
       "config": {
        "plotlyServerURL": "https://plot.ly"
       },
       "data": [
        {
         "marker": {
          "color": [
           "#D4A5F0",
           "#C3A2FF"
          ]
         },
         "text": [
          515,
          485
         ],
         "textposition": "outside",
         "type": "bar",
         "x": [
          "Mujer",
          "Hombre"
         ],
         "y": [
          515,
          485
         ]
        }
       ],
       "layout": {
        "height": 600,
        "showlegend": false,
        "template": {
         "data": {
          "bar": [
           {
            "error_x": {
             "color": "#2a3f5f"
            },
            "error_y": {
             "color": "#2a3f5f"
            },
            "marker": {
             "line": {
              "color": "white",
              "width": 0.5
             },
             "pattern": {
              "fillmode": "overlay",
              "size": 10,
              "solidity": 0.2
             }
            },
            "type": "bar"
           }
          ],
          "barpolar": [
           {
            "marker": {
             "line": {
              "color": "white",
              "width": 0.5
             },
             "pattern": {
              "fillmode": "overlay",
              "size": 10,
              "solidity": 0.2
             }
            },
            "type": "barpolar"
           }
          ],
          "carpet": [
           {
            "aaxis": {
             "endlinecolor": "#2a3f5f",
             "gridcolor": "#C8D4E3",
             "linecolor": "#C8D4E3",
             "minorgridcolor": "#C8D4E3",
             "startlinecolor": "#2a3f5f"
            },
            "baxis": {
             "endlinecolor": "#2a3f5f",
             "gridcolor": "#C8D4E3",
             "linecolor": "#C8D4E3",
             "minorgridcolor": "#C8D4E3",
             "startlinecolor": "#2a3f5f"
            },
            "type": "carpet"
           }
          ],
          "choropleth": [
           {
            "colorbar": {
             "outlinewidth": 0,
             "ticks": ""
            },
            "type": "choropleth"
           }
          ],
          "contour": [
           {
            "colorbar": {
             "outlinewidth": 0,
             "ticks": ""
            },
            "colorscale": [
             [
              0,
              "#0d0887"
             ],
             [
              0.1111111111111111,
              "#46039f"
             ],
             [
              0.2222222222222222,
              "#7201a8"
             ],
             [
              0.3333333333333333,
              "#9c179e"
             ],
             [
              0.4444444444444444,
              "#bd3786"
             ],
             [
              0.5555555555555556,
              "#d8576b"
             ],
             [
              0.6666666666666666,
              "#ed7953"
             ],
             [
              0.7777777777777778,
              "#fb9f3a"
             ],
             [
              0.8888888888888888,
              "#fdca26"
             ],
             [
              1,
              "#f0f921"
             ]
            ],
            "type": "contour"
           }
          ],
          "contourcarpet": [
           {
            "colorbar": {
             "outlinewidth": 0,
             "ticks": ""
            },
            "type": "contourcarpet"
           }
          ],
          "heatmap": [
           {
            "colorbar": {
             "outlinewidth": 0,
             "ticks": ""
            },
            "colorscale": [
             [
              0,
              "#0d0887"
             ],
             [
              0.1111111111111111,
              "#46039f"
             ],
             [
              0.2222222222222222,
              "#7201a8"
             ],
             [
              0.3333333333333333,
              "#9c179e"
             ],
             [
              0.4444444444444444,
              "#bd3786"
             ],
             [
              0.5555555555555556,
              "#d8576b"
             ],
             [
              0.6666666666666666,
              "#ed7953"
             ],
             [
              0.7777777777777778,
              "#fb9f3a"
             ],
             [
              0.8888888888888888,
              "#fdca26"
             ],
             [
              1,
              "#f0f921"
             ]
            ],
            "type": "heatmap"
           }
          ],
          "heatmapgl": [
           {
            "colorbar": {
             "outlinewidth": 0,
             "ticks": ""
            },
            "colorscale": [
             [
              0,
              "#0d0887"
             ],
             [
              0.1111111111111111,
              "#46039f"
             ],
             [
              0.2222222222222222,
              "#7201a8"
             ],
             [
              0.3333333333333333,
              "#9c179e"
             ],
             [
              0.4444444444444444,
              "#bd3786"
             ],
             [
              0.5555555555555556,
              "#d8576b"
             ],
             [
              0.6666666666666666,
              "#ed7953"
             ],
             [
              0.7777777777777778,
              "#fb9f3a"
             ],
             [
              0.8888888888888888,
              "#fdca26"
             ],
             [
              1,
              "#f0f921"
             ]
            ],
            "type": "heatmapgl"
           }
          ],
          "histogram": [
           {
            "marker": {
             "pattern": {
              "fillmode": "overlay",
              "size": 10,
              "solidity": 0.2
             }
            },
            "type": "histogram"
           }
          ],
          "histogram2d": [
           {
            "colorbar": {
             "outlinewidth": 0,
             "ticks": ""
            },
            "colorscale": [
             [
              0,
              "#0d0887"
             ],
             [
              0.1111111111111111,
              "#46039f"
             ],
             [
              0.2222222222222222,
              "#7201a8"
             ],
             [
              0.3333333333333333,
              "#9c179e"
             ],
             [
              0.4444444444444444,
              "#bd3786"
             ],
             [
              0.5555555555555556,
              "#d8576b"
             ],
             [
              0.6666666666666666,
              "#ed7953"
             ],
             [
              0.7777777777777778,
              "#fb9f3a"
             ],
             [
              0.8888888888888888,
              "#fdca26"
             ],
             [
              1,
              "#f0f921"
             ]
            ],
            "type": "histogram2d"
           }
          ],
          "histogram2dcontour": [
           {
            "colorbar": {
             "outlinewidth": 0,
             "ticks": ""
            },
            "colorscale": [
             [
              0,
              "#0d0887"
             ],
             [
              0.1111111111111111,
              "#46039f"
             ],
             [
              0.2222222222222222,
              "#7201a8"
             ],
             [
              0.3333333333333333,
              "#9c179e"
             ],
             [
              0.4444444444444444,
              "#bd3786"
             ],
             [
              0.5555555555555556,
              "#d8576b"
             ],
             [
              0.6666666666666666,
              "#ed7953"
             ],
             [
              0.7777777777777778,
              "#fb9f3a"
             ],
             [
              0.8888888888888888,
              "#fdca26"
             ],
             [
              1,
              "#f0f921"
             ]
            ],
            "type": "histogram2dcontour"
           }
          ],
          "mesh3d": [
           {
            "colorbar": {
             "outlinewidth": 0,
             "ticks": ""
            },
            "type": "mesh3d"
           }
          ],
          "parcoords": [
           {
            "line": {
             "colorbar": {
              "outlinewidth": 0,
              "ticks": ""
             }
            },
            "type": "parcoords"
           }
          ],
          "pie": [
           {
            "automargin": true,
            "type": "pie"
           }
          ],
          "scatter": [
           {
            "fillpattern": {
             "fillmode": "overlay",
             "size": 10,
             "solidity": 0.2
            },
            "type": "scatter"
           }
          ],
          "scatter3d": [
           {
            "line": {
             "colorbar": {
              "outlinewidth": 0,
              "ticks": ""
             }
            },
            "marker": {
             "colorbar": {
              "outlinewidth": 0,
              "ticks": ""
             }
            },
            "type": "scatter3d"
           }
          ],
          "scattercarpet": [
           {
            "marker": {
             "colorbar": {
              "outlinewidth": 0,
              "ticks": ""
             }
            },
            "type": "scattercarpet"
           }
          ],
          "scattergeo": [
           {
            "marker": {
             "colorbar": {
              "outlinewidth": 0,
              "ticks": ""
             }
            },
            "type": "scattergeo"
           }
          ],
          "scattergl": [
           {
            "marker": {
             "colorbar": {
              "outlinewidth": 0,
              "ticks": ""
             }
            },
            "type": "scattergl"
           }
          ],
          "scattermapbox": [
           {
            "marker": {
             "colorbar": {
              "outlinewidth": 0,
              "ticks": ""
             }
            },
            "type": "scattermapbox"
           }
          ],
          "scatterpolar": [
           {
            "marker": {
             "colorbar": {
              "outlinewidth": 0,
              "ticks": ""
             }
            },
            "type": "scatterpolar"
           }
          ],
          "scatterpolargl": [
           {
            "marker": {
             "colorbar": {
              "outlinewidth": 0,
              "ticks": ""
             }
            },
            "type": "scatterpolargl"
           }
          ],
          "scatterternary": [
           {
            "marker": {
             "colorbar": {
              "outlinewidth": 0,
              "ticks": ""
             }
            },
            "type": "scatterternary"
           }
          ],
          "surface": [
           {
            "colorbar": {
             "outlinewidth": 0,
             "ticks": ""
            },
            "colorscale": [
             [
              0,
              "#0d0887"
             ],
             [
              0.1111111111111111,
              "#46039f"
             ],
             [
              0.2222222222222222,
              "#7201a8"
             ],
             [
              0.3333333333333333,
              "#9c179e"
             ],
             [
              0.4444444444444444,
              "#bd3786"
             ],
             [
              0.5555555555555556,
              "#d8576b"
             ],
             [
              0.6666666666666666,
              "#ed7953"
             ],
             [
              0.7777777777777778,
              "#fb9f3a"
             ],
             [
              0.8888888888888888,
              "#fdca26"
             ],
             [
              1,
              "#f0f921"
             ]
            ],
            "type": "surface"
           }
          ],
          "table": [
           {
            "cells": {
             "fill": {
              "color": "#EBF0F8"
             },
             "line": {
              "color": "white"
             }
            },
            "header": {
             "fill": {
              "color": "#C8D4E3"
             },
             "line": {
              "color": "white"
             }
            },
            "type": "table"
           }
          ]
         },
         "layout": {
          "annotationdefaults": {
           "arrowcolor": "#2a3f5f",
           "arrowhead": 0,
           "arrowwidth": 1
          },
          "autotypenumbers": "strict",
          "coloraxis": {
           "colorbar": {
            "outlinewidth": 0,
            "ticks": ""
           }
          },
          "colorscale": {
           "diverging": [
            [
             0,
             "#8e0152"
            ],
            [
             0.1,
             "#c51b7d"
            ],
            [
             0.2,
             "#de77ae"
            ],
            [
             0.3,
             "#f1b6da"
            ],
            [
             0.4,
             "#fde0ef"
            ],
            [
             0.5,
             "#f7f7f7"
            ],
            [
             0.6,
             "#e6f5d0"
            ],
            [
             0.7,
             "#b8e186"
            ],
            [
             0.8,
             "#7fbc41"
            ],
            [
             0.9,
             "#4d9221"
            ],
            [
             1,
             "#276419"
            ]
           ],
           "sequential": [
            [
             0,
             "#0d0887"
            ],
            [
             0.1111111111111111,
             "#46039f"
            ],
            [
             0.2222222222222222,
             "#7201a8"
            ],
            [
             0.3333333333333333,
             "#9c179e"
            ],
            [
             0.4444444444444444,
             "#bd3786"
            ],
            [
             0.5555555555555556,
             "#d8576b"
            ],
            [
             0.6666666666666666,
             "#ed7953"
            ],
            [
             0.7777777777777778,
             "#fb9f3a"
            ],
            [
             0.8888888888888888,
             "#fdca26"
            ],
            [
             1,
             "#f0f921"
            ]
           ],
           "sequentialminus": [
            [
             0,
             "#0d0887"
            ],
            [
             0.1111111111111111,
             "#46039f"
            ],
            [
             0.2222222222222222,
             "#7201a8"
            ],
            [
             0.3333333333333333,
             "#9c179e"
            ],
            [
             0.4444444444444444,
             "#bd3786"
            ],
            [
             0.5555555555555556,
             "#d8576b"
            ],
            [
             0.6666666666666666,
             "#ed7953"
            ],
            [
             0.7777777777777778,
             "#fb9f3a"
            ],
            [
             0.8888888888888888,
             "#fdca26"
            ],
            [
             1,
             "#f0f921"
            ]
           ]
          },
          "colorway": [
           "#636efa",
           "#EF553B",
           "#00cc96",
           "#ab63fa",
           "#FFA15A",
           "#19d3f3",
           "#FF6692",
           "#B6E880",
           "#FF97FF",
           "#FECB52"
          ],
          "font": {
           "color": "#2a3f5f"
          },
          "geo": {
           "bgcolor": "white",
           "lakecolor": "white",
           "landcolor": "white",
           "showlakes": true,
           "showland": true,
           "subunitcolor": "#C8D4E3"
          },
          "hoverlabel": {
           "align": "left"
          },
          "hovermode": "closest",
          "mapbox": {
           "style": "light"
          },
          "paper_bgcolor": "white",
          "plot_bgcolor": "white",
          "polar": {
           "angularaxis": {
            "gridcolor": "#EBF0F8",
            "linecolor": "#EBF0F8",
            "ticks": ""
           },
           "bgcolor": "white",
           "radialaxis": {
            "gridcolor": "#EBF0F8",
            "linecolor": "#EBF0F8",
            "ticks": ""
           }
          },
          "scene": {
           "xaxis": {
            "backgroundcolor": "white",
            "gridcolor": "#DFE8F3",
            "gridwidth": 2,
            "linecolor": "#EBF0F8",
            "showbackground": true,
            "ticks": "",
            "zerolinecolor": "#EBF0F8"
           },
           "yaxis": {
            "backgroundcolor": "white",
            "gridcolor": "#DFE8F3",
            "gridwidth": 2,
            "linecolor": "#EBF0F8",
            "showbackground": true,
            "ticks": "",
            "zerolinecolor": "#EBF0F8"
           },
           "zaxis": {
            "backgroundcolor": "white",
            "gridcolor": "#DFE8F3",
            "gridwidth": 2,
            "linecolor": "#EBF0F8",
            "showbackground": true,
            "ticks": "",
            "zerolinecolor": "#EBF0F8"
           }
          },
          "shapedefaults": {
           "line": {
            "color": "#2a3f5f"
           }
          },
          "ternary": {
           "aaxis": {
            "gridcolor": "#DFE8F3",
            "linecolor": "#A2B1C6",
            "ticks": ""
           },
           "baxis": {
            "gridcolor": "#DFE8F3",
            "linecolor": "#A2B1C6",
            "ticks": ""
           },
           "bgcolor": "white",
           "caxis": {
            "gridcolor": "#DFE8F3",
            "linecolor": "#A2B1C6",
            "ticks": ""
           }
          },
          "title": {
           "x": 0.05
          },
          "xaxis": {
           "automargin": true,
           "gridcolor": "#EBF0F8",
           "linecolor": "#EBF0F8",
           "ticks": "",
           "title": {
            "standoff": 15
           },
           "zerolinecolor": "#EBF0F8",
           "zerolinewidth": 2
          },
          "yaxis": {
           "automargin": true,
           "gridcolor": "#EBF0F8",
           "linecolor": "#EBF0F8",
           "ticks": "",
           "title": {
            "standoff": 15
           },
           "zerolinecolor": "#EBF0F8",
           "zerolinewidth": 2
          }
         }
        },
        "title": {
         "text": "Frecuencia absoluta de la variable"
        },
        "width": 700
       }
      }
     },
     "metadata": {},
     "output_type": "display_data"
    },
    {
     "name": "stdout",
     "output_type": "stream",
     "text": [
      "\n",
      "\u001b[1mCONSUMO_CAFE\u001b[0m\n"
     ]
    },
    {
     "data": {
      "application/vnd.plotly.v1+json": {
       "config": {
        "plotlyServerURL": "https://plot.ly"
       },
       "data": [
        {
         "hole": 0.3,
         "labels": [
          2,
          3,
          4,
          1
         ],
         "marker": {
          "colors": [
           "#D4A5F0",
           "#C3A2FF",
           "#B5A8F2",
           "#A89DE6"
          ]
         },
         "textinfo": "label+percent",
         "type": "pie",
         "values": [
          599,
          198,
          109,
          94
         ]
        }
       ],
       "layout": {
        "height": 600,
        "template": {
         "data": {
          "bar": [
           {
            "error_x": {
             "color": "#2a3f5f"
            },
            "error_y": {
             "color": "#2a3f5f"
            },
            "marker": {
             "line": {
              "color": "white",
              "width": 0.5
             },
             "pattern": {
              "fillmode": "overlay",
              "size": 10,
              "solidity": 0.2
             }
            },
            "type": "bar"
           }
          ],
          "barpolar": [
           {
            "marker": {
             "line": {
              "color": "white",
              "width": 0.5
             },
             "pattern": {
              "fillmode": "overlay",
              "size": 10,
              "solidity": 0.2
             }
            },
            "type": "barpolar"
           }
          ],
          "carpet": [
           {
            "aaxis": {
             "endlinecolor": "#2a3f5f",
             "gridcolor": "#C8D4E3",
             "linecolor": "#C8D4E3",
             "minorgridcolor": "#C8D4E3",
             "startlinecolor": "#2a3f5f"
            },
            "baxis": {
             "endlinecolor": "#2a3f5f",
             "gridcolor": "#C8D4E3",
             "linecolor": "#C8D4E3",
             "minorgridcolor": "#C8D4E3",
             "startlinecolor": "#2a3f5f"
            },
            "type": "carpet"
           }
          ],
          "choropleth": [
           {
            "colorbar": {
             "outlinewidth": 0,
             "ticks": ""
            },
            "type": "choropleth"
           }
          ],
          "contour": [
           {
            "colorbar": {
             "outlinewidth": 0,
             "ticks": ""
            },
            "colorscale": [
             [
              0,
              "#0d0887"
             ],
             [
              0.1111111111111111,
              "#46039f"
             ],
             [
              0.2222222222222222,
              "#7201a8"
             ],
             [
              0.3333333333333333,
              "#9c179e"
             ],
             [
              0.4444444444444444,
              "#bd3786"
             ],
             [
              0.5555555555555556,
              "#d8576b"
             ],
             [
              0.6666666666666666,
              "#ed7953"
             ],
             [
              0.7777777777777778,
              "#fb9f3a"
             ],
             [
              0.8888888888888888,
              "#fdca26"
             ],
             [
              1,
              "#f0f921"
             ]
            ],
            "type": "contour"
           }
          ],
          "contourcarpet": [
           {
            "colorbar": {
             "outlinewidth": 0,
             "ticks": ""
            },
            "type": "contourcarpet"
           }
          ],
          "heatmap": [
           {
            "colorbar": {
             "outlinewidth": 0,
             "ticks": ""
            },
            "colorscale": [
             [
              0,
              "#0d0887"
             ],
             [
              0.1111111111111111,
              "#46039f"
             ],
             [
              0.2222222222222222,
              "#7201a8"
             ],
             [
              0.3333333333333333,
              "#9c179e"
             ],
             [
              0.4444444444444444,
              "#bd3786"
             ],
             [
              0.5555555555555556,
              "#d8576b"
             ],
             [
              0.6666666666666666,
              "#ed7953"
             ],
             [
              0.7777777777777778,
              "#fb9f3a"
             ],
             [
              0.8888888888888888,
              "#fdca26"
             ],
             [
              1,
              "#f0f921"
             ]
            ],
            "type": "heatmap"
           }
          ],
          "heatmapgl": [
           {
            "colorbar": {
             "outlinewidth": 0,
             "ticks": ""
            },
            "colorscale": [
             [
              0,
              "#0d0887"
             ],
             [
              0.1111111111111111,
              "#46039f"
             ],
             [
              0.2222222222222222,
              "#7201a8"
             ],
             [
              0.3333333333333333,
              "#9c179e"
             ],
             [
              0.4444444444444444,
              "#bd3786"
             ],
             [
              0.5555555555555556,
              "#d8576b"
             ],
             [
              0.6666666666666666,
              "#ed7953"
             ],
             [
              0.7777777777777778,
              "#fb9f3a"
             ],
             [
              0.8888888888888888,
              "#fdca26"
             ],
             [
              1,
              "#f0f921"
             ]
            ],
            "type": "heatmapgl"
           }
          ],
          "histogram": [
           {
            "marker": {
             "pattern": {
              "fillmode": "overlay",
              "size": 10,
              "solidity": 0.2
             }
            },
            "type": "histogram"
           }
          ],
          "histogram2d": [
           {
            "colorbar": {
             "outlinewidth": 0,
             "ticks": ""
            },
            "colorscale": [
             [
              0,
              "#0d0887"
             ],
             [
              0.1111111111111111,
              "#46039f"
             ],
             [
              0.2222222222222222,
              "#7201a8"
             ],
             [
              0.3333333333333333,
              "#9c179e"
             ],
             [
              0.4444444444444444,
              "#bd3786"
             ],
             [
              0.5555555555555556,
              "#d8576b"
             ],
             [
              0.6666666666666666,
              "#ed7953"
             ],
             [
              0.7777777777777778,
              "#fb9f3a"
             ],
             [
              0.8888888888888888,
              "#fdca26"
             ],
             [
              1,
              "#f0f921"
             ]
            ],
            "type": "histogram2d"
           }
          ],
          "histogram2dcontour": [
           {
            "colorbar": {
             "outlinewidth": 0,
             "ticks": ""
            },
            "colorscale": [
             [
              0,
              "#0d0887"
             ],
             [
              0.1111111111111111,
              "#46039f"
             ],
             [
              0.2222222222222222,
              "#7201a8"
             ],
             [
              0.3333333333333333,
              "#9c179e"
             ],
             [
              0.4444444444444444,
              "#bd3786"
             ],
             [
              0.5555555555555556,
              "#d8576b"
             ],
             [
              0.6666666666666666,
              "#ed7953"
             ],
             [
              0.7777777777777778,
              "#fb9f3a"
             ],
             [
              0.8888888888888888,
              "#fdca26"
             ],
             [
              1,
              "#f0f921"
             ]
            ],
            "type": "histogram2dcontour"
           }
          ],
          "mesh3d": [
           {
            "colorbar": {
             "outlinewidth": 0,
             "ticks": ""
            },
            "type": "mesh3d"
           }
          ],
          "parcoords": [
           {
            "line": {
             "colorbar": {
              "outlinewidth": 0,
              "ticks": ""
             }
            },
            "type": "parcoords"
           }
          ],
          "pie": [
           {
            "automargin": true,
            "type": "pie"
           }
          ],
          "scatter": [
           {
            "fillpattern": {
             "fillmode": "overlay",
             "size": 10,
             "solidity": 0.2
            },
            "type": "scatter"
           }
          ],
          "scatter3d": [
           {
            "line": {
             "colorbar": {
              "outlinewidth": 0,
              "ticks": ""
             }
            },
            "marker": {
             "colorbar": {
              "outlinewidth": 0,
              "ticks": ""
             }
            },
            "type": "scatter3d"
           }
          ],
          "scattercarpet": [
           {
            "marker": {
             "colorbar": {
              "outlinewidth": 0,
              "ticks": ""
             }
            },
            "type": "scattercarpet"
           }
          ],
          "scattergeo": [
           {
            "marker": {
             "colorbar": {
              "outlinewidth": 0,
              "ticks": ""
             }
            },
            "type": "scattergeo"
           }
          ],
          "scattergl": [
           {
            "marker": {
             "colorbar": {
              "outlinewidth": 0,
              "ticks": ""
             }
            },
            "type": "scattergl"
           }
          ],
          "scattermapbox": [
           {
            "marker": {
             "colorbar": {
              "outlinewidth": 0,
              "ticks": ""
             }
            },
            "type": "scattermapbox"
           }
          ],
          "scatterpolar": [
           {
            "marker": {
             "colorbar": {
              "outlinewidth": 0,
              "ticks": ""
             }
            },
            "type": "scatterpolar"
           }
          ],
          "scatterpolargl": [
           {
            "marker": {
             "colorbar": {
              "outlinewidth": 0,
              "ticks": ""
             }
            },
            "type": "scatterpolargl"
           }
          ],
          "scatterternary": [
           {
            "marker": {
             "colorbar": {
              "outlinewidth": 0,
              "ticks": ""
             }
            },
            "type": "scatterternary"
           }
          ],
          "surface": [
           {
            "colorbar": {
             "outlinewidth": 0,
             "ticks": ""
            },
            "colorscale": [
             [
              0,
              "#0d0887"
             ],
             [
              0.1111111111111111,
              "#46039f"
             ],
             [
              0.2222222222222222,
              "#7201a8"
             ],
             [
              0.3333333333333333,
              "#9c179e"
             ],
             [
              0.4444444444444444,
              "#bd3786"
             ],
             [
              0.5555555555555556,
              "#d8576b"
             ],
             [
              0.6666666666666666,
              "#ed7953"
             ],
             [
              0.7777777777777778,
              "#fb9f3a"
             ],
             [
              0.8888888888888888,
              "#fdca26"
             ],
             [
              1,
              "#f0f921"
             ]
            ],
            "type": "surface"
           }
          ],
          "table": [
           {
            "cells": {
             "fill": {
              "color": "#EBF0F8"
             },
             "line": {
              "color": "white"
             }
            },
            "header": {
             "fill": {
              "color": "#C8D4E3"
             },
             "line": {
              "color": "white"
             }
            },
            "type": "table"
           }
          ]
         },
         "layout": {
          "annotationdefaults": {
           "arrowcolor": "#2a3f5f",
           "arrowhead": 0,
           "arrowwidth": 1
          },
          "autotypenumbers": "strict",
          "coloraxis": {
           "colorbar": {
            "outlinewidth": 0,
            "ticks": ""
           }
          },
          "colorscale": {
           "diverging": [
            [
             0,
             "#8e0152"
            ],
            [
             0.1,
             "#c51b7d"
            ],
            [
             0.2,
             "#de77ae"
            ],
            [
             0.3,
             "#f1b6da"
            ],
            [
             0.4,
             "#fde0ef"
            ],
            [
             0.5,
             "#f7f7f7"
            ],
            [
             0.6,
             "#e6f5d0"
            ],
            [
             0.7,
             "#b8e186"
            ],
            [
             0.8,
             "#7fbc41"
            ],
            [
             0.9,
             "#4d9221"
            ],
            [
             1,
             "#276419"
            ]
           ],
           "sequential": [
            [
             0,
             "#0d0887"
            ],
            [
             0.1111111111111111,
             "#46039f"
            ],
            [
             0.2222222222222222,
             "#7201a8"
            ],
            [
             0.3333333333333333,
             "#9c179e"
            ],
            [
             0.4444444444444444,
             "#bd3786"
            ],
            [
             0.5555555555555556,
             "#d8576b"
            ],
            [
             0.6666666666666666,
             "#ed7953"
            ],
            [
             0.7777777777777778,
             "#fb9f3a"
            ],
            [
             0.8888888888888888,
             "#fdca26"
            ],
            [
             1,
             "#f0f921"
            ]
           ],
           "sequentialminus": [
            [
             0,
             "#0d0887"
            ],
            [
             0.1111111111111111,
             "#46039f"
            ],
            [
             0.2222222222222222,
             "#7201a8"
            ],
            [
             0.3333333333333333,
             "#9c179e"
            ],
            [
             0.4444444444444444,
             "#bd3786"
            ],
            [
             0.5555555555555556,
             "#d8576b"
            ],
            [
             0.6666666666666666,
             "#ed7953"
            ],
            [
             0.7777777777777778,
             "#fb9f3a"
            ],
            [
             0.8888888888888888,
             "#fdca26"
            ],
            [
             1,
             "#f0f921"
            ]
           ]
          },
          "colorway": [
           "#636efa",
           "#EF553B",
           "#00cc96",
           "#ab63fa",
           "#FFA15A",
           "#19d3f3",
           "#FF6692",
           "#B6E880",
           "#FF97FF",
           "#FECB52"
          ],
          "font": {
           "color": "#2a3f5f"
          },
          "geo": {
           "bgcolor": "white",
           "lakecolor": "white",
           "landcolor": "white",
           "showlakes": true,
           "showland": true,
           "subunitcolor": "#C8D4E3"
          },
          "hoverlabel": {
           "align": "left"
          },
          "hovermode": "closest",
          "mapbox": {
           "style": "light"
          },
          "paper_bgcolor": "white",
          "plot_bgcolor": "white",
          "polar": {
           "angularaxis": {
            "gridcolor": "#EBF0F8",
            "linecolor": "#EBF0F8",
            "ticks": ""
           },
           "bgcolor": "white",
           "radialaxis": {
            "gridcolor": "#EBF0F8",
            "linecolor": "#EBF0F8",
            "ticks": ""
           }
          },
          "scene": {
           "xaxis": {
            "backgroundcolor": "white",
            "gridcolor": "#DFE8F3",
            "gridwidth": 2,
            "linecolor": "#EBF0F8",
            "showbackground": true,
            "ticks": "",
            "zerolinecolor": "#EBF0F8"
           },
           "yaxis": {
            "backgroundcolor": "white",
            "gridcolor": "#DFE8F3",
            "gridwidth": 2,
            "linecolor": "#EBF0F8",
            "showbackground": true,
            "ticks": "",
            "zerolinecolor": "#EBF0F8"
           },
           "zaxis": {
            "backgroundcolor": "white",
            "gridcolor": "#DFE8F3",
            "gridwidth": 2,
            "linecolor": "#EBF0F8",
            "showbackground": true,
            "ticks": "",
            "zerolinecolor": "#EBF0F8"
           }
          },
          "shapedefaults": {
           "line": {
            "color": "#2a3f5f"
           }
          },
          "ternary": {
           "aaxis": {
            "gridcolor": "#DFE8F3",
            "linecolor": "#A2B1C6",
            "ticks": ""
           },
           "baxis": {
            "gridcolor": "#DFE8F3",
            "linecolor": "#A2B1C6",
            "ticks": ""
           },
           "bgcolor": "white",
           "caxis": {
            "gridcolor": "#DFE8F3",
            "linecolor": "#A2B1C6",
            "ticks": ""
           }
          },
          "title": {
           "x": 0.05
          },
          "xaxis": {
           "automargin": true,
           "gridcolor": "#EBF0F8",
           "linecolor": "#EBF0F8",
           "ticks": "",
           "title": {
            "standoff": 15
           },
           "zerolinecolor": "#EBF0F8",
           "zerolinewidth": 2
          },
          "yaxis": {
           "automargin": true,
           "gridcolor": "#EBF0F8",
           "linecolor": "#EBF0F8",
           "ticks": "",
           "title": {
            "standoff": 15
           },
           "zerolinecolor": "#EBF0F8",
           "zerolinewidth": 2
          }
         }
        },
        "title": {
         "text": "Distribución porcentual de la variable"
        },
        "width": 700
       }
      }
     },
     "metadata": {},
     "output_type": "display_data"
    },
    {
     "data": {
      "application/vnd.plotly.v1+json": {
       "config": {
        "plotlyServerURL": "https://plot.ly"
       },
       "data": [
        {
         "marker": {
          "color": [
           "#D4A5F0",
           "#C3A2FF",
           "#B5A8F2",
           "#A89DE6"
          ]
         },
         "text": [
          599,
          198,
          109,
          94
         ],
         "textposition": "outside",
         "type": "bar",
         "x": [
          2,
          3,
          4,
          1
         ],
         "y": [
          599,
          198,
          109,
          94
         ]
        }
       ],
       "layout": {
        "height": 600,
        "showlegend": false,
        "template": {
         "data": {
          "bar": [
           {
            "error_x": {
             "color": "#2a3f5f"
            },
            "error_y": {
             "color": "#2a3f5f"
            },
            "marker": {
             "line": {
              "color": "white",
              "width": 0.5
             },
             "pattern": {
              "fillmode": "overlay",
              "size": 10,
              "solidity": 0.2
             }
            },
            "type": "bar"
           }
          ],
          "barpolar": [
           {
            "marker": {
             "line": {
              "color": "white",
              "width": 0.5
             },
             "pattern": {
              "fillmode": "overlay",
              "size": 10,
              "solidity": 0.2
             }
            },
            "type": "barpolar"
           }
          ],
          "carpet": [
           {
            "aaxis": {
             "endlinecolor": "#2a3f5f",
             "gridcolor": "#C8D4E3",
             "linecolor": "#C8D4E3",
             "minorgridcolor": "#C8D4E3",
             "startlinecolor": "#2a3f5f"
            },
            "baxis": {
             "endlinecolor": "#2a3f5f",
             "gridcolor": "#C8D4E3",
             "linecolor": "#C8D4E3",
             "minorgridcolor": "#C8D4E3",
             "startlinecolor": "#2a3f5f"
            },
            "type": "carpet"
           }
          ],
          "choropleth": [
           {
            "colorbar": {
             "outlinewidth": 0,
             "ticks": ""
            },
            "type": "choropleth"
           }
          ],
          "contour": [
           {
            "colorbar": {
             "outlinewidth": 0,
             "ticks": ""
            },
            "colorscale": [
             [
              0,
              "#0d0887"
             ],
             [
              0.1111111111111111,
              "#46039f"
             ],
             [
              0.2222222222222222,
              "#7201a8"
             ],
             [
              0.3333333333333333,
              "#9c179e"
             ],
             [
              0.4444444444444444,
              "#bd3786"
             ],
             [
              0.5555555555555556,
              "#d8576b"
             ],
             [
              0.6666666666666666,
              "#ed7953"
             ],
             [
              0.7777777777777778,
              "#fb9f3a"
             ],
             [
              0.8888888888888888,
              "#fdca26"
             ],
             [
              1,
              "#f0f921"
             ]
            ],
            "type": "contour"
           }
          ],
          "contourcarpet": [
           {
            "colorbar": {
             "outlinewidth": 0,
             "ticks": ""
            },
            "type": "contourcarpet"
           }
          ],
          "heatmap": [
           {
            "colorbar": {
             "outlinewidth": 0,
             "ticks": ""
            },
            "colorscale": [
             [
              0,
              "#0d0887"
             ],
             [
              0.1111111111111111,
              "#46039f"
             ],
             [
              0.2222222222222222,
              "#7201a8"
             ],
             [
              0.3333333333333333,
              "#9c179e"
             ],
             [
              0.4444444444444444,
              "#bd3786"
             ],
             [
              0.5555555555555556,
              "#d8576b"
             ],
             [
              0.6666666666666666,
              "#ed7953"
             ],
             [
              0.7777777777777778,
              "#fb9f3a"
             ],
             [
              0.8888888888888888,
              "#fdca26"
             ],
             [
              1,
              "#f0f921"
             ]
            ],
            "type": "heatmap"
           }
          ],
          "heatmapgl": [
           {
            "colorbar": {
             "outlinewidth": 0,
             "ticks": ""
            },
            "colorscale": [
             [
              0,
              "#0d0887"
             ],
             [
              0.1111111111111111,
              "#46039f"
             ],
             [
              0.2222222222222222,
              "#7201a8"
             ],
             [
              0.3333333333333333,
              "#9c179e"
             ],
             [
              0.4444444444444444,
              "#bd3786"
             ],
             [
              0.5555555555555556,
              "#d8576b"
             ],
             [
              0.6666666666666666,
              "#ed7953"
             ],
             [
              0.7777777777777778,
              "#fb9f3a"
             ],
             [
              0.8888888888888888,
              "#fdca26"
             ],
             [
              1,
              "#f0f921"
             ]
            ],
            "type": "heatmapgl"
           }
          ],
          "histogram": [
           {
            "marker": {
             "pattern": {
              "fillmode": "overlay",
              "size": 10,
              "solidity": 0.2
             }
            },
            "type": "histogram"
           }
          ],
          "histogram2d": [
           {
            "colorbar": {
             "outlinewidth": 0,
             "ticks": ""
            },
            "colorscale": [
             [
              0,
              "#0d0887"
             ],
             [
              0.1111111111111111,
              "#46039f"
             ],
             [
              0.2222222222222222,
              "#7201a8"
             ],
             [
              0.3333333333333333,
              "#9c179e"
             ],
             [
              0.4444444444444444,
              "#bd3786"
             ],
             [
              0.5555555555555556,
              "#d8576b"
             ],
             [
              0.6666666666666666,
              "#ed7953"
             ],
             [
              0.7777777777777778,
              "#fb9f3a"
             ],
             [
              0.8888888888888888,
              "#fdca26"
             ],
             [
              1,
              "#f0f921"
             ]
            ],
            "type": "histogram2d"
           }
          ],
          "histogram2dcontour": [
           {
            "colorbar": {
             "outlinewidth": 0,
             "ticks": ""
            },
            "colorscale": [
             [
              0,
              "#0d0887"
             ],
             [
              0.1111111111111111,
              "#46039f"
             ],
             [
              0.2222222222222222,
              "#7201a8"
             ],
             [
              0.3333333333333333,
              "#9c179e"
             ],
             [
              0.4444444444444444,
              "#bd3786"
             ],
             [
              0.5555555555555556,
              "#d8576b"
             ],
             [
              0.6666666666666666,
              "#ed7953"
             ],
             [
              0.7777777777777778,
              "#fb9f3a"
             ],
             [
              0.8888888888888888,
              "#fdca26"
             ],
             [
              1,
              "#f0f921"
             ]
            ],
            "type": "histogram2dcontour"
           }
          ],
          "mesh3d": [
           {
            "colorbar": {
             "outlinewidth": 0,
             "ticks": ""
            },
            "type": "mesh3d"
           }
          ],
          "parcoords": [
           {
            "line": {
             "colorbar": {
              "outlinewidth": 0,
              "ticks": ""
             }
            },
            "type": "parcoords"
           }
          ],
          "pie": [
           {
            "automargin": true,
            "type": "pie"
           }
          ],
          "scatter": [
           {
            "fillpattern": {
             "fillmode": "overlay",
             "size": 10,
             "solidity": 0.2
            },
            "type": "scatter"
           }
          ],
          "scatter3d": [
           {
            "line": {
             "colorbar": {
              "outlinewidth": 0,
              "ticks": ""
             }
            },
            "marker": {
             "colorbar": {
              "outlinewidth": 0,
              "ticks": ""
             }
            },
            "type": "scatter3d"
           }
          ],
          "scattercarpet": [
           {
            "marker": {
             "colorbar": {
              "outlinewidth": 0,
              "ticks": ""
             }
            },
            "type": "scattercarpet"
           }
          ],
          "scattergeo": [
           {
            "marker": {
             "colorbar": {
              "outlinewidth": 0,
              "ticks": ""
             }
            },
            "type": "scattergeo"
           }
          ],
          "scattergl": [
           {
            "marker": {
             "colorbar": {
              "outlinewidth": 0,
              "ticks": ""
             }
            },
            "type": "scattergl"
           }
          ],
          "scattermapbox": [
           {
            "marker": {
             "colorbar": {
              "outlinewidth": 0,
              "ticks": ""
             }
            },
            "type": "scattermapbox"
           }
          ],
          "scatterpolar": [
           {
            "marker": {
             "colorbar": {
              "outlinewidth": 0,
              "ticks": ""
             }
            },
            "type": "scatterpolar"
           }
          ],
          "scatterpolargl": [
           {
            "marker": {
             "colorbar": {
              "outlinewidth": 0,
              "ticks": ""
             }
            },
            "type": "scatterpolargl"
           }
          ],
          "scatterternary": [
           {
            "marker": {
             "colorbar": {
              "outlinewidth": 0,
              "ticks": ""
             }
            },
            "type": "scatterternary"
           }
          ],
          "surface": [
           {
            "colorbar": {
             "outlinewidth": 0,
             "ticks": ""
            },
            "colorscale": [
             [
              0,
              "#0d0887"
             ],
             [
              0.1111111111111111,
              "#46039f"
             ],
             [
              0.2222222222222222,
              "#7201a8"
             ],
             [
              0.3333333333333333,
              "#9c179e"
             ],
             [
              0.4444444444444444,
              "#bd3786"
             ],
             [
              0.5555555555555556,
              "#d8576b"
             ],
             [
              0.6666666666666666,
              "#ed7953"
             ],
             [
              0.7777777777777778,
              "#fb9f3a"
             ],
             [
              0.8888888888888888,
              "#fdca26"
             ],
             [
              1,
              "#f0f921"
             ]
            ],
            "type": "surface"
           }
          ],
          "table": [
           {
            "cells": {
             "fill": {
              "color": "#EBF0F8"
             },
             "line": {
              "color": "white"
             }
            },
            "header": {
             "fill": {
              "color": "#C8D4E3"
             },
             "line": {
              "color": "white"
             }
            },
            "type": "table"
           }
          ]
         },
         "layout": {
          "annotationdefaults": {
           "arrowcolor": "#2a3f5f",
           "arrowhead": 0,
           "arrowwidth": 1
          },
          "autotypenumbers": "strict",
          "coloraxis": {
           "colorbar": {
            "outlinewidth": 0,
            "ticks": ""
           }
          },
          "colorscale": {
           "diverging": [
            [
             0,
             "#8e0152"
            ],
            [
             0.1,
             "#c51b7d"
            ],
            [
             0.2,
             "#de77ae"
            ],
            [
             0.3,
             "#f1b6da"
            ],
            [
             0.4,
             "#fde0ef"
            ],
            [
             0.5,
             "#f7f7f7"
            ],
            [
             0.6,
             "#e6f5d0"
            ],
            [
             0.7,
             "#b8e186"
            ],
            [
             0.8,
             "#7fbc41"
            ],
            [
             0.9,
             "#4d9221"
            ],
            [
             1,
             "#276419"
            ]
           ],
           "sequential": [
            [
             0,
             "#0d0887"
            ],
            [
             0.1111111111111111,
             "#46039f"
            ],
            [
             0.2222222222222222,
             "#7201a8"
            ],
            [
             0.3333333333333333,
             "#9c179e"
            ],
            [
             0.4444444444444444,
             "#bd3786"
            ],
            [
             0.5555555555555556,
             "#d8576b"
            ],
            [
             0.6666666666666666,
             "#ed7953"
            ],
            [
             0.7777777777777778,
             "#fb9f3a"
            ],
            [
             0.8888888888888888,
             "#fdca26"
            ],
            [
             1,
             "#f0f921"
            ]
           ],
           "sequentialminus": [
            [
             0,
             "#0d0887"
            ],
            [
             0.1111111111111111,
             "#46039f"
            ],
            [
             0.2222222222222222,
             "#7201a8"
            ],
            [
             0.3333333333333333,
             "#9c179e"
            ],
            [
             0.4444444444444444,
             "#bd3786"
            ],
            [
             0.5555555555555556,
             "#d8576b"
            ],
            [
             0.6666666666666666,
             "#ed7953"
            ],
            [
             0.7777777777777778,
             "#fb9f3a"
            ],
            [
             0.8888888888888888,
             "#fdca26"
            ],
            [
             1,
             "#f0f921"
            ]
           ]
          },
          "colorway": [
           "#636efa",
           "#EF553B",
           "#00cc96",
           "#ab63fa",
           "#FFA15A",
           "#19d3f3",
           "#FF6692",
           "#B6E880",
           "#FF97FF",
           "#FECB52"
          ],
          "font": {
           "color": "#2a3f5f"
          },
          "geo": {
           "bgcolor": "white",
           "lakecolor": "white",
           "landcolor": "white",
           "showlakes": true,
           "showland": true,
           "subunitcolor": "#C8D4E3"
          },
          "hoverlabel": {
           "align": "left"
          },
          "hovermode": "closest",
          "mapbox": {
           "style": "light"
          },
          "paper_bgcolor": "white",
          "plot_bgcolor": "white",
          "polar": {
           "angularaxis": {
            "gridcolor": "#EBF0F8",
            "linecolor": "#EBF0F8",
            "ticks": ""
           },
           "bgcolor": "white",
           "radialaxis": {
            "gridcolor": "#EBF0F8",
            "linecolor": "#EBF0F8",
            "ticks": ""
           }
          },
          "scene": {
           "xaxis": {
            "backgroundcolor": "white",
            "gridcolor": "#DFE8F3",
            "gridwidth": 2,
            "linecolor": "#EBF0F8",
            "showbackground": true,
            "ticks": "",
            "zerolinecolor": "#EBF0F8"
           },
           "yaxis": {
            "backgroundcolor": "white",
            "gridcolor": "#DFE8F3",
            "gridwidth": 2,
            "linecolor": "#EBF0F8",
            "showbackground": true,
            "ticks": "",
            "zerolinecolor": "#EBF0F8"
           },
           "zaxis": {
            "backgroundcolor": "white",
            "gridcolor": "#DFE8F3",
            "gridwidth": 2,
            "linecolor": "#EBF0F8",
            "showbackground": true,
            "ticks": "",
            "zerolinecolor": "#EBF0F8"
           }
          },
          "shapedefaults": {
           "line": {
            "color": "#2a3f5f"
           }
          },
          "ternary": {
           "aaxis": {
            "gridcolor": "#DFE8F3",
            "linecolor": "#A2B1C6",
            "ticks": ""
           },
           "baxis": {
            "gridcolor": "#DFE8F3",
            "linecolor": "#A2B1C6",
            "ticks": ""
           },
           "bgcolor": "white",
           "caxis": {
            "gridcolor": "#DFE8F3",
            "linecolor": "#A2B1C6",
            "ticks": ""
           }
          },
          "title": {
           "x": 0.05
          },
          "xaxis": {
           "automargin": true,
           "gridcolor": "#EBF0F8",
           "linecolor": "#EBF0F8",
           "ticks": "",
           "title": {
            "standoff": 15
           },
           "zerolinecolor": "#EBF0F8",
           "zerolinewidth": 2
          },
          "yaxis": {
           "automargin": true,
           "gridcolor": "#EBF0F8",
           "linecolor": "#EBF0F8",
           "ticks": "",
           "title": {
            "standoff": 15
           },
           "zerolinecolor": "#EBF0F8",
           "zerolinewidth": 2
          }
         }
        },
        "title": {
         "text": "Frecuencia absoluta de la variable"
        },
        "width": 700
       }
      }
     },
     "metadata": {},
     "output_type": "display_data"
    }
   ],
   "source": [
    "graficar_distribucion_categorica(df_csv, 'sexo')\n",
    "\n",
    "graficar_distribucion_categorica(df_csv, 'consumo_cafe')"
   ]
  },
  {
   "cell_type": "markdown",
   "metadata": {},
   "source": [
    "### **<span style=\"color:#1a73e8;\">Variables Cuantitativas</span>**\n",
    "\n",
    "**1. Histograma** 📈:\n",
    "\n",
    "Muestra la distribución de frecuencias agrupadas en intervalos (bins).\n",
    "\n",
    "✅ Para qué se usa: Ver forma de la distribución (asimetría, concentración, dispersión).\n",
    "\n",
    "Interpretación: Altura de cada barra indica cuántos valores caen en ese rango.\n",
    "\n",
    "📏 Número de bins (intervalos)\n",
    "Para elegirlos, se puede usar:\n",
    "\n",
    "📐 Regla de Freedman–Diaconis:\n",
    "\n",
    "$$\n",
    "\\text{Bin Width} = 2 \\cdot \\frac{IQR}{\\sqrt[3]{n}}\n",
    "$$\n",
    "\n",
    "$$\n",
    "\\text{Número de bins} = \\frac{\\text{máximo} - \\text{mínimo}}{\\text{Ancho del bin}}\n",
    "$$\n"
   ]
  },
  {
   "cell_type": "code",
   "execution_count": 16,
   "metadata": {},
   "outputs": [],
   "source": [
    "def graficar_histograma(df, columna, color=\"#A7C7E7\"):\n",
    "    \"\"\"\n",
    "    Grafica un histograma simple para una variable numérica.\n",
    "\n",
    "    Parámetros:\n",
    "    - df: DataFrame con los datos.\n",
    "    - columna: Nombre de la columna numérica a graficar.\n",
    "    - color: Color del histograma (por defecto azul claro).\n",
    "    \"\"\"\n",
    "    # Calcular número de bins usando regla de Freedman-Diaconis\n",
    "    datos = df[columna].dropna()\n",
    "    q75, q25 = np.percentile(datos, [75 ,25])\n",
    "    iqr = q75 - q25\n",
    "    bin_width = 2 * iqr / np.cbrt(len(datos))\n",
    "    num_bins = int((datos.max() - datos.min()) / bin_width) if bin_width > 0 else 20\n",
    "\n",
    "    print(f\"Variable: {columna}\")\n",
    "    print(f\"Rango intercuartílico (IQR): {iqr:.2f}\")\n",
    "    print(f\"Número de bins calculado: {num_bins}\")\n",
    "\n",
    "    # Obtener histograma como datos\n",
    "    frecuencias, bordes = np.histogram(datos, bins=num_bins)\n",
    "\n",
    "    # Imprimir intervalos y frecuencias\n",
    "    print(f\"\\n📊 Histograma de: {columna}\")\n",
    "    print(f\"IQR = {iqr:.2f} | Ancho de bin = {bin_width:.2f} | Bins = {num_bins}\\n\")\n",
    "    print(\"Intervalo\\t\\tFrecuencia\")\n",
    "    for i in range(len(frecuencias)):\n",
    "        print(f\"[{bordes[i]:.2f}, {bordes[i+1]:.2f})\\t\\t{frecuencias[i]}\")\n",
    "\n",
    "    # Graficar histograma\n",
    "    plt.figure(figsize=(10, 5))\n",
    "    sns.histplot(datos, bins=num_bins, color=color, kde=True)\n",
    "    plt.title(f\"Histograma de {columna}\")\n",
    "    plt.xlabel(columna)\n",
    "    plt.ylabel(\"Frecuencia\")\n",
    "    plt.grid(True)\n",
    "    plt.tight_layout()\n",
    "    plt.show()"
   ]
  },
  {
   "cell_type": "code",
   "execution_count": 17,
   "metadata": {},
   "outputs": [
    {
     "name": "stdout",
     "output_type": "stream",
     "text": [
      "Variable: edad\n",
      "Rango intercuartílico (IQR): 14.00\n",
      "Número de bins calculado: 15\n",
      "\n",
      "📊 Histograma de: edad\n",
      "IQR = 14.00 | Ancho de bin = 2.80 | Bins = 15\n",
      "\n",
      "Intervalo\t\tFrecuencia\n",
      "[18.00, 20.93)\t\t25\n",
      "[20.93, 23.87)\t\t29\n",
      "[23.87, 26.80)\t\t25\n",
      "[26.80, 29.73)\t\t57\n",
      "[29.73, 32.67)\t\t77\n",
      "[32.67, 35.60)\t\t83\n",
      "[35.60, 38.53)\t\t118\n",
      "[38.53, 41.47)\t\t108\n",
      "[41.47, 44.40)\t\t117\n",
      "[44.40, 47.33)\t\t103\n",
      "[47.33, 50.27)\t\t87\n",
      "[50.27, 53.20)\t\t70\n",
      "[53.20, 56.13)\t\t47\n",
      "[56.13, 59.07)\t\t27\n",
      "[59.07, 62.00)\t\t27\n"
     ]
    },
    {
     "data": {
      "image/png": "[encoded data removed]",
      "text/plain": [
       "<Figure size 1000x500 with 1 Axes>"
      ]
     },
     "metadata": {},
     "output_type": "display_data"
    }
   ],
   "source": [
    "graficar_histograma(df_csv, 'edad')"
   ]
  },
  {
   "cell_type": "markdown",
   "metadata": {},
   "source": [
    "**2 Gráfico de densidad**:\n",
    "\n",
    "Muestra una estimación suavizada de la distribución de los datos.\n",
    "\n",
    "✅ Para qué se usa: Ver la forma general de los datos (asimetría, picos, dispersión) sin depender de cortes en intervalos como en el histograma.\n",
    "\n",
    "Interpretación: \n",
    "\n",
    "El área total bajo la curva es igual a 1.\n",
    "Los picos muestran concentraciones de datos.\n"
   ]
  },
  {
   "cell_type": "code",
   "execution_count": 18,
   "metadata": {},
   "outputs": [],
   "source": [
    "def graficar_densidad(df, columna, color=\"#A7C7E7\"):\n",
    "    \"\"\"\n",
    "    Grafica la distribución de densidad (KDE) para una variable numérica.\n",
    "\n",
    "    Parámetros:\n",
    "    - df: DataFrame con los datos.\n",
    "    - columna: Nombre de la columna numérica a graficar.\n",
    "    - color: Color de la curva de densidad.\n",
    "    \"\"\"\n",
    "    datos = df[columna].dropna()\n",
    "\n",
    "    print(f\"\\n📈 Curva de densidad para: {columna}\")\n",
    "    print(\"Esta gráfica muestra cómo se distribuyen los valores de la variable.\")\n",
    "\n",
    "    # Graficar KDE\n",
    "    plt.figure(figsize=(10, 5))\n",
    "    sns.kdeplot(datos, color=color, fill=True, linewidth=2, alpha=0.5)\n",
    "\n",
    "    # Etiquetas\n",
    "    plt.title(f\"Densidad de {columna}\")\n",
    "    plt.xlabel(columna)\n",
    "    plt.ylabel(\"Densidad estimada\")\n",
    "    plt.grid(True)\n",
    "    plt.tight_layout()\n",
    "    plt.show()"
   ]
  },
  {
   "cell_type": "code",
   "execution_count": 19,
   "metadata": {},
   "outputs": [
    {
     "name": "stdout",
     "output_type": "stream",
     "text": [
      "\n",
      "📈 Curva de densidad para: edad\n",
      "Esta gráfica muestra cómo se distribuyen los valores de la variable.\n"
     ]
    },
    {
     "data": {
      "image/png": "[encoded data removed]",
      "text/plain": [
       "<Figure size 1000x500 with 1 Axes>"
      ]
     },
     "metadata": {},
     "output_type": "display_data"
    }
   ],
   "source": [
    "graficar_densidad(df_csv, 'edad')"
   ]
  },
  {
   "cell_type": "markdown",
   "metadata": {},
   "source": [
    "**3. Boxplot (Diagrama de caja)**:\n",
    "\n",
    "Muestra la mediana, cuartiles y posibles outliers..\n",
    "\n",
    "✅ Para qué se usa: Visualizar la dispersión y simetría de los datos.\n",
    "\n",
    "*Interpretación*: \n",
    "\n",
    "- Caja: del Q1 al Q3.\n",
    "\n",
    "Representa el 50% de los datos desde Q1 hasta Q3, y tiene una línea que señala la mediana. \n",
    "La caja muestra la dispersión de la distribución en función de la separación existente entre Q1 y Q3, así como también si la distribución es simétrica en torno a la mediana o si esta sesgada hacia alguno de los lados. \n",
    "\n",
    "- Bigotes:\n",
    "\n",
    "Se extienden desde ambos lados de los extremos de la caja y representan los rangos del 25% de valores de la parte inferior (Q1 – 1,5 IQR) y el 25% de valores de la parte superior (Q3 + 1,5 IQR), excluyendo los valores atípicos.\n",
    "\n",
    "\n",
    "- Valores atípicos (Ouliers):\n",
    "\n",
    "Esta representación identifica como valores atípicos aquellas observaciones que presentan valores inferiores o superiores a los límites del gráfico (límite inferior: Q1 – 1,5 IQR y límite superior: Q3 + 1,5 IQR).\n",
    "\n",
    "\n",
    "\n"
   ]
  },
  {
   "cell_type": "code",
   "execution_count": 20,
   "metadata": {},
   "outputs": [],
   "source": [
    "def graficar_boxplot(df, columna, color=\"#A7C7E7\"):\n",
    "    \"\"\"\n",
    "    Grafica un boxplot (diagrama de caja) usando Plotly para una variable numérica.\n",
    "\n",
    "    Parámetros:\n",
    "    - df: DataFrame con los datos\n",
    "    - columna: Nombre de la columna numérica\n",
    "    - color: Color de la caja\n",
    "    \"\"\"\n",
    "    print(f\"\\n📦 Boxplot de: {columna}\")\n",
    "    print(\"Este gráfico muestra la mediana, los cuartiles y posibles valores atípicos.\")\n",
    "\n",
    "    fig = go.Figure()\n",
    "    fig.add_trace(go.Box(\n",
    "        y=df[columna],\n",
    "        name=columna,\n",
    "        boxpoints='outliers',  # Muestra puntos atípicos\n",
    "        marker_color=color,\n",
    "        line=dict(color=\"black\"),\n",
    "        fillcolor=color,\n",
    "        opacity=0.7\n",
    "    ))\n",
    "\n",
    "    fig.update_layout(\n",
    "        title=f\"Boxplot de {columna}\",\n",
    "        yaxis_title=columna,\n",
    "        template=\"plotly_white\",\n",
    "        width=700,\n",
    "        height=500\n",
    "    )\n",
    "\n",
    "    fig.show()"
   ]
  },
  {
   "cell_type": "code",
   "execution_count": 21,
   "metadata": {},
   "outputs": [
    {
     "name": "stdout",
     "output_type": "stream",
     "text": [
      "\n",
      "📦 Boxplot de: edad\n",
      "Este gráfico muestra la mediana, los cuartiles y posibles valores atípicos.\n"
     ]
    },
    {
     "data": {
      "application/vnd.plotly.v1+json": {
       "config": {
        "plotlyServerURL": "https://plot.ly"
       },
       "data": [
        {
         "boxpoints": "outliers",
         "fillcolor": "#A7C7E7",
         "line": {
          "color": "black"
         },
         "marker": {
          "color": "#A7C7E7"
         },
         "name": "edad",
         "opacity": 0.7,
         "type": "box",
         "y": [
          36,
          28,
          54,
          42,
          29,
          36,
          47,
          34,
          31,
          35,
          36,
          36,
          53,
          62,
          29,
          44,
          35,
          27,
          51,
          50,
          34,
          34,
          34,
          26,
          46,
          37,
          42,
          62,
          35,
          23,
          40,
          55,
          53,
          38,
          37,
          58,
          46,
          46,
          36,
          28,
          35,
          34,
          32,
          43,
          54,
          31,
          42,
          41,
          52,
          39,
          25,
          41,
          43,
          43,
          45,
          36,
          22,
          28,
          32,
          24,
          26,
          32,
          43,
          61,
          47,
          36,
          25,
          39,
          20,
          32,
          56,
          40,
          47,
          43,
          45,
          38,
          45,
          54,
          42,
          20,
          26,
          51,
          32,
          47,
          45,
          52,
          33,
          62,
          48,
          32,
          40,
          27,
          39,
          38,
          28,
          31,
          53,
          52,
          59,
          32,
          54,
          37,
          45,
          49,
          20,
          47,
          35,
          30,
          31,
          39,
          34,
          41,
          43,
          51,
          44,
          37,
          38,
          32,
          29,
          45,
          49,
          41,
          20,
          39,
          32,
          51,
          45,
          59,
          22,
          37,
          53,
          32,
          20,
          50,
          30,
          52,
          34,
          29,
          44,
          41,
          39,
          35,
          40,
          42,
          62,
          39,
          36,
          49,
          39,
          37,
          38,
          46,
          33,
          50,
          36,
          33,
          44,
          34,
          28,
          26,
          27,
          40,
          31,
          62,
          39,
          39,
          51,
          28,
          33,
          35,
          49,
          39,
          48,
          34,
          45,
          43,
          31,
          34,
          44,
          29,
          35,
          32,
          51,
          51,
          47,
          32,
          29,
          50,
          36,
          53,
          46,
          53,
          49,
          27,
          42,
          23,
          32,
          42,
          44,
          49,
          36,
          36,
          57,
          58,
          62,
          31,
          56,
          26,
          46,
          23,
          38,
          36,
          44,
          18,
          48,
          53,
          34,
          23,
          41,
          53,
          44,
          62,
          54,
          35,
          53,
          39,
          42,
          29,
          50,
          40,
          47,
          39,
          44,
          39,
          41,
          49,
          44,
          49,
          32,
          27,
          35,
          54,
          48,
          42,
          53,
          45,
          27,
          28,
          28,
          32,
          53,
          40,
          37,
          51,
          51,
          50,
          30,
          42,
          36,
          53,
          47,
          55,
          30,
          38,
          33,
          23,
          23,
          43,
          31,
          47,
          38,
          48,
          33,
          50,
          43,
          33,
          36,
          27,
          44,
          28,
          43,
          46,
          41,
          33,
          46,
          49,
          45,
          44,
          45,
          32,
          60,
          21,
          47,
          54,
          57,
          35,
          24,
          43,
          50,
          40,
          33,
          45,
          42,
          31,
          38,
          23,
          43,
          40,
          33,
          28,
          20,
          59,
          38,
          36,
          41,
          59,
          43,
          43,
          43,
          36,
          27,
          46,
          48,
          48,
          44,
          37,
          27,
          49,
          43,
          38,
          46,
          52,
          29,
          37,
          44,
          58,
          41,
          44,
          18,
          51,
          24,
          40,
          43,
          28,
          52,
          61,
          36,
          31,
          21,
          42,
          36,
          50,
          31,
          40,
          38,
          31,
          47,
          23,
          35,
          38,
          38,
          54,
          46,
          41,
          32,
          25,
          55,
          53,
          42,
          51,
          43,
          39,
          51,
          46,
          27,
          49,
          30,
          43,
          57,
          55,
          38,
          44,
          36,
          45,
          49,
          49,
          45,
          57,
          62,
          49,
          50,
          44,
          55,
          35,
          57,
          49,
          39,
          46,
          44,
          41,
          54,
          46,
          36,
          32,
          38,
          29,
          43,
          48,
          58,
          46,
          50,
          42,
          23,
          44,
          43,
          37,
          43,
          26,
          49,
          51,
          45,
          49,
          42,
          41,
          34,
          41,
          32,
          47,
          54,
          30,
          58,
          36,
          50,
          60,
          53,
          33,
          46,
          31,
          34,
          54,
          29,
          62,
          29,
          36,
          46,
          44,
          29,
          38,
          29,
          37,
          18,
          25,
          54,
          53,
          52,
          33,
          62,
          44,
          37,
          44,
          49,
          27,
          53,
          51,
          31,
          35,
          33,
          29,
          43,
          34,
          43,
          60,
          41,
          47,
          30,
          48,
          43,
          37,
          57,
          57,
          55,
          53,
          32,
          41,
          52,
          45,
          28,
          49,
          25,
          29,
          47,
          36,
          43,
          31,
          47,
          36,
          55,
          28,
          58,
          47,
          46,
          35,
          52,
          62,
          18,
          52,
          21,
          41,
          18,
          39,
          39,
          44,
          41,
          61,
          46,
          39,
          46,
          44,
          44,
          39,
          27,
          50,
          41,
          20,
          60,
          30,
          43,
          42,
          22,
          45,
          31,
          55,
          50,
          18,
          40,
          45,
          19,
          44,
          37,
          34,
          56,
          49,
          56,
          55,
          55,
          56,
          36,
          55,
          50,
          43,
          46,
          46,
          48,
          48,
          50,
          62,
          34,
          45,
          43,
          51,
          37,
          22,
          34,
          28,
          43,
          38,
          18,
          62,
          45,
          20,
          47,
          39,
          36,
          34,
          44,
          49,
          41,
          40,
          58,
          46,
          48,
          56,
          58,
          43,
          29,
          37,
          39,
          25,
          53,
          35,
          36,
          23,
          36,
          37,
          50,
          45,
          50,
          39,
          26,
          49,
          43,
          53,
          37,
          50,
          39,
          56,
          21,
          43,
          46,
          43,
          46,
          30,
          41,
          47,
          25,
          47,
          34,
          23,
          36,
          49,
          28,
          36,
          36,
          30,
          45,
          39,
          33,
          45,
          26,
          25,
          30,
          42,
          54,
          47,
          39,
          36,
          40,
          34,
          49,
          18,
          46,
          27,
          48,
          52,
          46,
          49,
          50,
          48,
          33,
          32,
          30,
          29,
          36,
          37,
          29,
          49,
          41,
          29,
          50,
          21,
          48,
          46,
          30,
          30,
          38,
          35,
          55,
          35,
          37,
          38,
          41,
          49,
          58,
          30,
          58,
          44,
          48,
          34,
          18,
          36,
          37,
          54,
          38,
          45,
          33,
          30,
          39,
          30,
          39,
          38,
          44,
          37,
          38,
          36,
          53,
          56,
          34,
          46,
          41,
          33,
          53,
          48,
          42,
          46,
          37,
          34,
          52,
          39,
          54,
          62,
          41,
          32,
          54,
          39,
          42,
          30,
          45,
          53,
          35,
          37,
          39,
          50,
          31,
          40,
          25,
          37,
          59,
          48,
          48,
          31,
          52,
          34,
          58,
          52,
          35,
          41,
          45,
          31,
          42,
          49,
          38,
          18,
          53,
          45,
          50,
          46,
          49,
          54,
          21,
          42,
          44,
          18,
          40,
          42,
          43,
          27,
          51,
          41,
          38,
          45,
          40,
          42,
          38,
          44,
          53,
          46,
          62,
          49,
          34,
          49,
          43,
          41,
          47,
          57,
          47,
          46,
          35,
          42,
          33,
          21,
          37,
          52,
          50,
          34,
          37,
          37,
          38,
          51,
          62,
          40,
          40,
          18,
          52,
          58,
          52,
          45,
          53,
          37,
          40,
          54,
          43,
          28,
          46,
          32,
          46,
          47,
          41,
          40,
          25,
          62,
          45,
          41,
          42,
          48,
          38,
          56,
          23,
          44,
          37,
          30,
          46,
          50,
          36,
          35,
          35,
          45,
          32,
          38,
          44,
          39,
          40,
          43,
          50,
          42,
          33,
          53,
          33,
          28,
          28,
          50,
          37,
          52,
          35,
          42,
          40,
          46,
          49,
          42,
          51,
          34,
          37,
          34,
          43,
          50,
          38,
          41,
          43,
          34,
          39,
          31,
          39,
          36,
          37,
          40,
          40,
          49,
          53,
          33,
          62,
          32,
          38,
          39,
          56,
          33,
          24,
          18,
          39,
          35,
          38,
          32,
          35,
          40,
          46,
          31,
          30,
          53,
          39,
          43,
          39,
          22,
          40,
          47,
          30,
          44,
          31,
          54,
          37,
          42,
          36,
          56,
          60,
          47,
          50,
          29,
          52,
          36,
          45,
          23,
          42,
          21,
          45,
          40,
          31,
          29,
          29,
          41,
          18,
          42,
          48,
          33,
          45,
          40,
          50,
          24,
          55,
          51,
          41,
          37,
          36,
          43,
          34,
          34,
          35,
          37,
          37,
          46,
          43,
          55,
          36,
          46,
          31,
          34,
          46,
          44,
          55,
          30,
          23,
          30,
          32,
          49,
          27,
          39,
          18,
          38,
          31,
          49,
          36,
          39,
          43,
          42,
          38,
          51,
          53,
          44,
          46,
          45,
          40,
          62,
          39,
          28,
          52,
          57,
          41,
          25,
          40,
          46,
          26,
          40,
          56,
          20,
          36,
          42,
          36,
          53,
          37,
          49,
          42,
          39,
          43,
          55,
          33,
          29,
          30,
          36,
          42,
          59,
          21,
          23,
          32,
          43
         ]
        }
       ],
       "layout": {
        "height": 500,
        "template": {
         "data": {
          "bar": [
           {
            "error_x": {
             "color": "#2a3f5f"
            },
            "error_y": {
             "color": "#2a3f5f"
            },
            "marker": {
             "line": {
              "color": "white",
              "width": 0.5
             },
             "pattern": {
              "fillmode": "overlay",
              "size": 10,
              "solidity": 0.2
             }
            },
            "type": "bar"
           }
          ],
          "barpolar": [
           {
            "marker": {
             "line": {
              "color": "white",
              "width": 0.5
             },
             "pattern": {
              "fillmode": "overlay",
              "size": 10,
              "solidity": 0.2
             }
            },
            "type": "barpolar"
           }
          ],
          "carpet": [
           {
            "aaxis": {
             "endlinecolor": "#2a3f5f",
             "gridcolor": "#C8D4E3",
             "linecolor": "#C8D4E3",
             "minorgridcolor": "#C8D4E3",
             "startlinecolor": "#2a3f5f"
            },
            "baxis": {
             "endlinecolor": "#2a3f5f",
             "gridcolor": "#C8D4E3",
             "linecolor": "#C8D4E3",
             "minorgridcolor": "#C8D4E3",
             "startlinecolor": "#2a3f5f"
            },
            "type": "carpet"
           }
          ],
          "choropleth": [
           {
            "colorbar": {
             "outlinewidth": 0,
             "ticks": ""
            },
            "type": "choropleth"
           }
          ],
          "contour": [
           {
            "colorbar": {
             "outlinewidth": 0,
             "ticks": ""
            },
            "colorscale": [
             [
              0,
              "#0d0887"
             ],
             [
              0.1111111111111111,
              "#46039f"
             ],
             [
              0.2222222222222222,
              "#7201a8"
             ],
             [
              0.3333333333333333,
              "#9c179e"
             ],
             [
              0.4444444444444444,
              "#bd3786"
             ],
             [
              0.5555555555555556,
              "#d8576b"
             ],
             [
              0.6666666666666666,
              "#ed7953"
             ],
             [
              0.7777777777777778,
              "#fb9f3a"
             ],
             [
              0.8888888888888888,
              "#fdca26"
             ],
             [
              1,
              "#f0f921"
             ]
            ],
            "type": "contour"
           }
          ],
          "contourcarpet": [
           {
            "colorbar": {
             "outlinewidth": 0,
             "ticks": ""
            },
            "type": "contourcarpet"
           }
          ],
          "heatmap": [
           {
            "colorbar": {
             "outlinewidth": 0,
             "ticks": ""
            },
            "colorscale": [
             [
              0,
              "#0d0887"
             ],
             [
              0.1111111111111111,
              "#46039f"
             ],
             [
              0.2222222222222222,
              "#7201a8"
             ],
             [
              0.3333333333333333,
              "#9c179e"
             ],
             [
              0.4444444444444444,
              "#bd3786"
             ],
             [
              0.5555555555555556,
              "#d8576b"
             ],
             [
              0.6666666666666666,
              "#ed7953"
             ],
             [
              0.7777777777777778,
              "#fb9f3a"
             ],
             [
              0.8888888888888888,
              "#fdca26"
             ],
             [
              1,
              "#f0f921"
             ]
            ],
            "type": "heatmap"
           }
          ],
          "heatmapgl": [
           {
            "colorbar": {
             "outlinewidth": 0,
             "ticks": ""
            },
            "colorscale": [
             [
              0,
              "#0d0887"
             ],
             [
              0.1111111111111111,
              "#46039f"
             ],
             [
              0.2222222222222222,
              "#7201a8"
             ],
             [
              0.3333333333333333,
              "#9c179e"
             ],
             [
              0.4444444444444444,
              "#bd3786"
             ],
             [
              0.5555555555555556,
              "#d8576b"
             ],
             [
              0.6666666666666666,
              "#ed7953"
             ],
             [
              0.7777777777777778,
              "#fb9f3a"
             ],
             [
              0.8888888888888888,
              "#fdca26"
             ],
             [
              1,
              "#f0f921"
             ]
            ],
            "type": "heatmapgl"
           }
          ],
          "histogram": [
           {
            "marker": {
             "pattern": {
              "fillmode": "overlay",
              "size": 10,
              "solidity": 0.2
             }
            },
            "type": "histogram"
           }
          ],
          "histogram2d": [
           {
            "colorbar": {
             "outlinewidth": 0,
             "ticks": ""
            },
            "colorscale": [
             [
              0,
              "#0d0887"
             ],
             [
              0.1111111111111111,
              "#46039f"
             ],
             [
              0.2222222222222222,
              "#7201a8"
             ],
             [
              0.3333333333333333,
              "#9c179e"
             ],
             [
              0.4444444444444444,
              "#bd3786"
             ],
             [
              0.5555555555555556,
              "#d8576b"
             ],
             [
              0.6666666666666666,
              "#ed7953"
             ],
             [
              0.7777777777777778,
              "#fb9f3a"
             ],
             [
              0.8888888888888888,
              "#fdca26"
             ],
             [
              1,
              "#f0f921"
             ]
            ],
            "type": "histogram2d"
           }
          ],
          "histogram2dcontour": [
           {
            "colorbar": {
             "outlinewidth": 0,
             "ticks": ""
            },
            "colorscale": [
             [
              0,
              "#0d0887"
             ],
             [
              0.1111111111111111,
              "#46039f"
             ],
             [
              0.2222222222222222,
              "#7201a8"
             ],
             [
              0.3333333333333333,
              "#9c179e"
             ],
             [
              0.4444444444444444,
              "#bd3786"
             ],
             [
              0.5555555555555556,
              "#d8576b"
             ],
             [
              0.6666666666666666,
              "#ed7953"
             ],
             [
              0.7777777777777778,
              "#fb9f3a"
             ],
             [
              0.8888888888888888,
              "#fdca26"
             ],
             [
              1,
              "#f0f921"
             ]
            ],
            "type": "histogram2dcontour"
           }
          ],
          "mesh3d": [
           {
            "colorbar": {
             "outlinewidth": 0,
             "ticks": ""
            },
            "type": "mesh3d"
           }
          ],
          "parcoords": [
           {
            "line": {
             "colorbar": {
              "outlinewidth": 0,
              "ticks": ""
             }
            },
            "type": "parcoords"
           }
          ],
          "pie": [
           {
            "automargin": true,
            "type": "pie"
           }
          ],
          "scatter": [
           {
            "fillpattern": {
             "fillmode": "overlay",
             "size": 10,
             "solidity": 0.2
            },
            "type": "scatter"
           }
          ],
          "scatter3d": [
           {
            "line": {
             "colorbar": {
              "outlinewidth": 0,
              "ticks": ""
             }
            },
            "marker": {
             "colorbar": {
              "outlinewidth": 0,
              "ticks": ""
             }
            },
            "type": "scatter3d"
           }
          ],
          "scattercarpet": [
           {
            "marker": {
             "colorbar": {
              "outlinewidth": 0,
              "ticks": ""
             }
            },
            "type": "scattercarpet"
           }
          ],
          "scattergeo": [
           {
            "marker": {
             "colorbar": {
              "outlinewidth": 0,
              "ticks": ""
             }
            },
            "type": "scattergeo"
           }
          ],
          "scattergl": [
           {
            "marker": {
             "colorbar": {
              "outlinewidth": 0,
              "ticks": ""
             }
            },
            "type": "scattergl"
           }
          ],
          "scattermapbox": [
           {
            "marker": {
             "colorbar": {
              "outlinewidth": 0,
              "ticks": ""
             }
            },
            "type": "scattermapbox"
           }
          ],
          "scatterpolar": [
           {
            "marker": {
             "colorbar": {
              "outlinewidth": 0,
              "ticks": ""
             }
            },
            "type": "scatterpolar"
           }
          ],
          "scatterpolargl": [
           {
            "marker": {
             "colorbar": {
              "outlinewidth": 0,
              "ticks": ""
             }
            },
            "type": "scatterpolargl"
           }
          ],
          "scatterternary": [
           {
            "marker": {
             "colorbar": {
              "outlinewidth": 0,
              "ticks": ""
             }
            },
            "type": "scatterternary"
           }
          ],
          "surface": [
           {
            "colorbar": {
             "outlinewidth": 0,
             "ticks": ""
            },
            "colorscale": [
             [
              0,
              "#0d0887"
             ],
             [
              0.1111111111111111,
              "#46039f"
             ],
             [
              0.2222222222222222,
              "#7201a8"
             ],
             [
              0.3333333333333333,
              "#9c179e"
             ],
             [
              0.4444444444444444,
              "#bd3786"
             ],
             [
              0.5555555555555556,
              "#d8576b"
             ],
             [
              0.6666666666666666,
              "#ed7953"
             ],
             [
              0.7777777777777778,
              "#fb9f3a"
             ],
             [
              0.8888888888888888,
              "#fdca26"
             ],
             [
              1,
              "#f0f921"
             ]
            ],
            "type": "surface"
           }
          ],
          "table": [
           {
            "cells": {
             "fill": {
              "color": "#EBF0F8"
             },
             "line": {
              "color": "white"
             }
            },
            "header": {
             "fill": {
              "color": "#C8D4E3"
             },
             "line": {
              "color": "white"
             }
            },
            "type": "table"
           }
          ]
         },
         "layout": {
          "annotationdefaults": {
           "arrowcolor": "#2a3f5f",
           "arrowhead": 0,
           "arrowwidth": 1
          },
          "autotypenumbers": "strict",
          "coloraxis": {
           "colorbar": {
            "outlinewidth": 0,
            "ticks": ""
           }
          },
          "colorscale": {
           "diverging": [
            [
             0,
             "#8e0152"
            ],
            [
             0.1,
             "#c51b7d"
            ],
            [
             0.2,
             "#de77ae"
            ],
            [
             0.3,
             "#f1b6da"
            ],
            [
             0.4,
             "#fde0ef"
            ],
            [
             0.5,
             "#f7f7f7"
            ],
            [
             0.6,
             "#e6f5d0"
            ],
            [
             0.7,
             "#b8e186"
            ],
            [
             0.8,
             "#7fbc41"
            ],
            [
             0.9,
             "#4d9221"
            ],
            [
             1,
             "#276419"
            ]
           ],
           "sequential": [
            [
             0,
             "#0d0887"
            ],
            [
             0.1111111111111111,
             "#46039f"
            ],
            [
             0.2222222222222222,
             "#7201a8"
            ],
            [
             0.3333333333333333,
             "#9c179e"
            ],
            [
             0.4444444444444444,
             "#bd3786"
            ],
            [
             0.5555555555555556,
             "#d8576b"
            ],
            [
             0.6666666666666666,
             "#ed7953"
            ],
            [
             0.7777777777777778,
             "#fb9f3a"
            ],
            [
             0.8888888888888888,
             "#fdca26"
            ],
            [
             1,
             "#f0f921"
            ]
           ],
           "sequentialminus": [
            [
             0,
             "#0d0887"
            ],
            [
             0.1111111111111111,
             "#46039f"
            ],
            [
             0.2222222222222222,
             "#7201a8"
            ],
            [
             0.3333333333333333,
             "#9c179e"
            ],
            [
             0.4444444444444444,
             "#bd3786"
            ],
            [
             0.5555555555555556,
             "#d8576b"
            ],
            [
             0.6666666666666666,
             "#ed7953"
            ],
            [
             0.7777777777777778,
             "#fb9f3a"
            ],
            [
             0.8888888888888888,
             "#fdca26"
            ],
            [
             1,
             "#f0f921"
            ]
           ]
          },
          "colorway": [
           "#636efa",
           "#EF553B",
           "#00cc96",
           "#ab63fa",
           "#FFA15A",
           "#19d3f3",
           "#FF6692",
           "#B6E880",
           "#FF97FF",
           "#FECB52"
          ],
          "font": {
           "color": "#2a3f5f"
          },
          "geo": {
           "bgcolor": "white",
           "lakecolor": "white",
           "landcolor": "white",
           "showlakes": true,
           "showland": true,
           "subunitcolor": "#C8D4E3"
          },
          "hoverlabel": {
           "align": "left"
          },
          "hovermode": "closest",
          "mapbox": {
           "style": "light"
          },
          "paper_bgcolor": "white",
          "plot_bgcolor": "white",
          "polar": {
           "angularaxis": {
            "gridcolor": "#EBF0F8",
            "linecolor": "#EBF0F8",
            "ticks": ""
           },
           "bgcolor": "white",
           "radialaxis": {
            "gridcolor": "#EBF0F8",
            "linecolor": "#EBF0F8",
            "ticks": ""
           }
          },
          "scene": {
           "xaxis": {
            "backgroundcolor": "white",
            "gridcolor": "#DFE8F3",
            "gridwidth": 2,
            "linecolor": "#EBF0F8",
            "showbackground": true,
            "ticks": "",
            "zerolinecolor": "#EBF0F8"
           },
           "yaxis": {
            "backgroundcolor": "white",
            "gridcolor": "#DFE8F3",
            "gridwidth": 2,
            "linecolor": "#EBF0F8",
            "showbackground": true,
            "ticks": "",
            "zerolinecolor": "#EBF0F8"
           },
           "zaxis": {
            "backgroundcolor": "white",
            "gridcolor": "#DFE8F3",
            "gridwidth": 2,
            "linecolor": "#EBF0F8",
            "showbackground": true,
            "ticks": "",
            "zerolinecolor": "#EBF0F8"
           }
          },
          "shapedefaults": {
           "line": {
            "color": "#2a3f5f"
           }
          },
          "ternary": {
           "aaxis": {
            "gridcolor": "#DFE8F3",
            "linecolor": "#A2B1C6",
            "ticks": ""
           },
           "baxis": {
            "gridcolor": "#DFE8F3",
            "linecolor": "#A2B1C6",
            "ticks": ""
           },
           "bgcolor": "white",
           "caxis": {
            "gridcolor": "#DFE8F3",
            "linecolor": "#A2B1C6",
            "ticks": ""
           }
          },
          "title": {
           "x": 0.05
          },
          "xaxis": {
           "automargin": true,
           "gridcolor": "#EBF0F8",
           "linecolor": "#EBF0F8",
           "ticks": "",
           "title": {
            "standoff": 15
           },
           "zerolinecolor": "#EBF0F8",
           "zerolinewidth": 2
          },
          "yaxis": {
           "automargin": true,
           "gridcolor": "#EBF0F8",
           "linecolor": "#EBF0F8",
           "ticks": "",
           "title": {
            "standoff": 15
           },
           "zerolinecolor": "#EBF0F8",
           "zerolinewidth": 2
          }
         }
        },
        "title": {
         "text": "Boxplot de edad"
        },
        "width": 700,
        "yaxis": {
         "title": {
          "text": "edad"
         }
        }
       }
      }
     },
     "metadata": {},
     "output_type": "display_data"
    }
   ],
   "source": [
    "graficar_boxplot(df_csv, 'edad')"
   ]
  },
  {
   "cell_type": "markdown",
   "metadata": {},
   "source": [
    "**Graficar boxplot e histograma**\n",
    "\n",
    "Esta función genera dos gráficos muy útiles para analizar una variable numérica:\n",
    "\n",
    "1. Boxplot (Diagrama de Caja): resume la distribución de los datos mostrando:\n",
    "\n",
    "    - Mediana (línea central)\n",
    "\n",
    "    - Cuartiles (caja)\n",
    "\n",
    "    - Valores atípicos u \"outliers\" (puntos fuera de los extremos)\n",
    "\n",
    "2. Histograma: muestra la frecuencia de los valores agrupados en intervalos (también llamados bins). Es útil para visualizar la forma de la distribución (simétrica, sesgada, etc.).\n",
    "\n"
   ]
  },
  {
   "cell_type": "code",
   "execution_count": 22,
   "metadata": {},
   "outputs": [],
   "source": [
    "def graficar_boxplot_e_histograma(df, columna, color=\"#A7C7E7\"):\n",
    "    \"\"\"\n",
    "    Grafica un boxplot y un histograma para una variable numérica.\n",
    "    También muestra la frecuencia de cada intervalo del histograma.\n",
    "\n",
    "    Parámetros:\n",
    "    - df: DataFrame con los datos\n",
    "    - columna: Nombre de la columna numérica a graficar\n",
    "    - color: Color de los gráficos\n",
    "    \"\"\"\n",
    "\n",
    "    print(f\"\\n📊 Análisis de la variable: {columna}\")\n",
    "\n",
    "    # Calcular número de bins usando la regla de Freedman-Diaconis\n",
    "    datos = df[columna].dropna()\n",
    "    q1 = np.percentile(datos, 25)\n",
    "    q3 = np.percentile(datos, 75)\n",
    "    iqr = q3 - q1\n",
    "    bin_width = 2 * iqr / (len(datos) ** (1/3))\n",
    "    num_bins = int(np.ceil((datos.max() - datos.min()) / bin_width)) if bin_width > 0 else 10\n",
    "\n",
    "    print(f\"👉 Número de intervalos (bins): {num_bins}\")\n",
    "\n",
    "    # Calcular frecuencias e intervalos\n",
    "    frecuencias, bordes = np.histogram(datos, bins=num_bins)\n",
    "\n",
    "    print(\"\\n📌 Frecuencia en cada intervalo:\")\n",
    "    for i in range(len(frecuencias)):\n",
    "        izquierda = round(bordes[i], 2)\n",
    "        derecha = round(bordes[i+1], 2)\n",
    "        print(f\"Intervalo {i+1}: [{izquierda}, {derecha}) → {frecuencias[i]} datos\")\n",
    "\n",
    "    # Crear los gráficos\n",
    "    fig, ejes = plt.subplots(nrows=2, sharex=True, figsize=(12, 6),\n",
    "                             gridspec_kw={\"height_ratios\": [0.3, 1]})\n",
    "\n",
    "    # Boxplot\n",
    "    sns.boxplot(x=datos, ax=ejes[0], color=color, width=0.5,\n",
    "                flierprops={'marker': 'o', 'color': 'black'})\n",
    "    ejes[0].set_title(\"Boxplot (diagrama de caja)\")\n",
    "    ejes[0].set(yticks=[])\n",
    "\n",
    "    # Histograma\n",
    "    sns.histplot(datos, bins=num_bins, color=color, alpha=0.7, ax=ejes[1], kde=False)\n",
    "    ejes[1].set_title(\"Histograma (frecuencia de los valores)\")\n",
    "    ejes[1].set_xlabel(columna)\n",
    "    ejes[1].set_ylabel(\"Frecuencia\")\n",
    "\n",
    "    sns.despine(left=True)\n",
    "    plt.tight_layout()\n",
    "    plt.show()"
   ]
  },
  {
   "cell_type": "code",
   "execution_count": 23,
   "metadata": {},
   "outputs": [
    {
     "name": "stdout",
     "output_type": "stream",
     "text": [
      "\n",
      "📊 Análisis de la variable: edad\n",
      "👉 Número de intervalos (bins): 16\n",
      "\n",
      "📌 Frecuencia en cada intervalo:\n",
      "Intervalo 1: [18.0, 20.75) → 25 datos\n",
      "Intervalo 2: [20.75, 23.5) → 29 datos\n",
      "Intervalo 3: [23.5, 26.25) → 25 datos\n",
      "Intervalo 4: [26.25, 29.0) → 34 datos\n",
      "Intervalo 5: [29.0, 31.75) → 72 datos\n",
      "Intervalo 6: [31.75, 34.5) → 84 datos\n",
      "Intervalo 7: [34.5, 37.25) → 111 datos\n",
      "Intervalo 8: [37.25, 40.0) → 76 datos\n",
      "Intervalo 9: [40.0, 42.75) → 101 datos\n",
      "Intervalo 10: [42.75, 45.5) → 117 datos\n",
      "Intervalo 11: [45.5, 48.25) → 89 datos\n",
      "Intervalo 12: [48.25, 51.0) → 66 datos\n",
      "Intervalo 13: [51.0, 53.75) → 70 datos\n",
      "Intervalo 14: [53.75, 56.5) → 47 datos\n",
      "Intervalo 15: [56.5, 59.25) → 27 datos\n",
      "Intervalo 16: [59.25, 62.0) → 27 datos\n"
     ]
    },
    {
     "data": {
      "image/png": "[encoded data removed]",
      "text/plain": [
       "<Figure size 1200x600 with 2 Axes>"
      ]
     },
     "metadata": {},
     "output_type": "display_data"
    },
    {
     "name": "stdout",
     "output_type": "stream",
     "text": [
      "\n",
      "📊 Análisis de la variable: fc_antes\n",
      "👉 Número de intervalos (bins): 28\n",
      "\n",
      "📌 Frecuencia en cada intervalo:\n",
      "Intervalo 1: [68.79, 70.06) → 1 datos\n",
      "Intervalo 2: [70.06, 71.33) → 0 datos\n",
      "Intervalo 3: [71.33, 72.59) → 3 datos\n",
      "Intervalo 4: [72.59, 73.86) → 3 datos\n",
      "Intervalo 5: [73.86, 75.13) → 11 datos\n",
      "Intervalo 6: [75.13, 76.39) → 13 datos\n",
      "Intervalo 7: [76.39, 77.66) → 29 datos\n",
      "Intervalo 8: [77.66, 78.93) → 46 datos\n",
      "Intervalo 9: [78.93, 80.19) → 53 datos\n",
      "Intervalo 10: [80.19, 81.46) → 70 datos\n",
      "Intervalo 11: [81.46, 82.73) → 103 datos\n",
      "Intervalo 12: [82.73, 84.0) → 87 datos\n",
      "Intervalo 13: [84.0, 85.26) → 93 datos\n",
      "Intervalo 14: [85.26, 86.53) → 110 datos\n",
      "Intervalo 15: [86.53, 87.8) → 89 datos\n",
      "Intervalo 16: [87.8, 89.06) → 86 datos\n",
      "Intervalo 17: [89.06, 90.33) → 64 datos\n",
      "Intervalo 18: [90.33, 91.6) → 40 datos\n",
      "Intervalo 19: [91.6, 92.86) → 38 datos\n",
      "Intervalo 20: [92.86, 94.13) → 23 datos\n",
      "Intervalo 21: [94.13, 95.4) → 17 datos\n",
      "Intervalo 22: [95.4, 96.66) → 11 datos\n",
      "Intervalo 23: [96.66, 97.93) → 6 datos\n",
      "Intervalo 24: [97.93, 99.2) → 2 datos\n",
      "Intervalo 25: [99.2, 100.46) → 1 datos\n",
      "Intervalo 26: [100.46, 101.73) → 0 datos\n",
      "Intervalo 27: [101.73, 103.0) → 0 datos\n",
      "Intervalo 28: [103.0, 104.26) → 1 datos\n"
     ]
    },
    {
     "data": {
      "image/png": "[encoded data removed]",
      "text/plain": [
       "<Figure size 1200x600 with 2 Axes>"
      ]
     },
     "metadata": {},
     "output_type": "display_data"
    }
   ],
   "source": [
    "graficar_boxplot_e_histograma(df_csv, 'edad')\n",
    "\n",
    "graficar_boxplot_e_histograma(df_csv, 'fc_antes')"
   ]
  },
  {
   "cell_type": "markdown",
   "metadata": {},
   "source": [
    "**4. Gráfico de violín (Violin plot)**:\n",
    "\n",
    "Muestra la distribución de datos + estadísticos del boxplot.\n",
    "\n",
    "✅ Para qué se usa: Ver la forma de la distribución y densidad en diferentes rangos.\n",
    "\n",
    "Interpretación: \n",
    "\n",
    "Ancho del violín = densidad de datos. También muestra la mediana.\n"
   ]
  },
  {
   "cell_type": "code",
   "execution_count": 24,
   "metadata": {},
   "outputs": [],
   "source": [
    "def graficar_violin(df, columna, color=\"#A7C7E7\"):\n",
    "    \"\"\"\n",
    "    Genera un diagrama de violín con boxplot para una variable numérica usando Plotly.\n",
    "\n",
    "    Parámetros:\n",
    "    - df: DataFrame que contiene los datos.\n",
    "    - columna: Nombre de la columna numérica a graficar.\n",
    "    - color: Color del gráfico (por defecto azul claro).\n",
    "    \"\"\"\n",
    "    print(f\"\\n\\033[1m{columna.upper()}\\033[0m\")  # Título en consola en negrita\n",
    "\n",
    "    fig = go.Figure()\n",
    "\n",
    "    fig.add_trace(go.Violin(\n",
    "        y=df[columna],\n",
    "        box_visible=True,             # Muestra el boxplot\n",
    "        meanline_visible=True,        # Muestra línea de la media\n",
    "        line_color='black',\n",
    "        fillcolor=color,\n",
    "        opacity=0.7,\n",
    "        name=columna\n",
    "    ))\n",
    "\n",
    "    fig.update_layout(\n",
    "        title=dict(text=f\"Diagrama de violín de {columna}\", font=dict(color=\"black\")),\n",
    "        yaxis_title=\"Valor\",\n",
    "        template=\"plotly_white\",\n",
    "        width=800,\n",
    "        height=500\n",
    "    )\n",
    "\n",
    "    fig.show()"
   ]
  },
  {
   "cell_type": "code",
   "execution_count": 25,
   "metadata": {},
   "outputs": [
    {
     "name": "stdout",
     "output_type": "stream",
     "text": [
      "\n",
      "\u001b[1mEDAD\u001b[0m\n"
     ]
    },
    {
     "data": {
      "application/vnd.plotly.v1+json": {
       "config": {
        "plotlyServerURL": "https://plot.ly"
       },
       "data": [
        {
         "box": {
          "visible": true
         },
         "fillcolor": "#A7C7E7",
         "line": {
          "color": "black"
         },
         "meanline": {
          "visible": true
         },
         "name": "edad",
         "opacity": 0.7,
         "type": "violin",
         "y": [
          36,
          28,
          54,
          42,
          29,
          36,
          47,
          34,
          31,
          35,
          36,
          36,
          53,
          62,
          29,
          44,
          35,
          27,
          51,
          50,
          34,
          34,
          34,
          26,
          46,
          37,
          42,
          62,
          35,
          23,
          40,
          55,
          53,
          38,
          37,
          58,
          46,
          46,
          36,
          28,
          35,
          34,
          32,
          43,
          54,
          31,
          42,
          41,
          52,
          39,
          25,
          41,
          43,
          43,
          45,
          36,
          22,
          28,
          32,
          24,
          26,
          32,
          43,
          61,
          47,
          36,
          25,
          39,
          20,
          32,
          56,
          40,
          47,
          43,
          45,
          38,
          45,
          54,
          42,
          20,
          26,
          51,
          32,
          47,
          45,
          52,
          33,
          62,
          48,
          32,
          40,
          27,
          39,
          38,
          28,
          31,
          53,
          52,
          59,
          32,
          54,
          37,
          45,
          49,
          20,
          47,
          35,
          30,
          31,
          39,
          34,
          41,
          43,
          51,
          44,
          37,
          38,
          32,
          29,
          45,
          49,
          41,
          20,
          39,
          32,
          51,
          45,
          59,
          22,
          37,
          53,
          32,
          20,
          50,
          30,
          52,
          34,
          29,
          44,
          41,
          39,
          35,
          40,
          42,
          62,
          39,
          36,
          49,
          39,
          37,
          38,
          46,
          33,
          50,
          36,
          33,
          44,
          34,
          28,
          26,
          27,
          40,
          31,
          62,
          39,
          39,
          51,
          28,
          33,
          35,
          49,
          39,
          48,
          34,
          45,
          43,
          31,
          34,
          44,
          29,
          35,
          32,
          51,
          51,
          47,
          32,
          29,
          50,
          36,
          53,
          46,
          53,
          49,
          27,
          42,
          23,
          32,
          42,
          44,
          49,
          36,
          36,
          57,
          58,
          62,
          31,
          56,
          26,
          46,
          23,
          38,
          36,
          44,
          18,
          48,
          53,
          34,
          23,
          41,
          53,
          44,
          62,
          54,
          35,
          53,
          39,
          42,
          29,
          50,
          40,
          47,
          39,
          44,
          39,
          41,
          49,
          44,
          49,
          32,
          27,
          35,
          54,
          48,
          42,
          53,
          45,
          27,
          28,
          28,
          32,
          53,
          40,
          37,
          51,
          51,
          50,
          30,
          42,
          36,
          53,
          47,
          55,
          30,
          38,
          33,
          23,
          23,
          43,
          31,
          47,
          38,
          48,
          33,
          50,
          43,
          33,
          36,
          27,
          44,
          28,
          43,
          46,
          41,
          33,
          46,
          49,
          45,
          44,
          45,
          32,
          60,
          21,
          47,
          54,
          57,
          35,
          24,
          43,
          50,
          40,
          33,
          45,
          42,
          31,
          38,
          23,
          43,
          40,
          33,
          28,
          20,
          59,
          38,
          36,
          41,
          59,
          43,
          43,
          43,
          36,
          27,
          46,
          48,
          48,
          44,
          37,
          27,
          49,
          43,
          38,
          46,
          52,
          29,
          37,
          44,
          58,
          41,
          44,
          18,
          51,
          24,
          40,
          43,
          28,
          52,
          61,
          36,
          31,
          21,
          42,
          36,
          50,
          31,
          40,
          38,
          31,
          47,
          23,
          35,
          38,
          38,
          54,
          46,
          41,
          32,
          25,
          55,
          53,
          42,
          51,
          43,
          39,
          51,
          46,
          27,
          49,
          30,
          43,
          57,
          55,
          38,
          44,
          36,
          45,
          49,
          49,
          45,
          57,
          62,
          49,
          50,
          44,
          55,
          35,
          57,
          49,
          39,
          46,
          44,
          41,
          54,
          46,
          36,
          32,
          38,
          29,
          43,
          48,
          58,
          46,
          50,
          42,
          23,
          44,
          43,
          37,
          43,
          26,
          49,
          51,
          45,
          49,
          42,
          41,
          34,
          41,
          32,
          47,
          54,
          30,
          58,
          36,
          50,
          60,
          53,
          33,
          46,
          31,
          34,
          54,
          29,
          62,
          29,
          36,
          46,
          44,
          29,
          38,
          29,
          37,
          18,
          25,
          54,
          53,
          52,
          33,
          62,
          44,
          37,
          44,
          49,
          27,
          53,
          51,
          31,
          35,
          33,
          29,
          43,
          34,
          43,
          60,
          41,
          47,
          30,
          48,
          43,
          37,
          57,
          57,
          55,
          53,
          32,
          41,
          52,
          45,
          28,
          49,
          25,
          29,
          47,
          36,
          43,
          31,
          47,
          36,
          55,
          28,
          58,
          47,
          46,
          35,
          52,
          62,
          18,
          52,
          21,
          41,
          18,
          39,
          39,
          44,
          41,
          61,
          46,
          39,
          46,
          44,
          44,
          39,
          27,
          50,
          41,
          20,
          60,
          30,
          43,
          42,
          22,
          45,
          31,
          55,
          50,
          18,
          40,
          45,
          19,
          44,
          37,
          34,
          56,
          49,
          56,
          55,
          55,
          56,
          36,
          55,
          50,
          43,
          46,
          46,
          48,
          48,
          50,
          62,
          34,
          45,
          43,
          51,
          37,
          22,
          34,
          28,
          43,
          38,
          18,
          62,
          45,
          20,
          47,
          39,
          36,
          34,
          44,
          49,
          41,
          40,
          58,
          46,
          48,
          56,
          58,
          43,
          29,
          37,
          39,
          25,
          53,
          35,
          36,
          23,
          36,
          37,
          50,
          45,
          50,
          39,
          26,
          49,
          43,
          53,
          37,
          50,
          39,
          56,
          21,
          43,
          46,
          43,
          46,
          30,
          41,
          47,
          25,
          47,
          34,
          23,
          36,
          49,
          28,
          36,
          36,
          30,
          45,
          39,
          33,
          45,
          26,
          25,
          30,
          42,
          54,
          47,
          39,
          36,
          40,
          34,
          49,
          18,
          46,
          27,
          48,
          52,
          46,
          49,
          50,
          48,
          33,
          32,
          30,
          29,
          36,
          37,
          29,
          49,
          41,
          29,
          50,
          21,
          48,
          46,
          30,
          30,
          38,
          35,
          55,
          35,
          37,
          38,
          41,
          49,
          58,
          30,
          58,
          44,
          48,
          34,
          18,
          36,
          37,
          54,
          38,
          45,
          33,
          30,
          39,
          30,
          39,
          38,
          44,
          37,
          38,
          36,
          53,
          56,
          34,
          46,
          41,
          33,
          53,
          48,
          42,
          46,
          37,
          34,
          52,
          39,
          54,
          62,
          41,
          32,
          54,
          39,
          42,
          30,
          45,
          53,
          35,
          37,
          39,
          50,
          31,
          40,
          25,
          37,
          59,
          48,
          48,
          31,
          52,
          34,
          58,
          52,
          35,
          41,
          45,
          31,
          42,
          49,
          38,
          18,
          53,
          45,
          50,
          46,
          49,
          54,
          21,
          42,
          44,
          18,
          40,
          42,
          43,
          27,
          51,
          41,
          38,
          45,
          40,
          42,
          38,
          44,
          53,
          46,
          62,
          49,
          34,
          49,
          43,
          41,
          47,
          57,
          47,
          46,
          35,
          42,
          33,
          21,
          37,
          52,
          50,
          34,
          37,
          37,
          38,
          51,
          62,
          40,
          40,
          18,
          52,
          58,
          52,
          45,
          53,
          37,
          40,
          54,
          43,
          28,
          46,
          32,
          46,
          47,
          41,
          40,
          25,
          62,
          45,
          41,
          42,
          48,
          38,
          56,
          23,
          44,
          37,
          30,
          46,
          50,
          36,
          35,
          35,
          45,
          32,
          38,
          44,
          39,
          40,
          43,
          50,
          42,
          33,
          53,
          33,
          28,
          28,
          50,
          37,
          52,
          35,
          42,
          40,
          46,
          49,
          42,
          51,
          34,
          37,
          34,
          43,
          50,
          38,
          41,
          43,
          34,
          39,
          31,
          39,
          36,
          37,
          40,
          40,
          49,
          53,
          33,
          62,
          32,
          38,
          39,
          56,
          33,
          24,
          18,
          39,
          35,
          38,
          32,
          35,
          40,
          46,
          31,
          30,
          53,
          39,
          43,
          39,
          22,
          40,
          47,
          30,
          44,
          31,
          54,
          37,
          42,
          36,
          56,
          60,
          47,
          50,
          29,
          52,
          36,
          45,
          23,
          42,
          21,
          45,
          40,
          31,
          29,
          29,
          41,
          18,
          42,
          48,
          33,
          45,
          40,
          50,
          24,
          55,
          51,
          41,
          37,
          36,
          43,
          34,
          34,
          35,
          37,
          37,
          46,
          43,
          55,
          36,
          46,
          31,
          34,
          46,
          44,
          55,
          30,
          23,
          30,
          32,
          49,
          27,
          39,
          18,
          38,
          31,
          49,
          36,
          39,
          43,
          42,
          38,
          51,
          53,
          44,
          46,
          45,
          40,
          62,
          39,
          28,
          52,
          57,
          41,
          25,
          40,
          46,
          26,
          40,
          56,
          20,
          36,
          42,
          36,
          53,
          37,
          49,
          42,
          39,
          43,
          55,
          33,
          29,
          30,
          36,
          42,
          59,
          21,
          23,
          32,
          43
         ]
        }
       ],
       "layout": {
        "height": 500,
        "template": {
         "data": {
          "bar": [
           {
            "error_x": {
             "color": "#2a3f5f"
            },
            "error_y": {
             "color": "#2a3f5f"
            },
            "marker": {
             "line": {
              "color": "white",
              "width": 0.5
             },
             "pattern": {
              "fillmode": "overlay",
              "size": 10,
              "solidity": 0.2
             }
            },
            "type": "bar"
           }
          ],
          "barpolar": [
           {
            "marker": {
             "line": {
              "color": "white",
              "width": 0.5
             },
             "pattern": {
              "fillmode": "overlay",
              "size": 10,
              "solidity": 0.2
             }
            },
            "type": "barpolar"
           }
          ],
          "carpet": [
           {
            "aaxis": {
             "endlinecolor": "#2a3f5f",
             "gridcolor": "#C8D4E3",
             "linecolor": "#C8D4E3",
             "minorgridcolor": "#C8D4E3",
             "startlinecolor": "#2a3f5f"
            },
            "baxis": {
             "endlinecolor": "#2a3f5f",
             "gridcolor": "#C8D4E3",
             "linecolor": "#C8D4E3",
             "minorgridcolor": "#C8D4E3",
             "startlinecolor": "#2a3f5f"
            },
            "type": "carpet"
           }
          ],
          "choropleth": [
           {
            "colorbar": {
             "outlinewidth": 0,
             "ticks": ""
            },
            "type": "choropleth"
           }
          ],
          "contour": [
           {
            "colorbar": {
             "outlinewidth": 0,
             "ticks": ""
            },
            "colorscale": [
             [
              0,
              "#0d0887"
             ],
             [
              0.1111111111111111,
              "#46039f"
             ],
             [
              0.2222222222222222,
              "#7201a8"
             ],
             [
              0.3333333333333333,
              "#9c179e"
             ],
             [
              0.4444444444444444,
              "#bd3786"
             ],
             [
              0.5555555555555556,
              "#d8576b"
             ],
             [
              0.6666666666666666,
              "#ed7953"
             ],
             [
              0.7777777777777778,
              "#fb9f3a"
             ],
             [
              0.8888888888888888,
              "#fdca26"
             ],
             [
              1,
              "#f0f921"
             ]
            ],
            "type": "contour"
           }
          ],
          "contourcarpet": [
           {
            "colorbar": {
             "outlinewidth": 0,
             "ticks": ""
            },
            "type": "contourcarpet"
           }
          ],
          "heatmap": [
           {
            "colorbar": {
             "outlinewidth": 0,
             "ticks": ""
            },
            "colorscale": [
             [
              0,
              "#0d0887"
             ],
             [
              0.1111111111111111,
              "#46039f"
             ],
             [
              0.2222222222222222,
              "#7201a8"
             ],
             [
              0.3333333333333333,
              "#9c179e"
             ],
             [
              0.4444444444444444,
              "#bd3786"
             ],
             [
              0.5555555555555556,
              "#d8576b"
             ],
             [
              0.6666666666666666,
              "#ed7953"
             ],
             [
              0.7777777777777778,
              "#fb9f3a"
             ],
             [
              0.8888888888888888,
              "#fdca26"
             ],
             [
              1,
              "#f0f921"
             ]
            ],
            "type": "heatmap"
           }
          ],
          "heatmapgl": [
           {
            "colorbar": {
             "outlinewidth": 0,
             "ticks": ""
            },
            "colorscale": [
             [
              0,
              "#0d0887"
             ],
             [
              0.1111111111111111,
              "#46039f"
             ],
             [
              0.2222222222222222,
              "#7201a8"
             ],
             [
              0.3333333333333333,
              "#9c179e"
             ],
             [
              0.4444444444444444,
              "#bd3786"
             ],
             [
              0.5555555555555556,
              "#d8576b"
             ],
             [
              0.6666666666666666,
              "#ed7953"
             ],
             [
              0.7777777777777778,
              "#fb9f3a"
             ],
             [
              0.8888888888888888,
              "#fdca26"
             ],
             [
              1,
              "#f0f921"
             ]
            ],
            "type": "heatmapgl"
           }
          ],
          "histogram": [
           {
            "marker": {
             "pattern": {
              "fillmode": "overlay",
              "size": 10,
              "solidity": 0.2
             }
            },
            "type": "histogram"
           }
          ],
          "histogram2d": [
           {
            "colorbar": {
             "outlinewidth": 0,
             "ticks": ""
            },
            "colorscale": [
             [
              0,
              "#0d0887"
             ],
             [
              0.1111111111111111,
              "#46039f"
             ],
             [
              0.2222222222222222,
              "#7201a8"
             ],
             [
              0.3333333333333333,
              "#9c179e"
             ],
             [
              0.4444444444444444,
              "#bd3786"
             ],
             [
              0.5555555555555556,
              "#d8576b"
             ],
             [
              0.6666666666666666,
              "#ed7953"
             ],
             [
              0.7777777777777778,
              "#fb9f3a"
             ],
             [
              0.8888888888888888,
              "#fdca26"
             ],
             [
              1,
              "#f0f921"
             ]
            ],
            "type": "histogram2d"
           }
          ],
          "histogram2dcontour": [
           {
            "colorbar": {
             "outlinewidth": 0,
             "ticks": ""
            },
            "colorscale": [
             [
              0,
              "#0d0887"
             ],
             [
              0.1111111111111111,
              "#46039f"
             ],
             [
              0.2222222222222222,
              "#7201a8"
             ],
             [
              0.3333333333333333,
              "#9c179e"
             ],
             [
              0.4444444444444444,
              "#bd3786"
             ],
             [
              0.5555555555555556,
              "#d8576b"
             ],
             [
              0.6666666666666666,
              "#ed7953"
             ],
             [
              0.7777777777777778,
              "#fb9f3a"
             ],
             [
              0.8888888888888888,
              "#fdca26"
             ],
             [
              1,
              "#f0f921"
             ]
            ],
            "type": "histogram2dcontour"
           }
          ],
          "mesh3d": [
           {
            "colorbar": {
             "outlinewidth": 0,
             "ticks": ""
            },
            "type": "mesh3d"
           }
          ],
          "parcoords": [
           {
            "line": {
             "colorbar": {
              "outlinewidth": 0,
              "ticks": ""
             }
            },
            "type": "parcoords"
           }
          ],
          "pie": [
           {
            "automargin": true,
            "type": "pie"
           }
          ],
          "scatter": [
           {
            "fillpattern": {
             "fillmode": "overlay",
             "size": 10,
             "solidity": 0.2
            },
            "type": "scatter"
           }
          ],
          "scatter3d": [
           {
            "line": {
             "colorbar": {
              "outlinewidth": 0,
              "ticks": ""
             }
            },
            "marker": {
             "colorbar": {
              "outlinewidth": 0,
              "ticks": ""
             }
            },
            "type": "scatter3d"
           }
          ],
          "scattercarpet": [
           {
            "marker": {
             "colorbar": {
              "outlinewidth": 0,
              "ticks": ""
             }
            },
            "type": "scattercarpet"
           }
          ],
          "scattergeo": [
           {
            "marker": {
             "colorbar": {
              "outlinewidth": 0,
              "ticks": ""
             }
            },
            "type": "scattergeo"
           }
          ],
          "scattergl": [
           {
            "marker": {
             "colorbar": {
              "outlinewidth": 0,
              "ticks": ""
             }
            },
            "type": "scattergl"
           }
          ],
          "scattermapbox": [
           {
            "marker": {
             "colorbar": {
              "outlinewidth": 0,
              "ticks": ""
             }
            },
            "type": "scattermapbox"
           }
          ],
          "scatterpolar": [
           {
            "marker": {
             "colorbar": {
              "outlinewidth": 0,
              "ticks": ""
             }
            },
            "type": "scatterpolar"
           }
          ],
          "scatterpolargl": [
           {
            "marker": {
             "colorbar": {
              "outlinewidth": 0,
              "ticks": ""
             }
            },
            "type": "scatterpolargl"
           }
          ],
          "scatterternary": [
           {
            "marker": {
             "colorbar": {
              "outlinewidth": 0,
              "ticks": ""
             }
            },
            "type": "scatterternary"
           }
          ],
          "surface": [
           {
            "colorbar": {
             "outlinewidth": 0,
             "ticks": ""
            },
            "colorscale": [
             [
              0,
              "#0d0887"
             ],
             [
              0.1111111111111111,
              "#46039f"
             ],
             [
              0.2222222222222222,
              "#7201a8"
             ],
             [
              0.3333333333333333,
              "#9c179e"
             ],
             [
              0.4444444444444444,
              "#bd3786"
             ],
             [
              0.5555555555555556,
              "#d8576b"
             ],
             [
              0.6666666666666666,
              "#ed7953"
             ],
             [
              0.7777777777777778,
              "#fb9f3a"
             ],
             [
              0.8888888888888888,
              "#fdca26"
             ],
             [
              1,
              "#f0f921"
             ]
            ],
            "type": "surface"
           }
          ],
          "table": [
           {
            "cells": {
             "fill": {
              "color": "#EBF0F8"
             },
             "line": {
              "color": "white"
             }
            },
            "header": {
             "fill": {
              "color": "#C8D4E3"
             },
             "line": {
              "color": "white"
             }
            },
            "type": "table"
           }
          ]
         },
         "layout": {
          "annotationdefaults": {
           "arrowcolor": "#2a3f5f",
           "arrowhead": 0,
           "arrowwidth": 1
          },
          "autotypenumbers": "strict",
          "coloraxis": {
           "colorbar": {
            "outlinewidth": 0,
            "ticks": ""
           }
          },
          "colorscale": {
           "diverging": [
            [
             0,
             "#8e0152"
            ],
            [
             0.1,
             "#c51b7d"
            ],
            [
             0.2,
             "#de77ae"
            ],
            [
             0.3,
             "#f1b6da"
            ],
            [
             0.4,
             "#fde0ef"
            ],
            [
             0.5,
             "#f7f7f7"
            ],
            [
             0.6,
             "#e6f5d0"
            ],
            [
             0.7,
             "#b8e186"
            ],
            [
             0.8,
             "#7fbc41"
            ],
            [
             0.9,
             "#4d9221"
            ],
            [
             1,
             "#276419"
            ]
           ],
           "sequential": [
            [
             0,
             "#0d0887"
            ],
            [
             0.1111111111111111,
             "#46039f"
            ],
            [
             0.2222222222222222,
             "#7201a8"
            ],
            [
             0.3333333333333333,
             "#9c179e"
            ],
            [
             0.4444444444444444,
             "#bd3786"
            ],
            [
             0.5555555555555556,
             "#d8576b"
            ],
            [
             0.6666666666666666,
             "#ed7953"
            ],
            [
             0.7777777777777778,
             "#fb9f3a"
            ],
            [
             0.8888888888888888,
             "#fdca26"
            ],
            [
             1,
             "#f0f921"
            ]
           ],
           "sequentialminus": [
            [
             0,
             "#0d0887"
            ],
            [
             0.1111111111111111,
             "#46039f"
            ],
            [
             0.2222222222222222,
             "#7201a8"
            ],
            [
             0.3333333333333333,
             "#9c179e"
            ],
            [
             0.4444444444444444,
             "#bd3786"
            ],
            [
             0.5555555555555556,
             "#d8576b"
            ],
            [
             0.6666666666666666,
             "#ed7953"
            ],
            [
             0.7777777777777778,
             "#fb9f3a"
            ],
            [
             0.8888888888888888,
             "#fdca26"
            ],
            [
             1,
             "#f0f921"
            ]
           ]
          },
          "colorway": [
           "#636efa",
           "#EF553B",
           "#00cc96",
           "#ab63fa",
           "#FFA15A",
           "#19d3f3",
           "#FF6692",
           "#B6E880",
           "#FF97FF",
           "#FECB52"
          ],
          "font": {
           "color": "#2a3f5f"
          },
          "geo": {
           "bgcolor": "white",
           "lakecolor": "white",
           "landcolor": "white",
           "showlakes": true,
           "showland": true,
           "subunitcolor": "#C8D4E3"
          },
          "hoverlabel": {
           "align": "left"
          },
          "hovermode": "closest",
          "mapbox": {
           "style": "light"
          },
          "paper_bgcolor": "white",
          "plot_bgcolor": "white",
          "polar": {
           "angularaxis": {
            "gridcolor": "#EBF0F8",
            "linecolor": "#EBF0F8",
            "ticks": ""
           },
           "bgcolor": "white",
           "radialaxis": {
            "gridcolor": "#EBF0F8",
            "linecolor": "#EBF0F8",
            "ticks": ""
           }
          },
          "scene": {
           "xaxis": {
            "backgroundcolor": "white",
            "gridcolor": "#DFE8F3",
            "gridwidth": 2,
            "linecolor": "#EBF0F8",
            "showbackground": true,
            "ticks": "",
            "zerolinecolor": "#EBF0F8"
           },
           "yaxis": {
            "backgroundcolor": "white",
            "gridcolor": "#DFE8F3",
            "gridwidth": 2,
            "linecolor": "#EBF0F8",
            "showbackground": true,
            "ticks": "",
            "zerolinecolor": "#EBF0F8"
           },
           "zaxis": {
            "backgroundcolor": "white",
            "gridcolor": "#DFE8F3",
            "gridwidth": 2,
            "linecolor": "#EBF0F8",
            "showbackground": true,
            "ticks": "",
            "zerolinecolor": "#EBF0F8"
           }
          },
          "shapedefaults": {
           "line": {
            "color": "#2a3f5f"
           }
          },
          "ternary": {
           "aaxis": {
            "gridcolor": "#DFE8F3",
            "linecolor": "#A2B1C6",
            "ticks": ""
           },
           "baxis": {
            "gridcolor": "#DFE8F3",
            "linecolor": "#A2B1C6",
            "ticks": ""
           },
           "bgcolor": "white",
           "caxis": {
            "gridcolor": "#DFE8F3",
            "linecolor": "#A2B1C6",
            "ticks": ""
           }
          },
          "title": {
           "x": 0.05
          },
          "xaxis": {
           "automargin": true,
           "gridcolor": "#EBF0F8",
           "linecolor": "#EBF0F8",
           "ticks": "",
           "title": {
            "standoff": 15
           },
           "zerolinecolor": "#EBF0F8",
           "zerolinewidth": 2
          },
          "yaxis": {
           "automargin": true,
           "gridcolor": "#EBF0F8",
           "linecolor": "#EBF0F8",
           "ticks": "",
           "title": {
            "standoff": 15
           },
           "zerolinecolor": "#EBF0F8",
           "zerolinewidth": 2
          }
         }
        },
        "title": {
         "font": {
          "color": "black"
         },
         "text": "Diagrama de violín de edad"
        },
        "width": 800,
        "yaxis": {
         "title": {
          "text": "Valor"
         }
        }
       }
      }
     },
     "metadata": {},
     "output_type": "display_data"
    },
    {
     "name": "stdout",
     "output_type": "stream",
     "text": [
      "\n",
      "\u001b[1mFC_ANTES\u001b[0m\n"
     ]
    },
    {
     "data": {
      "application/vnd.plotly.v1+json": {
       "config": {
        "plotlyServerURL": "https://plot.ly"
       },
       "data": [
        {
         "box": {
          "visible": true
         },
         "fillcolor": "#A7C7E7",
         "line": {
          "color": "black"
         },
         "meanline": {
          "visible": true
         },
         "name": "fc_antes",
         "opacity": 0.7,
         "type": "violin",
         "y": [
          87.48357076505616,
          84.30867849414408,
          88.23844269050346,
          92.61514928204012,
          83.82923312638331,
          83.8293152152541,
          92.89606407753696,
          88.83717364576455,
          82.65262807032524,
          87.71280021792982,
          82.68291153593769,
          82.67135123214871,
          86.20981135783018,
          75.43359877671101,
          76.37541083743484,
          82.18856235379513,
          79.93584439832789,
          86.57123666297637,
          80.45987962239394,
          77.93848149332354,
          92.32824384460775,
          83.87111849756732,
          85.33764102343962,
          77.87625906893271,
          82.27808637737408,
          85.55461294854933,
          79.24503211288848,
          86.87849009172837,
          81.99680655040598,
          83.54153125103362,
          81.99146693885301,
          94.26139092254468,
          84.93251387631032,
          79.71144535522049,
          89.11272456051594,
          78.89578175014489,
          86.04431797502377,
          75.20164938060113,
          78.35906975550785,
          85.98430617934562,
          88.69233289997705,
          85.85684140594985,
          84.4217585880588,
          83.49448152205356,
          77.60739004816287,
          81.40077895802645,
          82.69680614520107,
          90.28561113109458,
          86.71809144784231,
          76.18479922318633,
          86.62041984697397,
          83.07458859791842,
          81.6153899984702,
          88.05838144420434,
          90.15499761247976,
          89.65640059558099,
          80.80391238388681,
          83.45393812074393,
          86.65631715701782,
          89.8777256356118,
          82.60412881077355,
          84.07170511668092,
          79.46832512996986,
          79.01896687959665,
          89.06262911197099,
          91.78120014285412,
          84.63994939209833,
          90.01766448946012,
          86.80818012523817,
          81.77440122697438,
          86.80697802754207,
          92.69018283232984,
          84.82086980445024,
          92.82321827907003,
          71.90127447955128,
          89.10951252187611,
          85.43523534119086,
          83.50496324767066,
          85.45880388267751,
          75.06215542699553,
          83.90164056081244,
          86.78556285755873,
          92.38947022370758,
          82.40864890863176,
          80.95753198553406,
          82.49121478207732,
          89.57701058851038,
          86.64375554829843,
          82.3511989811648,
          87.56633716556678,
          85.4853877467402,
          89.84322495266444,
          81.48973453061323,
          83.36168926701116,
          83.0394592343392,
          77.68242525933941,
          86.48060138532288,
          86.30527636089944,
          85.02556728321231,
          83.82706433312427,
          77.92314628974793,
          82.89677338617321,
          83.28642741736616,
          80.9886136538919,
          84.19357144166996,
          87.02025428407269,
          94.43092950605264,
          85.8728890641592,
          86.28775195361382,
          84.62777042116916,
          75.4061439235048,
          84.86743062275391,
          85.30115104970513,
          97.31621056242643,
          84.03819517609439,
          86.50773671166806,
          84.82644115147379,
          79.15660981190234,
          90.7141140725751,
          88.75966516343387,
          88.95515973521523,
          80.4530627260263,
          92.0139715546805,
          77.9907446860386,
          87.93428546900135,
          95.95227812904989,
          80.04731837434656,
          82.16851135198614,
          85.4982568254382,
          82.48262172941901,
          77.24668284466934,
          85.34281487403014,
          79.68848143136948,
          87.36796215317591,
          80.40287882883098,
          92.7496720250877,
          81.08373353831881,
          83.38969241897162,
          89.06758608684835,
          78.84567841783023,
          86.13729967302065,
          91.53571377141212,
          76.96258382719387,
          85.92316929266153,
          86.29941397124212,
          88.90911435888655,
          78.81524644560959,
          78.39771693457863,
          87.60970782808448,
          86.48492336616593,
          86.25246425172938,
          86.73224104748488,
          81.59987639210755,
          86.16126848580502,
          86.46536236649341,
          81.42824290986816,
          94.32887255572378,
          87.36916460455893,
          79.04348251398676,
          88.28276804316914,
          80.1265916488634,
          88.93542301871226,
          90.79297789503704,
          80.89658840824144,
          89.8168806462216,
          87.06390463468249,
          89.11030079997245,
          94.48396491326974,
          83.77305941998564,
          81.23131917821256,
          80.55242785187238,
          80.92094857517282,
          84.61449145292949,
          86.70575987408321,
          86.38345399665009,
          89.13591624518011,
          85.06500945938953,
          92.2676703857866,
          83.67671583381022,
          98.6008458329481,
          88.12833673882503,
          80.71421221791859,
          79.64553750969444,
          87.41236207621593,
          83.88268607337075,
          88.57000247046047,
          87.36618812286773,
          84.63585543671563,
          80.76603140965797,
          77.42576387657067,
          82.76742523966489,
          89.28199397161737,
          86.07046872065102,
          78.77130610644006,
          85.86590462925591,
          86.92658689864419,
          80.58071281899433,
          85.76862552972764,
          85.29104359223,
          79.28514851084688,
          86.78893680174141,
          87.80392263184117,
          90.41525621587638,
          90.26901026017453,
          78.11165316021454,
          80.31087480042439,
          87.5751763360433,
          87.56892975456104,
          87.57523843153024,
          104.2636574532736,
          87.85445255346583,
          90.677828200903,
          89.770008817466,
          88.256956256529,
          83.42365377679828,
          88.79484610246634,
          81.13587392731215,
          83.81590696629996,
          82.57318226085448,
          85.40937069693162,
          96.57329283336756,
          75.66367403704126,
          88.43130095187257,
          76.93642064405174,
          82.64034067105283,
          90.44475298483682,
          85.32140009547732,
          79.61127611035347,
          81.42348145370016,
          88.39798874467338,
          81.34816684141431,
          86.08229294790988,
          85.22785919951907,
          81.74199826197092,
          95.71972044662662,
          88.16959511159006,
          74.87428706671196,
          85.93227157384713,
          81.69106767615806,
          89.26216667398111,
          81.0373963078365,
          84.4263177926655,
          87.52493639490228,
          89.32877597085061,
          78.99851796472112,
          83.32749382079525,
          82.62527344419522,
          81.73335383713145,
          93.82727120140548,
          87.02490855480478,
          78.69558022832477,
          89.58930973527389,
          95.61078098506316,
          90.16232630275572,
          77.40315017022994,
          82.57882963566874,
          91.33455574593312,
          81.4616526719061,
          87.21909714073114,
          88.87317026714669,
          80.36534764210958,
          84.702373219691,
          68.79366329965464,
          79.87806179332856,
          83.7371592430342,
          78.76108409017576,
          93.16205651965818,
          77.84929311019684,
          82.79977756651508,
          85.65370288643045,
          92.20636644533056,
          77.82068924410281,
          90.8158187607748,
          85.05116530509794,
          80.09245674476024,
          87.31051737131635,
          85.99529847786735,
          81.99891561420603,
          85.3490104249501,
          83.0734320156912,
          85.56758672625624,
          88.31065337260523,
          92.93008408072676,
          78.81092250586576,
          95.66516687328134,
          75.23956100238749,
          84.24107452482208,
          87.94158603242288,
          86.40495933867517,
          81.88650240089703,
          83.95938874821363,
          82.53499532670584,
          82.05317621527894,
          89.24801048510513,
          86.78507742982524,
          81.53545202369673,
          89.49799937716625,
          86.53649760438304,
          89.06431059419481,
          88.14814420961807,
          80.85502494538964,
          82.19909479901516,
          88.7364680256163,
          88.05185132716733,
          84.89549203017926,
          85.58663691654391,
          91.38832447894212,
          82.04214305582084,
          87.7354869058502,
          83.98903673783053,
          83.9115939838639,
          90.49388425993595,
          89.12708174494014,
          89.06754818000319,
          91.52739403577164,
          85.1050192081638,
          88.40976485647482,
          83.44866621703272,
          86.62083176244221,
          84.34928472816158,
          85.48497982496359,
          87.97578512718457,
          80.90889658383264,
          95.4619363784273,
          79.96991309250149,
          78.92905693606134,
          90.79055436750032,
          88.95831346981468,
          88.12059908526078,
          88.1417275463214,
          84.93876613576543,
          80.51372814257084,
          85.37902279096863,
          81.61419144243945,
          89.87559866708875,
          84.2647130924893,
          80.87251401603744,
          83.39307079173503,
          87.06465727137812,
          82.18137723598012,
          80.88889802216784,
          86.21843605745956,
          86.22483285554361,
          82.46528412314436,
          82.64480847190839,
          86.16024968678818,
          77.75957829251338,
          77.96268112811723,
          81.40777889373783,
          83.93276424144076,
          86.55453782799002,
          92.37678108474776,
          89.2882981160101,
          84.20030735018287,
          84.90491896048655,
          79.98735317681096,
          84.90743432003805,
          83.5567068053993,
          86.61359280169044,
          80.86384528223839,
          87.59673257120586,
          92.66369456501288,
          84.45619925771571,
          87.0085586104947,
          88.45071995855557,
          82.99389764057082,
          86.12046240905208,
          85.06296200390898,
          85.48838049274416,
          81.13495108072267,
          85.12255087129472,
          87.48999145622724,
          92.2557180389752,
          89.79635413042604,
          95.76591228755778,
          81.16326218555976,
          89.36160318360339,
          85.91671002869175,
          95.94901466608836,
          80.95850857322424,
          80.80139078909612,
          82.0030367727799,
          74.38052137845096,
          82.3712248915962,
          81.20433669223151,
          85.75196893238103,
          86.70877987888579,
          94.38085419607944,
          89.75211919093024,
          82.11548172168798,
          80.50792664325822,
          87.45959585753253,
          78.3988339648968,
          94.15729382927177,
          90.89720060360644,
          82.65412173947648,
          76.43432735454562,
          91.76936187082708,
          84.42730077373692,
          91.1890815598673,
          77.02786170602816,
          82.00312488523113,
          85.02621849859092,
          85.2349029688237,
          82.74967264260378,
          88.11424966173749,
          79.66189785308703,
          84.28810257489353,
          85.60147815855949,
          87.57219417029374,
          88.55807439044445,
          79.37678954081065,
          77.32942914632189,
          91.38838410949256,
          86.66157005989795,
          81.25756731721724,
          92.75575987761262,
          85.57837317146429,
          90.89648592031914,
          85.33759240705055,
          95.30373962440991,
          93.77670421221602,
          83.75517925760464,
          89.85785475477178,
          88.22687974792574,
          91.84315778766174,
          80.17538269709948,
          88.43025729999219,
          90.29212243424794,
          76.20630256788442,
          79.08370743667112,
          74.8038391111995,
          83.65296582777721,
          88.58771127897981,
          92.51178526048014,
          85.37047390209888,
          93.14307772785646,
          78.09949270892554,
          76.48308780322422,
          84.72226150551691,
          86.92032724469654,
          84.83652625952953,
          74.66278949980062,
          84.55439980243605,
          78.47765249747573,
          88.3483627441502,
          86.83299123048424,
          80.30060106836322,
          82.43066541331653,
          79.70393239055524,
          84.68660451363414,
          89.77571160250619,
          80.07136976832228,
          87.52023257758923,
          82.3487119081378,
          81.03563583868828,
          84.46484820022721,
          79.82378838790314,
          82.23175347326409,
          79.01061053705575,
          94.82362566458195,
          85.17631775985865,
          81.50137246003708,
          86.0698995536711,
          84.43835975154585,
          83.89515200233389,
          88.07083350021712,
          88.78753855023652,
          82.34749426194736,
          82.1209087967766,
          83.62474151424178,
          73.49039417632207,
          77.42404468900725,
          91.83437133722262,
          93.22483856750642,
          83.75481980221811,
          87.88278481527882,
          86.55625077271768,
          100.3944040422762,
          90.59787455717289,
          84.36041204259617,
          80.22229779699788,
          76.96776839871214,
          86.01731817933612,
          81.21824627357849,
          77.88873145201163,
          81.76713557878736,
          79.59225998192802,
          93.43570817536282,
          89.40819878474726,
          84.96013679341691,
          92.39972069445012,
          85.38684153823809,
          80.69357899335868,
          92.61562038634828,
          87.69455021842329,
          79.81376922836772,
          84.04830660958196,
          80.62190873307621,
          78.08600134517832,
          89.63088773765821,
          94.54708320235063,
          78.00716213090429,
          87.81484618345286,
          81.74678715439086,
          82.56437308117651,
          82.03803037880566,
          80.68004615160092,
          85.24260813972414,
          80.84524941794481,
          86.3522841288992,
          84.74880945275432,
          83.80525976566796,
          80.462181689792,
          82.11614334715834,
          88.77695612912878,
          87.5045859381219,
          80.11222377600724,
          85.49666152714613,
          88.75693561685894,
          76.65297359439315,
          87.71680096189968,
          81.68688120527077,
          87.8529933429658,
          81.18370421728741,
          75.9755894966774,
          76.86228781058419,
          85.24042473330691,
          86.2986125086074,
          80.47841687447796,
          88.19296229388686,
          76.6923996886552,
          84.66960100676341,
          78.94491900118771,
          81.7408194609892,
          85.23699335658208,
          80.69793317358024,
          83.07722227885087,
          90.0314640460722,
          82.11554065238425,
          89.1784605603257,
          79.35146572671191,
          87.64902088957642,
          92.2078431032895,
          72.64177749936356,
          81.01552372264761,
          87.8853606359027,
          83.98477306978504,
          86.85572936685655,
          81.9800740664209,
          85.4329489373645,
          84.2216138230396,
          90.83891030829903,
          86.27210421650607,
          86.68801331037601,
          82.94061516938767,
          82.56196887963753,
          82.8372090609019,
          86.97226071189148,
          82.89507759589868,
          86.44887428448206,
          95.3770039932272,
          89.35562351715846,
          83.3698823391608,
          91.00606961081972,
          82.95962313489224,
          74.80937732411073,
          79.95956844541298,
          75.64604039487072,
          83.24243257979346,
          85.09209189594776,
          93.3821865613764,
          86.63463686882082,
          83.90449735595568,
          89.14702790591744,
          73.94432345496057,
          86.17807279054283,
          88.85432596943484,
          77.60706877110078,
          90.71877021603464,
          86.69248203747208,
          82.923560430496,
          88.16390933053142,
          96.353464289022,
          85.90933127529247,
          86.24110293150169,
          82.70319550229878,
          80.75077815267605,
          89.15167908272123,
          80.71958087045566,
          85.35783118609696,
          82.61171276617442,
          87.39489912873196,
          86.66831052643474,
          90.18769972128948,
          82.44991800572626,
          83.65062532353315,
          80.10618142108846,
          82.77853369961944,
          86.88650246522425,
          88.78494308322676,
          80.38917337911187,
          89.3480296005283,
          91.77818929402476,
          87.0671745161185,
          94.38397906279032,
          81.13105400448214,
          78.77672648344291,
          76.10639875547861,
          92.48022155744592,
          88.27182828177028,
          84.72207664544773,
          86.3998431315991,
          79.37255476350812,
          97.22875989808414,
          85.64610590987614,
          85.54697397302446,
          88.62883311949346,
          87.40504615868356,
          86.11942012139566,
          81.04762772277344,
          87.35734178567998,
          94.41012248237516,
          91.7271002307749,
          92.96593313319698,
          82.44392161784407,
          80.0519758987071,
          84.37106539950176,
          85.27862456144348,
          90.47095759235474,
          76.5376768514259,
          92.64775159730308,
          84.20996050710505,
          82.8655946502629,
          79.93947812369916,
          76.72571664067115,
          89.11585291980957,
          85.36658983594202,
          78.55019550129472,
          78.52460613968192,
          83.32107650354936,
          93.34510762644696,
          83.70204324318198,
          77.48428523440947,
          83.77128467957027,
          83.63638215126164,
          71.51556678529214,
          84.72852566741093,
          83.84532734895662,
          88.48103182406709,
          94.24478047472672,
          90.6328251477388,
          83.65555654722584,
          79.46737045629165,
          97.8667990162493,
          85.29609217007244,
          85.06964645956474,
          84.87937456444999,
          85.99042380383928,
          84.27819794038028,
          82.13168996559882,
          82.26570529379804,
          84.83623364892001,
          82.28287614433117,
          81.43577108661418,
          85.53215113845948,
          83.72511391289572,
          92.51996494291345,
          71.74515095803494,
          90.45753425961232,
          91.23042596248814,
          74.63304883795925,
          83.28656202959826,
          83.14279567002104,
          77.9624415264109,
          81.11091656204562,
          79.44712077267086,
          93.76135221711812,
          89.6783919657373,
          91.3577754749708,
          88.60836032021618,
          79.35474114391386,
          82.37739866860113,
          87.4468728061396,
          78.88936095554027,
          88.56499215086194,
          83.79837300920933,
          83.12589596225202,
          88.55479984101746,
          87.2213165574302,
          83.1951691709046,
          90.79664901682123,
          79.59468336200051,
          88.07967803472133,
          87.96550628984193,
          83.45226780343005,
          86.63066511121059,
          78.74443211807349,
          89.6201350960345,
          84.07548931778506,
          82.38638489740481,
          90.24504612918444,
          81.4782815472862,
          77.9576935181822,
          77.21685413238048,
          88.0300497567282,
          78.59785323751859,
          93.77397090992184,
          74.59035296058138,
          93.4822818414502,
          86.05508733601309,
          84.51643444064804,
          82.27540456595526,
          86.99568057176036,
          84.81182648787576,
          90.5165094100826,
          85.5711382433102,
          85.75150880730939,
          83.18193893893073,
          84.71527188139466,
          86.5390088444603,
          76.44915803671687,
          78.25907288947144,
          88.71632047011357,
          85.85432719063971,
          84.0800833182366,
          85.09216966532696,
          86.73790852680835,
          82.30120159845319,
          81.10847637298843,
          85.9792262754884,
          80.10813611192484,
          87.04126377857236,
          76.48708197881079,
          90.14577818662822,
          87.36298741206521,
          86.28014867156938,
          89.91345491972757,
          93.32737222231287,
          90.07185032509065,
          75.79562884334177,
          78.6021151663215,
          81.8759071115216,
          85.13045525105417,
          87.58829510234561,
          81.37128093423267,
          85.9338338223854,
          81.22308533823339,
          81.94241098504025,
          77.96669451575889,
          80.38383376944547,
          78.24157697191833,
          80.12063373511333,
          90.2682089830392,
          80.25300555584029,
          98.16191032418696,
          87.46658950440445,
          85.92418061847437,
          80.70821109909393,
          88.50154939704495,
          82.12181086881112,
          85.6100490732268,
          97.80042269134395,
          84.51970050137675,
          90.74636663142836,
          81.48411787437057,
          84.82505754751519,
          93.85400317817756,
          81.86516471106117,
          94.06224278998464,
          88.53875967727738,
          82.18766612052866,
          88.1620386952776,
          89.86277224813365,
          88.10904981108598,
          77.14887640054772,
          81.36431412087566,
          83.76240682224248,
          84.62783285449977,
          88.10336048775339,
          85.88850500466627,
          78.32327820644949,
          86.90098925502981,
          88.05292872641911,
          87.7989522396552,
          90.4039036277731,
          89.16961077274452,
          87.29590039614219,
          84.64917144270676,
          76.69519533242004,
          87.14809109566293,
          86.03843843581555,
          86.35789418597686,
          78.61625712089845,
          79.59471729795868,
          90.26576426666452,
          84.80222423071673,
          88.40750348686312,
          85.1415918806523,
          85.14878069747873,
          89.69141902988,
          82.41977635891313,
          85.48060388470492,
          82.6886235564748,
          82.82751886283842,
          83.4541393826568,
          86.11066885816857,
          82.60625689168262,
          91.2787806278676,
          80.52696348890248,
          84.0656417791932,
          82.80134470862913,
          92.23488942176868,
          85.98277388255788,
          90.15922269734315,
          77.57219813481514,
          86.33525132934629,
          89.44815397811719,
          85.41141994637712,
          90.32740187532676,
          82.41355774949814,
          92.0467372009279,
          96.49449061809624,
          83.18580719780171,
          82.77248739299614,
          92.2669223855885,
          92.89786072865355,
          82.38569986423366,
          82.89906591452072,
          83.59107695569746,
          78.27774744482862,
          80.40674026757901,
          79.97929616623966,
          81.16101217447935,
          84.8265755630661,
          86.1710736626826,
          92.7525024640704,
          80.00822979630604,
          89.92161199238292,
          83.93005577887246,
          84.75268145173783,
          88.37409746083301,
          79.3863898921885,
          86.91204873092025,
          85.83226104106528,
          87.46225632004075,
          86.44584321953909,
          97.27650069955448,
          81.81130007874341,
          82.34501522499092,
          81.88429736787617,
          82.22261440419872,
          81.81306436346742,
          90.94508265553776,
          92.10252123994928,
          82.14626853125262,
          80.83822213447885,
          87.35707778193202,
          82.23888477859515,
          88.16465908877755,
          86.01461510425649,
          77.42127942501384,
          92.73752600665031,
          93.9793883654776,
          81.93605654757806,
          83.06149220032007,
          86.42932695362452,
          86.67228394993512,
          88.29272136336415,
          95.05102269383175,
          84.11526386252976,
          81.00851377730773,
          78.10340385992737,
          81.3453498002904,
          84.83436513563102,
          93.97278931758892,
          82.41194350481915,
          86.11893975819449,
          84.91788551963624,
          90.94196636724044,
          97.63466212936812,
          82.3456561353984,
          82.5528027874089,
          90.22080438534536,
          88.40945744813156,
          94.23353662868016,
          87.91964092662982,
          83.2035395460647,
          87.95327415346155,
          90.54351790291454,
          89.10241090598682,
          87.53637015553649,
          90.33337344794576,
          90.84647795222835,
          91.91079495518764,
          88.24354943794822,
          84.16440959841573,
          85.73356843216662,
          91.0325448325418,
          80.91532164506381,
          86.8433665443645,
          83.0333059383632,
          85.14372411467409,
          91.39225931303648,
          85.95549534009952,
          85.23218274078074,
          78.2007192951004,
          88.7312678301361,
          88.22742090570537,
          95.8162736165273,
          83.461108825235,
          86.0957516383197,
          86.24691841855378,
          92.88726639881736,
          84.52352233806523,
          86.39510762885169,
          88.0394825485827,
          85.9330456157818,
          82.76783192724736,
          85.97044996449154,
          90.36815874929886,
          79.8674235029447,
          85.66484837073438,
          81.49939592530413,
          90.9752331446242,
          77.38406547608113,
          82.20539076364206,
          86.8860593753226,
          92.8276201461717,
          84.67124869463507,
          82.22400236653401,
          94.40578534720296,
          77.75993049791877,
          74.00597021689958,
          87.20007225026666,
          82.48972887823695,
          79.89383591434644,
          88.54178223649677,
          86.219003568856,
          82.17960684631636,
          78.59847800664552,
          89.36228664140073,
          88.2510058897933,
          84.50412068110309,
          94.23318498023832,
          79.64957616836924,
          77.37237414537631,
          81.54045965059377,
          84.77206991822251,
          86.21669724661346,
          83.79381971071835,
          86.76027698257148,
          78.74230287904778,
          92.2188230203663,
          84.58924410803715,
          90.58647915794064,
          86.71362673188852,
          87.28376609576893,
          87.84883640116102,
          87.23854280008658,
          88.21361379933772,
          91.64576265066216,
          85.98260584850735,
          88.54501878794257,
          84.55132152856386,
          92.20058607724737,
          81.61803848970365,
          94.00470216455408,
          84.79921024677829,
          77.84612448940976,
          85.64052207455394,
          81.59474171262559,
          89.20321774494361,
          81.73688010348805,
          82.7690828339261,
          75.55229634527234,
          82.73846840375461,
          72.88060336685521,
          77.08048588257138,
          88.80207328072149,
          88.92900079325416,
          87.12728780892482,
          80.16511928435393,
          84.7614432192901,
          84.98198730454716,
          79.20817655403728,
          92.51699150883576,
          89.38681145287836,
          83.89517913085169,
          85.13442919497265,
          86.04191403973776,
          74.79132565787855,
          83.76411308739702,
          81.59007876001101,
          79.99189995052542,
          83.59449853557022,
          93.98843263424762,
          88.20421430633505,
          82.14410505108602,
          87.86291390678079
         ]
        }
       ],
       "layout": {
        "height": 500,
        "template": {
         "data": {
          "bar": [
           {
            "error_x": {
             "color": "#2a3f5f"
            },
            "error_y": {
             "color": "#2a3f5f"
            },
            "marker": {
             "line": {
              "color": "white",
              "width": 0.5
             },
             "pattern": {
              "fillmode": "overlay",
              "size": 10,
              "solidity": 0.2
             }
            },
            "type": "bar"
           }
          ],
          "barpolar": [
           {
            "marker": {
             "line": {
              "color": "white",
              "width": 0.5
             },
             "pattern": {
              "fillmode": "overlay",
              "size": 10,
              "solidity": 0.2
             }
            },
            "type": "barpolar"
           }
          ],
          "carpet": [
           {
            "aaxis": {
             "endlinecolor": "#2a3f5f",
             "gridcolor": "#C8D4E3",
             "linecolor": "#C8D4E3",
             "minorgridcolor": "#C8D4E3",
             "startlinecolor": "#2a3f5f"
            },
            "baxis": {
             "endlinecolor": "#2a3f5f",
             "gridcolor": "#C8D4E3",
             "linecolor": "#C8D4E3",
             "minorgridcolor": "#C8D4E3",
             "startlinecolor": "#2a3f5f"
            },
            "type": "carpet"
           }
          ],
          "choropleth": [
           {
            "colorbar": {
             "outlinewidth": 0,
             "ticks": ""
            },
            "type": "choropleth"
           }
          ],
          "contour": [
           {
            "colorbar": {
             "outlinewidth": 0,
             "ticks": ""
            },
            "colorscale": [
             [
              0,
              "#0d0887"
             ],
             [
              0.1111111111111111,
              "#46039f"
             ],
             [
              0.2222222222222222,
              "#7201a8"
             ],
             [
              0.3333333333333333,
              "#9c179e"
             ],
             [
              0.4444444444444444,
              "#bd3786"
             ],
             [
              0.5555555555555556,
              "#d8576b"
             ],
             [
              0.6666666666666666,
              "#ed7953"
             ],
             [
              0.7777777777777778,
              "#fb9f3a"
             ],
             [
              0.8888888888888888,
              "#fdca26"
             ],
             [
              1,
              "#f0f921"
             ]
            ],
            "type": "contour"
           }
          ],
          "contourcarpet": [
           {
            "colorbar": {
             "outlinewidth": 0,
             "ticks": ""
            },
            "type": "contourcarpet"
           }
          ],
          "heatmap": [
           {
            "colorbar": {
             "outlinewidth": 0,
             "ticks": ""
            },
            "colorscale": [
             [
              0,
              "#0d0887"
             ],
             [
              0.1111111111111111,
              "#46039f"
             ],
             [
              0.2222222222222222,
              "#7201a8"
             ],
             [
              0.3333333333333333,
              "#9c179e"
             ],
             [
              0.4444444444444444,
              "#bd3786"
             ],
             [
              0.5555555555555556,
              "#d8576b"
             ],
             [
              0.6666666666666666,
              "#ed7953"
             ],
             [
              0.7777777777777778,
              "#fb9f3a"
             ],
             [
              0.8888888888888888,
              "#fdca26"
             ],
             [
              1,
              "#f0f921"
             ]
            ],
            "type": "heatmap"
           }
          ],
          "heatmapgl": [
           {
            "colorbar": {
             "outlinewidth": 0,
             "ticks": ""
            },
            "colorscale": [
             [
              0,
              "#0d0887"
             ],
             [
              0.1111111111111111,
              "#46039f"
             ],
             [
              0.2222222222222222,
              "#7201a8"
             ],
             [
              0.3333333333333333,
              "#9c179e"
             ],
             [
              0.4444444444444444,
              "#bd3786"
             ],
             [
              0.5555555555555556,
              "#d8576b"
             ],
             [
              0.6666666666666666,
              "#ed7953"
             ],
             [
              0.7777777777777778,
              "#fb9f3a"
             ],
             [
              0.8888888888888888,
              "#fdca26"
             ],
             [
              1,
              "#f0f921"
             ]
            ],
            "type": "heatmapgl"
           }
          ],
          "histogram": [
           {
            "marker": {
             "pattern": {
              "fillmode": "overlay",
              "size": 10,
              "solidity": 0.2
             }
            },
            "type": "histogram"
           }
          ],
          "histogram2d": [
           {
            "colorbar": {
             "outlinewidth": 0,
             "ticks": ""
            },
            "colorscale": [
             [
              0,
              "#0d0887"
             ],
             [
              0.1111111111111111,
              "#46039f"
             ],
             [
              0.2222222222222222,
              "#7201a8"
             ],
             [
              0.3333333333333333,
              "#9c179e"
             ],
             [
              0.4444444444444444,
              "#bd3786"
             ],
             [
              0.5555555555555556,
              "#d8576b"
             ],
             [
              0.6666666666666666,
              "#ed7953"
             ],
             [
              0.7777777777777778,
              "#fb9f3a"
             ],
             [
              0.8888888888888888,
              "#fdca26"
             ],
             [
              1,
              "#f0f921"
             ]
            ],
            "type": "histogram2d"
           }
          ],
          "histogram2dcontour": [
           {
            "colorbar": {
             "outlinewidth": 0,
             "ticks": ""
            },
            "colorscale": [
             [
              0,
              "#0d0887"
             ],
             [
              0.1111111111111111,
              "#46039f"
             ],
             [
              0.2222222222222222,
              "#7201a8"
             ],
             [
              0.3333333333333333,
              "#9c179e"
             ],
             [
              0.4444444444444444,
              "#bd3786"
             ],
             [
              0.5555555555555556,
              "#d8576b"
             ],
             [
              0.6666666666666666,
              "#ed7953"
             ],
             [
              0.7777777777777778,
              "#fb9f3a"
             ],
             [
              0.8888888888888888,
              "#fdca26"
             ],
             [
              1,
              "#f0f921"
             ]
            ],
            "type": "histogram2dcontour"
           }
          ],
          "mesh3d": [
           {
            "colorbar": {
             "outlinewidth": 0,
             "ticks": ""
            },
            "type": "mesh3d"
           }
          ],
          "parcoords": [
           {
            "line": {
             "colorbar": {
              "outlinewidth": 0,
              "ticks": ""
             }
            },
            "type": "parcoords"
           }
          ],
          "pie": [
           {
            "automargin": true,
            "type": "pie"
           }
          ],
          "scatter": [
           {
            "fillpattern": {
             "fillmode": "overlay",
             "size": 10,
             "solidity": 0.2
            },
            "type": "scatter"
           }
          ],
          "scatter3d": [
           {
            "line": {
             "colorbar": {
              "outlinewidth": 0,
              "ticks": ""
             }
            },
            "marker": {
             "colorbar": {
              "outlinewidth": 0,
              "ticks": ""
             }
            },
            "type": "scatter3d"
           }
          ],
          "scattercarpet": [
           {
            "marker": {
             "colorbar": {
              "outlinewidth": 0,
              "ticks": ""
             }
            },
            "type": "scattercarpet"
           }
          ],
          "scattergeo": [
           {
            "marker": {
             "colorbar": {
              "outlinewidth": 0,
              "ticks": ""
             }
            },
            "type": "scattergeo"
           }
          ],
          "scattergl": [
           {
            "marker": {
             "colorbar": {
              "outlinewidth": 0,
              "ticks": ""
             }
            },
            "type": "scattergl"
           }
          ],
          "scattermapbox": [
           {
            "marker": {
             "colorbar": {
              "outlinewidth": 0,
              "ticks": ""
             }
            },
            "type": "scattermapbox"
           }
          ],
          "scatterpolar": [
           {
            "marker": {
             "colorbar": {
              "outlinewidth": 0,
              "ticks": ""
             }
            },
            "type": "scatterpolar"
           }
          ],
          "scatterpolargl": [
           {
            "marker": {
             "colorbar": {
              "outlinewidth": 0,
              "ticks": ""
             }
            },
            "type": "scatterpolargl"
           }
          ],
          "scatterternary": [
           {
            "marker": {
             "colorbar": {
              "outlinewidth": 0,
              "ticks": ""
             }
            },
            "type": "scatterternary"
           }
          ],
          "surface": [
           {
            "colorbar": {
             "outlinewidth": 0,
             "ticks": ""
            },
            "colorscale": [
             [
              0,
              "#0d0887"
             ],
             [
              0.1111111111111111,
              "#46039f"
             ],
             [
              0.2222222222222222,
              "#7201a8"
             ],
             [
              0.3333333333333333,
              "#9c179e"
             ],
             [
              0.4444444444444444,
              "#bd3786"
             ],
             [
              0.5555555555555556,
              "#d8576b"
             ],
             [
              0.6666666666666666,
              "#ed7953"
             ],
             [
              0.7777777777777778,
              "#fb9f3a"
             ],
             [
              0.8888888888888888,
              "#fdca26"
             ],
             [
              1,
              "#f0f921"
             ]
            ],
            "type": "surface"
           }
          ],
          "table": [
           {
            "cells": {
             "fill": {
              "color": "#EBF0F8"
             },
             "line": {
              "color": "white"
             }
            },
            "header": {
             "fill": {
              "color": "#C8D4E3"
             },
             "line": {
              "color": "white"
             }
            },
            "type": "table"
           }
          ]
         },
         "layout": {
          "annotationdefaults": {
           "arrowcolor": "#2a3f5f",
           "arrowhead": 0,
           "arrowwidth": 1
          },
          "autotypenumbers": "strict",
          "coloraxis": {
           "colorbar": {
            "outlinewidth": 0,
            "ticks": ""
           }
          },
          "colorscale": {
           "diverging": [
            [
             0,
             "#8e0152"
            ],
            [
             0.1,
             "#c51b7d"
            ],
            [
             0.2,
             "#de77ae"
            ],
            [
             0.3,
             "#f1b6da"
            ],
            [
             0.4,
             "#fde0ef"
            ],
            [
             0.5,
             "#f7f7f7"
            ],
            [
             0.6,
             "#e6f5d0"
            ],
            [
             0.7,
             "#b8e186"
            ],
            [
             0.8,
             "#7fbc41"
            ],
            [
             0.9,
             "#4d9221"
            ],
            [
             1,
             "#276419"
            ]
           ],
           "sequential": [
            [
             0,
             "#0d0887"
            ],
            [
             0.1111111111111111,
             "#46039f"
            ],
            [
             0.2222222222222222,
             "#7201a8"
            ],
            [
             0.3333333333333333,
             "#9c179e"
            ],
            [
             0.4444444444444444,
             "#bd3786"
            ],
            [
             0.5555555555555556,
             "#d8576b"
            ],
            [
             0.6666666666666666,
             "#ed7953"
            ],
            [
             0.7777777777777778,
             "#fb9f3a"
            ],
            [
             0.8888888888888888,
             "#fdca26"
            ],
            [
             1,
             "#f0f921"
            ]
           ],
           "sequentialminus": [
            [
             0,
             "#0d0887"
            ],
            [
             0.1111111111111111,
             "#46039f"
            ],
            [
             0.2222222222222222,
             "#7201a8"
            ],
            [
             0.3333333333333333,
             "#9c179e"
            ],
            [
             0.4444444444444444,
             "#bd3786"
            ],
            [
             0.5555555555555556,
             "#d8576b"
            ],
            [
             0.6666666666666666,
             "#ed7953"
            ],
            [
             0.7777777777777778,
             "#fb9f3a"
            ],
            [
             0.8888888888888888,
             "#fdca26"
            ],
            [
             1,
             "#f0f921"
            ]
           ]
          },
          "colorway": [
           "#636efa",
           "#EF553B",
           "#00cc96",
           "#ab63fa",
           "#FFA15A",
           "#19d3f3",
           "#FF6692",
           "#B6E880",
           "#FF97FF",
           "#FECB52"
          ],
          "font": {
           "color": "#2a3f5f"
          },
          "geo": {
           "bgcolor": "white",
           "lakecolor": "white",
           "landcolor": "white",
           "showlakes": true,
           "showland": true,
           "subunitcolor": "#C8D4E3"
          },
          "hoverlabel": {
           "align": "left"
          },
          "hovermode": "closest",
          "mapbox": {
           "style": "light"
          },
          "paper_bgcolor": "white",
          "plot_bgcolor": "white",
          "polar": {
           "angularaxis": {
            "gridcolor": "#EBF0F8",
            "linecolor": "#EBF0F8",
            "ticks": ""
           },
           "bgcolor": "white",
           "radialaxis": {
            "gridcolor": "#EBF0F8",
            "linecolor": "#EBF0F8",
            "ticks": ""
           }
          },
          "scene": {
           "xaxis": {
            "backgroundcolor": "white",
            "gridcolor": "#DFE8F3",
            "gridwidth": 2,
            "linecolor": "#EBF0F8",
            "showbackground": true,
            "ticks": "",
            "zerolinecolor": "#EBF0F8"
           },
           "yaxis": {
            "backgroundcolor": "white",
            "gridcolor": "#DFE8F3",
            "gridwidth": 2,
            "linecolor": "#EBF0F8",
            "showbackground": true,
            "ticks": "",
            "zerolinecolor": "#EBF0F8"
           },
           "zaxis": {
            "backgroundcolor": "white",
            "gridcolor": "#DFE8F3",
            "gridwidth": 2,
            "linecolor": "#EBF0F8",
            "showbackground": true,
            "ticks": "",
            "zerolinecolor": "#EBF0F8"
           }
          },
          "shapedefaults": {
           "line": {
            "color": "#2a3f5f"
           }
          },
          "ternary": {
           "aaxis": {
            "gridcolor": "#DFE8F3",
            "linecolor": "#A2B1C6",
            "ticks": ""
           },
           "baxis": {
            "gridcolor": "#DFE8F3",
            "linecolor": "#A2B1C6",
            "ticks": ""
           },
           "bgcolor": "white",
           "caxis": {
            "gridcolor": "#DFE8F3",
            "linecolor": "#A2B1C6",
            "ticks": ""
           }
          },
          "title": {
           "x": 0.05
          },
          "xaxis": {
           "automargin": true,
           "gridcolor": "#EBF0F8",
           "linecolor": "#EBF0F8",
           "ticks": "",
           "title": {
            "standoff": 15
           },
           "zerolinecolor": "#EBF0F8",
           "zerolinewidth": 2
          },
          "yaxis": {
           "automargin": true,
           "gridcolor": "#EBF0F8",
           "linecolor": "#EBF0F8",
           "ticks": "",
           "title": {
            "standoff": 15
           },
           "zerolinecolor": "#EBF0F8",
           "zerolinewidth": 2
          }
         }
        },
        "title": {
         "font": {
          "color": "black"
         },
         "text": "Diagrama de violín de fc_antes"
        },
        "width": 800,
        "yaxis": {
         "title": {
          "text": "Valor"
         }
        }
       }
      }
     },
     "metadata": {},
     "output_type": "display_data"
    }
   ],
   "source": [
    "graficar_violin(df_csv, 'edad')\n",
    "\n",
    "graficar_violin(df_csv, 'fc_antes')"
   ]
  },
  {
   "cell_type": "markdown",
   "metadata": {},
   "source": [
    "**5. Gráfico de puntos (Strip plot / Dot plot)**:\n",
    "\n",
    "Muestra cada observación como un punto individual.\n",
    "\n",
    "✅ Para qué se usa: Observar la frecuencia y dispersión. se recomienda especialmente para muestras pequeñas, ya que permite observar el valor individual de cada observación. Sin embargo, con ajustes visuales (como transparencia o jitter), también puede ser útil con muestras grandes, ayudando a visualizar la concentración y dispersión de los datos.\n",
    "\n",
    "Interpretación: \n",
    "\n",
    "Se ven acumulaciones o repeticiones fácilmente.\n",
    "\n"
   ]
  },
  {
   "cell_type": "code",
   "execution_count": 26,
   "metadata": {},
   "outputs": [],
   "source": [
    "def grafico_puntos(df, col, opacity=0.7, size=6, color_palette=\"#4C78A8\"):\n",
    "    \"\"\"\n",
    "    Genera un gráfico de dispersión para una sola variable numérica.\n",
    "\n",
    "    Parámetros:\n",
    "    - df: DataFrame con los datos.\n",
    "    - col: Nombre de la columna numérica.\n",
    "    - opacity: Transparencia de los puntos (entre 0 y 1).\n",
    "    - size: Tamaño de los puntos.\n",
    "    - title: Título del gráfico (opcional).\n",
    "    - color_palette: Color de los puntos.\n",
    "    \"\"\"\n",
    "    fig = px.scatter(\n",
    "        df,\n",
    "        x=df.index,\n",
    "        y=col,\n",
    "        opacity=opacity,\n",
    "        title= f\"Gráfico de dispersión de {col}\",\n",
    "        template=\"plotly_white\"\n",
    "    )\n",
    "\n",
    "    fig.update_traces(marker=dict(size=size, color=color_palette, line=dict(width=0)))\n",
    "    fig.update_layout(\n",
    "        xaxis_title=\"Índice (posición en el DataFrame)\",\n",
    "        yaxis_title=col,\n",
    "        title_font=dict(size=18)\n",
    "    )\n",
    "\n",
    "    fig.show()"
   ]
  },
  {
   "cell_type": "code",
   "execution_count": 27,
   "metadata": {},
   "outputs": [
    {
     "data": {
      "application/vnd.plotly.v1+json": {
       "config": {
        "plotlyServerURL": "https://plot.ly"
       },
       "data": [
        {
         "hovertemplate": "index=%{x}<br>edad=%{y}<extra></extra>",
         "legendgroup": "",
         "marker": {
          "color": "#4C78A8",
          "line": {
           "width": 0
          },
          "opacity": 0.7,
          "size": 6,
          "symbol": "circle"
         },
         "mode": "markers",
         "name": "",
         "orientation": "v",
         "showlegend": false,
         "type": "scatter",
         "x": [
          0,
          1,
          2,
          3,
          4,
          5,
          6,
          7,
          8,
          9,
          10,
          11,
          12,
          13,
          14,
          15,
          16,
          17,
          18,
          19,
          20,
          21,
          22,
          23,
          24,
          25,
          26,
          27,
          28,
          29,
          30,
          31,
          32,
          33,
          34,
          35,
          36,
          37,
          38,
          39,
          40,
          41,
          42,
          43,
          44,
          45,
          46,
          47,
          48,
          49,
          50,
          51,
          52,
          53,
          54,
          55,
          56,
          57,
          58,
          59,
          60,
          61,
          62,
          63,
          64,
          65,
          66,
          67,
          68,
          69,
          70,
          71,
          72,
          73,
          74,
          75,
          76,
          77,
          78,
          79,
          80,
          81,
          82,
          83,
          84,
          85,
          86,
          87,
          88,
          89,
          90,
          91,
          92,
          93,
          94,
          95,
          96,
          97,
          98,
          99,
          100,
          101,
          102,
          103,
          104,
          105,
          106,
          107,
          108,
          109,
          110,
          111,
          112,
          113,
          114,
          115,
          116,
          117,
          118,
          119,
          120,
          121,
          122,
          123,
          124,
          125,
          126,
          127,
          128,
          129,
          130,
          131,
          132,
          133,
          134,
          135,
          136,
          137,
          138,
          139,
          140,
          141,
          142,
          143,
          144,
          145,
          146,
          147,
          148,
          149,
          150,
          151,
          152,
          153,
          154,
          155,
          156,
          157,
          158,
          159,
          160,
          161,
          162,
          163,
          164,
          165,
          166,
          167,
          168,
          169,
          170,
          171,
          172,
          173,
          174,
          175,
          176,
          177,
          178,
          179,
          180,
          181,
          182,
          183,
          184,
          185,
          186,
          187,
          188,
          189,
          190,
          191,
          192,
          193,
          194,
          195,
          196,
          197,
          198,
          199,
          200,
          201,
          202,
          203,
          204,
          205,
          206,
          207,
          208,
          209,
          210,
          211,
          212,
          213,
          214,
          215,
          216,
          217,
          218,
          219,
          220,
          221,
          222,
          223,
          224,
          225,
          226,
          227,
          228,
          229,
          230,
          231,
          232,
          233,
          234,
          235,
          236,
          237,
          238,
          239,
          240,
          241,
          242,
          243,
          244,
          245,
          246,
          247,
          248,
          249,
          250,
          251,
          252,
          253,
          254,
          255,
          256,
          257,
          258,
          259,
          260,
          261,
          262,
          263,
          264,
          265,
          266,
          267,
          268,
          269,
          270,
          271,
          272,
          273,
          274,
          275,
          276,
          277,
          278,
          279,
          280,
          281,
          282,
          283,
          284,
          285,
          286,
          287,
          288,
          289,
          290,
          291,
          292,
          293,
          294,
          295,
          296,
          297,
          298,
          299,
          300,
          301,
          302,
          303,
          304,
          305,
          306,
          307,
          308,
          309,
          310,
          311,
          312,
          313,
          314,
          315,
          316,
          317,
          318,
          319,
          320,
          321,
          322,
          323,
          324,
          325,
          326,
          327,
          328,
          329,
          330,
          331,
          332,
          333,
          334,
          335,
          336,
          337,
          338,
          339,
          340,
          341,
          342,
          343,
          344,
          345,
          346,
          347,
          348,
          349,
          350,
          351,
          352,
          353,
          354,
          355,
          356,
          357,
          358,
          359,
          360,
          361,
          362,
          363,
          364,
          365,
          366,
          367,
          368,
          369,
          370,
          371,
          372,
          373,
          374,
          375,
          376,
          377,
          378,
          379,
          380,
          381,
          382,
          383,
          384,
          385,
          386,
          387,
          388,
          389,
          390,
          391,
          392,
          393,
          394,
          395,
          396,
          397,
          398,
          399,
          400,
          401,
          402,
          403,
          404,
          405,
          406,
          407,
          408,
          409,
          410,
          411,
          412,
          413,
          414,
          415,
          416,
          417,
          418,
          419,
          420,
          421,
          422,
          423,
          424,
          425,
          426,
          427,
          428,
          429,
          430,
          431,
          432,
          433,
          434,
          435,
          436,
          437,
          438,
          439,
          440,
          441,
          442,
          443,
          444,
          445,
          446,
          447,
          448,
          449,
          450,
          451,
          452,
          453,
          454,
          455,
          456,
          457,
          458,
          459,
          460,
          461,
          462,
          463,
          464,
          465,
          466,
          467,
          468,
          469,
          470,
          471,
          472,
          473,
          474,
          475,
          476,
          477,
          478,
          479,
          480,
          481,
          482,
          483,
          484,
          485,
          486,
          487,
          488,
          489,
          490,
          491,
          492,
          493,
          494,
          495,
          496,
          497,
          498,
          499,
          500,
          501,
          502,
          503,
          504,
          505,
          506,
          507,
          508,
          509,
          510,
          511,
          512,
          513,
          514,
          515,
          516,
          517,
          518,
          519,
          520,
          521,
          522,
          523,
          524,
          525,
          526,
          527,
          528,
          529,
          530,
          531,
          532,
          533,
          534,
          535,
          536,
          537,
          538,
          539,
          540,
          541,
          542,
          543,
          544,
          545,
          546,
          547,
          548,
          549,
          550,
          551,
          552,
          553,
          554,
          555,
          556,
          557,
          558,
          559,
          560,
          561,
          562,
          563,
          564,
          565,
          566,
          567,
          568,
          569,
          570,
          571,
          572,
          573,
          574,
          575,
          576,
          577,
          578,
          579,
          580,
          581,
          582,
          583,
          584,
          585,
          586,
          587,
          588,
          589,
          590,
          591,
          592,
          593,
          594,
          595,
          596,
          597,
          598,
          599,
          600,
          601,
          602,
          603,
          604,
          605,
          606,
          607,
          608,
          609,
          610,
          611,
          612,
          613,
          614,
          615,
          616,
          617,
          618,
          619,
          620,
          621,
          622,
          623,
          624,
          625,
          626,
          627,
          628,
          629,
          630,
          631,
          632,
          633,
          634,
          635,
          636,
          637,
          638,
          639,
          640,
          641,
          642,
          643,
          644,
          645,
          646,
          647,
          648,
          649,
          650,
          651,
          652,
          653,
          654,
          655,
          656,
          657,
          658,
          659,
          660,
          661,
          662,
          663,
          664,
          665,
          666,
          667,
          668,
          669,
          670,
          671,
          672,
          673,
          674,
          675,
          676,
          677,
          678,
          679,
          680,
          681,
          682,
          683,
          684,
          685,
          686,
          687,
          688,
          689,
          690,
          691,
          692,
          693,
          694,
          695,
          696,
          697,
          698,
          699,
          700,
          701,
          702,
          703,
          704,
          705,
          706,
          707,
          708,
          709,
          710,
          711,
          712,
          713,
          714,
          715,
          716,
          717,
          718,
          719,
          720,
          721,
          722,
          723,
          724,
          725,
          726,
          727,
          728,
          729,
          730,
          731,
          732,
          733,
          734,
          735,
          736,
          737,
          738,
          739,
          740,
          741,
          742,
          743,
          744,
          745,
          746,
          747,
          748,
          749,
          750,
          751,
          752,
          753,
          754,
          755,
          756,
          757,
          758,
          759,
          760,
          761,
          762,
          763,
          764,
          765,
          766,
          767,
          768,
          769,
          770,
          771,
          772,
          773,
          774,
          775,
          776,
          777,
          778,
          779,
          780,
          781,
          782,
          783,
          784,
          785,
          786,
          787,
          788,
          789,
          790,
          791,
          792,
          793,
          794,
          795,
          796,
          797,
          798,
          799,
          800,
          801,
          802,
          803,
          804,
          805,
          806,
          807,
          808,
          809,
          810,
          811,
          812,
          813,
          814,
          815,
          816,
          817,
          818,
          819,
          820,
          821,
          822,
          823,
          824,
          825,
          826,
          827,
          828,
          829,
          830,
          831,
          832,
          833,
          834,
          835,
          836,
          837,
          838,
          839,
          840,
          841,
          842,
          843,
          844,
          845,
          846,
          847,
          848,
          849,
          850,
          851,
          852,
          853,
          854,
          855,
          856,
          857,
          858,
          859,
          860,
          861,
          862,
          863,
          864,
          865,
          866,
          867,
          868,
          869,
          870,
          871,
          872,
          873,
          874,
          875,
          876,
          877,
          878,
          879,
          880,
          881,
          882,
          883,
          884,
          885,
          886,
          887,
          888,
          889,
          890,
          891,
          892,
          893,
          894,
          895,
          896,
          897,
          898,
          899,
          900,
          901,
          902,
          903,
          904,
          905,
          906,
          907,
          908,
          909,
          910,
          911,
          912,
          913,
          914,
          915,
          916,
          917,
          918,
          919,
          920,
          921,
          922,
          923,
          924,
          925,
          926,
          927,
          928,
          929,
          930,
          931,
          932,
          933,
          934,
          935,
          936,
          937,
          938,
          939,
          940,
          941,
          942,
          943,
          944,
          945,
          946,
          947,
          948,
          949,
          950,
          951,
          952,
          953,
          954,
          955,
          956,
          957,
          958,
          959,
          960,
          961,
          962,
          963,
          964,
          965,
          966,
          967,
          968,
          969,
          970,
          971,
          972,
          973,
          974,
          975,
          976,
          977,
          978,
          979,
          980,
          981,
          982,
          983,
          984,
          985,
          986,
          987,
          988,
          989,
          990,
          991,
          992,
          993,
          994,
          995,
          996,
          997,
          998,
          999
         ],
         "xaxis": "x",
         "y": [
          36,
          28,
          54,
          42,
          29,
          36,
          47,
          34,
          31,
          35,
          36,
          36,
          53,
          62,
          29,
          44,
          35,
          27,
          51,
          50,
          34,
          34,
          34,
          26,
          46,
          37,
          42,
          62,
          35,
          23,
          40,
          55,
          53,
          38,
          37,
          58,
          46,
          46,
          36,
          28,
          35,
          34,
          32,
          43,
          54,
          31,
          42,
          41,
          52,
          39,
          25,
          41,
          43,
          43,
          45,
          36,
          22,
          28,
          32,
          24,
          26,
          32,
          43,
          61,
          47,
          36,
          25,
          39,
          20,
          32,
          56,
          40,
          47,
          43,
          45,
          38,
          45,
          54,
          42,
          20,
          26,
          51,
          32,
          47,
          45,
          52,
          33,
          62,
          48,
          32,
          40,
          27,
          39,
          38,
          28,
          31,
          53,
          52,
          59,
          32,
          54,
          37,
          45,
          49,
          20,
          47,
          35,
          30,
          31,
          39,
          34,
          41,
          43,
          51,
          44,
          37,
          38,
          32,
          29,
          45,
          49,
          41,
          20,
          39,
          32,
          51,
          45,
          59,
          22,
          37,
          53,
          32,
          20,
          50,
          30,
          52,
          34,
          29,
          44,
          41,
          39,
          35,
          40,
          42,
          62,
          39,
          36,
          49,
          39,
          37,
          38,
          46,
          33,
          50,
          36,
          33,
          44,
          34,
          28,
          26,
          27,
          40,
          31,
          62,
          39,
          39,
          51,
          28,
          33,
          35,
          49,
          39,
          48,
          34,
          45,
          43,
          31,
          34,
          44,
          29,
          35,
          32,
          51,
          51,
          47,
          32,
          29,
          50,
          36,
          53,
          46,
          53,
          49,
          27,
          42,
          23,
          32,
          42,
          44,
          49,
          36,
          36,
          57,
          58,
          62,
          31,
          56,
          26,
          46,
          23,
          38,
          36,
          44,
          18,
          48,
          53,
          34,
          23,
          41,
          53,
          44,
          62,
          54,
          35,
          53,
          39,
          42,
          29,
          50,
          40,
          47,
          39,
          44,
          39,
          41,
          49,
          44,
          49,
          32,
          27,
          35,
          54,
          48,
          42,
          53,
          45,
          27,
          28,
          28,
          32,
          53,
          40,
          37,
          51,
          51,
          50,
          30,
          42,
          36,
          53,
          47,
          55,
          30,
          38,
          33,
          23,
          23,
          43,
          31,
          47,
          38,
          48,
          33,
          50,
          43,
          33,
          36,
          27,
          44,
          28,
          43,
          46,
          41,
          33,
          46,
          49,
          45,
          44,
          45,
          32,
          60,
          21,
          47,
          54,
          57,
          35,
          24,
          43,
          50,
          40,
          33,
          45,
          42,
          31,
          38,
          23,
          43,
          40,
          33,
          28,
          20,
          59,
          38,
          36,
          41,
          59,
          43,
          43,
          43,
          36,
          27,
          46,
          48,
          48,
          44,
          37,
          27,
          49,
          43,
          38,
          46,
          52,
          29,
          37,
          44,
          58,
          41,
          44,
          18,
          51,
          24,
          40,
          43,
          28,
          52,
          61,
          36,
          31,
          21,
          42,
          36,
          50,
          31,
          40,
          38,
          31,
          47,
          23,
          35,
          38,
          38,
          54,
          46,
          41,
          32,
          25,
          55,
          53,
          42,
          51,
          43,
          39,
          51,
          46,
          27,
          49,
          30,
          43,
          57,
          55,
          38,
          44,
          36,
          45,
          49,
          49,
          45,
          57,
          62,
          49,
          50,
          44,
          55,
          35,
          57,
          49,
          39,
          46,
          44,
          41,
          54,
          46,
          36,
          32,
          38,
          29,
          43,
          48,
          58,
          46,
          50,
          42,
          23,
          44,
          43,
          37,
          43,
          26,
          49,
          51,
          45,
          49,
          42,
          41,
          34,
          41,
          32,
          47,
          54,
          30,
          58,
          36,
          50,
          60,
          53,
          33,
          46,
          31,
          34,
          54,
          29,
          62,
          29,
          36,
          46,
          44,
          29,
          38,
          29,
          37,
          18,
          25,
          54,
          53,
          52,
          33,
          62,
          44,
          37,
          44,
          49,
          27,
          53,
          51,
          31,
          35,
          33,
          29,
          43,
          34,
          43,
          60,
          41,
          47,
          30,
          48,
          43,
          37,
          57,
          57,
          55,
          53,
          32,
          41,
          52,
          45,
          28,
          49,
          25,
          29,
          47,
          36,
          43,
          31,
          47,
          36,
          55,
          28,
          58,
          47,
          46,
          35,
          52,
          62,
          18,
          52,
          21,
          41,
          18,
          39,
          39,
          44,
          41,
          61,
          46,
          39,
          46,
          44,
          44,
          39,
          27,
          50,
          41,
          20,
          60,
          30,
          43,
          42,
          22,
          45,
          31,
          55,
          50,
          18,
          40,
          45,
          19,
          44,
          37,
          34,
          56,
          49,
          56,
          55,
          55,
          56,
          36,
          55,
          50,
          43,
          46,
          46,
          48,
          48,
          50,
          62,
          34,
          45,
          43,
          51,
          37,
          22,
          34,
          28,
          43,
          38,
          18,
          62,
          45,
          20,
          47,
          39,
          36,
          34,
          44,
          49,
          41,
          40,
          58,
          46,
          48,
          56,
          58,
          43,
          29,
          37,
          39,
          25,
          53,
          35,
          36,
          23,
          36,
          37,
          50,
          45,
          50,
          39,
          26,
          49,
          43,
          53,
          37,
          50,
          39,
          56,
          21,
          43,
          46,
          43,
          46,
          30,
          41,
          47,
          25,
          47,
          34,
          23,
          36,
          49,
          28,
          36,
          36,
          30,
          45,
          39,
          33,
          45,
          26,
          25,
          30,
          42,
          54,
          47,
          39,
          36,
          40,
          34,
          49,
          18,
          46,
          27,
          48,
          52,
          46,
          49,
          50,
          48,
          33,
          32,
          30,
          29,
          36,
          37,
          29,
          49,
          41,
          29,
          50,
          21,
          48,
          46,
          30,
          30,
          38,
          35,
          55,
          35,
          37,
          38,
          41,
          49,
          58,
          30,
          58,
          44,
          48,
          34,
          18,
          36,
          37,
          54,
          38,
          45,
          33,
          30,
          39,
          30,
          39,
          38,
          44,
          37,
          38,
          36,
          53,
          56,
          34,
          46,
          41,
          33,
          53,
          48,
          42,
          46,
          37,
          34,
          52,
          39,
          54,
          62,
          41,
          32,
          54,
          39,
          42,
          30,
          45,
          53,
          35,
          37,
          39,
          50,
          31,
          40,
          25,
          37,
          59,
          48,
          48,
          31,
          52,
          34,
          58,
          52,
          35,
          41,
          45,
          31,
          42,
          49,
          38,
          18,
          53,
          45,
          50,
          46,
          49,
          54,
          21,
          42,
          44,
          18,
          40,
          42,
          43,
          27,
          51,
          41,
          38,
          45,
          40,
          42,
          38,
          44,
          53,
          46,
          62,
          49,
          34,
          49,
          43,
          41,
          47,
          57,
          47,
          46,
          35,
          42,
          33,
          21,
          37,
          52,
          50,
          34,
          37,
          37,
          38,
          51,
          62,
          40,
          40,
          18,
          52,
          58,
          52,
          45,
          53,
          37,
          40,
          54,
          43,
          28,
          46,
          32,
          46,
          47,
          41,
          40,
          25,
          62,
          45,
          41,
          42,
          48,
          38,
          56,
          23,
          44,
          37,
          30,
          46,
          50,
          36,
          35,
          35,
          45,
          32,
          38,
          44,
          39,
          40,
          43,
          50,
          42,
          33,
          53,
          33,
          28,
          28,
          50,
          37,
          52,
          35,
          42,
          40,
          46,
          49,
          42,
          51,
          34,
          37,
          34,
          43,
          50,
          38,
          41,
          43,
          34,
          39,
          31,
          39,
          36,
          37,
          40,
          40,
          49,
          53,
          33,
          62,
          32,
          38,
          39,
          56,
          33,
          24,
          18,
          39,
          35,
          38,
          32,
          35,
          40,
          46,
          31,
          30,
          53,
          39,
          43,
          39,
          22,
          40,
          47,
          30,
          44,
          31,
          54,
          37,
          42,
          36,
          56,
          60,
          47,
          50,
          29,
          52,
          36,
          45,
          23,
          42,
          21,
          45,
          40,
          31,
          29,
          29,
          41,
          18,
          42,
          48,
          33,
          45,
          40,
          50,
          24,
          55,
          51,
          41,
          37,
          36,
          43,
          34,
          34,
          35,
          37,
          37,
          46,
          43,
          55,
          36,
          46,
          31,
          34,
          46,
          44,
          55,
          30,
          23,
          30,
          32,
          49,
          27,
          39,
          18,
          38,
          31,
          49,
          36,
          39,
          43,
          42,
          38,
          51,
          53,
          44,
          46,
          45,
          40,
          62,
          39,
          28,
          52,
          57,
          41,
          25,
          40,
          46,
          26,
          40,
          56,
          20,
          36,
          42,
          36,
          53,
          37,
          49,
          42,
          39,
          43,
          55,
          33,
          29,
          30,
          36,
          42,
          59,
          21,
          23,
          32,
          43
         ],
         "yaxis": "y"
        }
       ],
       "layout": {
        "legend": {
         "tracegroupgap": 0
        },
        "template": {
         "data": {
          "bar": [
           {
            "error_x": {
             "color": "#2a3f5f"
            },
            "error_y": {
             "color": "#2a3f5f"
            },
            "marker": {
             "line": {
              "color": "white",
              "width": 0.5
             },
             "pattern": {
              "fillmode": "overlay",
              "size": 10,
              "solidity": 0.2
             }
            },
            "type": "bar"
           }
          ],
          "barpolar": [
           {
            "marker": {
             "line": {
              "color": "white",
              "width": 0.5
             },
             "pattern": {
              "fillmode": "overlay",
              "size": 10,
              "solidity": 0.2
             }
            },
            "type": "barpolar"
           }
          ],
          "carpet": [
           {
            "aaxis": {
             "endlinecolor": "#2a3f5f",
             "gridcolor": "#C8D4E3",
             "linecolor": "#C8D4E3",
             "minorgridcolor": "#C8D4E3",
             "startlinecolor": "#2a3f5f"
            },
            "baxis": {
             "endlinecolor": "#2a3f5f",
             "gridcolor": "#C8D4E3",
             "linecolor": "#C8D4E3",
             "minorgridcolor": "#C8D4E3",
             "startlinecolor": "#2a3f5f"
            },
            "type": "carpet"
           }
          ],
          "choropleth": [
           {
            "colorbar": {
             "outlinewidth": 0,
             "ticks": ""
            },
            "type": "choropleth"
           }
          ],
          "contour": [
           {
            "colorbar": {
             "outlinewidth": 0,
             "ticks": ""
            },
            "colorscale": [
             [
              0,
              "#0d0887"
             ],
             [
              0.1111111111111111,
              "#46039f"
             ],
             [
              0.2222222222222222,
              "#7201a8"
             ],
             [
              0.3333333333333333,
              "#9c179e"
             ],
             [
              0.4444444444444444,
              "#bd3786"
             ],
             [
              0.5555555555555556,
              "#d8576b"
             ],
             [
              0.6666666666666666,
              "#ed7953"
             ],
             [
              0.7777777777777778,
              "#fb9f3a"
             ],
             [
              0.8888888888888888,
              "#fdca26"
             ],
             [
              1,
              "#f0f921"
             ]
            ],
            "type": "contour"
           }
          ],
          "contourcarpet": [
           {
            "colorbar": {
             "outlinewidth": 0,
             "ticks": ""
            },
            "type": "contourcarpet"
           }
          ],
          "heatmap": [
           {
            "colorbar": {
             "outlinewidth": 0,
             "ticks": ""
            },
            "colorscale": [
             [
              0,
              "#0d0887"
             ],
             [
              0.1111111111111111,
              "#46039f"
             ],
             [
              0.2222222222222222,
              "#7201a8"
             ],
             [
              0.3333333333333333,
              "#9c179e"
             ],
             [
              0.4444444444444444,
              "#bd3786"
             ],
             [
              0.5555555555555556,
              "#d8576b"
             ],
             [
              0.6666666666666666,
              "#ed7953"
             ],
             [
              0.7777777777777778,
              "#fb9f3a"
             ],
             [
              0.8888888888888888,
              "#fdca26"
             ],
             [
              1,
              "#f0f921"
             ]
            ],
            "type": "heatmap"
           }
          ],
          "heatmapgl": [
           {
            "colorbar": {
             "outlinewidth": 0,
             "ticks": ""
            },
            "colorscale": [
             [
              0,
              "#0d0887"
             ],
             [
              0.1111111111111111,
              "#46039f"
             ],
             [
              0.2222222222222222,
              "#7201a8"
             ],
             [
              0.3333333333333333,
              "#9c179e"
             ],
             [
              0.4444444444444444,
              "#bd3786"
             ],
             [
              0.5555555555555556,
              "#d8576b"
             ],
             [
              0.6666666666666666,
              "#ed7953"
             ],
             [
              0.7777777777777778,
              "#fb9f3a"
             ],
             [
              0.8888888888888888,
              "#fdca26"
             ],
             [
              1,
              "#f0f921"
             ]
            ],
            "type": "heatmapgl"
           }
          ],
          "histogram": [
           {
            "marker": {
             "pattern": {
              "fillmode": "overlay",
              "size": 10,
              "solidity": 0.2
             }
            },
            "type": "histogram"
           }
          ],
          "histogram2d": [
           {
            "colorbar": {
             "outlinewidth": 0,
             "ticks": ""
            },
            "colorscale": [
             [
              0,
              "#0d0887"
             ],
             [
              0.1111111111111111,
              "#46039f"
             ],
             [
              0.2222222222222222,
              "#7201a8"
             ],
             [
              0.3333333333333333,
              "#9c179e"
             ],
             [
              0.4444444444444444,
              "#bd3786"
             ],
             [
              0.5555555555555556,
              "#d8576b"
             ],
             [
              0.6666666666666666,
              "#ed7953"
             ],
             [
              0.7777777777777778,
              "#fb9f3a"
             ],
             [
              0.8888888888888888,
              "#fdca26"
             ],
             [
              1,
              "#f0f921"
             ]
            ],
            "type": "histogram2d"
           }
          ],
          "histogram2dcontour": [
           {
            "colorbar": {
             "outlinewidth": 0,
             "ticks": ""
            },
            "colorscale": [
             [
              0,
              "#0d0887"
             ],
             [
              0.1111111111111111,
              "#46039f"
             ],
             [
              0.2222222222222222,
              "#7201a8"
             ],
             [
              0.3333333333333333,
              "#9c179e"
             ],
             [
              0.4444444444444444,
              "#bd3786"
             ],
             [
              0.5555555555555556,
              "#d8576b"
             ],
             [
              0.6666666666666666,
              "#ed7953"
             ],
             [
              0.7777777777777778,
              "#fb9f3a"
             ],
             [
              0.8888888888888888,
              "#fdca26"
             ],
             [
              1,
              "#f0f921"
             ]
            ],
            "type": "histogram2dcontour"
           }
          ],
          "mesh3d": [
           {
            "colorbar": {
             "outlinewidth": 0,
             "ticks": ""
            },
            "type": "mesh3d"
           }
          ],
          "parcoords": [
           {
            "line": {
             "colorbar": {
              "outlinewidth": 0,
              "ticks": ""
             }
            },
            "type": "parcoords"
           }
          ],
          "pie": [
           {
            "automargin": true,
            "type": "pie"
           }
          ],
          "scatter": [
           {
            "fillpattern": {
             "fillmode": "overlay",
             "size": 10,
             "solidity": 0.2
            },
            "type": "scatter"
           }
          ],
          "scatter3d": [
           {
            "line": {
             "colorbar": {
              "outlinewidth": 0,
              "ticks": ""
             }
            },
            "marker": {
             "colorbar": {
              "outlinewidth": 0,
              "ticks": ""
             }
            },
            "type": "scatter3d"
           }
          ],
          "scattercarpet": [
           {
            "marker": {
             "colorbar": {
              "outlinewidth": 0,
              "ticks": ""
             }
            },
            "type": "scattercarpet"
           }
          ],
          "scattergeo": [
           {
            "marker": {
             "colorbar": {
              "outlinewidth": 0,
              "ticks": ""
             }
            },
            "type": "scattergeo"
           }
          ],
          "scattergl": [
           {
            "marker": {
             "colorbar": {
              "outlinewidth": 0,
              "ticks": ""
             }
            },
            "type": "scattergl"
           }
          ],
          "scattermapbox": [
           {
            "marker": {
             "colorbar": {
              "outlinewidth": 0,
              "ticks": ""
             }
            },
            "type": "scattermapbox"
           }
          ],
          "scatterpolar": [
           {
            "marker": {
             "colorbar": {
              "outlinewidth": 0,
              "ticks": ""
             }
            },
            "type": "scatterpolar"
           }
          ],
          "scatterpolargl": [
           {
            "marker": {
             "colorbar": {
              "outlinewidth": 0,
              "ticks": ""
             }
            },
            "type": "scatterpolargl"
           }
          ],
          "scatterternary": [
           {
            "marker": {
             "colorbar": {
              "outlinewidth": 0,
              "ticks": ""
             }
            },
            "type": "scatterternary"
           }
          ],
          "surface": [
           {
            "colorbar": {
             "outlinewidth": 0,
             "ticks": ""
            },
            "colorscale": [
             [
              0,
              "#0d0887"
             ],
             [
              0.1111111111111111,
              "#46039f"
             ],
             [
              0.2222222222222222,
              "#7201a8"
             ],
             [
              0.3333333333333333,
              "#9c179e"
             ],
             [
              0.4444444444444444,
              "#bd3786"
             ],
             [
              0.5555555555555556,
              "#d8576b"
             ],
             [
              0.6666666666666666,
              "#ed7953"
             ],
             [
              0.7777777777777778,
              "#fb9f3a"
             ],
             [
              0.8888888888888888,
              "#fdca26"
             ],
             [
              1,
              "#f0f921"
             ]
            ],
            "type": "surface"
           }
          ],
          "table": [
           {
            "cells": {
             "fill": {
              "color": "#EBF0F8"
             },
             "line": {
              "color": "white"
             }
            },
            "header": {
             "fill": {
              "color": "#C8D4E3"
             },
             "line": {
              "color": "white"
             }
            },
            "type": "table"
           }
          ]
         },
         "layout": {
          "annotationdefaults": {
           "arrowcolor": "#2a3f5f",
           "arrowhead": 0,
           "arrowwidth": 1
          },
          "autotypenumbers": "strict",
          "coloraxis": {
           "colorbar": {
            "outlinewidth": 0,
            "ticks": ""
           }
          },
          "colorscale": {
           "diverging": [
            [
             0,
             "#8e0152"
            ],
            [
             0.1,
             "#c51b7d"
            ],
            [
             0.2,
             "#de77ae"
            ],
            [
             0.3,
             "#f1b6da"
            ],
            [
             0.4,
             "#fde0ef"
            ],
            [
             0.5,
             "#f7f7f7"
            ],
            [
             0.6,
             "#e6f5d0"
            ],
            [
             0.7,
             "#b8e186"
            ],
            [
             0.8,
             "#7fbc41"
            ],
            [
             0.9,
             "#4d9221"
            ],
            [
             1,
             "#276419"
            ]
           ],
           "sequential": [
            [
             0,
             "#0d0887"
            ],
            [
             0.1111111111111111,
             "#46039f"
            ],
            [
             0.2222222222222222,
             "#7201a8"
            ],
            [
             0.3333333333333333,
             "#9c179e"
            ],
            [
             0.4444444444444444,
             "#bd3786"
            ],
            [
             0.5555555555555556,
             "#d8576b"
            ],
            [
             0.6666666666666666,
             "#ed7953"
            ],
            [
             0.7777777777777778,
             "#fb9f3a"
            ],
            [
             0.8888888888888888,
             "#fdca26"
            ],
            [
             1,
             "#f0f921"
            ]
           ],
           "sequentialminus": [
            [
             0,
             "#0d0887"
            ],
            [
             0.1111111111111111,
             "#46039f"
            ],
            [
             0.2222222222222222,
             "#7201a8"
            ],
            [
             0.3333333333333333,
             "#9c179e"
            ],
            [
             0.4444444444444444,
             "#bd3786"
            ],
            [
             0.5555555555555556,
             "#d8576b"
            ],
            [
             0.6666666666666666,
             "#ed7953"
            ],
            [
             0.7777777777777778,
             "#fb9f3a"
            ],
            [
             0.8888888888888888,
             "#fdca26"
            ],
            [
             1,
             "#f0f921"
            ]
           ]
          },
          "colorway": [
           "#636efa",
           "#EF553B",
           "#00cc96",
           "#ab63fa",
           "#FFA15A",
           "#19d3f3",
           "#FF6692",
           "#B6E880",
           "#FF97FF",
           "#FECB52"
          ],
          "font": {
           "color": "#2a3f5f"
          },
          "geo": {
           "bgcolor": "white",
           "lakecolor": "white",
           "landcolor": "white",
           "showlakes": true,
           "showland": true,
           "subunitcolor": "#C8D4E3"
          },
          "hoverlabel": {
           "align": "left"
          },
          "hovermode": "closest",
          "mapbox": {
           "style": "light"
          },
          "paper_bgcolor": "white",
          "plot_bgcolor": "white",
          "polar": {
           "angularaxis": {
            "gridcolor": "#EBF0F8",
            "linecolor": "#EBF0F8",
            "ticks": ""
           },
           "bgcolor": "white",
           "radialaxis": {
            "gridcolor": "#EBF0F8",
            "linecolor": "#EBF0F8",
            "ticks": ""
           }
          },
          "scene": {
           "xaxis": {
            "backgroundcolor": "white",
            "gridcolor": "#DFE8F3",
            "gridwidth": 2,
            "linecolor": "#EBF0F8",
            "showbackground": true,
            "ticks": "",
            "zerolinecolor": "#EBF0F8"
           },
           "yaxis": {
            "backgroundcolor": "white",
            "gridcolor": "#DFE8F3",
            "gridwidth": 2,
            "linecolor": "#EBF0F8",
            "showbackground": true,
            "ticks": "",
            "zerolinecolor": "#EBF0F8"
           },
           "zaxis": {
            "backgroundcolor": "white",
            "gridcolor": "#DFE8F3",
            "gridwidth": 2,
            "linecolor": "#EBF0F8",
            "showbackground": true,
            "ticks": "",
            "zerolinecolor": "#EBF0F8"
           }
          },
          "shapedefaults": {
           "line": {
            "color": "#2a3f5f"
           }
          },
          "ternary": {
           "aaxis": {
            "gridcolor": "#DFE8F3",
            "linecolor": "#A2B1C6",
            "ticks": ""
           },
           "baxis": {
            "gridcolor": "#DFE8F3",
            "linecolor": "#A2B1C6",
            "ticks": ""
           },
           "bgcolor": "white",
           "caxis": {
            "gridcolor": "#DFE8F3",
            "linecolor": "#A2B1C6",
            "ticks": ""
           }
          },
          "title": {
           "x": 0.05
          },
          "xaxis": {
           "automargin": true,
           "gridcolor": "#EBF0F8",
           "linecolor": "#EBF0F8",
           "ticks": "",
           "title": {
            "standoff": 15
           },
           "zerolinecolor": "#EBF0F8",
           "zerolinewidth": 2
          },
          "yaxis": {
           "automargin": true,
           "gridcolor": "#EBF0F8",
           "linecolor": "#EBF0F8",
           "ticks": "",
           "title": {
            "standoff": 15
           },
           "zerolinecolor": "#EBF0F8",
           "zerolinewidth": 2
          }
         }
        },
        "title": {
         "font": {
          "size": 18
         },
         "text": "Gráfico de dispersión de edad"
        },
        "xaxis": {
         "anchor": "y",
         "domain": [
          0,
          1
         ],
         "title": {
          "text": "Índice (posición en el DataFrame)"
         }
        },
        "yaxis": {
         "anchor": "x",
         "domain": [
          0,
          1
         ],
         "title": {
          "text": "edad"
         }
        }
       }
      }
     },
     "metadata": {},
     "output_type": "display_data"
    }
   ],
   "source": [
    "grafico_puntos(df_csv, 'edad')"
   ]
  }
 ],
 "metadata": {
  "kernelspec": {
   "display_name": "base",
   "language": "python",
   "name": "python3"
  },
  "language_info": {
   "codemirror_mode": {
    "name": "ipython",
    "version": 3
   },
   "file_extension": ".py",
   "mimetype": "text/x-python",
   "name": "python",
   "nbconvert_exporter": "python",
   "pygments_lexer": "ipython3",
   "version": "3.10.9"
  }
 },
 "nbformat": 4,
 "nbformat_minor": 2
}
